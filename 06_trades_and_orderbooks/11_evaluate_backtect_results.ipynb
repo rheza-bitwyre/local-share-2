{
 "cells": [
  {
   "cell_type": "code",
   "execution_count": 1,
   "metadata": {},
   "outputs": [
    {
     "data": {
      "text/html": [
       "<div><style>\n",
       ".dataframe > thead > tr,\n",
       ".dataframe > tbody > tr {\n",
       "  text-align: right;\n",
       "  white-space: pre-wrap;\n",
       "}\n",
       "</style>\n",
       "<small>shape: (270, 20)</small><table border=\"1\" class=\"dataframe\"><thead><tr><th>OCC</th><th>OHC</th><th>OLC</th><th>BTC_Zscore</th><th>BTC_Bull</th><th>Hold_Period</th><th>TP</th><th>SL</th><th>Total short Positions</th><th>Total PnL%</th><th>Win Rate%</th><th>Total TP Hits</th><th>Total SL Hits</th><th>Most Negative PnL</th><th>Max Losing Streak</th><th>Median Losing Streak</th><th>Win Mean</th><th>Win Median</th><th>Lose Mean</th><th>Lose Median</th></tr><tr><td>f64</td><td>i64</td><td>f64</td><td>i64</td><td>i64</td><td>i64</td><td>i64</td><td>f64</td><td>i64</td><td>f64</td><td>f64</td><td>i64</td><td>i64</td><td>f64</td><td>i64</td><td>f64</td><td>f64</td><td>f64</td><td>f64</td><td>f64</td></tr></thead><tbody><tr><td>-0.2</td><td>100</td><td>-0.2</td><td>1</td><td>-1</td><td>1</td><td>100</td><td>-0.05</td><td>4100</td><td>-138.23</td><td>22.365854</td><td>0</td><td>2179</td><td>-0.1</td><td>24</td><td>3.0</td><td>0.142945</td><td>0.074969</td><td>-0.084611</td><td>-0.1</td></tr><tr><td>-0.2</td><td>100</td><td>-0.2</td><td>1</td><td>-1</td><td>2</td><td>100</td><td>-0.05</td><td>3982</td><td>-94.17</td><td>23.380211</td><td>0</td><td>2574</td><td>-0.1</td><td>46</td><td>3.0</td><td>0.199442</td><td>0.116844</td><td>-0.091725</td><td>-0.1</td></tr><tr><td>-0.2</td><td>100</td><td>-0.2</td><td>1</td><td>-1</td><td>4</td><td>100</td><td>-0.05</td><td>3854</td><td>-40.39</td><td>21.562013</td><td>0</td><td>2850</td><td>-0.1</td><td>29</td><td>3.0</td><td>0.30296</td><td>0.197407</td><td>-0.096641</td><td>-0.1</td></tr><tr><td>-0.2</td><td>100</td><td>-0.2</td><td>1</td><td>-1</td><td>6</td><td>100</td><td>-0.05</td><td>3786</td><td>-38.7</td><td>19.281564</td><td>0</td><td>2937</td><td>-0.1</td><td>41</td><td>3.0</td><td>0.356195</td><td>0.233142</td><td>-0.09775</td><td>-0.1</td></tr><tr><td>-0.2</td><td>100</td><td>-0.2</td><td>1</td><td>-1</td><td>8</td><td>100</td><td>-0.05</td><td>3748</td><td>-37.52</td><td>17.342583</td><td>0</td><td>3028</td><td>-0.1</td><td>43</td><td>4.0</td><td>0.413022</td><td>0.282596</td><td>-0.098768</td><td>-0.1</td></tr><tr><td>&hellip;</td><td>&hellip;</td><td>&hellip;</td><td>&hellip;</td><td>&hellip;</td><td>&hellip;</td><td>&hellip;</td><td>&hellip;</td><td>&hellip;</td><td>&hellip;</td><td>&hellip;</td><td>&hellip;</td><td>&hellip;</td><td>&hellip;</td><td>&hellip;</td><td>&hellip;</td><td>&hellip;</td><td>&hellip;</td><td>&hellip;</td><td>&hellip;</td></tr><tr><td>-0.3</td><td>100</td><td>-0.3</td><td>-100</td><td>1</td><td>1</td><td>100</td><td>-0.05</td><td>10137</td><td>-3.82</td><td>26.388478</td><td>0</td><td>5655</td><td>-0.1</td><td>31</td><td>3.0</td><td>0.243095</td><td>0.109132</td><td>-0.087658</td><td>-0.1</td></tr><tr><td>-0.3</td><td>100</td><td>-0.3</td><td>-100</td><td>1</td><td>2</td><td>100</td><td>-0.05</td><td>9662</td><td>134.97</td><td>24.249638</td><td>0</td><td>6554</td><td>-0.1</td><td>34</td><td>3.0</td><td>0.352721</td><td>0.182465</td><td>-0.094474</td><td>-0.1</td></tr><tr><td>-0.3</td><td>100</td><td>-0.3</td><td>-100</td><td>1</td><td>4</td><td>100</td><td>-0.05</td><td>9083</td><td>177.05</td><td>19.795222</td><td>0</td><td>6990</td><td>-0.1</td><td>35</td><td>4.0</td><td>0.49508</td><td>0.271379</td><td>-0.097886</td><td>-0.1</td></tr><tr><td>-0.3</td><td>100</td><td>-0.3</td><td>-100</td><td>1</td><td>6</td><td>100</td><td>-0.05</td><td>8784</td><td>160.91</td><td>17.190346</td><td>0</td><td>7123</td><td>-0.1</td><td>39</td><td>4.0</td><td>0.582513</td><td>0.358324</td><td>-0.098801</td><td>-0.1</td></tr><tr><td>-0.3</td><td>100</td><td>-0.3</td><td>-100</td><td>1</td><td>8</td><td>100</td><td>-0.05</td><td>8483</td><td>151.56</td><td>15.44265</td><td>0</td><td>7068</td><td>-0.1</td><td>53</td><td>5.0</td><td>0.658662</td><td>0.418017</td><td>-0.099162</td><td>-0.1</td></tr></tbody></table></div>"
      ],
      "text/plain": [
       "shape: (270, 20)\n",
       "┌──────┬─────┬──────┬────────────┬───┬──────────┬────────────┬───────────┬─────────────┐\n",
       "│ OCC  ┆ OHC ┆ OLC  ┆ BTC_Zscore ┆ … ┆ Win Mean ┆ Win Median ┆ Lose Mean ┆ Lose Median │\n",
       "│ ---  ┆ --- ┆ ---  ┆ ---        ┆   ┆ ---      ┆ ---        ┆ ---       ┆ ---         │\n",
       "│ f64  ┆ i64 ┆ f64  ┆ i64        ┆   ┆ f64      ┆ f64        ┆ f64       ┆ f64         │\n",
       "╞══════╪═════╪══════╪════════════╪═══╪══════════╪════════════╪═══════════╪═════════════╡\n",
       "│ -0.2 ┆ 100 ┆ -0.2 ┆ 1          ┆ … ┆ 0.142945 ┆ 0.074969   ┆ -0.084611 ┆ -0.1        │\n",
       "│ -0.2 ┆ 100 ┆ -0.2 ┆ 1          ┆ … ┆ 0.199442 ┆ 0.116844   ┆ -0.091725 ┆ -0.1        │\n",
       "│ -0.2 ┆ 100 ┆ -0.2 ┆ 1          ┆ … ┆ 0.30296  ┆ 0.197407   ┆ -0.096641 ┆ -0.1        │\n",
       "│ -0.2 ┆ 100 ┆ -0.2 ┆ 1          ┆ … ┆ 0.356195 ┆ 0.233142   ┆ -0.09775  ┆ -0.1        │\n",
       "│ -0.2 ┆ 100 ┆ -0.2 ┆ 1          ┆ … ┆ 0.413022 ┆ 0.282596   ┆ -0.098768 ┆ -0.1        │\n",
       "│ …    ┆ …   ┆ …    ┆ …          ┆ … ┆ …        ┆ …          ┆ …         ┆ …           │\n",
       "│ -0.3 ┆ 100 ┆ -0.3 ┆ -100       ┆ … ┆ 0.243095 ┆ 0.109132   ┆ -0.087658 ┆ -0.1        │\n",
       "│ -0.3 ┆ 100 ┆ -0.3 ┆ -100       ┆ … ┆ 0.352721 ┆ 0.182465   ┆ -0.094474 ┆ -0.1        │\n",
       "│ -0.3 ┆ 100 ┆ -0.3 ┆ -100       ┆ … ┆ 0.49508  ┆ 0.271379   ┆ -0.097886 ┆ -0.1        │\n",
       "│ -0.3 ┆ 100 ┆ -0.3 ┆ -100       ┆ … ┆ 0.582513 ┆ 0.358324   ┆ -0.098801 ┆ -0.1        │\n",
       "│ -0.3 ┆ 100 ┆ -0.3 ┆ -100       ┆ … ┆ 0.658662 ┆ 0.418017   ┆ -0.099162 ┆ -0.1        │\n",
       "└──────┴─────┴──────┴────────────┴───┴──────────┴────────────┴───────────┴─────────────┘"
      ]
     },
     "execution_count": 1,
     "metadata": {},
     "output_type": "execute_result"
    }
   ],
   "source": [
    "import polars as pl\n",
    "\n",
    "df_results = pl.read_csv(\"/home/ubuntu/Rheza/local-share/06_trades_and_orderbooks/ft_bot_short_backtest_result_20250415_085856.csv\")\n",
    "df_results"
   ]
  },
  {
   "cell_type": "code",
   "execution_count": 2,
   "metadata": {},
   "outputs": [
    {
     "data": {
      "text/html": [
       "<div><style>\n",
       ".dataframe > thead > tr,\n",
       ".dataframe > tbody > tr {\n",
       "  text-align: right;\n",
       "  white-space: pre-wrap;\n",
       "}\n",
       "</style>\n",
       "<small>shape: (1, 20)</small><table border=\"1\" class=\"dataframe\"><thead><tr><th>OCC</th><th>OHC</th><th>OLC</th><th>BTC_Zscore</th><th>BTC_Bull</th><th>Hold_Period</th><th>TP</th><th>SL</th><th>Total short Positions</th><th>Total PnL%</th><th>Win Rate%</th><th>Total TP Hits</th><th>Total SL Hits</th><th>Most Negative PnL</th><th>Max Losing Streak</th><th>Median Losing Streak</th><th>Win Mean</th><th>Win Median</th><th>Lose Mean</th><th>Lose Median</th></tr><tr><td>f64</td><td>i64</td><td>f64</td><td>i64</td><td>i64</td><td>i64</td><td>i64</td><td>f64</td><td>i64</td><td>f64</td><td>f64</td><td>i64</td><td>i64</td><td>f64</td><td>i64</td><td>f64</td><td>f64</td><td>f64</td><td>f64</td><td>f64</td></tr></thead><tbody><tr><td>-0.3</td><td>100</td><td>-0.3</td><td>-100</td><td>0</td><td>4</td><td>100</td><td>-0.05</td><td>8308</td><td>207.4</td><td>20.040924</td><td>0</td><td>6376</td><td>-0.1</td><td>33</td><td>4.0</td><td>0.515129</td><td>0.279979</td><td>-0.097891</td><td>-0.1</td></tr></tbody></table></div>"
      ],
      "text/plain": [
       "shape: (1, 20)\n",
       "┌──────┬─────┬──────┬────────────┬───┬──────────┬────────────┬───────────┬─────────────┐\n",
       "│ OCC  ┆ OHC ┆ OLC  ┆ BTC_Zscore ┆ … ┆ Win Mean ┆ Win Median ┆ Lose Mean ┆ Lose Median │\n",
       "│ ---  ┆ --- ┆ ---  ┆ ---        ┆   ┆ ---      ┆ ---        ┆ ---       ┆ ---         │\n",
       "│ f64  ┆ i64 ┆ f64  ┆ i64        ┆   ┆ f64      ┆ f64        ┆ f64       ┆ f64         │\n",
       "╞══════╪═════╪══════╪════════════╪═══╪══════════╪════════════╪═══════════╪═════════════╡\n",
       "│ -0.3 ┆ 100 ┆ -0.3 ┆ -100       ┆ … ┆ 0.515129 ┆ 0.279979   ┆ -0.097891 ┆ -0.1        │\n",
       "└──────┴─────┴──────┴────────────┴───┴──────────┴────────────┴───────────┴─────────────┘"
      ]
     },
     "execution_count": 2,
     "metadata": {},
     "output_type": "execute_result"
    }
   ],
   "source": [
    "# Extract max return approximation row\n",
    "max_return_params = df_results.sort(\"Total PnL%\", descending=True).row(0)\n",
    "max_return_df = pl.DataFrame([max_return_params], schema=df_results.schema, orient=\"row\")\n",
    "max_return_df"
   ]
  },
  {
   "cell_type": "code",
   "execution_count": 4,
   "metadata": {},
   "outputs": [
    {
     "data": {
      "text/html": [
       "<div><style>\n",
       ".dataframe > thead > tr,\n",
       ".dataframe > tbody > tr {\n",
       "  text-align: right;\n",
       "  white-space: pre-wrap;\n",
       "}\n",
       "</style>\n",
       "<small>shape: (1, 20)</small><table border=\"1\" class=\"dataframe\"><thead><tr><th>OCC</th><th>OHC</th><th>OLC</th><th>BTC_Zscore</th><th>BTC_Bull</th><th>Hold_Period</th><th>TP</th><th>SL</th><th>Total short Positions</th><th>Total PnL%</th><th>Win Rate%</th><th>Total TP Hits</th><th>Total SL Hits</th><th>Most Negative PnL</th><th>Max Losing Streak</th><th>Median Losing Streak</th><th>Win Mean</th><th>Win Median</th><th>Lose Mean</th><th>Lose Median</th></tr><tr><td>f64</td><td>i64</td><td>f64</td><td>i64</td><td>i64</td><td>i64</td><td>i64</td><td>f64</td><td>i64</td><td>f64</td><td>f64</td><td>i64</td><td>i64</td><td>f64</td><td>i64</td><td>f64</td><td>f64</td><td>f64</td><td>f64</td><td>f64</td></tr></thead><tbody><tr><td>-0.25</td><td>100</td><td>-0.25</td><td>-100</td><td>1</td><td>4</td><td>100</td><td>-0.05</td><td>14662</td><td>65.69</td><td>19.663075</td><td>0</td><td>11218</td><td>-0.1</td><td>54</td><td>4.0</td><td>0.420771</td><td>0.232899</td><td>-0.097411</td><td>-0.1</td></tr></tbody></table></div>"
      ],
      "text/plain": [
       "shape: (1, 20)\n",
       "┌───────┬─────┬───────┬────────────┬───┬──────────┬────────────┬───────────┬─────────────┐\n",
       "│ OCC   ┆ OHC ┆ OLC   ┆ BTC_Zscore ┆ … ┆ Win Mean ┆ Win Median ┆ Lose Mean ┆ Lose Median │\n",
       "│ ---   ┆ --- ┆ ---   ┆ ---        ┆   ┆ ---      ┆ ---        ┆ ---       ┆ ---         │\n",
       "│ f64   ┆ i64 ┆ f64   ┆ i64        ┆   ┆ f64      ┆ f64        ┆ f64       ┆ f64         │\n",
       "╞═══════╪═════╪═══════╪════════════╪═══╪══════════╪════════════╪═══════════╪═════════════╡\n",
       "│ -0.25 ┆ 100 ┆ -0.25 ┆ -100       ┆ … ┆ 0.420771 ┆ 0.232899   ┆ -0.097411 ┆ -0.1        │\n",
       "└───────┴─────┴───────┴────────────┴───┴──────────┴────────────┴───────────┴─────────────┘"
      ]
     },
     "execution_count": 4,
     "metadata": {},
     "output_type": "execute_result"
    }
   ],
   "source": [
    "# Filter rows where return_approximation is >= 0\n",
    "positive_return_df = df_results.filter(pl.col(\"Total PnL%\") >=24)\n",
    "# max_opportunities_positive_return_params = positive_return_df.sort(\"Total Long Positions\", descending=True).row(0)\n",
    "max_opportunities_positive_return_params = positive_return_df.sort(\"Total short Positions\", descending=True).row(0)\n",
    "max_opportunities_positive_return_df = pl.DataFrame([max_opportunities_positive_return_params], schema=df_results.schema, orient=\"row\")\n",
    "max_opportunities_positive_return_df"
   ]
  },
  {
   "cell_type": "code",
   "execution_count": null,
   "metadata": {},
   "outputs": [
    {
     "data": {
      "text/html": [
       "<div><style>\n",
       ".dataframe > thead > tr,\n",
       ".dataframe > tbody > tr {\n",
       "  text-align: right;\n",
       "  white-space: pre-wrap;\n",
       "}\n",
       "</style>\n",
       "<small>shape: (1, 20)</small><table border=\"1\" class=\"dataframe\"><thead><tr><th>OCC</th><th>OHC</th><th>OLC</th><th>BTC_Zscore</th><th>BTC_Bull</th><th>Hold_Period</th><th>TP</th><th>SL</th><th>Total Long Positions</th><th>Total PnL%</th><th>Win Rate%</th><th>Total TP Hits</th><th>Total SL Hits</th><th>Most Negative PnL</th><th>Max Losing Streak</th><th>Median Losing Streak</th><th>Win Mean</th><th>Win Median</th><th>Lose Mean</th><th>Lose Median</th></tr><tr><td>f64</td><td>f64</td><td>i64</td><td>f64</td><td>i64</td><td>i64</td><td>i64</td><td>f64</td><td>i64</td><td>f64</td><td>f64</td><td>i64</td><td>i64</td><td>f64</td><td>i64</td><td>f64</td><td>f64</td><td>f64</td><td>f64</td><td>f64</td></tr></thead><tbody><tr><td>0.2</td><td>0.2</td><td>-100</td><td>-1.5</td><td>1</td><td>8</td><td>100</td><td>-0.05</td><td>4339</td><td>104.45</td><td>19.405393</td><td>0</td><td>3401</td><td>-0.1</td><td>29</td><td>3.0</td><td>0.533016</td><td>0.326719</td><td>-0.098469</td><td>-0.1</td></tr></tbody></table></div>"
      ],
      "text/plain": [
       "shape: (1, 20)\n",
       "┌─────┬─────┬──────┬────────────┬───┬──────────┬────────────┬───────────┬─────────────┐\n",
       "│ OCC ┆ OHC ┆ OLC  ┆ BTC_Zscore ┆ … ┆ Win Mean ┆ Win Median ┆ Lose Mean ┆ Lose Median │\n",
       "│ --- ┆ --- ┆ ---  ┆ ---        ┆   ┆ ---      ┆ ---        ┆ ---       ┆ ---         │\n",
       "│ f64 ┆ f64 ┆ i64  ┆ f64        ┆   ┆ f64      ┆ f64        ┆ f64       ┆ f64         │\n",
       "╞═════╪═════╪══════╪════════════╪═══╪══════════╪════════════╪═══════════╪═════════════╡\n",
       "│ 0.2 ┆ 0.2 ┆ -100 ┆ -1.5       ┆ … ┆ 0.533016 ┆ 0.326719   ┆ -0.098469 ┆ -0.1        │\n",
       "└─────┴─────┴──────┴────────────┴───┴──────────┴────────────┴───────────┴─────────────┘"
      ]
     },
     "execution_count": 16,
     "metadata": {},
     "output_type": "execute_result"
    }
   ],
   "source": [
    "ohc_filter = df_results.filter(pl.col(\"OHC\") <=0.20)\n",
    "ohc_filter_max_pnl = ohc_filter.sort(\"Total PnL%\", descending=True).head(1)\n",
    "ohc_filter_max_pnl"
   ]
  },
  {
   "cell_type": "code",
   "execution_count": 18,
   "metadata": {},
   "outputs": [
    {
     "data": {
      "text/html": [
       "<div><style>\n",
       ".dataframe > thead > tr,\n",
       ".dataframe > tbody > tr {\n",
       "  text-align: right;\n",
       "  white-space: pre-wrap;\n",
       "}\n",
       "</style>\n",
       "<small>shape: (1, 20)</small><table border=\"1\" class=\"dataframe\"><thead><tr><th>OCC</th><th>OHC</th><th>OLC</th><th>BTC_Zscore</th><th>BTC_Bull</th><th>Hold_Period</th><th>TP</th><th>SL</th><th>Total Long Positions</th><th>Total PnL%</th><th>Win Rate%</th><th>Total TP Hits</th><th>Total SL Hits</th><th>Most Negative PnL</th><th>Max Losing Streak</th><th>Median Losing Streak</th><th>Win Mean</th><th>Win Median</th><th>Lose Mean</th><th>Lose Median</th></tr><tr><td>f64</td><td>f64</td><td>i64</td><td>f64</td><td>i64</td><td>i64</td><td>i64</td><td>f64</td><td>i64</td><td>f64</td><td>f64</td><td>i64</td><td>i64</td><td>f64</td><td>i64</td><td>f64</td><td>f64</td><td>f64</td><td>f64</td><td>f64</td></tr></thead><tbody><tr><td>0.0</td><td>0.2</td><td>-100</td><td>-1.5</td><td>1</td><td>4</td><td>100</td><td>-0.05</td><td>7013</td><td>32.35</td><td>23.185513</td><td>0</td><td>5035</td><td>-0.1</td><td>34</td><td>3.0</td><td>0.339144</td><td>0.190544</td><td>-0.096361</td><td>-0.1</td></tr></tbody></table></div>"
      ],
      "text/plain": [
       "shape: (1, 20)\n",
       "┌─────┬─────┬──────┬────────────┬───┬──────────┬────────────┬───────────┬─────────────┐\n",
       "│ OCC ┆ OHC ┆ OLC  ┆ BTC_Zscore ┆ … ┆ Win Mean ┆ Win Median ┆ Lose Mean ┆ Lose Median │\n",
       "│ --- ┆ --- ┆ ---  ┆ ---        ┆   ┆ ---      ┆ ---        ┆ ---       ┆ ---         │\n",
       "│ f64 ┆ f64 ┆ i64  ┆ f64        ┆   ┆ f64      ┆ f64        ┆ f64       ┆ f64         │\n",
       "╞═════╪═════╪══════╪════════════╪═══╪══════════╪════════════╪═══════════╪═════════════╡\n",
       "│ 0.0 ┆ 0.2 ┆ -100 ┆ -1.5       ┆ … ┆ 0.339144 ┆ 0.190544   ┆ -0.096361 ┆ -0.1        │\n",
       "└─────┴─────┴──────┴────────────┴───┴──────────┴────────────┴───────────┴─────────────┘"
      ]
     },
     "execution_count": 18,
     "metadata": {},
     "output_type": "execute_result"
    }
   ],
   "source": [
    "ohc_filter = df_results.filter(pl.col(\"OHC\") <=0.20).filter(pl.col(\"Total PnL%\") >=4)\n",
    "ohc_filter_max_pnl = ohc_filter.sort(\"Total Long Positions\", descending=True).head(1)\n",
    "ohc_filter_max_pnl"
   ]
  },
  {
   "cell_type": "code",
   "execution_count": 17,
   "metadata": {},
   "outputs": [
    {
     "data": {
      "text/html": [
       "<div><style>\n",
       ".dataframe > thead > tr,\n",
       ".dataframe > tbody > tr {\n",
       "  text-align: right;\n",
       "  white-space: pre-wrap;\n",
       "}\n",
       "</style>\n",
       "<small>shape: (1, 20)</small><table border=\"1\" class=\"dataframe\"><thead><tr><th>OCC</th><th>OHC</th><th>OLC</th><th>BTC_Zscore</th><th>BTC_Bull</th><th>Hold_Period</th><th>TP</th><th>SL</th><th>Total Long Positions</th><th>Total PnL%</th><th>Win Rate%</th><th>Total TP Hits</th><th>Total SL Hits</th><th>Most Negative PnL</th><th>Max Losing Streak</th><th>Median Losing Streak</th><th>Win Mean</th><th>Win Median</th><th>Lose Mean</th><th>Lose Median</th></tr><tr><td>f64</td><td>f64</td><td>i64</td><td>f64</td><td>i64</td><td>i64</td><td>i64</td><td>f64</td><td>i64</td><td>f64</td><td>f64</td><td>i64</td><td>i64</td><td>f64</td><td>i64</td><td>f64</td><td>f64</td><td>f64</td><td>f64</td><td>f64</td></tr></thead><tbody><tr><td>0.15</td><td>0.15</td><td>-100</td><td>-2.0</td><td>1</td><td>8</td><td>100</td><td>-0.05</td><td>4154</td><td>50.39</td><td>19.523351</td><td>0</td><td>3246</td><td>-0.1</td><td>33</td><td>4.0</td><td>0.467523</td><td>0.276798</td><td>-0.098345</td><td>-0.1</td></tr></tbody></table></div>"
      ],
      "text/plain": [
       "shape: (1, 20)\n",
       "┌──────┬──────┬──────┬────────────┬───┬──────────┬────────────┬───────────┬─────────────┐\n",
       "│ OCC  ┆ OHC  ┆ OLC  ┆ BTC_Zscore ┆ … ┆ Win Mean ┆ Win Median ┆ Lose Mean ┆ Lose Median │\n",
       "│ ---  ┆ ---  ┆ ---  ┆ ---        ┆   ┆ ---      ┆ ---        ┆ ---       ┆ ---         │\n",
       "│ f64  ┆ f64  ┆ i64  ┆ f64        ┆   ┆ f64      ┆ f64        ┆ f64       ┆ f64         │\n",
       "╞══════╪══════╪══════╪════════════╪═══╪══════════╪════════════╪═══════════╪═════════════╡\n",
       "│ 0.15 ┆ 0.15 ┆ -100 ┆ -2.0       ┆ … ┆ 0.467523 ┆ 0.276798   ┆ -0.098345 ┆ -0.1        │\n",
       "└──────┴──────┴──────┴────────────┴───┴──────────┴────────────┴───────────┴─────────────┘"
      ]
     },
     "execution_count": 17,
     "metadata": {},
     "output_type": "execute_result"
    }
   ],
   "source": [
    "ohc_filter = df_results.filter(pl.col(\"OHC\") <=0.15)\n",
    "ohc_filter_max_pnl = ohc_filter.sort(\"Total PnL%\", descending=True).head(1)\n",
    "ohc_filter_max_pnl"
   ]
  },
  {
   "cell_type": "code",
   "execution_count": 19,
   "metadata": {},
   "outputs": [
    {
     "data": {
      "text/html": [
       "<div><style>\n",
       ".dataframe > thead > tr,\n",
       ".dataframe > tbody > tr {\n",
       "  text-align: right;\n",
       "  white-space: pre-wrap;\n",
       "}\n",
       "</style>\n",
       "<small>shape: (1, 20)</small><table border=\"1\" class=\"dataframe\"><thead><tr><th>OCC</th><th>OHC</th><th>OLC</th><th>BTC_Zscore</th><th>BTC_Bull</th><th>Hold_Period</th><th>TP</th><th>SL</th><th>Total Long Positions</th><th>Total PnL%</th><th>Win Rate%</th><th>Total TP Hits</th><th>Total SL Hits</th><th>Most Negative PnL</th><th>Max Losing Streak</th><th>Median Losing Streak</th><th>Win Mean</th><th>Win Median</th><th>Lose Mean</th><th>Lose Median</th></tr><tr><td>f64</td><td>f64</td><td>i64</td><td>f64</td><td>i64</td><td>i64</td><td>i64</td><td>f64</td><td>i64</td><td>f64</td><td>f64</td><td>i64</td><td>i64</td><td>f64</td><td>i64</td><td>f64</td><td>f64</td><td>f64</td><td>f64</td><td>f64</td></tr></thead><tbody><tr><td>0.1</td><td>0.15</td><td>-100</td><td>-2.0</td><td>1</td><td>8</td><td>100</td><td>-0.05</td><td>5565</td><td>14.48</td><td>19.299191</td><td>0</td><td>4343</td><td>-0.1</td><td>37</td><td>4.0</td><td>0.423811</td><td>0.255009</td><td>-0.098129</td><td>-0.1</td></tr></tbody></table></div>"
      ],
      "text/plain": [
       "shape: (1, 20)\n",
       "┌─────┬──────┬──────┬────────────┬───┬──────────┬────────────┬───────────┬─────────────┐\n",
       "│ OCC ┆ OHC  ┆ OLC  ┆ BTC_Zscore ┆ … ┆ Win Mean ┆ Win Median ┆ Lose Mean ┆ Lose Median │\n",
       "│ --- ┆ ---  ┆ ---  ┆ ---        ┆   ┆ ---      ┆ ---        ┆ ---       ┆ ---         │\n",
       "│ f64 ┆ f64  ┆ i64  ┆ f64        ┆   ┆ f64      ┆ f64        ┆ f64       ┆ f64         │\n",
       "╞═════╪══════╪══════╪════════════╪═══╪══════════╪════════════╪═══════════╪═════════════╡\n",
       "│ 0.1 ┆ 0.15 ┆ -100 ┆ -2.0       ┆ … ┆ 0.423811 ┆ 0.255009   ┆ -0.098129 ┆ -0.1        │\n",
       "└─────┴──────┴──────┴────────────┴───┴──────────┴────────────┴───────────┴─────────────┘"
      ]
     },
     "execution_count": 19,
     "metadata": {},
     "output_type": "execute_result"
    }
   ],
   "source": [
    "ohc_filter = df_results.filter(pl.col(\"OHC\") <=0.15).filter(pl.col(\"Total PnL%\") >=4)\n",
    "ohc_filter_max_pnl = ohc_filter.sort(\"Total Long Positions\", descending=True).head(1)\n",
    "ohc_filter_max_pnl"
   ]
  },
  {
   "cell_type": "code",
   "execution_count": null,
   "metadata": {},
   "outputs": [],
   "source": []
  }
 ],
 "metadata": {
  "kernelspec": {
   "display_name": ".venv",
   "language": "python",
   "name": "python3"
  },
  "language_info": {
   "codemirror_mode": {
    "name": "ipython",
    "version": 3
   },
   "file_extension": ".py",
   "mimetype": "text/x-python",
   "name": "python",
   "nbconvert_exporter": "python",
   "pygments_lexer": "ipython3",
   "version": "3.12.3"
  }
 },
 "nbformat": 4,
 "nbformat_minor": 2
}
