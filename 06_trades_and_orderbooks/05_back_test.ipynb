{
 "cells": [
  {
   "cell_type": "markdown",
   "metadata": {},
   "source": [
    "# Load Full Data"
   ]
  },
  {
   "cell_type": "code",
   "execution_count": 96,
   "metadata": {},
   "outputs": [
    {
     "data": {
      "text/html": [
       "<div><style>\n",
       ".dataframe > thead > tr,\n",
       ".dataframe > tbody > tr {\n",
       "  text-align: right;\n",
       "  white-space: pre-wrap;\n",
       "}\n",
       "</style>\n",
       "<small>shape: (2_108_090, 30)</small><table border=\"1\" class=\"dataframe\"><thead><tr><th>interval_group</th><th>open</th><th>high</th><th>low</th><th>close</th><th>size_sum</th><th>volume_sum</th><th>buy_size_sum</th><th>buy_volume_sum</th><th>sell_size_sum</th><th>sell_volume_sum</th><th>weighted_price</th><th>buy_weighted_price</th><th>sell_weighted_price</th><th>buy_volume_ratio</th><th>buy_size_ratio</th><th>open_close_change</th><th>open_high_change</th><th>open_low_change</th><th>direction</th><th>open_buy_weighted_price_ratio</th><th>open_sell_weighted_price_ratio</th><th>buy_weighted_price_ratio</th><th>sell_weighted_price_ratio</th><th>open_weighted_price_change</th><th>open_buy_weighted_price_change</th><th>open_sell_weighted_price_change</th><th>next_open_close_change</th><th>next_open_high_change</th><th>next_open_low_change</th></tr><tr><td>f64</td><td>f64</td><td>f64</td><td>f64</td><td>f64</td><td>f64</td><td>f64</td><td>f64</td><td>f64</td><td>f64</td><td>f64</td><td>f64</td><td>f64</td><td>f64</td><td>f64</td><td>f64</td><td>f64</td><td>f64</td><td>f64</td><td>f64</td><td>f64</td><td>f64</td><td>f64</td><td>f64</td><td>f64</td><td>f64</td><td>f64</td><td>f64</td><td>f64</td><td>f64</td></tr></thead><tbody><tr><td>1.7041e9</td><td>42324.9</td><td>42329.2</td><td>42300.2</td><td>42311.9</td><td>44.795</td><td>1.8957e6</td><td>29.894</td><td>1.2652e6</td><td>14.901</td><td>630528.5081</td><td>42320.567456</td><td>42323.587044</td><td>42314.509637</td><td>0.667399</td><td>0.667351</td><td>-0.030715</td><td>0.01016</td><td>0.058358</td><td>-1.0</td><td>99.996898</td><td>99.975451</td><td>100.007135</td><td>99.985686</td><td>-0.010236</td><td>-0.003102</td><td>-0.024549</td><td>0.021743</td><td>0.021743</td><td>0.0026</td></tr><tr><td>1.7041e9</td><td>42311.8</td><td>42321.0</td><td>42310.7</td><td>42321.0</td><td>18.148</td><td>767924.3891</td><td>16.88</td><td>714271.1547</td><td>1.268</td><td>53653.2344</td><td>42314.546457</td><td>42314.641866</td><td>42313.276341</td><td>0.930132</td><td>0.93013</td><td>0.021743</td><td>0.021743</td><td>0.0026</td><td>1.0</td><td>100.006716</td><td>100.003489</td><td>100.000225</td><td>99.996998</td><td>0.006491</td><td>0.006716</td><td>0.003489</td><td>0.040169</td><td>0.05222</td><td>0.0</td></tr><tr><td>1.7041e9</td><td>42321.1</td><td>42343.2</td><td>42321.1</td><td>42338.1</td><td>64.868</td><td>2.7464e6</td><td>63.526</td><td>2.6895e6</td><td>1.342</td><td>56816.669</td><td>42337.724212</td><td>42337.732979</td><td>42337.30924</td><td>0.979312</td><td>0.979312</td><td>0.040169</td><td>0.05222</td><td>0.0</td><td>1.0</td><td>100.039302</td><td>100.038301</td><td>100.000021</td><td>99.99902</td><td>0.039281</td><td>0.039302</td><td>0.038301</td><td>0.020549</td><td>0.027871</td><td>0.000236</td></tr><tr><td>1.7041e9</td><td>42338.1</td><td>42349.9</td><td>42338.0</td><td>42346.8</td><td>59.821</td><td>2.5331e6</td><td>59.129</td><td>2.5038e6</td><td>0.692</td><td>29301.0129</td><td>42344.951296</td><td>42344.979935</td><td>42342.504191</td><td>0.988433</td><td>0.988432</td><td>0.020549</td><td>0.027871</td><td>0.000236</td><td>1.0</td><td>100.01625</td><td>100.010402</td><td>100.000068</td><td>99.994221</td><td>0.016182</td><td>0.01625</td><td>0.010402</td><td>0.019364</td><td>0.019364</td><td>0.0</td></tr><tr><td>1.7041e9</td><td>42346.8</td><td>42355.0</td><td>42346.8</td><td>42355.0</td><td>27.333</td><td>1.1575e6</td><td>22.668</td><td>959978.0278</td><td>4.665</td><td>197554.837</td><td>42349.279801</td><td>42349.480669</td><td>42348.303751</td><td>0.829331</td><td>0.829327</td><td>0.019364</td><td>0.019364</td><td>0.0</td><td>1.0</td><td>100.00633</td><td>100.003551</td><td>100.000474</td><td>99.997695</td><td>0.005856</td><td>0.00633</td><td>0.003551</td><td>0.002361</td><td>0.021721</td><td>0.011805</td></tr><tr><td>&hellip;</td><td>&hellip;</td><td>&hellip;</td><td>&hellip;</td><td>&hellip;</td><td>&hellip;</td><td>&hellip;</td><td>&hellip;</td><td>&hellip;</td><td>&hellip;</td><td>&hellip;</td><td>&hellip;</td><td>&hellip;</td><td>&hellip;</td><td>&hellip;</td><td>&hellip;</td><td>&hellip;</td><td>&hellip;</td><td>&hellip;</td><td>&hellip;</td><td>&hellip;</td><td>&hellip;</td><td>&hellip;</td><td>&hellip;</td><td>&hellip;</td><td>&hellip;</td><td>&hellip;</td><td>&hellip;</td><td>&hellip;</td><td>&hellip;</td></tr><tr><td>1.7357e9</td><td>93580.6</td><td>93580.6</td><td>93580.5</td><td>93580.6</td><td>0.261</td><td>24424.5329</td><td>0.224</td><td>20962.0544</td><td>0.037</td><td>3462.4785</td><td>93580.585824</td><td>93580.6</td><td>93580.5</td><td>0.858238</td><td>0.858238</td><td>0.0</td><td>0.0</td><td>0.000107</td><td>0.0</td><td>100.0</td><td>99.999893</td><td>100.000015</td><td>99.999908</td><td>-0.000015</td><td>4.6650e-14</td><td>-0.000107</td><td>-0.021906</td><td>0.0</td><td>0.021906</td></tr><tr><td>1.7357e9</td><td>93580.5</td><td>93580.5</td><td>93560.0</td><td>93560.0</td><td>2.789</td><td>260971.1614</td><td>0.04</td><td>3742.404</td><td>2.749</td><td>257228.7574</td><td>93571.588885</td><td>93560.1</td><td>93571.756057</td><td>0.01434</td><td>0.014342</td><td>-0.021906</td><td>0.0</td><td>0.021906</td><td>-1.0</td><td>99.978201</td><td>99.990656</td><td>99.987722</td><td>100.000179</td><td>-0.009522</td><td>-0.021799</td><td>-0.009344</td><td>0.012292</td><td>0.022339</td><td>0.0</td></tr><tr><td>1.7357e9</td><td>93560.1</td><td>93581.0</td><td>93560.1</td><td>93571.6</td><td>7.328</td><td>685674.125</td><td>6.578</td><td>615489.2216</td><td>0.75</td><td>70184.9034</td><td>93569.067276</td><td>93567.835452</td><td>93579.8712</td><td>0.897641</td><td>0.897653</td><td>0.012292</td><td>0.022339</td><td>0.0</td><td>1.0</td><td>100.008268</td><td>100.021132</td><td>99.998684</td><td>100.011546</td><td>0.009585</td><td>0.008268</td><td>0.021132</td><td>-0.022977</td><td>0.0</td><td>0.022977</td></tr><tr><td>1.7357e9</td><td>93571.5</td><td>93571.5</td><td>93550.0</td><td>93550.0</td><td>3.668</td><td>343173.7975</td><td>1.555</td><td>145470.7751</td><td>2.113</td><td>197703.0224</td><td>93558.83247</td><td>93550.337685</td><td>93565.083956</td><td>0.423898</td><td>0.423937</td><td>-0.022977</td><td>0.0</td><td>0.022977</td><td>-1.0</td><td>99.977384</td><td>99.993143</td><td>99.99092</td><td>100.006682</td><td>-0.013538</td><td>-0.022616</td><td>-0.006857</td><td>-0.018172</td><td>0.0</td><td>0.018279</td></tr><tr><td>1.7357e9</td><td>93550.1</td><td>93550.1</td><td>93533.0</td><td>93533.1</td><td>6.372</td><td>596051.8367</td><td>2.601</td><td>243308.6901</td><td>3.771</td><td>352743.1466</td><td>93542.347254</td><td>93544.286851</td><td>93541.00944</td><td>0.408201</td><td>0.408192</td><td>-0.018172</td><td>0.0</td><td>0.018279</td><td>-1.0</td><td>99.993786</td><td>99.990283</td><td>100.002073</td><td>99.99857</td><td>-0.008287</td><td>-0.006214</td><td>-0.009717</td><td>-0.003421</td><td>0.007163</td><td>0.003421</td></tr></tbody></table></div>"
      ],
      "text/plain": [
       "shape: (2_108_090, 30)\n",
       "┌────────────┬─────────┬─────────┬─────────┬───┬────────────┬────────────┬────────────┬────────────┐\n",
       "│ interval_g ┆ open    ┆ high    ┆ low     ┆ … ┆ open_sell_ ┆ next_open_ ┆ next_open_ ┆ next_open_ │\n",
       "│ roup       ┆ ---     ┆ ---     ┆ ---     ┆   ┆ weighted_p ┆ close_chan ┆ high_chang ┆ low_change │\n",
       "│ ---        ┆ f64     ┆ f64     ┆ f64     ┆   ┆ rice_chang ┆ ge         ┆ e          ┆ ---        │\n",
       "│ f64        ┆         ┆         ┆         ┆   ┆ …          ┆ ---        ┆ ---        ┆ f64        │\n",
       "│            ┆         ┆         ┆         ┆   ┆ ---        ┆ f64        ┆ f64        ┆            │\n",
       "│            ┆         ┆         ┆         ┆   ┆ f64        ┆            ┆            ┆            │\n",
       "╞════════════╪═════════╪═════════╪═════════╪═══╪════════════╪════════════╪════════════╪════════════╡\n",
       "│ 1.7041e9   ┆ 42324.9 ┆ 42329.2 ┆ 42300.2 ┆ … ┆ -0.024549  ┆ 0.021743   ┆ 0.021743   ┆ 0.0026     │\n",
       "│ 1.7041e9   ┆ 42311.8 ┆ 42321.0 ┆ 42310.7 ┆ … ┆ 0.003489   ┆ 0.040169   ┆ 0.05222    ┆ 0.0        │\n",
       "│ 1.7041e9   ┆ 42321.1 ┆ 42343.2 ┆ 42321.1 ┆ … ┆ 0.038301   ┆ 0.020549   ┆ 0.027871   ┆ 0.000236   │\n",
       "│ 1.7041e9   ┆ 42338.1 ┆ 42349.9 ┆ 42338.0 ┆ … ┆ 0.010402   ┆ 0.019364   ┆ 0.019364   ┆ 0.0        │\n",
       "│ 1.7041e9   ┆ 42346.8 ┆ 42355.0 ┆ 42346.8 ┆ … ┆ 0.003551   ┆ 0.002361   ┆ 0.021721   ┆ 0.011805   │\n",
       "│ …          ┆ …       ┆ …       ┆ …       ┆ … ┆ …          ┆ …          ┆ …          ┆ …          │\n",
       "│ 1.7357e9   ┆ 93580.6 ┆ 93580.6 ┆ 93580.5 ┆ … ┆ -0.000107  ┆ -0.021906  ┆ 0.0        ┆ 0.021906   │\n",
       "│ 1.7357e9   ┆ 93580.5 ┆ 93580.5 ┆ 93560.0 ┆ … ┆ -0.009344  ┆ 0.012292   ┆ 0.022339   ┆ 0.0        │\n",
       "│ 1.7357e9   ┆ 93560.1 ┆ 93581.0 ┆ 93560.1 ┆ … ┆ 0.021132   ┆ -0.022977  ┆ 0.0        ┆ 0.022977   │\n",
       "│ 1.7357e9   ┆ 93571.5 ┆ 93571.5 ┆ 93550.0 ┆ … ┆ -0.006857  ┆ -0.018172  ┆ 0.0        ┆ 0.018279   │\n",
       "│ 1.7357e9   ┆ 93550.1 ┆ 93550.1 ┆ 93533.0 ┆ … ┆ -0.009717  ┆ -0.003421  ┆ 0.007163   ┆ 0.003421   │\n",
       "└────────────┴─────────┴─────────┴─────────┴───┴────────────┴────────────┴────────────┴────────────┘"
      ]
     },
     "execution_count": 96,
     "metadata": {},
     "output_type": "execute_result"
    }
   ],
   "source": [
    "import polars as pl\n",
    "from pathlib import Path\n",
    "\n",
    "def read_aggregated_files(base_path, symbol, interval, year=2024):\n",
    "    \"\"\"\n",
    "    Reads and concatenates aggregated trade data files for a given symbol and interval.\n",
    "\n",
    "    Parameters:\n",
    "    - base_path: The base directory where the data is stored.\n",
    "    - symbol: The trading symbol (e.g., 'BTCUSDT').\n",
    "    - interval: The aggregation interval (e.g., '15s', '20s', '25s', '30s').\n",
    "    - year: The year of the data (default is 2024).\n",
    "\n",
    "    Returns:\n",
    "    - A concatenated Polars DataFrame containing all the data with consistent Float64 column types.\n",
    "    \"\"\"\n",
    "    # Construct the directory path\n",
    "    data_dir = Path(base_path) / f\"{symbol}_perps\" / f\"agg_{interval}\"\n",
    "    \n",
    "    # Generate the list of file paths\n",
    "    files = [\n",
    "        data_dir / f\"bybit_{symbol.lower()}_aggtrades_{year}-{month:02d}_aggregated_{interval}.parquet\"\n",
    "        for month in range(1, 13)\n",
    "    ]\n",
    "    \n",
    "    # Read and convert all files to Float64 before concatenation\n",
    "    dfs = []\n",
    "    for file in files:\n",
    "        if file.exists():\n",
    "            df = pl.read_parquet(file)\n",
    "            df = df.with_columns([pl.col(col).cast(pl.Float64) for col in df.columns])  # Corrected casting\n",
    "            dfs.append(df)\n",
    "    \n",
    "    # Concatenate vertically\n",
    "    return pl.concat(dfs) if dfs else pl.DataFrame()\n",
    "\n",
    "# Example usage\n",
    "base_path = \"/home/ubuntu/Rheza/data/bybit_trades_data\"\n",
    "symbol = \"SEIUSDT\"\n",
    "interval = \"10s\"  # Change this to '15s', '25s', '30s', etc.\n",
    "\n",
    "df = read_aggregated_files(base_path, symbol, interval)\n",
    "df = df.fill_nan(0.0).fill_null(0.0)\n",
    "df = df.slice(0, df.height - 1)\n",
    "df"
   ]
  },
  {
   "cell_type": "markdown",
   "metadata": {},
   "source": [
    "# Slice Important Data"
   ]
  },
  {
   "cell_type": "code",
   "execution_count": 97,
   "metadata": {},
   "outputs": [
    {
     "data": {
      "text/html": [
       "<div><style>\n",
       ".dataframe > thead > tr,\n",
       ".dataframe > tbody > tr {\n",
       "  text-align: right;\n",
       "  white-space: pre-wrap;\n",
       "}\n",
       "</style>\n",
       "<small>shape: (2_108_090, 12)</small><table border=\"1\" class=\"dataframe\"><thead><tr><th>interval_group</th><th>size_sum</th><th>volume_sum</th><th>buy_size_sum</th><th>buy_volume_sum</th><th>buy_size_ratio</th><th>buy_volume_ratio</th><th>open_weighted_price_change</th><th>open_buy_weighted_price_change</th><th>open_close_change</th><th>next_open_high_change</th><th>next_open_close_change</th></tr><tr><td>f64</td><td>f64</td><td>f64</td><td>f64</td><td>f64</td><td>f64</td><td>f64</td><td>f64</td><td>f64</td><td>f64</td><td>f64</td><td>f64</td></tr></thead><tbody><tr><td>1.7041e9</td><td>44.795</td><td>1.8957e6</td><td>29.894</td><td>1.2652e6</td><td>0.667351</td><td>0.667399</td><td>-0.010236</td><td>-0.003102</td><td>-0.030715</td><td>0.021743</td><td>0.021743</td></tr><tr><td>1.7041e9</td><td>18.148</td><td>767924.3891</td><td>16.88</td><td>714271.1547</td><td>0.93013</td><td>0.930132</td><td>0.006491</td><td>0.006716</td><td>0.021743</td><td>0.05222</td><td>0.040169</td></tr><tr><td>1.7041e9</td><td>64.868</td><td>2.7464e6</td><td>63.526</td><td>2.6895e6</td><td>0.979312</td><td>0.979312</td><td>0.039281</td><td>0.039302</td><td>0.040169</td><td>0.027871</td><td>0.020549</td></tr><tr><td>1.7041e9</td><td>59.821</td><td>2.5331e6</td><td>59.129</td><td>2.5038e6</td><td>0.988432</td><td>0.988433</td><td>0.016182</td><td>0.01625</td><td>0.020549</td><td>0.019364</td><td>0.019364</td></tr><tr><td>1.7041e9</td><td>27.333</td><td>1.1575e6</td><td>22.668</td><td>959978.0278</td><td>0.829327</td><td>0.829331</td><td>0.005856</td><td>0.00633</td><td>0.019364</td><td>0.021721</td><td>0.002361</td></tr><tr><td>&hellip;</td><td>&hellip;</td><td>&hellip;</td><td>&hellip;</td><td>&hellip;</td><td>&hellip;</td><td>&hellip;</td><td>&hellip;</td><td>&hellip;</td><td>&hellip;</td><td>&hellip;</td><td>&hellip;</td></tr><tr><td>1.7357e9</td><td>0.261</td><td>24424.5329</td><td>0.224</td><td>20962.0544</td><td>0.858238</td><td>0.858238</td><td>-0.000015</td><td>4.6650e-14</td><td>0.0</td><td>0.0</td><td>-0.021906</td></tr><tr><td>1.7357e9</td><td>2.789</td><td>260971.1614</td><td>0.04</td><td>3742.404</td><td>0.014342</td><td>0.01434</td><td>-0.009522</td><td>-0.021799</td><td>-0.021906</td><td>0.022339</td><td>0.012292</td></tr><tr><td>1.7357e9</td><td>7.328</td><td>685674.125</td><td>6.578</td><td>615489.2216</td><td>0.897653</td><td>0.897641</td><td>0.009585</td><td>0.008268</td><td>0.012292</td><td>0.0</td><td>-0.022977</td></tr><tr><td>1.7357e9</td><td>3.668</td><td>343173.7975</td><td>1.555</td><td>145470.7751</td><td>0.423937</td><td>0.423898</td><td>-0.013538</td><td>-0.022616</td><td>-0.022977</td><td>0.0</td><td>-0.018172</td></tr><tr><td>1.7357e9</td><td>6.372</td><td>596051.8367</td><td>2.601</td><td>243308.6901</td><td>0.408192</td><td>0.408201</td><td>-0.008287</td><td>-0.006214</td><td>-0.018172</td><td>0.007163</td><td>-0.003421</td></tr></tbody></table></div>"
      ],
      "text/plain": [
       "shape: (2_108_090, 12)\n",
       "┌───────────┬──────────┬───────────┬───────────┬───┬───────────┬───────────┬───────────┬───────────┐\n",
       "│ interval_ ┆ size_sum ┆ volume_su ┆ buy_size_ ┆ … ┆ open_buy_ ┆ open_clos ┆ next_open ┆ next_open │\n",
       "│ group     ┆ ---      ┆ m         ┆ sum       ┆   ┆ weighted_ ┆ e_change  ┆ _high_cha ┆ _close_ch │\n",
       "│ ---       ┆ f64      ┆ ---       ┆ ---       ┆   ┆ price_cha ┆ ---       ┆ nge       ┆ ange      │\n",
       "│ f64       ┆          ┆ f64       ┆ f64       ┆   ┆ nge       ┆ f64       ┆ ---       ┆ ---       │\n",
       "│           ┆          ┆           ┆           ┆   ┆ ---       ┆           ┆ f64       ┆ f64       │\n",
       "│           ┆          ┆           ┆           ┆   ┆ f64       ┆           ┆           ┆           │\n",
       "╞═══════════╪══════════╪═══════════╪═══════════╪═══╪═══════════╪═══════════╪═══════════╪═══════════╡\n",
       "│ 1.7041e9  ┆ 44.795   ┆ 1.8957e6  ┆ 29.894    ┆ … ┆ -0.003102 ┆ -0.030715 ┆ 0.021743  ┆ 0.021743  │\n",
       "│ 1.7041e9  ┆ 18.148   ┆ 767924.38 ┆ 16.88     ┆ … ┆ 0.006716  ┆ 0.021743  ┆ 0.05222   ┆ 0.040169  │\n",
       "│           ┆          ┆ 91        ┆           ┆   ┆           ┆           ┆           ┆           │\n",
       "│ 1.7041e9  ┆ 64.868   ┆ 2.7464e6  ┆ 63.526    ┆ … ┆ 0.039302  ┆ 0.040169  ┆ 0.027871  ┆ 0.020549  │\n",
       "│ 1.7041e9  ┆ 59.821   ┆ 2.5331e6  ┆ 59.129    ┆ … ┆ 0.01625   ┆ 0.020549  ┆ 0.019364  ┆ 0.019364  │\n",
       "│ 1.7041e9  ┆ 27.333   ┆ 1.1575e6  ┆ 22.668    ┆ … ┆ 0.00633   ┆ 0.019364  ┆ 0.021721  ┆ 0.002361  │\n",
       "│ …         ┆ …        ┆ …         ┆ …         ┆ … ┆ …         ┆ …         ┆ …         ┆ …         │\n",
       "│ 1.7357e9  ┆ 0.261    ┆ 24424.532 ┆ 0.224     ┆ … ┆ 4.6650e-1 ┆ 0.0       ┆ 0.0       ┆ -0.021906 │\n",
       "│           ┆          ┆ 9         ┆           ┆   ┆ 4         ┆           ┆           ┆           │\n",
       "│ 1.7357e9  ┆ 2.789    ┆ 260971.16 ┆ 0.04      ┆ … ┆ -0.021799 ┆ -0.021906 ┆ 0.022339  ┆ 0.012292  │\n",
       "│           ┆          ┆ 14        ┆           ┆   ┆           ┆           ┆           ┆           │\n",
       "│ 1.7357e9  ┆ 7.328    ┆ 685674.12 ┆ 6.578     ┆ … ┆ 0.008268  ┆ 0.012292  ┆ 0.0       ┆ -0.022977 │\n",
       "│           ┆          ┆ 5         ┆           ┆   ┆           ┆           ┆           ┆           │\n",
       "│ 1.7357e9  ┆ 3.668    ┆ 343173.79 ┆ 1.555     ┆ … ┆ -0.022616 ┆ -0.022977 ┆ 0.0       ┆ -0.018172 │\n",
       "│           ┆          ┆ 75        ┆           ┆   ┆           ┆           ┆           ┆           │\n",
       "│ 1.7357e9  ┆ 6.372    ┆ 596051.83 ┆ 2.601     ┆ … ┆ -0.006214 ┆ -0.018172 ┆ 0.007163  ┆ -0.003421 │\n",
       "│           ┆          ┆ 67        ┆           ┆   ┆           ┆           ┆           ┆           │\n",
       "└───────────┴──────────┴───────────┴───────────┴───┴───────────┴───────────┴───────────┴───────────┘"
      ]
     },
     "execution_count": 97,
     "metadata": {},
     "output_type": "execute_result"
    }
   ],
   "source": [
    "df_main = df.select([\"interval_group\",\"size_sum\",\"volume_sum\",\"buy_size_sum\",\"buy_volume_sum\",\"buy_size_ratio\",\"buy_volume_ratio\",\"open_weighted_price_change\",\"open_buy_weighted_price_change\",\"open_close_change\",\"next_open_high_change\",\"next_open_close_change\"])\n",
    "df_main"
   ]
  },
  {
   "cell_type": "code",
   "execution_count": 174,
   "metadata": {},
   "outputs": [
    {
     "name": "stdout",
     "output_type": "stream",
     "text": [
      "Total Long: 1526\n",
      "Total Wins: 914\n",
      "Win Rate: 59.90%\n",
      "Total PnL: -62.3584\n"
     ]
    }
   ],
   "source": [
    "import polars as pl\n",
    "\n",
    "ss_threshold = 0\n",
    "vs_threshold = 0\n",
    "bss_threshold = 0\n",
    "bvs_threshold = 0\n",
    "bsr_threshold = 0\n",
    "bvr_threshold = 0\n",
    "owpc_threhold = 0\n",
    "obwpc_threshold = 0\n",
    "occ_threshold = 0.25  # Set your threshold value\n",
    "\n",
    "change_threshold = 0.07  # Set your threshold value\n",
    "\n",
    "df_main = df_main.with_columns(\n",
    "    pl.when((pl.col(\"size_sum\").cast(float) >= ss_threshold) &\n",
    "            (pl.col(\"volume_sum\").cast(float) >= vs_threshold) &\n",
    "            (pl.col(\"buy_size_sum\").cast(float) >= bss_threshold) &\n",
    "            (pl.col(\"buy_volume_sum\").cast(float) >= bvs_threshold) &\n",
    "            (pl.col(\"buy_size_ratio\").cast(float) >= bsr_threshold) &\n",
    "            (pl.col(\"buy_volume_ratio\").cast(float) >= bvr_threshold) &\n",
    "            (pl.col(\"open_weighted_price_change\").cast(float) >= owpc_threhold) &\n",
    "            (pl.col(\"open_buy_weighted_price_change\").cast(float) >= obwpc_threshold) &\n",
    "            (pl.col(\"open_close_change\").cast(float) >= occ_threshold)\n",
    "    )\n",
    "    .then(pl.lit(\"Long\"))\n",
    "    .otherwise(None)  # Explicit None (null) value\n",
    "    .alias(\"action\")\n",
    ")\n",
    "\n",
    "df_main = df_main.with_columns(\n",
    "    pl.when(pl.col(\"action\") == \"Long\")\n",
    "    .then(\n",
    "        pl.when(pl.col(\"next_open_high_change\") >= change_threshold)\n",
    "        .then(pl.lit(change_threshold - 0.04))\n",
    "        .otherwise(pl.col(\"next_open_close_change\") - 0.04)\n",
    "    )\n",
    "    .otherwise(None)  # Ensure 'pnl' is null if action != \"Long\"\n",
    "    .alias(\"pnl\")\n",
    ")\n",
    "\n",
    "# Calculate total PnL (sum of all pnl values where action == \"Long\")\n",
    "total_pnl = df_main.filter(pl.col(\"action\") == \"Long\")[\"pnl\"].sum()\n",
    "\n",
    "# Count total Long actions\n",
    "total_long = df_main.filter(pl.col(\"action\") == \"Long\").height\n",
    "\n",
    "# Count wins (pnl >= 0)\n",
    "total_wins = df_main.filter((pl.col(\"action\") == \"Long\") & (pl.col(\"pnl\") >= 0)).height\n",
    "\n",
    "# Calculate win rate\n",
    "win_rate = (total_wins / total_long) * 100 if total_long > 0 else 0\n",
    "\n",
    "# Print results\n",
    "print(f\"Total Long: {total_long}\")\n",
    "print(f\"Total Wins: {total_wins}\")\n",
    "print(f\"Win Rate: {win_rate:.2f}%\")\n",
    "print(f\"Total PnL: {total_pnl:.4f}\")  # Adjust decimal places as needed"
   ]
  },
  {
   "cell_type": "markdown",
   "metadata": {},
   "source": [
    "# Looping"
   ]
  },
  {
   "cell_type": "code",
   "execution_count": 201,
   "metadata": {},
   "outputs": [
    {
     "data": {
      "text/html": [
       "<div><style>\n",
       ".dataframe > thead > tr,\n",
       ".dataframe > tbody > tr {\n",
       "  text-align: right;\n",
       "  white-space: pre-wrap;\n",
       "}\n",
       "</style>\n",
       "<small>shape: (62_000, 14)</small><table border=\"1\" class=\"dataframe\"><thead><tr><th>ss_threshold</th><th>vs_threshold</th><th>bss_threshold</th><th>bvs_threshold</th><th>bsr_threshold</th><th>bvr_threshold</th><th>owpc_threhold</th><th>obwpc_threshold</th><th>occ_threshold</th><th>change_threshold</th><th>total_long</th><th>total_wins</th><th>win_rate</th><th>total_pnl</th></tr><tr><td>i64</td><td>i64</td><td>f64</td><td>i64</td><td>i64</td><td>i64</td><td>i64</td><td>i64</td><td>f64</td><td>f64</td><td>i64</td><td>i64</td><td>f64</td><td>f64</td></tr></thead><tbody><tr><td>0</td><td>0</td><td>0.0</td><td>0</td><td>0</td><td>0</td><td>0</td><td>0</td><td>0.0</td><td>0.04</td><td>927463</td><td>118904</td><td>12.82035</td><td>-37719.442535</td></tr><tr><td>0</td><td>0</td><td>0.0</td><td>0</td><td>0</td><td>0</td><td>0</td><td>0</td><td>0.0</td><td>0.07</td><td>927463</td><td>84234</td><td>9.082195</td><td>-36973.897478</td></tr><tr><td>0</td><td>0</td><td>0.0</td><td>0</td><td>0</td><td>0</td><td>0</td><td>0</td><td>0.0</td><td>0.1</td><td>927463</td><td>78834</td><td>8.499962</td><td>-36742.309408</td></tr><tr><td>0</td><td>0</td><td>0.0</td><td>0</td><td>0</td><td>0</td><td>0</td><td>0</td><td>0.0</td><td>1.5</td><td>927463</td><td>76776</td><td>8.278066</td><td>-36581.301929</td></tr><tr><td>0</td><td>0</td><td>0.0</td><td>0</td><td>0</td><td>0</td><td>0</td><td>0</td><td>0.0</td><td>2.0</td><td>927463</td><td>76776</td><td>8.278066</td><td>-36583.202375</td></tr><tr><td>&hellip;</td><td>&hellip;</td><td>&hellip;</td><td>&hellip;</td><td>&hellip;</td><td>&hellip;</td><td>&hellip;</td><td>&hellip;</td><td>&hellip;</td><td>&hellip;</td><td>&hellip;</td><td>&hellip;</td><td>&hellip;</td><td>&hellip;</td></tr><tr><td>0</td><td>0</td><td>3090.0</td><td>0</td><td>0</td><td>0</td><td>0</td><td>0</td><td>1.95</td><td>0.04</td><td>0</td><td>0</td><td>0.0</td><td>0.0</td></tr><tr><td>0</td><td>0</td><td>3090.0</td><td>0</td><td>0</td><td>0</td><td>0</td><td>0</td><td>1.95</td><td>0.07</td><td>0</td><td>0</td><td>0.0</td><td>0.0</td></tr><tr><td>0</td><td>0</td><td>3090.0</td><td>0</td><td>0</td><td>0</td><td>0</td><td>0</td><td>1.95</td><td>0.1</td><td>0</td><td>0</td><td>0.0</td><td>0.0</td></tr><tr><td>0</td><td>0</td><td>3090.0</td><td>0</td><td>0</td><td>0</td><td>0</td><td>0</td><td>1.95</td><td>1.5</td><td>0</td><td>0</td><td>0.0</td><td>0.0</td></tr><tr><td>0</td><td>0</td><td>3090.0</td><td>0</td><td>0</td><td>0</td><td>0</td><td>0</td><td>1.95</td><td>2.0</td><td>0</td><td>0</td><td>0.0</td><td>0.0</td></tr></tbody></table></div>"
      ],
      "text/plain": [
       "shape: (62_000, 14)\n",
       "┌───────────┬───────────┬───────────┬───────────┬───┬───────────┬───────────┬──────────┬───────────┐\n",
       "│ ss_thresh ┆ vs_thresh ┆ bss_thres ┆ bvs_thres ┆ … ┆ total_lon ┆ total_win ┆ win_rate ┆ total_pnl │\n",
       "│ old       ┆ old       ┆ hold      ┆ hold      ┆   ┆ g         ┆ s         ┆ ---      ┆ ---       │\n",
       "│ ---       ┆ ---       ┆ ---       ┆ ---       ┆   ┆ ---       ┆ ---       ┆ f64      ┆ f64       │\n",
       "│ i64       ┆ i64       ┆ f64       ┆ i64       ┆   ┆ i64       ┆ i64       ┆          ┆           │\n",
       "╞═══════════╪═══════════╪═══════════╪═══════════╪═══╪═══════════╪═══════════╪══════════╪═══════════╡\n",
       "│ 0         ┆ 0         ┆ 0.0       ┆ 0         ┆ … ┆ 927463    ┆ 118904    ┆ 12.82035 ┆ -37719.44 │\n",
       "│           ┆           ┆           ┆           ┆   ┆           ┆           ┆          ┆ 2535      │\n",
       "│ 0         ┆ 0         ┆ 0.0       ┆ 0         ┆ … ┆ 927463    ┆ 84234     ┆ 9.082195 ┆ -36973.89 │\n",
       "│           ┆           ┆           ┆           ┆   ┆           ┆           ┆          ┆ 7478      │\n",
       "│ 0         ┆ 0         ┆ 0.0       ┆ 0         ┆ … ┆ 927463    ┆ 78834     ┆ 8.499962 ┆ -36742.30 │\n",
       "│           ┆           ┆           ┆           ┆   ┆           ┆           ┆          ┆ 9408      │\n",
       "│ 0         ┆ 0         ┆ 0.0       ┆ 0         ┆ … ┆ 927463    ┆ 76776     ┆ 8.278066 ┆ -36581.30 │\n",
       "│           ┆           ┆           ┆           ┆   ┆           ┆           ┆          ┆ 1929      │\n",
       "│ 0         ┆ 0         ┆ 0.0       ┆ 0         ┆ … ┆ 927463    ┆ 76776     ┆ 8.278066 ┆ -36583.20 │\n",
       "│           ┆           ┆           ┆           ┆   ┆           ┆           ┆          ┆ 2375      │\n",
       "│ …         ┆ …         ┆ …         ┆ …         ┆ … ┆ …         ┆ …         ┆ …        ┆ …         │\n",
       "│ 0         ┆ 0         ┆ 3090.0    ┆ 0         ┆ … ┆ 0         ┆ 0         ┆ 0.0      ┆ 0.0       │\n",
       "│ 0         ┆ 0         ┆ 3090.0    ┆ 0         ┆ … ┆ 0         ┆ 0         ┆ 0.0      ┆ 0.0       │\n",
       "│ 0         ┆ 0         ┆ 3090.0    ┆ 0         ┆ … ┆ 0         ┆ 0         ┆ 0.0      ┆ 0.0       │\n",
       "│ 0         ┆ 0         ┆ 3090.0    ┆ 0         ┆ … ┆ 0         ┆ 0         ┆ 0.0      ┆ 0.0       │\n",
       "│ 0         ┆ 0         ┆ 3090.0    ┆ 0         ┆ … ┆ 0         ┆ 0         ┆ 0.0      ┆ 0.0       │\n",
       "└───────────┴───────────┴───────────┴───────────┴───┴───────────┴───────────┴──────────┴───────────┘"
      ]
     },
     "execution_count": 201,
     "metadata": {},
     "output_type": "execute_result"
    }
   ],
   "source": [
    "import polars as pl\n",
    "import itertools\n",
    "import numpy as np\n",
    "\n",
    "# Define possible threshold values for each parameter\n",
    "ss_values = [0]\n",
    "vs_values = [0]\n",
    "bss_values = np.arange(0.00, 3100, 10)\n",
    "bvs_values = [0]\n",
    "bsr_values = [0]\n",
    "bvr_values = [0]\n",
    "owpc_values = [0]\n",
    "obwpc_values = [0]\n",
    "occ_values = np.arange(0.00, 2, 0.05)\n",
    "change_values = [0.04,0.07,0.1,1.5,2]\n",
    "\n",
    "# Store results\n",
    "results = []\n",
    "\n",
    "# Loop through all combinations of thresholds\n",
    "for ss_threshold, vs_threshold, bss_threshold, bvs_threshold, bsr_threshold, bvr_threshold, \\\n",
    "    owpc_threhold, obwpc_threshold, occ_threshold, change_threshold in itertools.product(\n",
    "    ss_values, vs_values, bss_values, bvs_values, bsr_values, bvr_values, \n",
    "    owpc_values, obwpc_values, occ_values, change_values):\n",
    "\n",
    "    # Apply filtering logic\n",
    "    df_test = df_main.with_columns(\n",
    "        pl.when((pl.col(\"size_sum\").cast(float) >= ss_threshold) &\n",
    "                (pl.col(\"volume_sum\").cast(float) >= vs_threshold) &\n",
    "                (pl.col(\"buy_size_sum\").cast(float) >= bss_threshold) &\n",
    "                (pl.col(\"buy_volume_sum\").cast(float) >= bvs_threshold) &\n",
    "                (pl.col(\"buy_size_ratio\").cast(float) >= bsr_threshold) &\n",
    "                (pl.col(\"buy_volume_ratio\").cast(float) >= bvr_threshold) &\n",
    "                (pl.col(\"open_weighted_price_change\").cast(float) >= owpc_threhold) &\n",
    "                (pl.col(\"open_buy_weighted_price_change\").cast(float) >= obwpc_threshold) &\n",
    "                (pl.col(\"open_close_change\").cast(float) >= occ_threshold)\n",
    "        )\n",
    "        .then(pl.lit(\"Long\"))\n",
    "        .otherwise(None)\n",
    "        .alias(\"action\")\n",
    "    )\n",
    "\n",
    "    df_test = df_test.with_columns(\n",
    "        pl.when(pl.col(\"action\") == \"Long\")\n",
    "        .then(\n",
    "            pl.when(pl.col(\"next_open_high_change\") >= change_threshold)\n",
    "            .then(pl.lit(change_threshold - 0.04))\n",
    "            .otherwise(pl.col(\"next_open_close_change\") - 0.04)\n",
    "        )\n",
    "        .otherwise(None)\n",
    "        .alias(\"pnl\")\n",
    "    )\n",
    "\n",
    "    # Calculate metrics\n",
    "    total_pnl = df_test.filter(pl.col(\"action\") == \"Long\")[\"pnl\"].sum()\n",
    "    total_long = df_test.filter(pl.col(\"action\") == \"Long\").height\n",
    "    total_wins = df_test.filter((pl.col(\"action\") == \"Long\") & (pl.col(\"pnl\") >= 0)).height\n",
    "    win_rate = (total_wins / total_long) * 100 if total_long > 0 else 0\n",
    "\n",
    "    # Store results in a list\n",
    "    results.append({\n",
    "        \"ss_threshold\": ss_threshold,\n",
    "        \"vs_threshold\": vs_threshold,\n",
    "        \"bss_threshold\": bss_threshold,\n",
    "        \"bvs_threshold\": bvs_threshold,\n",
    "        \"bsr_threshold\": bsr_threshold,\n",
    "        \"bvr_threshold\": bvr_threshold,\n",
    "        \"owpc_threhold\": owpc_threhold,\n",
    "        \"obwpc_threshold\": obwpc_threshold,\n",
    "        \"occ_threshold\": occ_threshold,\n",
    "        \"change_threshold\": change_threshold,\n",
    "        \"total_long\": total_long,\n",
    "        \"total_wins\": total_wins,\n",
    "        \"win_rate\": win_rate,\n",
    "        \"total_pnl\": total_pnl\n",
    "    })\n",
    "\n",
    "# Convert results to a DataFrame\n",
    "df_results = pl.DataFrame(results)\n",
    "\n",
    "# Print the results\n",
    "df_results"
   ]
  },
  {
   "cell_type": "code",
   "execution_count": 203,
   "metadata": {},
   "outputs": [
    {
     "data": {
      "text/html": [
       "<div><style>\n",
       ".dataframe > thead > tr,\n",
       ".dataframe > tbody > tr {\n",
       "  text-align: right;\n",
       "  white-space: pre-wrap;\n",
       "}\n",
       "</style>\n",
       "<small>shape: (1, 14)</small><table border=\"1\" class=\"dataframe\"><thead><tr><th>ss_threshold</th><th>vs_threshold</th><th>bss_threshold</th><th>bvs_threshold</th><th>bsr_threshold</th><th>bvr_threshold</th><th>owpc_threhold</th><th>obwpc_threshold</th><th>occ_threshold</th><th>change_threshold</th><th>total_long</th><th>total_wins</th><th>win_rate</th><th>total_pnl</th></tr><tr><td>i64</td><td>i64</td><td>f64</td><td>i64</td><td>i64</td><td>i64</td><td>i64</td><td>i64</td><td>f64</td><td>f64</td><td>i64</td><td>i64</td><td>f64</td><td>f64</td></tr></thead><tbody><tr><td>0</td><td>0</td><td>0.0</td><td>0</td><td>0</td><td>0</td><td>0</td><td>0</td><td>1.6</td><td>1.5</td><td>3</td><td>1</td><td>33.333333</td><td>0.589997</td></tr></tbody></table></div>"
      ],
      "text/plain": [
       "shape: (1, 14)\n",
       "┌───────────┬───────────┬───────────┬───────────┬───┬───────────┬───────────┬───────────┬──────────┐\n",
       "│ ss_thresh ┆ vs_thresh ┆ bss_thres ┆ bvs_thres ┆ … ┆ total_lon ┆ total_win ┆ win_rate  ┆ total_pn │\n",
       "│ old       ┆ old       ┆ hold      ┆ hold      ┆   ┆ g         ┆ s         ┆ ---       ┆ l        │\n",
       "│ ---       ┆ ---       ┆ ---       ┆ ---       ┆   ┆ ---       ┆ ---       ┆ f64       ┆ ---      │\n",
       "│ i64       ┆ i64       ┆ f64       ┆ i64       ┆   ┆ i64       ┆ i64       ┆           ┆ f64      │\n",
       "╞═══════════╪═══════════╪═══════════╪═══════════╪═══╪═══════════╪═══════════╪═══════════╪══════════╡\n",
       "│ 0         ┆ 0         ┆ 0.0       ┆ 0         ┆ … ┆ 3         ┆ 1         ┆ 33.333333 ┆ 0.589997 │\n",
       "└───────────┴───────────┴───────────┴───────────┴───┴───────────┴───────────┴───────────┴──────────┘"
      ]
     },
     "execution_count": 203,
     "metadata": {},
     "output_type": "execute_result"
    }
   ],
   "source": [
    "# Extract max return approximation row\n",
    "max_return_params = df_results.sort(\"total_pnl\", descending=True).row(0)\n",
    "max_return_df = pl.DataFrame([max_return_params], schema=df_results.schema, orient=\"row\")\n",
    "max_return_df"
   ]
  },
  {
   "cell_type": "code",
   "execution_count": 204,
   "metadata": {},
   "outputs": [
    {
     "data": {
      "text/html": [
       "<div><style>\n",
       ".dataframe > thead > tr,\n",
       ".dataframe > tbody > tr {\n",
       "  text-align: right;\n",
       "  white-space: pre-wrap;\n",
       "}\n",
       "</style>\n",
       "<small>shape: (1, 14)</small><table border=\"1\" class=\"dataframe\"><thead><tr><th>ss_threshold</th><th>vs_threshold</th><th>bss_threshold</th><th>bvs_threshold</th><th>bsr_threshold</th><th>bvr_threshold</th><th>owpc_threhold</th><th>obwpc_threshold</th><th>occ_threshold</th><th>change_threshold</th><th>total_long</th><th>total_wins</th><th>win_rate</th><th>total_pnl</th></tr><tr><td>i64</td><td>i64</td><td>f64</td><td>i64</td><td>i64</td><td>i64</td><td>i64</td><td>i64</td><td>f64</td><td>f64</td><td>i64</td><td>i64</td><td>f64</td><td>f64</td></tr></thead><tbody><tr><td>0</td><td>0</td><td>100.0</td><td>0</td><td>0</td><td>0</td><td>0</td><td>0</td><td>0.1</td><td>0.04</td><td>8964</td><td>4967</td><td>55.410531</td><td>-394.957038</td></tr></tbody></table></div>"
      ],
      "text/plain": [
       "shape: (1, 14)\n",
       "┌───────────┬───────────┬───────────┬───────────┬───┬───────────┬───────────┬───────────┬──────────┐\n",
       "│ ss_thresh ┆ vs_thresh ┆ bss_thres ┆ bvs_thres ┆ … ┆ total_lon ┆ total_win ┆ win_rate  ┆ total_pn │\n",
       "│ old       ┆ old       ┆ hold      ┆ hold      ┆   ┆ g         ┆ s         ┆ ---       ┆ l        │\n",
       "│ ---       ┆ ---       ┆ ---       ┆ ---       ┆   ┆ ---       ┆ ---       ┆ f64       ┆ ---      │\n",
       "│ i64       ┆ i64       ┆ f64       ┆ i64       ┆   ┆ i64       ┆ i64       ┆           ┆ f64      │\n",
       "╞═══════════╪═══════════╪═══════════╪═══════════╪═══╪═══════════╪═══════════╪═══════════╪══════════╡\n",
       "│ 0         ┆ 0         ┆ 100.0     ┆ 0         ┆ … ┆ 8964      ┆ 4967      ┆ 55.410531 ┆ -394.957 │\n",
       "│           ┆           ┆           ┆           ┆   ┆           ┆           ┆           ┆ 038      │\n",
       "└───────────┴───────────┴───────────┴───────────┴───┴───────────┴───────────┴───────────┴──────────┘"
      ]
     },
     "execution_count": 204,
     "metadata": {},
     "output_type": "execute_result"
    }
   ],
   "source": [
    "# Filter profitable rows\n",
    "profitable_df = df_results.filter(pl.col(\"win_rate\") >= 55)\n",
    "# Get the row with the maximum opportunities\n",
    "max_opportunities_profitable_params = profitable_df.sort(\"total_long\", descending=True).row(0)\n",
    "# Convert to DataFrame with explicit row orientation\n",
    "max_opportunities_profitable_df = pl.DataFrame([max_opportunities_profitable_params], schema=df_results.schema, orient=\"row\")\n",
    "max_opportunities_profitable_df"
   ]
  },
  {
   "cell_type": "code",
   "execution_count": 205,
   "metadata": {},
   "outputs": [
    {
     "data": {
      "text/html": [
       "<div><style>\n",
       ".dataframe > thead > tr,\n",
       ".dataframe > tbody > tr {\n",
       "  text-align: right;\n",
       "  white-space: pre-wrap;\n",
       "}\n",
       "</style>\n",
       "<small>shape: (1, 14)</small><table border=\"1\" class=\"dataframe\"><thead><tr><th>ss_threshold</th><th>vs_threshold</th><th>bss_threshold</th><th>bvs_threshold</th><th>bsr_threshold</th><th>bvr_threshold</th><th>owpc_threhold</th><th>obwpc_threshold</th><th>occ_threshold</th><th>change_threshold</th><th>total_long</th><th>total_wins</th><th>win_rate</th><th>total_pnl</th></tr><tr><td>i64</td><td>i64</td><td>f64</td><td>i64</td><td>i64</td><td>i64</td><td>i64</td><td>i64</td><td>f64</td><td>f64</td><td>i64</td><td>i64</td><td>f64</td><td>f64</td></tr></thead><tbody><tr><td>0</td><td>0</td><td>1090.0</td><td>0</td><td>0</td><td>0</td><td>0</td><td>0</td><td>0.0</td><td>0.07</td><td>139</td><td>89</td><td>64.028777</td><td>-4.797667</td></tr></tbody></table></div>"
      ],
      "text/plain": [
       "shape: (1, 14)\n",
       "┌───────────┬───────────┬───────────┬───────────┬───┬───────────┬───────────┬───────────┬──────────┐\n",
       "│ ss_thresh ┆ vs_thresh ┆ bss_thres ┆ bvs_thres ┆ … ┆ total_lon ┆ total_win ┆ win_rate  ┆ total_pn │\n",
       "│ old       ┆ old       ┆ hold      ┆ hold      ┆   ┆ g         ┆ s         ┆ ---       ┆ l        │\n",
       "│ ---       ┆ ---       ┆ ---       ┆ ---       ┆   ┆ ---       ┆ ---       ┆ f64       ┆ ---      │\n",
       "│ i64       ┆ i64       ┆ f64       ┆ i64       ┆   ┆ i64       ┆ i64       ┆           ┆ f64      │\n",
       "╞═══════════╪═══════════╪═══════════╪═══════════╪═══╪═══════════╪═══════════╪═══════════╪══════════╡\n",
       "│ 0         ┆ 0         ┆ 1090.0    ┆ 0         ┆ … ┆ 139       ┆ 89        ┆ 64.028777 ┆ -4.79766 │\n",
       "│           ┆           ┆           ┆           ┆   ┆           ┆           ┆           ┆ 7        │\n",
       "└───────────┴───────────┴───────────┴───────────┴───┴───────────┴───────────┴───────────┴──────────┘"
      ]
     },
     "execution_count": 205,
     "metadata": {},
     "output_type": "execute_result"
    }
   ],
   "source": [
    "# Filter rows where return_approximation is >= 0\n",
    "positive_return_df = df_results.filter(pl.col(\"total_pnl\") >=-5)\n",
    "max_opportunities_positive_return_params = positive_return_df.sort(\"total_long\", descending=True).row(0)\n",
    "max_opportunities_positive_return_df = pl.DataFrame([max_opportunities_positive_return_params], schema=df_results.schema, orient=\"row\")\n",
    "max_opportunities_positive_return_df"
   ]
  },
  {
   "cell_type": "markdown",
   "metadata": {},
   "source": [
    "# Looping 2"
   ]
  },
  {
   "cell_type": "code",
   "execution_count": 202,
   "metadata": {},
   "outputs": [
    {
     "data": {
      "text/html": [
       "<div><style>\n",
       ".dataframe > thead > tr,\n",
       ".dataframe > tbody > tr {\n",
       "  text-align: right;\n",
       "  white-space: pre-wrap;\n",
       "}\n",
       "</style>\n",
       "<small>shape: (62_000, 14)</small><table border=\"1\" class=\"dataframe\"><thead><tr><th>ss_threshold</th><th>vs_threshold</th><th>bss_threshold</th><th>bvs_threshold</th><th>bsr_threshold</th><th>bvr_threshold</th><th>owpc_threhold</th><th>obwpc_threshold</th><th>occ_threshold</th><th>change_threshold</th><th>total_long</th><th>total_wins</th><th>win_rate</th><th>total_pnl</th></tr><tr><td>i64</td><td>i64</td><td>f64</td><td>i64</td><td>i64</td><td>i64</td><td>i64</td><td>i64</td><td>f64</td><td>f64</td><td>i64</td><td>i64</td><td>f64</td><td>f64</td></tr></thead><tbody><tr><td>0</td><td>0</td><td>0.0</td><td>0</td><td>0</td><td>0</td><td>0</td><td>0</td><td>0.0</td><td>0.04</td><td>927463</td><td>76776</td><td>8.278066</td><td>-36583.104519</td></tr><tr><td>0</td><td>0</td><td>0.0</td><td>0</td><td>0</td><td>0</td><td>0</td><td>0</td><td>0.0</td><td>0.07</td><td>927463</td><td>76776</td><td>8.278066</td><td>-36583.104519</td></tr><tr><td>0</td><td>0</td><td>0.0</td><td>0</td><td>0</td><td>0</td><td>0</td><td>0</td><td>0.0</td><td>0.1</td><td>927463</td><td>76776</td><td>8.278066</td><td>-36583.104519</td></tr><tr><td>0</td><td>0</td><td>0.0</td><td>0</td><td>0</td><td>0</td><td>0</td><td>0</td><td>0.0</td><td>1.5</td><td>927463</td><td>76776</td><td>8.278066</td><td>-36583.104519</td></tr><tr><td>0</td><td>0</td><td>0.0</td><td>0</td><td>0</td><td>0</td><td>0</td><td>0</td><td>0.0</td><td>2.0</td><td>927463</td><td>76776</td><td>8.278066</td><td>-36583.104519</td></tr><tr><td>&hellip;</td><td>&hellip;</td><td>&hellip;</td><td>&hellip;</td><td>&hellip;</td><td>&hellip;</td><td>&hellip;</td><td>&hellip;</td><td>&hellip;</td><td>&hellip;</td><td>&hellip;</td><td>&hellip;</td><td>&hellip;</td><td>&hellip;</td></tr><tr><td>0</td><td>0</td><td>3090.0</td><td>0</td><td>0</td><td>0</td><td>0</td><td>0</td><td>1.95</td><td>0.04</td><td>0</td><td>0</td><td>0.0</td><td>0.0</td></tr><tr><td>0</td><td>0</td><td>3090.0</td><td>0</td><td>0</td><td>0</td><td>0</td><td>0</td><td>1.95</td><td>0.07</td><td>0</td><td>0</td><td>0.0</td><td>0.0</td></tr><tr><td>0</td><td>0</td><td>3090.0</td><td>0</td><td>0</td><td>0</td><td>0</td><td>0</td><td>1.95</td><td>0.1</td><td>0</td><td>0</td><td>0.0</td><td>0.0</td></tr><tr><td>0</td><td>0</td><td>3090.0</td><td>0</td><td>0</td><td>0</td><td>0</td><td>0</td><td>1.95</td><td>1.5</td><td>0</td><td>0</td><td>0.0</td><td>0.0</td></tr><tr><td>0</td><td>0</td><td>3090.0</td><td>0</td><td>0</td><td>0</td><td>0</td><td>0</td><td>1.95</td><td>2.0</td><td>0</td><td>0</td><td>0.0</td><td>0.0</td></tr></tbody></table></div>"
      ],
      "text/plain": [
       "shape: (62_000, 14)\n",
       "┌───────────┬───────────┬───────────┬───────────┬───┬───────────┬───────────┬──────────┬───────────┐\n",
       "│ ss_thresh ┆ vs_thresh ┆ bss_thres ┆ bvs_thres ┆ … ┆ total_lon ┆ total_win ┆ win_rate ┆ total_pnl │\n",
       "│ old       ┆ old       ┆ hold      ┆ hold      ┆   ┆ g         ┆ s         ┆ ---      ┆ ---       │\n",
       "│ ---       ┆ ---       ┆ ---       ┆ ---       ┆   ┆ ---       ┆ ---       ┆ f64      ┆ f64       │\n",
       "│ i64       ┆ i64       ┆ f64       ┆ i64       ┆   ┆ i64       ┆ i64       ┆          ┆           │\n",
       "╞═══════════╪═══════════╪═══════════╪═══════════╪═══╪═══════════╪═══════════╪══════════╪═══════════╡\n",
       "│ 0         ┆ 0         ┆ 0.0       ┆ 0         ┆ … ┆ 927463    ┆ 76776     ┆ 8.278066 ┆ -36583.10 │\n",
       "│           ┆           ┆           ┆           ┆   ┆           ┆           ┆          ┆ 4519      │\n",
       "│ 0         ┆ 0         ┆ 0.0       ┆ 0         ┆ … ┆ 927463    ┆ 76776     ┆ 8.278066 ┆ -36583.10 │\n",
       "│           ┆           ┆           ┆           ┆   ┆           ┆           ┆          ┆ 4519      │\n",
       "│ 0         ┆ 0         ┆ 0.0       ┆ 0         ┆ … ┆ 927463    ┆ 76776     ┆ 8.278066 ┆ -36583.10 │\n",
       "│           ┆           ┆           ┆           ┆   ┆           ┆           ┆          ┆ 4519      │\n",
       "│ 0         ┆ 0         ┆ 0.0       ┆ 0         ┆ … ┆ 927463    ┆ 76776     ┆ 8.278066 ┆ -36583.10 │\n",
       "│           ┆           ┆           ┆           ┆   ┆           ┆           ┆          ┆ 4519      │\n",
       "│ 0         ┆ 0         ┆ 0.0       ┆ 0         ┆ … ┆ 927463    ┆ 76776     ┆ 8.278066 ┆ -36583.10 │\n",
       "│           ┆           ┆           ┆           ┆   ┆           ┆           ┆          ┆ 4519      │\n",
       "│ …         ┆ …         ┆ …         ┆ …         ┆ … ┆ …         ┆ …         ┆ …        ┆ …         │\n",
       "│ 0         ┆ 0         ┆ 3090.0    ┆ 0         ┆ … ┆ 0         ┆ 0         ┆ 0.0      ┆ 0.0       │\n",
       "│ 0         ┆ 0         ┆ 3090.0    ┆ 0         ┆ … ┆ 0         ┆ 0         ┆ 0.0      ┆ 0.0       │\n",
       "│ 0         ┆ 0         ┆ 3090.0    ┆ 0         ┆ … ┆ 0         ┆ 0         ┆ 0.0      ┆ 0.0       │\n",
       "│ 0         ┆ 0         ┆ 3090.0    ┆ 0         ┆ … ┆ 0         ┆ 0         ┆ 0.0      ┆ 0.0       │\n",
       "│ 0         ┆ 0         ┆ 3090.0    ┆ 0         ┆ … ┆ 0         ┆ 0         ┆ 0.0      ┆ 0.0       │\n",
       "└───────────┴───────────┴───────────┴───────────┴───┴───────────┴───────────┴──────────┴───────────┘"
      ]
     },
     "execution_count": 202,
     "metadata": {},
     "output_type": "execute_result"
    }
   ],
   "source": [
    "import polars as pl\n",
    "import itertools\n",
    "import numpy as np\n",
    "\n",
    "# Define possible threshold values for each parameter\n",
    "ss_values = [0]\n",
    "vs_values = [0]\n",
    "bss_values = np.arange(0.00, 3100, 10)\n",
    "bvs_values = [0]\n",
    "bsr_values = [0]\n",
    "bvr_values = [0]\n",
    "owpc_values = [0]\n",
    "obwpc_values = [0]\n",
    "occ_values = np.arange(0.00, 2, 0.05)\n",
    "change_values = [0.04,0.07,0.1,1.5,2]\n",
    "\n",
    "# Store results\n",
    "results_2 = []\n",
    "\n",
    "# Loop through all combinations of thresholds\n",
    "for ss_threshold, vs_threshold, bss_threshold, bvs_threshold, bsr_threshold, bvr_threshold, \\\n",
    "    owpc_threhold, obwpc_threshold, occ_threshold, change_threshold in itertools.product(\n",
    "    ss_values, vs_values, bss_values, bvs_values, bsr_values, bvr_values, \n",
    "    owpc_values, obwpc_values, occ_values, change_values):\n",
    "\n",
    "    # Apply filtering logic\n",
    "    df_test = df_main.with_columns(\n",
    "        pl.when((pl.col(\"size_sum\").cast(float) >= ss_threshold) &\n",
    "                (pl.col(\"volume_sum\").cast(float) >= vs_threshold) &\n",
    "                (pl.col(\"buy_size_sum\").cast(float) >= bss_threshold) &\n",
    "                (pl.col(\"buy_volume_sum\").cast(float) >= bvs_threshold) &\n",
    "                (pl.col(\"buy_size_ratio\").cast(float) >= bsr_threshold) &\n",
    "                (pl.col(\"buy_volume_ratio\").cast(float) >= bvr_threshold) &\n",
    "                (pl.col(\"open_weighted_price_change\").cast(float) >= owpc_threhold) &\n",
    "                (pl.col(\"open_buy_weighted_price_change\").cast(float) >= obwpc_threshold) &\n",
    "                (pl.col(\"open_close_change\").cast(float) >= occ_threshold)\n",
    "        )\n",
    "        .then(pl.lit(\"Long\"))\n",
    "        .otherwise(None)\n",
    "        .alias(\"action\")\n",
    "    )\n",
    "\n",
    "    df_test = df_test.with_columns(\n",
    "        pl.when(pl.col(\"action\") == \"Long\")\n",
    "        .then(pl.col(\"next_open_close_change\") - 0.04)\n",
    "        .otherwise(None)\n",
    "        .alias(\"pnl\")\n",
    "        )\n",
    "\n",
    "    # Calculate metrics\n",
    "    total_pnl = df_test.filter(pl.col(\"action\") == \"Long\")[\"pnl\"].sum()\n",
    "    total_long = df_test.filter(pl.col(\"action\") == \"Long\").height\n",
    "    total_wins = df_test.filter((pl.col(\"action\") == \"Long\") & (pl.col(\"pnl\") >= 0)).height\n",
    "    win_rate = (total_wins / total_long) * 100 if total_long > 0 else 0\n",
    "\n",
    "    # Store results in a list\n",
    "    results_2.append({\n",
    "        \"ss_threshold\": ss_threshold,\n",
    "        \"vs_threshold\": vs_threshold,\n",
    "        \"bss_threshold\": bss_threshold,\n",
    "        \"bvs_threshold\": bvs_threshold,\n",
    "        \"bsr_threshold\": bsr_threshold,\n",
    "        \"bvr_threshold\": bvr_threshold,\n",
    "        \"owpc_threhold\": owpc_threhold,\n",
    "        \"obwpc_threshold\": obwpc_threshold,\n",
    "        \"occ_threshold\": occ_threshold,\n",
    "        \"change_threshold\": change_threshold,\n",
    "        \"total_long\": total_long,\n",
    "        \"total_wins\": total_wins,\n",
    "        \"win_rate\": win_rate,\n",
    "        \"total_pnl\": total_pnl\n",
    "    })\n",
    "\n",
    "# Convert results to a DataFrame\n",
    "df_results_2 = pl.DataFrame(results_2)\n",
    "\n",
    "# Print the results\n",
    "df_results_2"
   ]
  },
  {
   "cell_type": "code",
   "execution_count": 206,
   "metadata": {},
   "outputs": [
    {
     "data": {
      "text/html": [
       "<div><style>\n",
       ".dataframe > thead > tr,\n",
       ".dataframe > tbody > tr {\n",
       "  text-align: right;\n",
       "  white-space: pre-wrap;\n",
       "}\n",
       "</style>\n",
       "<small>shape: (1, 14)</small><table border=\"1\" class=\"dataframe\"><thead><tr><th>ss_threshold</th><th>vs_threshold</th><th>bss_threshold</th><th>bvs_threshold</th><th>bsr_threshold</th><th>bvr_threshold</th><th>owpc_threhold</th><th>obwpc_threshold</th><th>occ_threshold</th><th>change_threshold</th><th>total_long</th><th>total_wins</th><th>win_rate</th><th>total_pnl</th></tr><tr><td>i64</td><td>i64</td><td>f64</td><td>i64</td><td>i64</td><td>i64</td><td>i64</td><td>i64</td><td>f64</td><td>f64</td><td>i64</td><td>i64</td><td>f64</td><td>f64</td></tr></thead><tbody><tr><td>0</td><td>0</td><td>2440.0</td><td>0</td><td>0</td><td>0</td><td>0</td><td>0</td><td>0.3</td><td>0.04</td><td>4</td><td>2</td><td>50.0</td><td>0.360368</td></tr></tbody></table></div>"
      ],
      "text/plain": [
       "shape: (1, 14)\n",
       "┌───────────┬───────────┬───────────┬───────────┬───┬───────────┬───────────┬──────────┬───────────┐\n",
       "│ ss_thresh ┆ vs_thresh ┆ bss_thres ┆ bvs_thres ┆ … ┆ total_lon ┆ total_win ┆ win_rate ┆ total_pnl │\n",
       "│ old       ┆ old       ┆ hold      ┆ hold      ┆   ┆ g         ┆ s         ┆ ---      ┆ ---       │\n",
       "│ ---       ┆ ---       ┆ ---       ┆ ---       ┆   ┆ ---       ┆ ---       ┆ f64      ┆ f64       │\n",
       "│ i64       ┆ i64       ┆ f64       ┆ i64       ┆   ┆ i64       ┆ i64       ┆          ┆           │\n",
       "╞═══════════╪═══════════╪═══════════╪═══════════╪═══╪═══════════╪═══════════╪══════════╪═══════════╡\n",
       "│ 0         ┆ 0         ┆ 2440.0    ┆ 0         ┆ … ┆ 4         ┆ 2         ┆ 50.0     ┆ 0.360368  │\n",
       "└───────────┴───────────┴───────────┴───────────┴───┴───────────┴───────────┴──────────┴───────────┘"
      ]
     },
     "execution_count": 206,
     "metadata": {},
     "output_type": "execute_result"
    }
   ],
   "source": [
    "# Extract max return approximation row\n",
    "max_return_params_2 = df_results_2.sort(\"total_pnl\", descending=True).row(0)\n",
    "max_return_df_2 = pl.DataFrame([max_return_params_2], schema=df_results_2.schema, orient=\"row\")\n",
    "max_return_df_2"
   ]
  },
  {
   "cell_type": "code",
   "execution_count": 209,
   "metadata": {},
   "outputs": [
    {
     "data": {
      "text/html": [
       "<div><style>\n",
       ".dataframe > thead > tr,\n",
       ".dataframe > tbody > tr {\n",
       "  text-align: right;\n",
       "  white-space: pre-wrap;\n",
       "}\n",
       "</style>\n",
       "<small>shape: (1, 14)</small><table border=\"1\" class=\"dataframe\"><thead><tr><th>ss_threshold</th><th>vs_threshold</th><th>bss_threshold</th><th>bvs_threshold</th><th>bsr_threshold</th><th>bvr_threshold</th><th>owpc_threhold</th><th>obwpc_threshold</th><th>occ_threshold</th><th>change_threshold</th><th>total_long</th><th>total_wins</th><th>win_rate</th><th>total_pnl</th></tr><tr><td>i64</td><td>i64</td><td>f64</td><td>i64</td><td>i64</td><td>i64</td><td>i64</td><td>i64</td><td>f64</td><td>f64</td><td>i64</td><td>i64</td><td>f64</td><td>f64</td></tr></thead><tbody><tr><td>0</td><td>0</td><td>160.0</td><td>0</td><td>0</td><td>0</td><td>0</td><td>0</td><td>0.25</td><td>0.04</td><td>1093</td><td>438</td><td>40.073193</td><td>-28.201928</td></tr></tbody></table></div>"
      ],
      "text/plain": [
       "shape: (1, 14)\n",
       "┌───────────┬───────────┬───────────┬───────────┬───┬───────────┬───────────┬───────────┬──────────┐\n",
       "│ ss_thresh ┆ vs_thresh ┆ bss_thres ┆ bvs_thres ┆ … ┆ total_lon ┆ total_win ┆ win_rate  ┆ total_pn │\n",
       "│ old       ┆ old       ┆ hold      ┆ hold      ┆   ┆ g         ┆ s         ┆ ---       ┆ l        │\n",
       "│ ---       ┆ ---       ┆ ---       ┆ ---       ┆   ┆ ---       ┆ ---       ┆ f64       ┆ ---      │\n",
       "│ i64       ┆ i64       ┆ f64       ┆ i64       ┆   ┆ i64       ┆ i64       ┆           ┆ f64      │\n",
       "╞═══════════╪═══════════╪═══════════╪═══════════╪═══╪═══════════╪═══════════╪═══════════╪══════════╡\n",
       "│ 0         ┆ 0         ┆ 160.0     ┆ 0         ┆ … ┆ 1093      ┆ 438       ┆ 40.073193 ┆ -28.2019 │\n",
       "│           ┆           ┆           ┆           ┆   ┆           ┆           ┆           ┆ 28       │\n",
       "└───────────┴───────────┴───────────┴───────────┴───┴───────────┴───────────┴───────────┴──────────┘"
      ]
     },
     "execution_count": 209,
     "metadata": {},
     "output_type": "execute_result"
    }
   ],
   "source": [
    "# Filter profitable rows\n",
    "profitable_df_2 = df_results_2.filter(pl.col(\"win_rate\") >= 40)\n",
    "# Get the row with the maximum opportunities\n",
    "max_opportunities_profitable_params_2 = profitable_df_2.sort(\"total_long\", descending=True).row(0)\n",
    "# Convert to DataFrame with explicit row orientation\n",
    "max_opportunities_profitable_df_2 = pl.DataFrame([max_opportunities_profitable_params_2], schema=df_results_2.schema, orient=\"row\")\n",
    "max_opportunities_profitable_df_2"
   ]
  },
  {
   "cell_type": "code",
   "execution_count": 210,
   "metadata": {},
   "outputs": [
    {
     "data": {
      "text/html": [
       "<div><style>\n",
       ".dataframe > thead > tr,\n",
       ".dataframe > tbody > tr {\n",
       "  text-align: right;\n",
       "  white-space: pre-wrap;\n",
       "}\n",
       "</style>\n",
       "<small>shape: (1, 14)</small><table border=\"1\" class=\"dataframe\"><thead><tr><th>ss_threshold</th><th>vs_threshold</th><th>bss_threshold</th><th>bvs_threshold</th><th>bsr_threshold</th><th>bvr_threshold</th><th>owpc_threhold</th><th>obwpc_threshold</th><th>occ_threshold</th><th>change_threshold</th><th>total_long</th><th>total_wins</th><th>win_rate</th><th>total_pnl</th></tr><tr><td>i64</td><td>i64</td><td>f64</td><td>i64</td><td>i64</td><td>i64</td><td>i64</td><td>i64</td><td>f64</td><td>f64</td><td>i64</td><td>i64</td><td>f64</td><td>f64</td></tr></thead><tbody><tr><td>0</td><td>0</td><td>1100.0</td><td>0</td><td>0</td><td>0</td><td>0</td><td>0</td><td>0.15</td><td>0.04</td><td>118</td><td>42</td><td>35.59322</td><td>-4.86475</td></tr></tbody></table></div>"
      ],
      "text/plain": [
       "shape: (1, 14)\n",
       "┌───────────┬───────────┬───────────┬───────────┬───┬───────────┬───────────┬──────────┬───────────┐\n",
       "│ ss_thresh ┆ vs_thresh ┆ bss_thres ┆ bvs_thres ┆ … ┆ total_lon ┆ total_win ┆ win_rate ┆ total_pnl │\n",
       "│ old       ┆ old       ┆ hold      ┆ hold      ┆   ┆ g         ┆ s         ┆ ---      ┆ ---       │\n",
       "│ ---       ┆ ---       ┆ ---       ┆ ---       ┆   ┆ ---       ┆ ---       ┆ f64      ┆ f64       │\n",
       "│ i64       ┆ i64       ┆ f64       ┆ i64       ┆   ┆ i64       ┆ i64       ┆          ┆           │\n",
       "╞═══════════╪═══════════╪═══════════╪═══════════╪═══╪═══════════╪═══════════╪══════════╪═══════════╡\n",
       "│ 0         ┆ 0         ┆ 1100.0    ┆ 0         ┆ … ┆ 118       ┆ 42        ┆ 35.59322 ┆ -4.86475  │\n",
       "└───────────┴───────────┴───────────┴───────────┴───┴───────────┴───────────┴──────────┴───────────┘"
      ]
     },
     "execution_count": 210,
     "metadata": {},
     "output_type": "execute_result"
    }
   ],
   "source": [
    "# Filter rows where return_approximation is >= 0\n",
    "positive_return_df_2 = df_results_2.filter(pl.col(\"total_pnl\") >=-5)\n",
    "max_opportunities_positive_return_params_2 = positive_return_df_2.sort(\"total_long\", descending=True).row(0)\n",
    "max_opportunities_positive_return_df_2 = pl.DataFrame([max_opportunities_positive_return_params_2], schema=df_results_2.schema, orient=\"row\")\n",
    "max_opportunities_positive_return_df_2"
   ]
  },
  {
   "cell_type": "code",
   "execution_count": null,
   "metadata": {},
   "outputs": [],
   "source": []
  }
 ],
 "metadata": {
  "kernelspec": {
   "display_name": ".venv",
   "language": "python",
   "name": "python3"
  },
  "language_info": {
   "codemirror_mode": {
    "name": "ipython",
    "version": 3
   },
   "file_extension": ".py",
   "mimetype": "text/x-python",
   "name": "python",
   "nbconvert_exporter": "python",
   "pygments_lexer": "ipython3",
   "version": "3.12.3"
  }
 },
 "nbformat": 4,
 "nbformat_minor": 2
}
