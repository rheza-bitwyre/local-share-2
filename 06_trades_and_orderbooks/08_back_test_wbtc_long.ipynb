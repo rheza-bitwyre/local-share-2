{
 "cells": [
  {
   "cell_type": "markdown",
   "metadata": {},
   "source": [
    "# Load Full Data"
   ]
  },
  {
   "cell_type": "code",
   "execution_count": 2,
   "metadata": {},
   "outputs": [
    {
     "data": {
      "text/html": [
       "<div><style>\n",
       ".dataframe > thead > tr,\n",
       ".dataframe > tbody > tr {\n",
       "  text-align: right;\n",
       "  white-space: pre-wrap;\n",
       "}\n",
       "</style>\n",
       "<small>shape: (8_415_360, 10)</small><table border=\"1\" class=\"dataframe\"><thead><tr><th>year</th><th>month</th><th>day</th><th>hour</th><th>minute</th><th>interval</th><th>open</th><th>high</th><th>low</th><th>close</th></tr><tr><td>f64</td><td>f64</td><td>f64</td><td>f64</td><td>f64</td><td>f64</td><td>f64</td><td>f64</td><td>f64</td><td>f64</td></tr></thead><tbody><tr><td>2021.0</td><td>1.0</td><td>1.0</td><td>0.0</td><td>0.0</td><td>0.0</td><td>0.004679</td><td>0.004682</td><td>0.004679</td><td>0.004682</td></tr><tr><td>2021.0</td><td>1.0</td><td>1.0</td><td>0.0</td><td>0.0</td><td>1.0</td><td>0.004681</td><td>0.004681</td><td>0.004679</td><td>0.004681</td></tr><tr><td>2021.0</td><td>1.0</td><td>1.0</td><td>0.0</td><td>0.0</td><td>2.0</td><td>0.004681</td><td>0.004683</td><td>0.004679</td><td>0.004679</td></tr><tr><td>2021.0</td><td>1.0</td><td>1.0</td><td>0.0</td><td>0.0</td><td>3.0</td><td>0.004681</td><td>0.004681</td><td>0.00468</td><td>0.00468</td></tr><tr><td>2021.0</td><td>1.0</td><td>1.0</td><td>0.0</td><td>1.0</td><td>0.0</td><td>0.004682</td><td>0.00469</td><td>0.004682</td><td>0.00469</td></tr><tr><td>&hellip;</td><td>&hellip;</td><td>&hellip;</td><td>&hellip;</td><td>&hellip;</td><td>&hellip;</td><td>&hellip;</td><td>&hellip;</td><td>&hellip;</td><td>&hellip;</td></tr><tr><td>2024.0</td><td>12.0</td><td>31.0</td><td>23.0</td><td>58.0</td><td>3.0</td><td>0.31594</td><td>0.31597</td><td>0.31594</td><td>0.31597</td></tr><tr><td>2024.0</td><td>12.0</td><td>31.0</td><td>23.0</td><td>59.0</td><td>0.0</td><td>0.31597</td><td>0.31608</td><td>0.31596</td><td>0.31596</td></tr><tr><td>2024.0</td><td>12.0</td><td>31.0</td><td>23.0</td><td>59.0</td><td>1.0</td><td>0.31596</td><td>0.31597</td><td>0.31587</td><td>0.31587</td></tr><tr><td>2024.0</td><td>12.0</td><td>31.0</td><td>23.0</td><td>59.0</td><td>2.0</td><td>0.31587</td><td>0.31588</td><td>0.31583</td><td>0.31584</td></tr><tr><td>2024.0</td><td>12.0</td><td>31.0</td><td>23.0</td><td>59.0</td><td>3.0</td><td>0.31584</td><td>0.31586</td><td>0.31581</td><td>0.31582</td></tr></tbody></table></div>"
      ],
      "text/plain": [
       "shape: (8_415_360, 10)\n",
       "┌────────┬───────┬──────┬──────┬───┬──────────┬──────────┬──────────┬──────────┐\n",
       "│ year   ┆ month ┆ day  ┆ hour ┆ … ┆ open     ┆ high     ┆ low      ┆ close    │\n",
       "│ ---    ┆ ---   ┆ ---  ┆ ---  ┆   ┆ ---      ┆ ---      ┆ ---      ┆ ---      │\n",
       "│ f64    ┆ f64   ┆ f64  ┆ f64  ┆   ┆ f64      ┆ f64      ┆ f64      ┆ f64      │\n",
       "╞════════╪═══════╪══════╪══════╪═══╪══════════╪══════════╪══════════╪══════════╡\n",
       "│ 2021.0 ┆ 1.0   ┆ 1.0  ┆ 0.0  ┆ … ┆ 0.004679 ┆ 0.004682 ┆ 0.004679 ┆ 0.004682 │\n",
       "│ 2021.0 ┆ 1.0   ┆ 1.0  ┆ 0.0  ┆ … ┆ 0.004681 ┆ 0.004681 ┆ 0.004679 ┆ 0.004681 │\n",
       "│ 2021.0 ┆ 1.0   ┆ 1.0  ┆ 0.0  ┆ … ┆ 0.004681 ┆ 0.004683 ┆ 0.004679 ┆ 0.004679 │\n",
       "│ 2021.0 ┆ 1.0   ┆ 1.0  ┆ 0.0  ┆ … ┆ 0.004681 ┆ 0.004681 ┆ 0.00468  ┆ 0.00468  │\n",
       "│ 2021.0 ┆ 1.0   ┆ 1.0  ┆ 0.0  ┆ … ┆ 0.004682 ┆ 0.00469  ┆ 0.004682 ┆ 0.00469  │\n",
       "│ …      ┆ …     ┆ …    ┆ …    ┆ … ┆ …        ┆ …        ┆ …        ┆ …        │\n",
       "│ 2024.0 ┆ 12.0  ┆ 31.0 ┆ 23.0 ┆ … ┆ 0.31594  ┆ 0.31597  ┆ 0.31594  ┆ 0.31597  │\n",
       "│ 2024.0 ┆ 12.0  ┆ 31.0 ┆ 23.0 ┆ … ┆ 0.31597  ┆ 0.31608  ┆ 0.31596  ┆ 0.31596  │\n",
       "│ 2024.0 ┆ 12.0  ┆ 31.0 ┆ 23.0 ┆ … ┆ 0.31596  ┆ 0.31597  ┆ 0.31587  ┆ 0.31587  │\n",
       "│ 2024.0 ┆ 12.0  ┆ 31.0 ┆ 23.0 ┆ … ┆ 0.31587  ┆ 0.31588  ┆ 0.31583  ┆ 0.31584  │\n",
       "│ 2024.0 ┆ 12.0  ┆ 31.0 ┆ 23.0 ┆ … ┆ 0.31584  ┆ 0.31586  ┆ 0.31581  ┆ 0.31582  │\n",
       "└────────┴───────┴──────┴──────┴───┴──────────┴──────────┴──────────┴──────────┘"
      ]
     },
     "execution_count": 2,
     "metadata": {},
     "output_type": "execute_result"
    }
   ],
   "source": [
    "import polars as pl\n",
    "from pathlib import Path\n",
    "\n",
    "def read_aggregated_files(base_path, symbol, interval, years):\n",
    "    \"\"\"\n",
    "    Reads and concatenates aggregated trade data files for a given symbol, interval, and multiple years.\n",
    "\n",
    "    Parameters:\n",
    "    - base_path: The base directory where the data is stored.\n",
    "    - symbol: The trading symbol (e.g., 'BTCUSDT').\n",
    "    - interval: The aggregation interval (e.g., '15s', '20s', '25s', '30s').\n",
    "    - years: A list of years to read data for (e.g., [2021, 2022, 2023, 2024]).\n",
    "\n",
    "    Returns:\n",
    "    - A concatenated Polars DataFrame containing all the data with consistent Float64 column types.\n",
    "    \"\"\"\n",
    "    dfs = []\n",
    "    data_dir = Path(base_path) / f\"{symbol}_perps\" / f\"agg_{interval}\"\n",
    "\n",
    "    for year in years:\n",
    "        files = [\n",
    "            data_dir / f\"{symbol}-aggTrades-{year}-{month:02d}_aggregated_{interval}.parquet\"\n",
    "            for month in range(1, 13)\n",
    "        ]\n",
    "        \n",
    "        dfs.extend(\n",
    "            pl.read_parquet(file).with_columns(\n",
    "                [pl.col(col).cast(pl.Float64) for col in pl.read_parquet(file).columns]\n",
    "            )\n",
    "            for file in files if file.exists()\n",
    "        )\n",
    "\n",
    "    return pl.concat(dfs) if dfs else pl.DataFrame()\n",
    "\n",
    "# Example usage\n",
    "base_path = \"/home/ubuntu/Rheza/data/binance_aggtrades\"\n",
    "symbol = \"DOGEUSDT\"\n",
    "interval = \"15s\"  \n",
    "years = [2021, 2022, 2023, 2024]\n",
    "\n",
    "dfa = read_aggregated_files(base_path, symbol, interval, years)\n",
    "dfa"
   ]
  },
  {
   "cell_type": "code",
   "execution_count": 3,
   "metadata": {},
   "outputs": [
    {
     "data": {
      "text/html": [
       "<div><style>\n",
       ".dataframe > thead > tr,\n",
       ".dataframe > tbody > tr {\n",
       "  text-align: right;\n",
       "  white-space: pre-wrap;\n",
       "}\n",
       "</style>\n",
       "<small>shape: (8_415_360, 10)</small><table border=\"1\" class=\"dataframe\"><thead><tr><th>year</th><th>month</th><th>day</th><th>hour</th><th>minute</th><th>interval</th><th>open</th><th>high</th><th>low</th><th>close</th></tr><tr><td>f64</td><td>f64</td><td>f64</td><td>f64</td><td>f64</td><td>f64</td><td>f64</td><td>f64</td><td>f64</td><td>f64</td></tr></thead><tbody><tr><td>2021.0</td><td>1.0</td><td>1.0</td><td>0.0</td><td>0.0</td><td>0.0</td><td>28948.18</td><td>28951.79</td><td>28935.3</td><td>28951.3</td></tr><tr><td>2021.0</td><td>1.0</td><td>1.0</td><td>0.0</td><td>0.0</td><td>1.0</td><td>28951.3</td><td>28951.34</td><td>28946.42</td><td>28951.33</td></tr><tr><td>2021.0</td><td>1.0</td><td>1.0</td><td>0.0</td><td>0.0</td><td>2.0</td><td>28951.34</td><td>28984.23</td><td>28951.33</td><td>28982.44</td></tr><tr><td>2021.0</td><td>1.0</td><td>1.0</td><td>0.0</td><td>0.0</td><td>3.0</td><td>28983.34</td><td>28997.16</td><td>28983.34</td><td>28991.01</td></tr><tr><td>2021.0</td><td>1.0</td><td>1.0</td><td>0.0</td><td>1.0</td><td>0.0</td><td>28992.98</td><td>29029.32</td><td>28991.01</td><td>29029.31</td></tr><tr><td>&hellip;</td><td>&hellip;</td><td>&hellip;</td><td>&hellip;</td><td>&hellip;</td><td>&hellip;</td><td>&hellip;</td><td>&hellip;</td><td>&hellip;</td><td>&hellip;</td></tr><tr><td>2024.0</td><td>12.0</td><td>31.0</td><td>23.0</td><td>58.0</td><td>3.0</td><td>93592.9</td><td>93593.0</td><td>93567.1</td><td>93570.8</td></tr><tr><td>2024.0</td><td>12.0</td><td>31.0</td><td>23.0</td><td>59.0</td><td>0.0</td><td>93570.7</td><td>93591.6</td><td>93570.7</td><td>93588.2</td></tr><tr><td>2024.0</td><td>12.0</td><td>31.0</td><td>23.0</td><td>59.0</td><td>1.0</td><td>93588.2</td><td>93588.2</td><td>93558.9</td><td>93558.9</td></tr><tr><td>2024.0</td><td>12.0</td><td>31.0</td><td>23.0</td><td>59.0</td><td>2.0</td><td>93558.9</td><td>93559.0</td><td>93549.6</td><td>93549.6</td></tr><tr><td>2024.0</td><td>12.0</td><td>31.0</td><td>23.0</td><td>59.0</td><td>3.0</td><td>93549.7</td><td>93549.7</td><td>93548.9</td><td>93548.9</td></tr></tbody></table></div>"
      ],
      "text/plain": [
       "shape: (8_415_360, 10)\n",
       "┌────────┬───────┬──────┬──────┬───┬──────────┬──────────┬──────────┬──────────┐\n",
       "│ year   ┆ month ┆ day  ┆ hour ┆ … ┆ open     ┆ high     ┆ low      ┆ close    │\n",
       "│ ---    ┆ ---   ┆ ---  ┆ ---  ┆   ┆ ---      ┆ ---      ┆ ---      ┆ ---      │\n",
       "│ f64    ┆ f64   ┆ f64  ┆ f64  ┆   ┆ f64      ┆ f64      ┆ f64      ┆ f64      │\n",
       "╞════════╪═══════╪══════╪══════╪═══╪══════════╪══════════╪══════════╪══════════╡\n",
       "│ 2021.0 ┆ 1.0   ┆ 1.0  ┆ 0.0  ┆ … ┆ 28948.18 ┆ 28951.79 ┆ 28935.3  ┆ 28951.3  │\n",
       "│ 2021.0 ┆ 1.0   ┆ 1.0  ┆ 0.0  ┆ … ┆ 28951.3  ┆ 28951.34 ┆ 28946.42 ┆ 28951.33 │\n",
       "│ 2021.0 ┆ 1.0   ┆ 1.0  ┆ 0.0  ┆ … ┆ 28951.34 ┆ 28984.23 ┆ 28951.33 ┆ 28982.44 │\n",
       "│ 2021.0 ┆ 1.0   ┆ 1.0  ┆ 0.0  ┆ … ┆ 28983.34 ┆ 28997.16 ┆ 28983.34 ┆ 28991.01 │\n",
       "│ 2021.0 ┆ 1.0   ┆ 1.0  ┆ 0.0  ┆ … ┆ 28992.98 ┆ 29029.32 ┆ 28991.01 ┆ 29029.31 │\n",
       "│ …      ┆ …     ┆ …    ┆ …    ┆ … ┆ …        ┆ …        ┆ …        ┆ …        │\n",
       "│ 2024.0 ┆ 12.0  ┆ 31.0 ┆ 23.0 ┆ … ┆ 93592.9  ┆ 93593.0  ┆ 93567.1  ┆ 93570.8  │\n",
       "│ 2024.0 ┆ 12.0  ┆ 31.0 ┆ 23.0 ┆ … ┆ 93570.7  ┆ 93591.6  ┆ 93570.7  ┆ 93588.2  │\n",
       "│ 2024.0 ┆ 12.0  ┆ 31.0 ┆ 23.0 ┆ … ┆ 93588.2  ┆ 93588.2  ┆ 93558.9  ┆ 93558.9  │\n",
       "│ 2024.0 ┆ 12.0  ┆ 31.0 ┆ 23.0 ┆ … ┆ 93558.9  ┆ 93559.0  ┆ 93549.6  ┆ 93549.6  │\n",
       "│ 2024.0 ┆ 12.0  ┆ 31.0 ┆ 23.0 ┆ … ┆ 93549.7  ┆ 93549.7  ┆ 93548.9  ┆ 93548.9  │\n",
       "└────────┴───────┴──────┴──────┴───┴──────────┴──────────┴──────────┴──────────┘"
      ]
     },
     "execution_count": 3,
     "metadata": {},
     "output_type": "execute_result"
    }
   ],
   "source": [
    "# Example usage\n",
    "base_path = \"/home/ubuntu/Rheza/data/binance_aggtrades\"\n",
    "symbol = \"BTCUSDT\"\n",
    "interval = \"15s\"  \n",
    "years = [2021, 2022, 2023, 2024]\n",
    "\n",
    "dfb = read_aggregated_files(base_path, symbol, interval, years)\n",
    "dfb"
   ]
  },
  {
   "cell_type": "markdown",
   "metadata": {},
   "source": [
    "# Features Engineering"
   ]
  },
  {
   "cell_type": "code",
   "execution_count": 4,
   "metadata": {},
   "outputs": [
    {
     "data": {
      "text/html": [
       "<div><style>\n",
       ".dataframe > thead > tr,\n",
       ".dataframe > tbody > tr {\n",
       "  text-align: right;\n",
       "  white-space: pre-wrap;\n",
       "}\n",
       "</style>\n",
       "<small>shape: (8_409_346, 29)</small><table border=\"1\" class=\"dataframe\"><thead><tr><th>year</th><th>month</th><th>day</th><th>hour</th><th>minute</th><th>interval</th><th>open</th><th>high</th><th>low</th><th>close</th><th>occ</th><th>ohc</th><th>olc</th><th>occ_2</th><th>ohc_2</th><th>olc_2</th><th>next_occ</th><th>next_open</th><th>next_close</th><th>next_close_2</th><th>next_close_3</th><th>next_close_4</th><th>next_close_5</th><th>next_close_6</th><th>next_close_7</th><th>next_close_8</th><th>rolling_mean</th><th>rolling_std</th><th>rolling_zscore</th></tr><tr><td>f64</td><td>f64</td><td>f64</td><td>f64</td><td>f64</td><td>f64</td><td>f64</td><td>f64</td><td>f64</td><td>f64</td><td>f64</td><td>f64</td><td>f64</td><td>f64</td><td>f64</td><td>f64</td><td>f64</td><td>f64</td><td>f64</td><td>f64</td><td>f64</td><td>f64</td><td>f64</td><td>f64</td><td>f64</td><td>f64</td><td>f64</td><td>f64</td><td>f64</td></tr></thead><tbody><tr><td>2021.0</td><td>1.0</td><td>1.0</td><td>0.0</td><td>29.0</td><td>3.0</td><td>0.004648</td><td>0.004648</td><td>0.004648</td><td>0.004648</td><td>0.0</td><td>0.0</td><td>0.0</td><td>0.021515</td><td>0.021515</td><td>-0.064544</td><td>0.064572</td><td>0.004646</td><td>0.004649</td><td>0.00465</td><td>0.00465</td><td>0.004648</td><td>0.00465</td><td>0.004652</td><td>0.00465</td><td>0.004652</td><td>0.004656</td><td>0.00002</td><td>-0.380521</td></tr><tr><td>2021.0</td><td>1.0</td><td>1.0</td><td>0.0</td><td>30.0</td><td>0.0</td><td>0.004646</td><td>0.004649</td><td>0.004645</td><td>0.004649</td><td>0.064572</td><td>0.064572</td><td>-0.021524</td><td>0.086096</td><td>0.086096</td><td>0.086096</td><td>0.0</td><td>0.00465</td><td>0.00465</td><td>0.00465</td><td>0.004648</td><td>0.00465</td><td>0.004652</td><td>0.00465</td><td>0.004652</td><td>0.004652</td><td>0.004655</td><td>0.00002</td><td>-0.319733</td></tr><tr><td>2021.0</td><td>1.0</td><td>1.0</td><td>0.0</td><td>30.0</td><td>1.0</td><td>0.00465</td><td>0.00465</td><td>0.00465</td><td>0.00465</td><td>0.0</td><td>0.0</td><td>0.0</td><td>0.0</td><td>0.0</td><td>0.0</td><td>0.0</td><td>0.00465</td><td>0.00465</td><td>0.004648</td><td>0.00465</td><td>0.004652</td><td>0.00465</td><td>0.004652</td><td>0.004652</td><td>0.004652</td><td>0.004655</td><td>0.00002</td><td>-0.258899</td></tr><tr><td>2021.0</td><td>1.0</td><td>1.0</td><td>0.0</td><td>30.0</td><td>2.0</td><td>0.00465</td><td>0.00465</td><td>0.00465</td><td>0.00465</td><td>0.0</td><td>0.0</td><td>0.0</td><td>-0.043011</td><td>-0.043011</td><td>-0.064516</td><td>0.021519</td><td>0.004647</td><td>0.004648</td><td>0.00465</td><td>0.004652</td><td>0.00465</td><td>0.004652</td><td>0.004652</td><td>0.004652</td><td>0.004652</td><td>0.004655</td><td>0.00002</td><td>-0.248243</td></tr><tr><td>2021.0</td><td>1.0</td><td>1.0</td><td>0.0</td><td>30.0</td><td>3.0</td><td>0.004647</td><td>0.004648</td><td>0.004647</td><td>0.004648</td><td>0.021519</td><td>0.021519</td><td>0.0</td><td>0.064558</td><td>0.064558</td><td>0.021519</td><td>0.0</td><td>0.00465</td><td>0.00465</td><td>0.004652</td><td>0.00465</td><td>0.004652</td><td>0.004652</td><td>0.004652</td><td>0.004652</td><td>0.004652</td><td>0.004655</td><td>0.00002</td><td>-0.337585</td></tr><tr><td>&hellip;</td><td>&hellip;</td><td>&hellip;</td><td>&hellip;</td><td>&hellip;</td><td>&hellip;</td><td>&hellip;</td><td>&hellip;</td><td>&hellip;</td><td>&hellip;</td><td>&hellip;</td><td>&hellip;</td><td>&hellip;</td><td>&hellip;</td><td>&hellip;</td><td>&hellip;</td><td>&hellip;</td><td>&hellip;</td><td>&hellip;</td><td>&hellip;</td><td>&hellip;</td><td>&hellip;</td><td>&hellip;</td><td>&hellip;</td><td>&hellip;</td><td>&hellip;</td><td>&hellip;</td><td>&hellip;</td><td>&hellip;</td></tr><tr><td>2024.0</td><td>12.0</td><td>31.0</td><td>23.0</td><td>56.0</td><td>3.0</td><td>0.31623</td><td>0.31631</td><td>0.3162</td><td>0.31622</td><td>-0.003162</td><td>0.025298</td><td>-0.009487</td><td>-0.09803</td><td>0.012649</td><td>-0.09803</td><td>-0.09803</td><td>0.31623</td><td>0.31592</td><td>0.31595</td><td>0.31589</td><td>0.3159</td><td>0.31595</td><td>0.31597</td><td>0.31594</td><td>0.31597</td><td>0.316024</td><td>0.000391</td><td>0.500154</td></tr><tr><td>2024.0</td><td>12.0</td><td>31.0</td><td>23.0</td><td>57.0</td><td>0.0</td><td>0.31623</td><td>0.31627</td><td>0.31592</td><td>0.31592</td><td>-0.09803</td><td>0.012649</td><td>-0.09803</td><td>-0.088543</td><td>-0.079056</td><td>-0.094868</td><td>0.006331</td><td>0.31593</td><td>0.31595</td><td>0.31589</td><td>0.3159</td><td>0.31595</td><td>0.31597</td><td>0.31594</td><td>0.31597</td><td>0.31596</td><td>0.316019</td><td>0.000389</td><td>-0.254978</td></tr><tr><td>2024.0</td><td>12.0</td><td>31.0</td><td>23.0</td><td>57.0</td><td>1.0</td><td>0.31593</td><td>0.31598</td><td>0.31593</td><td>0.31595</td><td>0.006331</td><td>0.015826</td><td>0.0</td><td>-0.012661</td><td>0.006331</td><td>-0.012661</td><td>-0.015826</td><td>0.31594</td><td>0.31589</td><td>0.3159</td><td>0.31595</td><td>0.31597</td><td>0.31594</td><td>0.31597</td><td>0.31596</td><td>0.31587</td><td>0.316014</td><td>0.000385</td><td>-0.165881</td></tr><tr><td>2024.0</td><td>12.0</td><td>31.0</td><td>23.0</td><td>57.0</td><td>2.0</td><td>0.31594</td><td>0.31595</td><td>0.31589</td><td>0.31589</td><td>-0.015826</td><td>0.003165</td><td>-0.015826</td><td>-0.012661</td><td>-0.00633</td><td>-0.015826</td><td>0.003166</td><td>0.31589</td><td>0.3159</td><td>0.31595</td><td>0.31597</td><td>0.31594</td><td>0.31597</td><td>0.31596</td><td>0.31587</td><td>0.31584</td><td>0.316008</td><td>0.000382</td><td>-0.309163</td></tr><tr><td>2024.0</td><td>12.0</td><td>31.0</td><td>23.0</td><td>57.0</td><td>3.0</td><td>0.31589</td><td>0.31592</td><td>0.31589</td><td>0.3159</td><td>0.003166</td><td>0.009497</td><td>0.0</td><td>0.018994</td><td>0.018994</td><td>0.0</td><td>0.018994</td><td>0.31589</td><td>0.31595</td><td>0.31597</td><td>0.31594</td><td>0.31597</td><td>0.31596</td><td>0.31587</td><td>0.31584</td><td>0.31582</td><td>0.316002</td><td>0.000378</td><td>-0.270492</td></tr></tbody></table></div>"
      ],
      "text/plain": [
       "shape: (8_409_346, 29)\n",
       "┌────────┬───────┬──────┬──────┬───┬──────────────┬──────────────┬─────────────┬────────────────┐\n",
       "│ year   ┆ month ┆ day  ┆ hour ┆ … ┆ next_close_8 ┆ rolling_mean ┆ rolling_std ┆ rolling_zscore │\n",
       "│ ---    ┆ ---   ┆ ---  ┆ ---  ┆   ┆ ---          ┆ ---          ┆ ---         ┆ ---            │\n",
       "│ f64    ┆ f64   ┆ f64  ┆ f64  ┆   ┆ f64          ┆ f64          ┆ f64         ┆ f64            │\n",
       "╞════════╪═══════╪══════╪══════╪═══╪══════════════╪══════════════╪═════════════╪════════════════╡\n",
       "│ 2021.0 ┆ 1.0   ┆ 1.0  ┆ 0.0  ┆ … ┆ 0.004652     ┆ 0.004656     ┆ 0.00002     ┆ -0.380521      │\n",
       "│ 2021.0 ┆ 1.0   ┆ 1.0  ┆ 0.0  ┆ … ┆ 0.004652     ┆ 0.004655     ┆ 0.00002     ┆ -0.319733      │\n",
       "│ 2021.0 ┆ 1.0   ┆ 1.0  ┆ 0.0  ┆ … ┆ 0.004652     ┆ 0.004655     ┆ 0.00002     ┆ -0.258899      │\n",
       "│ 2021.0 ┆ 1.0   ┆ 1.0  ┆ 0.0  ┆ … ┆ 0.004652     ┆ 0.004655     ┆ 0.00002     ┆ -0.248243      │\n",
       "│ 2021.0 ┆ 1.0   ┆ 1.0  ┆ 0.0  ┆ … ┆ 0.004652     ┆ 0.004655     ┆ 0.00002     ┆ -0.337585      │\n",
       "│ …      ┆ …     ┆ …    ┆ …    ┆ … ┆ …            ┆ …            ┆ …           ┆ …              │\n",
       "│ 2024.0 ┆ 12.0  ┆ 31.0 ┆ 23.0 ┆ … ┆ 0.31597      ┆ 0.316024     ┆ 0.000391    ┆ 0.500154       │\n",
       "│ 2024.0 ┆ 12.0  ┆ 31.0 ┆ 23.0 ┆ … ┆ 0.31596      ┆ 0.316019     ┆ 0.000389    ┆ -0.254978      │\n",
       "│ 2024.0 ┆ 12.0  ┆ 31.0 ┆ 23.0 ┆ … ┆ 0.31587      ┆ 0.316014     ┆ 0.000385    ┆ -0.165881      │\n",
       "│ 2024.0 ┆ 12.0  ┆ 31.0 ┆ 23.0 ┆ … ┆ 0.31584      ┆ 0.316008     ┆ 0.000382    ┆ -0.309163      │\n",
       "│ 2024.0 ┆ 12.0  ┆ 31.0 ┆ 23.0 ┆ … ┆ 0.31582      ┆ 0.316002     ┆ 0.000378    ┆ -0.270492      │\n",
       "└────────┴───────┴──────┴──────┴───┴──────────────┴──────────────┴─────────────┴────────────────┘"
      ]
     },
     "execution_count": 4,
     "metadata": {},
     "output_type": "execute_result"
    }
   ],
   "source": [
    "import polars as pl\n",
    "\n",
    "# Compute percentage changes relative to 'open'\n",
    "dfa_featured = dfa.with_columns([\n",
    "    ((pl.col(\"close\") - pl.col(\"open\")) / pl.col(\"open\") * 100).cast(pl.Float64).alias(\"occ\"),\n",
    "    ((pl.col(\"high\") - pl.col(\"open\")) / pl.col(\"open\") * 100).cast(pl.Float64).alias(\"ohc\"),\n",
    "    ((pl.col(\"low\") - pl.col(\"open\")) / pl.col(\"open\") * 100).cast(pl.Float64).alias(\"olc\"),\n",
    "    ((pl.col(\"close\").shift(-1) - pl.col(\"open\")) / pl.col(\"open\") * 100).cast(pl.Float64).alias(\"occ_2\"),\n",
    "    ((pl.col(\"high\").shift(-1) - pl.col(\"open\")) / pl.col(\"open\") * 100).cast(pl.Float64).alias(\"ohc_2\"),\n",
    "    ((pl.col(\"low\").shift(-1) - pl.col(\"open\")) / pl.col(\"open\") * 100).cast(pl.Float64).alias(\"olc_2\")\n",
    "])\n",
    "\n",
    "# Define shift values (now positive)\n",
    "shifts = [2, 3, 4, 5, 6, 7, 8]\n",
    "\n",
    "# Compute shifted values and derived features\n",
    "dfa_featured = dfa_featured.with_columns([\n",
    "    pl.col(\"occ\").shift(-1).cast(pl.Float64).alias(\"next_occ\"),\n",
    "    pl.col(\"open\").shift(-1).cast(pl.Float64).alias(\"next_open\"),\n",
    "    pl.col(\"close\").shift(-1).cast(pl.Float64).alias(\"next_close\"),\n",
    "] + [\n",
    "    pl.col(\"close\").shift(-s).cast(pl.Float64).alias(f\"next_close_{s}\") for s in shifts\n",
    "]\n",
    ")\n",
    "\n",
    "# Compute rolling mean and rolling standard deviation\n",
    "dfa_featured = dfa_featured.with_columns([\n",
    "    pl.col(\"close\").rolling_mean(window_size=120).alias(\"rolling_mean\"),\n",
    "    pl.col(\"close\").rolling_std(window_size=120).alias(\"rolling_std\"),\n",
    "])\n",
    "\n",
    "# Compute the rolling Z-score\n",
    "dfa_featured = dfa_featured.with_columns(\n",
    "    ((pl.col(\"close\") - pl.col(\"rolling_mean\")) / pl.col(\"rolling_std\")).alias(\"rolling_zscore\")\n",
    ")\n",
    "\n",
    "# Remove nulls and return cleaned dataframe\n",
    "dfa_featured = dfa_featured.drop_nulls()\n",
    "dfa_featured"
   ]
  },
  {
   "cell_type": "code",
   "execution_count": 5,
   "metadata": {},
   "outputs": [
    {
     "data": {
      "text/html": [
       "<div><style>\n",
       ".dataframe > thead > tr,\n",
       ".dataframe > tbody > tr {\n",
       "  text-align: right;\n",
       "  white-space: pre-wrap;\n",
       "}\n",
       "</style>\n",
       "<small>shape: (8_409_362, 8)</small><table border=\"1\" class=\"dataframe\"><thead><tr><th>year</th><th>month</th><th>day</th><th>hour</th><th>minute</th><th>interval</th><th>rolling_zscore_btc</th><th>bull_btc</th></tr><tr><td>f64</td><td>f64</td><td>f64</td><td>f64</td><td>f64</td><td>f64</td><td>f64</td><td>i32</td></tr></thead><tbody><tr><td>2021.0</td><td>1.0</td><td>1.0</td><td>0.0</td><td>29.0</td><td>3.0</td><td>-0.31313</td><td>-1</td></tr><tr><td>2021.0</td><td>1.0</td><td>1.0</td><td>0.0</td><td>30.0</td><td>0.0</td><td>-0.17648</td><td>1</td></tr><tr><td>2021.0</td><td>1.0</td><td>1.0</td><td>0.0</td><td>30.0</td><td>1.0</td><td>0.080268</td><td>1</td></tr><tr><td>2021.0</td><td>1.0</td><td>1.0</td><td>0.0</td><td>30.0</td><td>2.0</td><td>0.065331</td><td>-1</td></tr><tr><td>2021.0</td><td>1.0</td><td>1.0</td><td>0.0</td><td>30.0</td><td>3.0</td><td>0.285933</td><td>1</td></tr><tr><td>&hellip;</td><td>&hellip;</td><td>&hellip;</td><td>&hellip;</td><td>&hellip;</td><td>&hellip;</td><td>&hellip;</td><td>&hellip;</td></tr><tr><td>2024.0</td><td>12.0</td><td>31.0</td><td>23.0</td><td>58.0</td><td>3.0</td><td>0.343364</td><td>-1</td></tr><tr><td>2024.0</td><td>12.0</td><td>31.0</td><td>23.0</td><td>59.0</td><td>0.0</td><td>0.564477</td><td>1</td></tr><tr><td>2024.0</td><td>12.0</td><td>31.0</td><td>23.0</td><td>59.0</td><td>1.0</td><td>0.234556</td><td>-1</td></tr><tr><td>2024.0</td><td>12.0</td><td>31.0</td><td>23.0</td><td>59.0</td><td>2.0</td><td>0.139678</td><td>-1</td></tr><tr><td>2024.0</td><td>12.0</td><td>31.0</td><td>23.0</td><td>59.0</td><td>3.0</td><td>0.149234</td><td>-1</td></tr></tbody></table></div>"
      ],
      "text/plain": [
       "shape: (8_409_362, 8)\n",
       "┌────────┬───────┬──────┬──────┬────────┬──────────┬────────────────────┬──────────┐\n",
       "│ year   ┆ month ┆ day  ┆ hour ┆ minute ┆ interval ┆ rolling_zscore_btc ┆ bull_btc │\n",
       "│ ---    ┆ ---   ┆ ---  ┆ ---  ┆ ---    ┆ ---      ┆ ---                ┆ ---      │\n",
       "│ f64    ┆ f64   ┆ f64  ┆ f64  ┆ f64    ┆ f64      ┆ f64                ┆ i32      │\n",
       "╞════════╪═══════╪══════╪══════╪════════╪══════════╪════════════════════╪══════════╡\n",
       "│ 2021.0 ┆ 1.0   ┆ 1.0  ┆ 0.0  ┆ 29.0   ┆ 3.0      ┆ -0.31313           ┆ -1       │\n",
       "│ 2021.0 ┆ 1.0   ┆ 1.0  ┆ 0.0  ┆ 30.0   ┆ 0.0      ┆ -0.17648           ┆ 1        │\n",
       "│ 2021.0 ┆ 1.0   ┆ 1.0  ┆ 0.0  ┆ 30.0   ┆ 1.0      ┆ 0.080268           ┆ 1        │\n",
       "│ 2021.0 ┆ 1.0   ┆ 1.0  ┆ 0.0  ┆ 30.0   ┆ 2.0      ┆ 0.065331           ┆ -1       │\n",
       "│ 2021.0 ┆ 1.0   ┆ 1.0  ┆ 0.0  ┆ 30.0   ┆ 3.0      ┆ 0.285933           ┆ 1        │\n",
       "│ …      ┆ …     ┆ …    ┆ …    ┆ …      ┆ …        ┆ …                  ┆ …        │\n",
       "│ 2024.0 ┆ 12.0  ┆ 31.0 ┆ 23.0 ┆ 58.0   ┆ 3.0      ┆ 0.343364           ┆ -1       │\n",
       "│ 2024.0 ┆ 12.0  ┆ 31.0 ┆ 23.0 ┆ 59.0   ┆ 0.0      ┆ 0.564477           ┆ 1        │\n",
       "│ 2024.0 ┆ 12.0  ┆ 31.0 ┆ 23.0 ┆ 59.0   ┆ 1.0      ┆ 0.234556           ┆ -1       │\n",
       "│ 2024.0 ┆ 12.0  ┆ 31.0 ┆ 23.0 ┆ 59.0   ┆ 2.0      ┆ 0.139678           ┆ -1       │\n",
       "│ 2024.0 ┆ 12.0  ┆ 31.0 ┆ 23.0 ┆ 59.0   ┆ 3.0      ┆ 0.149234           ┆ -1       │\n",
       "└────────┴───────┴──────┴──────┴────────┴──────────┴────────────────────┴──────────┘"
      ]
     },
     "execution_count": 5,
     "metadata": {},
     "output_type": "execute_result"
    }
   ],
   "source": [
    "import polars as pl\n",
    "\n",
    "# Compute rolling mean and rolling standard deviation\n",
    "dfb_featured = dfb.with_columns([\n",
    "    pl.col(\"close\").rolling_mean(window_size=120).alias(\"rolling_mean\"),\n",
    "    pl.col(\"close\").rolling_std(window_size=120).alias(\"rolling_std\"),\n",
    "])\n",
    "\n",
    "# Compute the rolling Z-score\n",
    "dfb_featured = dfb_featured.with_columns(\n",
    "    ((pl.col(\"close\") - pl.col(\"rolling_mean\")) / pl.col(\"rolling_std\")).alias(\"rolling_zscore_btc\")\n",
    ")\n",
    "\n",
    "dfb_featured = dfb_featured.with_columns(\n",
    "    pl.when(pl.col(\"close\").cast(float) > pl.col(\"open\").cast(float))\n",
    "    .then(1)\n",
    "    .when(pl.col(\"close\").cast(float) == pl.col(\"open\").cast(float))\n",
    "    .then(0)\n",
    "    .otherwise(-1)\n",
    "    .alias(\"bull_btc\")\n",
    ")\n",
    "\n",
    "dfb_featured = dfb_featured.drop_nulls()\n",
    "dfb_featured = dfb_featured.drop([\"open\", \"high\",\"low\",\"close\",\"rolling_mean\",\"rolling_std\"])  # Drop multiple columns\n",
    "# Display result\n",
    "dfb_featured"
   ]
  },
  {
   "cell_type": "markdown",
   "metadata": {},
   "source": [
    "# Combine Data"
   ]
  },
  {
   "cell_type": "code",
   "execution_count": 6,
   "metadata": {},
   "outputs": [
    {
     "data": {
      "text/html": [
       "<div><style>\n",
       ".dataframe > thead > tr,\n",
       ".dataframe > tbody > tr {\n",
       "  text-align: right;\n",
       "  white-space: pre-wrap;\n",
       "}\n",
       "</style>\n",
       "<small>shape: (8_409_346, 31)</small><table border=\"1\" class=\"dataframe\"><thead><tr><th>year</th><th>month</th><th>day</th><th>hour</th><th>minute</th><th>interval</th><th>open</th><th>high</th><th>low</th><th>close</th><th>occ</th><th>ohc</th><th>olc</th><th>occ_2</th><th>ohc_2</th><th>olc_2</th><th>next_occ</th><th>next_open</th><th>next_close</th><th>next_close_2</th><th>next_close_3</th><th>next_close_4</th><th>next_close_5</th><th>next_close_6</th><th>next_close_7</th><th>next_close_8</th><th>rolling_mean</th><th>rolling_std</th><th>rolling_zscore</th><th>rolling_zscore_btc</th><th>bull_btc</th></tr><tr><td>f64</td><td>f64</td><td>f64</td><td>f64</td><td>f64</td><td>f64</td><td>f64</td><td>f64</td><td>f64</td><td>f64</td><td>f64</td><td>f64</td><td>f64</td><td>f64</td><td>f64</td><td>f64</td><td>f64</td><td>f64</td><td>f64</td><td>f64</td><td>f64</td><td>f64</td><td>f64</td><td>f64</td><td>f64</td><td>f64</td><td>f64</td><td>f64</td><td>f64</td><td>f64</td><td>i32</td></tr></thead><tbody><tr><td>2021.0</td><td>1.0</td><td>1.0</td><td>0.0</td><td>29.0</td><td>3.0</td><td>0.004648</td><td>0.004648</td><td>0.004648</td><td>0.004648</td><td>0.0</td><td>0.0</td><td>0.0</td><td>0.021515</td><td>0.021515</td><td>-0.064544</td><td>0.064572</td><td>0.004646</td><td>0.004649</td><td>0.00465</td><td>0.00465</td><td>0.004648</td><td>0.00465</td><td>0.004652</td><td>0.00465</td><td>0.004652</td><td>0.004656</td><td>0.00002</td><td>-0.380521</td><td>-0.31313</td><td>-1</td></tr><tr><td>2021.0</td><td>1.0</td><td>1.0</td><td>0.0</td><td>30.0</td><td>0.0</td><td>0.004646</td><td>0.004649</td><td>0.004645</td><td>0.004649</td><td>0.064572</td><td>0.064572</td><td>-0.021524</td><td>0.086096</td><td>0.086096</td><td>0.086096</td><td>0.0</td><td>0.00465</td><td>0.00465</td><td>0.00465</td><td>0.004648</td><td>0.00465</td><td>0.004652</td><td>0.00465</td><td>0.004652</td><td>0.004652</td><td>0.004655</td><td>0.00002</td><td>-0.319733</td><td>-0.17648</td><td>1</td></tr><tr><td>2021.0</td><td>1.0</td><td>1.0</td><td>0.0</td><td>30.0</td><td>1.0</td><td>0.00465</td><td>0.00465</td><td>0.00465</td><td>0.00465</td><td>0.0</td><td>0.0</td><td>0.0</td><td>0.0</td><td>0.0</td><td>0.0</td><td>0.0</td><td>0.00465</td><td>0.00465</td><td>0.004648</td><td>0.00465</td><td>0.004652</td><td>0.00465</td><td>0.004652</td><td>0.004652</td><td>0.004652</td><td>0.004655</td><td>0.00002</td><td>-0.258899</td><td>0.080268</td><td>1</td></tr><tr><td>2021.0</td><td>1.0</td><td>1.0</td><td>0.0</td><td>30.0</td><td>2.0</td><td>0.00465</td><td>0.00465</td><td>0.00465</td><td>0.00465</td><td>0.0</td><td>0.0</td><td>0.0</td><td>-0.043011</td><td>-0.043011</td><td>-0.064516</td><td>0.021519</td><td>0.004647</td><td>0.004648</td><td>0.00465</td><td>0.004652</td><td>0.00465</td><td>0.004652</td><td>0.004652</td><td>0.004652</td><td>0.004652</td><td>0.004655</td><td>0.00002</td><td>-0.248243</td><td>0.065331</td><td>-1</td></tr><tr><td>2021.0</td><td>1.0</td><td>1.0</td><td>0.0</td><td>30.0</td><td>3.0</td><td>0.004647</td><td>0.004648</td><td>0.004647</td><td>0.004648</td><td>0.021519</td><td>0.021519</td><td>0.0</td><td>0.064558</td><td>0.064558</td><td>0.021519</td><td>0.0</td><td>0.00465</td><td>0.00465</td><td>0.004652</td><td>0.00465</td><td>0.004652</td><td>0.004652</td><td>0.004652</td><td>0.004652</td><td>0.004652</td><td>0.004655</td><td>0.00002</td><td>-0.337585</td><td>0.285933</td><td>1</td></tr><tr><td>&hellip;</td><td>&hellip;</td><td>&hellip;</td><td>&hellip;</td><td>&hellip;</td><td>&hellip;</td><td>&hellip;</td><td>&hellip;</td><td>&hellip;</td><td>&hellip;</td><td>&hellip;</td><td>&hellip;</td><td>&hellip;</td><td>&hellip;</td><td>&hellip;</td><td>&hellip;</td><td>&hellip;</td><td>&hellip;</td><td>&hellip;</td><td>&hellip;</td><td>&hellip;</td><td>&hellip;</td><td>&hellip;</td><td>&hellip;</td><td>&hellip;</td><td>&hellip;</td><td>&hellip;</td><td>&hellip;</td><td>&hellip;</td><td>&hellip;</td><td>&hellip;</td></tr><tr><td>2024.0</td><td>12.0</td><td>31.0</td><td>23.0</td><td>56.0</td><td>3.0</td><td>0.31623</td><td>0.31631</td><td>0.3162</td><td>0.31622</td><td>-0.003162</td><td>0.025298</td><td>-0.009487</td><td>-0.09803</td><td>0.012649</td><td>-0.09803</td><td>-0.09803</td><td>0.31623</td><td>0.31592</td><td>0.31595</td><td>0.31589</td><td>0.3159</td><td>0.31595</td><td>0.31597</td><td>0.31594</td><td>0.31597</td><td>0.316024</td><td>0.000391</td><td>0.500154</td><td>0.66163</td><td>-1</td></tr><tr><td>2024.0</td><td>12.0</td><td>31.0</td><td>23.0</td><td>57.0</td><td>0.0</td><td>0.31623</td><td>0.31627</td><td>0.31592</td><td>0.31592</td><td>-0.09803</td><td>0.012649</td><td>-0.09803</td><td>-0.088543</td><td>-0.079056</td><td>-0.094868</td><td>0.006331</td><td>0.31593</td><td>0.31595</td><td>0.31589</td><td>0.3159</td><td>0.31595</td><td>0.31597</td><td>0.31594</td><td>0.31597</td><td>0.31596</td><td>0.316019</td><td>0.000389</td><td>-0.254978</td><td>0.74708</td><td>1</td></tr><tr><td>2024.0</td><td>12.0</td><td>31.0</td><td>23.0</td><td>57.0</td><td>1.0</td><td>0.31593</td><td>0.31598</td><td>0.31593</td><td>0.31595</td><td>0.006331</td><td>0.015826</td><td>0.0</td><td>-0.012661</td><td>0.006331</td><td>-0.012661</td><td>-0.015826</td><td>0.31594</td><td>0.31589</td><td>0.3159</td><td>0.31595</td><td>0.31597</td><td>0.31594</td><td>0.31597</td><td>0.31596</td><td>0.31587</td><td>0.316014</td><td>0.000385</td><td>-0.165881</td><td>0.714754</td><td>-1</td></tr><tr><td>2024.0</td><td>12.0</td><td>31.0</td><td>23.0</td><td>57.0</td><td>2.0</td><td>0.31594</td><td>0.31595</td><td>0.31589</td><td>0.31589</td><td>-0.015826</td><td>0.003165</td><td>-0.015826</td><td>-0.012661</td><td>-0.00633</td><td>-0.015826</td><td>0.003166</td><td>0.31589</td><td>0.3159</td><td>0.31595</td><td>0.31597</td><td>0.31594</td><td>0.31597</td><td>0.31596</td><td>0.31587</td><td>0.31584</td><td>0.316008</td><td>0.000382</td><td>-0.309163</td><td>0.477912</td><td>-1</td></tr><tr><td>2024.0</td><td>12.0</td><td>31.0</td><td>23.0</td><td>57.0</td><td>3.0</td><td>0.31589</td><td>0.31592</td><td>0.31589</td><td>0.3159</td><td>0.003166</td><td>0.009497</td><td>0.0</td><td>0.018994</td><td>0.018994</td><td>0.0</td><td>0.018994</td><td>0.31589</td><td>0.31595</td><td>0.31597</td><td>0.31594</td><td>0.31597</td><td>0.31596</td><td>0.31587</td><td>0.31584</td><td>0.31582</td><td>0.316002</td><td>0.000378</td><td>-0.270492</td><td>0.446461</td><td>-1</td></tr></tbody></table></div>"
      ],
      "text/plain": [
       "shape: (8_409_346, 31)\n",
       "┌────────┬───────┬──────┬──────┬───┬─────────────┬────────────────┬────────────────────┬──────────┐\n",
       "│ year   ┆ month ┆ day  ┆ hour ┆ … ┆ rolling_std ┆ rolling_zscore ┆ rolling_zscore_btc ┆ bull_btc │\n",
       "│ ---    ┆ ---   ┆ ---  ┆ ---  ┆   ┆ ---         ┆ ---            ┆ ---                ┆ ---      │\n",
       "│ f64    ┆ f64   ┆ f64  ┆ f64  ┆   ┆ f64         ┆ f64            ┆ f64                ┆ i32      │\n",
       "╞════════╪═══════╪══════╪══════╪═══╪═════════════╪════════════════╪════════════════════╪══════════╡\n",
       "│ 2021.0 ┆ 1.0   ┆ 1.0  ┆ 0.0  ┆ … ┆ 0.00002     ┆ -0.380521      ┆ -0.31313           ┆ -1       │\n",
       "│ 2021.0 ┆ 1.0   ┆ 1.0  ┆ 0.0  ┆ … ┆ 0.00002     ┆ -0.319733      ┆ -0.17648           ┆ 1        │\n",
       "│ 2021.0 ┆ 1.0   ┆ 1.0  ┆ 0.0  ┆ … ┆ 0.00002     ┆ -0.258899      ┆ 0.080268           ┆ 1        │\n",
       "│ 2021.0 ┆ 1.0   ┆ 1.0  ┆ 0.0  ┆ … ┆ 0.00002     ┆ -0.248243      ┆ 0.065331           ┆ -1       │\n",
       "│ 2021.0 ┆ 1.0   ┆ 1.0  ┆ 0.0  ┆ … ┆ 0.00002     ┆ -0.337585      ┆ 0.285933           ┆ 1        │\n",
       "│ …      ┆ …     ┆ …    ┆ …    ┆ … ┆ …           ┆ …              ┆ …                  ┆ …        │\n",
       "│ 2024.0 ┆ 12.0  ┆ 31.0 ┆ 23.0 ┆ … ┆ 0.000391    ┆ 0.500154       ┆ 0.66163            ┆ -1       │\n",
       "│ 2024.0 ┆ 12.0  ┆ 31.0 ┆ 23.0 ┆ … ┆ 0.000389    ┆ -0.254978      ┆ 0.74708            ┆ 1        │\n",
       "│ 2024.0 ┆ 12.0  ┆ 31.0 ┆ 23.0 ┆ … ┆ 0.000385    ┆ -0.165881      ┆ 0.714754           ┆ -1       │\n",
       "│ 2024.0 ┆ 12.0  ┆ 31.0 ┆ 23.0 ┆ … ┆ 0.000382    ┆ -0.309163      ┆ 0.477912           ┆ -1       │\n",
       "│ 2024.0 ┆ 12.0  ┆ 31.0 ┆ 23.0 ┆ … ┆ 0.000378    ┆ -0.270492      ┆ 0.446461           ┆ -1       │\n",
       "└────────┴───────┴──────┴──────┴───┴─────────────┴────────────────┴────────────────────┴──────────┘"
      ]
     },
     "execution_count": 6,
     "metadata": {},
     "output_type": "execute_result"
    }
   ],
   "source": [
    "dfs_featured = dfa_featured.join(dfb_featured, on=[\"year\", \"month\", \"day\", \"hour\", \"minute\", \"interval\"], how=\"inner\")\n",
    "dfs_featured"
   ]
  },
  {
   "cell_type": "code",
   "execution_count": 7,
   "metadata": {},
   "outputs": [
    {
     "data": {
      "text/plain": [
       "0.006681530632966164"
      ]
     },
     "execution_count": 7,
     "metadata": {},
     "output_type": "execute_result"
    }
   ],
   "source": [
    "dfs_featured['rolling_zscore_btc'].median()"
   ]
  },
  {
   "cell_type": "markdown",
   "metadata": {},
   "source": [
    "# Date Filter"
   ]
  },
  {
   "cell_type": "code",
   "execution_count": 8,
   "metadata": {},
   "outputs": [
    {
     "data": {
      "text/html": [
       "<div><style>\n",
       ".dataframe > thead > tr,\n",
       ".dataframe > tbody > tr {\n",
       "  text-align: right;\n",
       "  white-space: pre-wrap;\n",
       "}\n",
       "</style>\n",
       "<small>shape: (5_085_953, 31)</small><table border=\"1\" class=\"dataframe\"><thead><tr><th>year</th><th>month</th><th>day</th><th>hour</th><th>minute</th><th>interval</th><th>open</th><th>high</th><th>low</th><th>close</th><th>occ</th><th>ohc</th><th>olc</th><th>occ_2</th><th>ohc_2</th><th>olc_2</th><th>next_occ</th><th>next_open</th><th>next_close</th><th>next_close_2</th><th>next_close_3</th><th>next_close_4</th><th>next_close_5</th><th>next_close_6</th><th>next_close_7</th><th>next_close_8</th><th>rolling_mean</th><th>rolling_std</th><th>rolling_zscore</th><th>rolling_zscore_btc</th><th>bull_btc</th></tr><tr><td>f64</td><td>f64</td><td>f64</td><td>f64</td><td>f64</td><td>f64</td><td>f64</td><td>f64</td><td>f64</td><td>f64</td><td>f64</td><td>f64</td><td>f64</td><td>f64</td><td>f64</td><td>f64</td><td>f64</td><td>f64</td><td>f64</td><td>f64</td><td>f64</td><td>f64</td><td>f64</td><td>f64</td><td>f64</td><td>f64</td><td>f64</td><td>f64</td><td>f64</td><td>f64</td><td>i32</td></tr></thead><tbody><tr><td>2022.0</td><td>6.0</td><td>1.0</td><td>0.0</td><td>0.0</td><td>0.0</td><td>0.08586</td><td>0.08588</td><td>0.08583</td><td>0.08585</td><td>-0.011647</td><td>0.023294</td><td>-0.034941</td><td>-0.023294</td><td>0.058234</td><td>-0.034941</td><td>-0.011648</td><td>0.08585</td><td>0.08584</td><td>0.08579</td><td>0.08585</td><td>0.08583</td><td>0.08592</td><td>0.08589</td><td>0.08588</td><td>0.08596</td><td>0.086068</td><td>0.000194</td><td>-1.12056</td><td>-1.436625</td><td>1</td></tr><tr><td>2022.0</td><td>6.0</td><td>1.0</td><td>0.0</td><td>0.0</td><td>1.0</td><td>0.08585</td><td>0.08591</td><td>0.08583</td><td>0.08584</td><td>-0.011648</td><td>0.069889</td><td>-0.023296</td><td>-0.069889</td><td>-0.011648</td><td>-0.104834</td><td>-0.058248</td><td>0.08584</td><td>0.08579</td><td>0.08585</td><td>0.08583</td><td>0.08592</td><td>0.08589</td><td>0.08588</td><td>0.08596</td><td>0.08587</td><td>0.086064</td><td>0.000194</td><td>-1.152808</td><td>-1.182703</td><td>1</td></tr><tr><td>2022.0</td><td>6.0</td><td>1.0</td><td>0.0</td><td>0.0</td><td>2.0</td><td>0.08584</td><td>0.08584</td><td>0.08576</td><td>0.08579</td><td>-0.058248</td><td>0.0</td><td>-0.093197</td><td>0.01165</td><td>0.01165</td><td>-0.069897</td><td>0.069938</td><td>0.08579</td><td>0.08585</td><td>0.08583</td><td>0.08592</td><td>0.08589</td><td>0.08588</td><td>0.08596</td><td>0.08587</td><td>0.0859</td><td>0.086059</td><td>0.000193</td><td>-1.389911</td><td>-1.364093</td><td>-1</td></tr><tr><td>2022.0</td><td>6.0</td><td>1.0</td><td>0.0</td><td>0.0</td><td>3.0</td><td>0.08579</td><td>0.08585</td><td>0.08578</td><td>0.08585</td><td>0.069938</td><td>0.069938</td><td>-0.011656</td><td>0.046625</td><td>0.12822</td><td>0.046625</td><td>-0.023296</td><td>0.08585</td><td>0.08583</td><td>0.08592</td><td>0.08589</td><td>0.08588</td><td>0.08596</td><td>0.08587</td><td>0.0859</td><td>0.08594</td><td>0.086055</td><td>0.000193</td><td>-1.062612</td><td>-0.82178</td><td>1</td></tr><tr><td>2022.0</td><td>6.0</td><td>1.0</td><td>0.0</td><td>1.0</td><td>0.0</td><td>0.08585</td><td>0.0859</td><td>0.08583</td><td>0.08583</td><td>-0.023296</td><td>0.058241</td><td>-0.023296</td><td>0.081538</td><td>0.104834</td><td>-0.023296</td><td>0.104858</td><td>0.08583</td><td>0.08592</td><td>0.08589</td><td>0.08588</td><td>0.08596</td><td>0.08587</td><td>0.0859</td><td>0.08594</td><td>0.08595</td><td>0.08605</td><td>0.000192</td><td>-1.149647</td><td>-0.753122</td><td>1</td></tr><tr><td>&hellip;</td><td>&hellip;</td><td>&hellip;</td><td>&hellip;</td><td>&hellip;</td><td>&hellip;</td><td>&hellip;</td><td>&hellip;</td><td>&hellip;</td><td>&hellip;</td><td>&hellip;</td><td>&hellip;</td><td>&hellip;</td><td>&hellip;</td><td>&hellip;</td><td>&hellip;</td><td>&hellip;</td><td>&hellip;</td><td>&hellip;</td><td>&hellip;</td><td>&hellip;</td><td>&hellip;</td><td>&hellip;</td><td>&hellip;</td><td>&hellip;</td><td>&hellip;</td><td>&hellip;</td><td>&hellip;</td><td>&hellip;</td><td>&hellip;</td><td>&hellip;</td></tr><tr><td>2024.0</td><td>10.0</td><td>31.0</td><td>23.0</td><td>58.0</td><td>3.0</td><td>0.16155</td><td>0.16159</td><td>0.16153</td><td>0.16157</td><td>0.01238</td><td>0.02476</td><td>-0.01238</td><td>0.04952</td><td>0.04952</td><td>-0.01238</td><td>0.030944</td><td>0.16158</td><td>0.16163</td><td>0.16151</td><td>0.16154</td><td>0.16162</td><td>0.16144</td><td>0.16141</td><td>0.16157</td><td>0.16162</td><td>0.161946</td><td>0.000336</td><td>-1.121977</td><td>-1.849476</td><td>1</td></tr><tr><td>2024.0</td><td>10.0</td><td>31.0</td><td>23.0</td><td>59.0</td><td>0.0</td><td>0.16158</td><td>0.16163</td><td>0.16153</td><td>0.16163</td><td>0.030944</td><td>0.030944</td><td>-0.030944</td><td>-0.043322</td><td>0.037133</td><td>-0.061889</td><td>-0.068061</td><td>0.16162</td><td>0.16151</td><td>0.16154</td><td>0.16162</td><td>0.16144</td><td>0.16141</td><td>0.16157</td><td>0.16162</td><td>0.16182</td><td>0.161941</td><td>0.000336</td><td>-0.927694</td><td>-1.894038</td><td>-1</td></tr><tr><td>2024.0</td><td>10.0</td><td>31.0</td><td>23.0</td><td>59.0</td><td>1.0</td><td>0.16162</td><td>0.16164</td><td>0.16148</td><td>0.16151</td><td>-0.068061</td><td>0.012375</td><td>-0.086623</td><td>-0.049499</td><td>-0.043311</td><td>-0.074248</td><td>0.024768</td><td>0.1615</td><td>0.16154</td><td>0.16162</td><td>0.16144</td><td>0.16141</td><td>0.16157</td><td>0.16162</td><td>0.16182</td><td>0.16172</td><td>0.161934</td><td>0.000336</td><td>-1.263741</td><td>-1.904523</td><td>-1</td></tr><tr><td>2024.0</td><td>10.0</td><td>31.0</td><td>23.0</td><td>59.0</td><td>2.0</td><td>0.1615</td><td>0.16155</td><td>0.1615</td><td>0.16154</td><td>0.024768</td><td>0.03096</td><td>0.0</td><td>0.074303</td><td>0.099071</td><td>0.03096</td><td>0.04333</td><td>0.16155</td><td>0.16162</td><td>0.16144</td><td>0.16141</td><td>0.16157</td><td>0.16162</td><td>0.16182</td><td>0.16172</td><td>0.1615</td><td>0.161928</td><td>0.000336</td><td>-1.154895</td><td>-1.863599</td><td>1</td></tr><tr><td>2024.0</td><td>10.0</td><td>31.0</td><td>23.0</td><td>59.0</td><td>3.0</td><td>0.16155</td><td>0.16166</td><td>0.16155</td><td>0.16162</td><td>0.04333</td><td>0.06809</td><td>0.0</td><td>-0.06809</td><td>0.04952</td><td>-0.099041</td><td>-0.117552</td><td>0.16163</td><td>0.16144</td><td>0.16141</td><td>0.16157</td><td>0.16162</td><td>0.16182</td><td>0.16172</td><td>0.1615</td><td>0.1616</td><td>0.161922</td><td>0.000336</td><td>-0.901499</td><td>-1.785005</td><td>1</td></tr></tbody></table></div>"
      ],
      "text/plain": [
       "shape: (5_085_953, 31)\n",
       "┌────────┬───────┬──────┬──────┬───┬─────────────┬────────────────┬────────────────────┬──────────┐\n",
       "│ year   ┆ month ┆ day  ┆ hour ┆ … ┆ rolling_std ┆ rolling_zscore ┆ rolling_zscore_btc ┆ bull_btc │\n",
       "│ ---    ┆ ---   ┆ ---  ┆ ---  ┆   ┆ ---         ┆ ---            ┆ ---                ┆ ---      │\n",
       "│ f64    ┆ f64   ┆ f64  ┆ f64  ┆   ┆ f64         ┆ f64            ┆ f64                ┆ i32      │\n",
       "╞════════╪═══════╪══════╪══════╪═══╪═════════════╪════════════════╪════════════════════╪══════════╡\n",
       "│ 2022.0 ┆ 6.0   ┆ 1.0  ┆ 0.0  ┆ … ┆ 0.000194    ┆ -1.12056       ┆ -1.436625          ┆ 1        │\n",
       "│ 2022.0 ┆ 6.0   ┆ 1.0  ┆ 0.0  ┆ … ┆ 0.000194    ┆ -1.152808      ┆ -1.182703          ┆ 1        │\n",
       "│ 2022.0 ┆ 6.0   ┆ 1.0  ┆ 0.0  ┆ … ┆ 0.000193    ┆ -1.389911      ┆ -1.364093          ┆ -1       │\n",
       "│ 2022.0 ┆ 6.0   ┆ 1.0  ┆ 0.0  ┆ … ┆ 0.000193    ┆ -1.062612      ┆ -0.82178           ┆ 1        │\n",
       "│ 2022.0 ┆ 6.0   ┆ 1.0  ┆ 0.0  ┆ … ┆ 0.000192    ┆ -1.149647      ┆ -0.753122          ┆ 1        │\n",
       "│ …      ┆ …     ┆ …    ┆ …    ┆ … ┆ …           ┆ …              ┆ …                  ┆ …        │\n",
       "│ 2024.0 ┆ 10.0  ┆ 31.0 ┆ 23.0 ┆ … ┆ 0.000336    ┆ -1.121977      ┆ -1.849476          ┆ 1        │\n",
       "│ 2024.0 ┆ 10.0  ┆ 31.0 ┆ 23.0 ┆ … ┆ 0.000336    ┆ -0.927694      ┆ -1.894038          ┆ -1       │\n",
       "│ 2024.0 ┆ 10.0  ┆ 31.0 ┆ 23.0 ┆ … ┆ 0.000336    ┆ -1.263741      ┆ -1.904523          ┆ -1       │\n",
       "│ 2024.0 ┆ 10.0  ┆ 31.0 ┆ 23.0 ┆ … ┆ 0.000336    ┆ -1.154895      ┆ -1.863599          ┆ 1        │\n",
       "│ 2024.0 ┆ 10.0  ┆ 31.0 ┆ 23.0 ┆ … ┆ 0.000336    ┆ -0.901499      ┆ -1.785005          ┆ 1        │\n",
       "└────────┴───────┴──────┴──────┴───┴─────────────┴────────────────┴────────────────────┴──────────┘"
      ]
     },
     "execution_count": 8,
     "metadata": {},
     "output_type": "execute_result"
    }
   ],
   "source": [
    "dfs_featured = dfs_featured.filter(\n",
    "    ((dfs_featured[\"year\"] > 2022) | ((dfs_featured[\"year\"] == 2022) & (dfs_featured[\"month\"] >= 6))) &\n",
    "    ((dfs_featured[\"year\"] < 2024) | ((dfs_featured[\"year\"] == 2024) & (dfs_featured[\"month\"] <= 10)))\n",
    ")\n",
    "\n",
    "dfs_featured"
   ]
  },
  {
   "cell_type": "markdown",
   "metadata": {},
   "source": [
    "# Looping 1"
   ]
  },
  {
   "cell_type": "code",
   "execution_count": null,
   "metadata": {},
   "outputs": [],
   "source": [
    "import polars as pl\n",
    "import itertools\n",
    "import numpy as np\n",
    "\n",
    "# Define possible threshold values for each parameter\n",
    "occ_thresholds = np.arange(0, 1.6, 0.1)\n",
    "ohc_thresholds = np.arange(0, 2.1, 0.1)\n",
    "olc_thresholds = [-100]\n",
    "rolling_zscore_btc_thresholds = np.arange(0, -3, -0.25)\n",
    "bull_btc_thresholds = [-1, 0, 1]\n",
    "change_thresholds = [100]\n",
    "\n",
    "# hold_periodes = [1, 2, 3, 4, 6, 8, 10, 12, 16, 20, 24, 30, 36]\n",
    "hold_periodes = [1, 2, 3, 4, 6, 7, 8]\n",
    "\n",
    "# Store results\n",
    "results = []\n",
    "\n",
    "# Loop through all combinations of thresholds\n",
    "for (occ_threshold, ohc_threshold, olc_threshold, change_threshold, hold_periode, rolling_zscore_btc_threshold, bull_btc_threshold) in itertools.product(\n",
    "    occ_thresholds, ohc_thresholds, olc_thresholds, change_thresholds, hold_periodes, rolling_zscore_btc_thresholds, bull_btc_thresholds):\n",
    "\n",
    "    # Apply filtering logic\n",
    "    df_test = dfs_featured.with_columns(\n",
    "        pl.when(\n",
    "                (pl.col(\"occ\").cast(float) >= occ_threshold) &\n",
    "                (pl.col(\"ohc\").cast(float) >= ohc_threshold) &\n",
    "                (pl.col(\"olc\").cast(float) >= olc_threshold) &\n",
    "                (pl.col(\"rolling_zscore_btc\").cast(float) <= rolling_zscore_btc_threshold) &\n",
    "                (pl.col(\"bull_btc\").cast(int) >= bull_btc_threshold)\n",
    "        )\n",
    "        .then(pl.lit(\"Long\"))\n",
    "        .otherwise(None)\n",
    "        .alias(\"action\")\n",
    "    )\n",
    "\n",
    "    # Define the target columns dynamically\n",
    "    target_close = f\"next_close_{hold_periode}\" if hold_periode > 1 else \"next_close\"\n",
    "\n",
    "    ##\n",
    "    # Drop any NaN values **only in df_test_cleaned**\n",
    "    df_test_cleaned = df_test.drop_nulls()\n",
    "\n",
    "    # Convert year, month, day, hour, and minute to a datetime column\n",
    "    df_test_cleaned = df_test_cleaned.with_columns(\n",
    "        (pl.col(\"year\").cast(pl.Int32).cast(pl.Utf8) + \"-\" + \n",
    "        pl.col(\"month\").cast(pl.Int32).cast(pl.Utf8).str.zfill(2) + \"-\" + \n",
    "        pl.col(\"day\").cast(pl.Int32).cast(pl.Utf8).str.zfill(2) + \" \" + \n",
    "        pl.col(\"hour\").cast(pl.Int32).cast(pl.Utf8).str.zfill(2) + \":\" + \n",
    "        pl.col(\"minute\").cast(pl.Int32).cast(pl.Utf8).str.zfill(2))\n",
    "        .str.strptime(pl.Datetime, \"%Y-%m-%d %H:%M\", strict=False)\n",
    "        .alias(\"datetime\")\n",
    "    )\n",
    "\n",
    "    # Add interval (each interval is 15 seconds in milliseconds)\n",
    "    df_test_cleaned = df_test_cleaned.with_columns(\n",
    "        (pl.col(\"datetime\") + (pl.col(\"interval\") * 15_000).cast(pl.Duration(\"ms\"))).alias(\"datetime\")\n",
    "    )\n",
    "\n",
    "    # Add interval (each interval is 15 seconds in milliseconds)\n",
    "    df_test_cleaned = df_test_cleaned.with_columns(\n",
    "    (pl.col(\"datetime\") + pl.duration(milliseconds=15_000 * hold_periode)).alias(\"estimated_closetime\")\n",
    "    )\n",
    "\n",
    "    # Select relevant columns\n",
    "    df_test_cleaned = df_test_cleaned.select([\"action\", \"datetime\", \"year\", \"month\", \"day\", \"hour\", \"minute\",\n",
    "                                            \"occ\", \"ohc\", \"olc\", \"next_open\", \"estimated_closetime\", target_close])\n",
    "\n",
    "    # Rename the last column to 'target_price'\n",
    "    df_test_cleaned = df_test_cleaned.rename({df_test_cleaned.columns[-1]: \"target_price\"})\n",
    "\n",
    "    # Ensure DataFrame is sorted\n",
    "    df_test_cleaned = df_test_cleaned.sort(\"datetime\")\n",
    "\n",
    "    # Convert to list of dictionaries for iterative processing\n",
    "    df_list = df_test_cleaned.to_dicts()\n",
    "    merged_list = []\n",
    "\n",
    "    i = 0\n",
    "    while i < len(df_list):\n",
    "        current_row = df_list[i]\n",
    "        \n",
    "        # Check if the next row exists\n",
    "        while i + 1 < len(df_list) and df_list[i + 1][\"datetime\"] < current_row[\"estimated_closetime\"]:\n",
    "            next_row = df_list[i + 1]\n",
    "            \n",
    "            # Merge logic: Keep all values from the current row except estimated_closetime and target_price\n",
    "            current_row[\"estimated_closetime\"] = next_row[\"estimated_closetime\"]\n",
    "            current_row[\"target_price\"] = next_row[\"target_price\"]\n",
    "            \n",
    "            # Move to the next row (merging step)\n",
    "            i += 1\n",
    "\n",
    "        # Append the merged row\n",
    "        merged_list.append(current_row)\n",
    "        i += 1  # Move to the next unmerged row\n",
    "\n",
    "    # Convert back to Polars DataFrame\n",
    "    df_merged = pl.DataFrame(merged_list)\n",
    "\n",
    "    df_sum = df_merged.with_columns(\n",
    "    pl.when(pl.col(\"action\") == \"Long\")\n",
    "    .then(\n",
    "        pl.when(((pl.col(\"target_price\") - pl.col(\"next_open\")) / pl.col(\"next_open\") * 100) >= change_threshold)\n",
    "        .then(pl.lit(change_threshold - 0.04))\n",
    "        .otherwise(((pl.col(\"target_price\") - pl.col(\"next_open\")) / pl.col(\"next_open\") * 100) - 0.1))\n",
    "    .alias(\"pnl\")\n",
    "    )\n",
    "\n",
    "    # Compute cumulative PnL\n",
    "    df_cum = df_sum.with_columns(\n",
    "        pl.col(\"pnl\").cum_sum().alias(\"cum_pnl\")  # Ensure `cum_sum()` is used\n",
    "    )\n",
    "\n",
    "    # Compute the running maximum of cumulative PnL\n",
    "    df_cum = df_cum.with_columns(\n",
    "        pl.col(\"cum_pnl\").cum_max().alias(\"max_cum_pnl\")  # Ensure `cum_max()` is used\n",
    "    )\n",
    "\n",
    "    # Compute drawdown (difference between current and max cumulative PnL)\n",
    "    df_cum = df_cum.with_columns(\n",
    "        (pl.col(\"cum_pnl\") - pl.col(\"max_cum_pnl\")).alias(\"drawdown\")\n",
    "    )\n",
    "\n",
    "    # Find the most negative drawdown\n",
    "    max_negative_cum_pnl = df_cum.select(pl.col(\"drawdown\").min()).item()\n",
    "\n",
    "    df_monthly = df_sum.select([\"datetime\", \"year\", \"month\", \"day\", \"hour\", \"minute\", \"action\", \"pnl\"])\n",
    "    df_monthly = df_monthly.with_columns(\n",
    "            pl.when(\n",
    "                (pl.col(\"pnl\") >= 0)\n",
    "            )\n",
    "            .then(1)\n",
    "            .otherwise(0)\n",
    "            .alias(\"win\")\n",
    "        )\n",
    "\n",
    "    # Group by year and month, then aggregate\n",
    "    df_monthly = df_monthly.group_by(['year', 'month']).agg([\n",
    "        pl.col('action').count().alias('action_count'),\n",
    "        pl.col('pnl').sum().alias('cum_pnl'),\n",
    "        pl.col('win').sum().alias('sum_win'),\n",
    "    ])\n",
    "\n",
    "    # Calculate metrics\n",
    "    total_pnl = df_sum[\"pnl\"].sum()\n",
    "    max_loss = df_sum[\"pnl\"].min()\n",
    "    std_pnl = df_monthly[\"cum_pnl\"].std()\n",
    "    total_long = len(df_sum)\n",
    "    total_wins = df_sum.filter((pl.col(\"pnl\") >= 0)).height\n",
    "    win_rate = (total_wins / total_long) * 100 if total_long > 0 else 0\n",
    "\n",
    "    # Store results in a list\n",
    "    results.append({\n",
    "        \"hold_periode\": hold_periode,\n",
    "        \"occ\": occ_threshold,\n",
    "        \"ohc\": ohc_threshold,\n",
    "        \"olc\": olc_threshold,\n",
    "        \"rolling_zscore_btc\":rolling_zscore_btc_threshold,\n",
    "        \"bull_btc\": bull_btc_threshold,\n",
    "        \"change_threshold\": change_threshold,\n",
    "        \"total_long\": total_long,\n",
    "        \"total_wins\": total_wins,\n",
    "        \"win_rate\": win_rate,\n",
    "        \"total_pnl\": total_pnl,\n",
    "        \"std_pnl\": std_pnl,\n",
    "        \"max_realized_dd\":max_negative_cum_pnl,\n",
    "        \"max_single_loss\": max_loss\n",
    "    })\n",
    "\n",
    "# Convert results to a DataFrame\n",
    "df_results = pl.DataFrame(results)\n",
    "\n",
    "print(\"Looping 1 Done!\")"
   ]
  },
  {
   "cell_type": "code",
   "execution_count": 14,
   "metadata": {},
   "outputs": [
    {
     "data": {
      "text/html": [
       "<div><style>\n",
       ".dataframe > thead > tr,\n",
       ".dataframe > tbody > tr {\n",
       "  text-align: right;\n",
       "  white-space: pre-wrap;\n",
       "}\n",
       "</style>\n",
       "<small>shape: (1, 14)</small><table border=\"1\" class=\"dataframe\"><thead><tr><th>hold_periode</th><th>occ</th><th>ohc</th><th>olc</th><th>rolling_zscore_btc</th><th>bull_btc</th><th>change_threshold</th><th>total_long</th><th>total_wins</th><th>win_rate</th><th>total_pnl</th><th>std_pnl</th><th>max_realized_dd</th><th>max_single_loss</th></tr><tr><td>i64</td><td>f64</td><td>f64</td><td>i64</td><td>f64</td><td>i64</td><td>i64</td><td>i64</td><td>i64</td><td>f64</td><td>f64</td><td>f64</td><td>f64</td><td>f64</td></tr></thead><tbody><tr><td>8</td><td>0.8</td><td>0.0</td><td>-100</td><td>-0.5</td><td>0</td><td>100</td><td>236</td><td>144</td><td>61.016949</td><td>95.427991</td><td>4.673007</td><td>-11.4806</td><td>-8.322923</td></tr></tbody></table></div>"
      ],
      "text/plain": [
       "shape: (1, 14)\n",
       "┌──────────────┬─────┬─────┬──────┬───┬───────────┬──────────┬─────────────────┬─────────────────┐\n",
       "│ hold_periode ┆ occ ┆ ohc ┆ olc  ┆ … ┆ total_pnl ┆ std_pnl  ┆ max_realized_dd ┆ max_single_loss │\n",
       "│ ---          ┆ --- ┆ --- ┆ ---  ┆   ┆ ---       ┆ ---      ┆ ---             ┆ ---             │\n",
       "│ i64          ┆ f64 ┆ f64 ┆ i64  ┆   ┆ f64       ┆ f64      ┆ f64             ┆ f64             │\n",
       "╞══════════════╪═════╪═════╪══════╪═══╪═══════════╪══════════╪═════════════════╪═════════════════╡\n",
       "│ 8            ┆ 0.8 ┆ 0.0 ┆ -100 ┆ … ┆ 95.427991 ┆ 4.673007 ┆ -11.4806        ┆ -8.322923       │\n",
       "└──────────────┴─────┴─────┴──────┴───┴───────────┴──────────┴─────────────────┴─────────────────┘"
      ]
     },
     "execution_count": 14,
     "metadata": {},
     "output_type": "execute_result"
    }
   ],
   "source": [
    "# Extract max return approximation row\n",
    "max_return_params = df_results.sort(\"total_pnl\", descending=True).row(0)\n",
    "max_return_df = pl.DataFrame([max_return_params], schema=df_results.schema, orient=\"row\")\n",
    "max_return_df"
   ]
  },
  {
   "cell_type": "code",
   "execution_count": 10,
   "metadata": {},
   "outputs": [
    {
     "data": {
      "text/html": [
       "<div><style>\n",
       ".dataframe > thead > tr,\n",
       ".dataframe > tbody > tr {\n",
       "  text-align: right;\n",
       "  white-space: pre-wrap;\n",
       "}\n",
       "</style>\n",
       "<small>shape: (1, 14)</small><table border=\"1\" class=\"dataframe\"><thead><tr><th>hold_periode</th><th>occ</th><th>ohc</th><th>olc</th><th>rolling_zscore_btc</th><th>bull_btc</th><th>change_threshold</th><th>total_long</th><th>total_wins</th><th>win_rate</th><th>total_pnl</th><th>std_pnl</th><th>max_realized_dd</th><th>max_single_loss</th></tr><tr><td>i64</td><td>f64</td><td>f64</td><td>i64</td><td>f64</td><td>i64</td><td>i64</td><td>i64</td><td>i64</td><td>f64</td><td>f64</td><td>f64</td><td>f64</td><td>f64</td></tr></thead><tbody><tr><td>8</td><td>0.8</td><td>0.0</td><td>-100</td><td>-0.5</td><td>0</td><td>100</td><td>236</td><td>144</td><td>61.016949</td><td>95.427991</td><td>4.673007</td><td>-11.4806</td><td>-8.322923</td></tr></tbody></table></div>"
      ],
      "text/plain": [
       "shape: (1, 14)\n",
       "┌──────────────┬─────┬─────┬──────┬───┬───────────┬──────────┬─────────────────┬─────────────────┐\n",
       "│ hold_periode ┆ occ ┆ ohc ┆ olc  ┆ … ┆ total_pnl ┆ std_pnl  ┆ max_realized_dd ┆ max_single_loss │\n",
       "│ ---          ┆ --- ┆ --- ┆ ---  ┆   ┆ ---       ┆ ---      ┆ ---             ┆ ---             │\n",
       "│ i64          ┆ f64 ┆ f64 ┆ i64  ┆   ┆ f64       ┆ f64      ┆ f64             ┆ f64             │\n",
       "╞══════════════╪═════╪═════╪══════╪═══╪═══════════╪══════════╪═════════════════╪═════════════════╡\n",
       "│ 8            ┆ 0.8 ┆ 0.0 ┆ -100 ┆ … ┆ 95.427991 ┆ 4.673007 ┆ -11.4806        ┆ -8.322923       │\n",
       "└──────────────┴─────┴─────┴──────┴───┴───────────┴──────────┴─────────────────┴─────────────────┘"
      ]
     },
     "execution_count": 10,
     "metadata": {},
     "output_type": "execute_result"
    }
   ],
   "source": [
    "# Filter profitable rows\n",
    "profitable_df = df_results.filter(pl.col(\"win_rate\") >= 50)\n",
    "# Get the row with the maximum opportunities\n",
    "max_opportunities_profitable_params = profitable_df.sort(\"total_pnl\", descending=True).row(0)\n",
    "# Convert to DataFrame with explicit row orientation\n",
    "max_opportunities_profitable_df = pl.DataFrame([max_opportunities_profitable_params], schema=df_results.schema, orient=\"row\")\n",
    "max_opportunities_profitable_df"
   ]
  },
  {
   "cell_type": "code",
   "execution_count": 15,
   "metadata": {},
   "outputs": [
    {
     "data": {
      "text/html": [
       "<div><style>\n",
       ".dataframe > thead > tr,\n",
       ".dataframe > tbody > tr {\n",
       "  text-align: right;\n",
       "  white-space: pre-wrap;\n",
       "}\n",
       "</style>\n",
       "<small>shape: (1, 14)</small><table border=\"1\" class=\"dataframe\"><thead><tr><th>hold_periode</th><th>occ</th><th>ohc</th><th>olc</th><th>rolling_zscore_btc</th><th>bull_btc</th><th>change_threshold</th><th>total_long</th><th>total_wins</th><th>win_rate</th><th>total_pnl</th><th>std_pnl</th><th>max_realized_dd</th><th>max_single_loss</th></tr><tr><td>i64</td><td>f64</td><td>f64</td><td>i64</td><td>f64</td><td>i64</td><td>i64</td><td>i64</td><td>i64</td><td>f64</td><td>f64</td><td>f64</td><td>f64</td><td>f64</td></tr></thead><tbody><tr><td>7</td><td>0.0</td><td>0.6</td><td>-100</td><td>0.0</td><td>1</td><td>100</td><td>974</td><td>467</td><td>47.946612</td><td>0.347222</td><td>5.94951</td><td>-30.889351</td><td>-9.208189</td></tr></tbody></table></div>"
      ],
      "text/plain": [
       "shape: (1, 14)\n",
       "┌──────────────┬─────┬─────┬──────┬───┬───────────┬─────────┬─────────────────┬─────────────────┐\n",
       "│ hold_periode ┆ occ ┆ ohc ┆ olc  ┆ … ┆ total_pnl ┆ std_pnl ┆ max_realized_dd ┆ max_single_loss │\n",
       "│ ---          ┆ --- ┆ --- ┆ ---  ┆   ┆ ---       ┆ ---     ┆ ---             ┆ ---             │\n",
       "│ i64          ┆ f64 ┆ f64 ┆ i64  ┆   ┆ f64       ┆ f64     ┆ f64             ┆ f64             │\n",
       "╞══════════════╪═════╪═════╪══════╪═══╪═══════════╪═════════╪═════════════════╪═════════════════╡\n",
       "│ 7            ┆ 0.0 ┆ 0.6 ┆ -100 ┆ … ┆ 0.347222  ┆ 5.94951 ┆ -30.889351      ┆ -9.208189       │\n",
       "└──────────────┴─────┴─────┴──────┴───┴───────────┴─────────┴─────────────────┴─────────────────┘"
      ]
     },
     "execution_count": 15,
     "metadata": {},
     "output_type": "execute_result"
    }
   ],
   "source": [
    "# Filter rows where return_approximation is >= 0\n",
    "positive_return_df = df_results.filter(pl.col(\"total_pnl\") >=0)\n",
    "max_opportunities_positive_return_params = positive_return_df.sort(\"total_long\", descending=True).row(0)\n",
    "max_opportunities_positive_return_df = pl.DataFrame([max_opportunities_positive_return_params], schema=df_results.schema, orient=\"row\")\n",
    "max_opportunities_positive_return_df"
   ]
  },
  {
   "cell_type": "code",
   "execution_count": 16,
   "metadata": {},
   "outputs": [
    {
     "data": {
      "text/html": [
       "<div><style>\n",
       ".dataframe > thead > tr,\n",
       ".dataframe > tbody > tr {\n",
       "  text-align: right;\n",
       "  white-space: pre-wrap;\n",
       "}\n",
       "</style>\n",
       "<small>shape: (1, 14)</small><table border=\"1\" class=\"dataframe\"><thead><tr><th>hold_periode</th><th>occ</th><th>ohc</th><th>olc</th><th>rolling_zscore_btc</th><th>bull_btc</th><th>change_threshold</th><th>total_long</th><th>total_wins</th><th>win_rate</th><th>total_pnl</th><th>std_pnl</th><th>max_realized_dd</th><th>max_single_loss</th></tr><tr><td>i64</td><td>f64</td><td>f64</td><td>i64</td><td>f64</td><td>i64</td><td>i64</td><td>i64</td><td>i64</td><td>f64</td><td>f64</td><td>f64</td><td>f64</td><td>f64</td></tr></thead><tbody><tr><td>1</td><td>0.2</td><td>0.8</td><td>-100</td><td>-1.0</td><td>0</td><td>100</td><td>415</td><td>209</td><td>50.361446</td><td>10.539455</td><td>1.629185</td><td>-9.149531</td><td>-2.938516</td></tr></tbody></table></div>"
      ],
      "text/plain": [
       "shape: (1, 14)\n",
       "┌──────────────┬─────┬─────┬──────┬───┬───────────┬──────────┬─────────────────┬─────────────────┐\n",
       "│ hold_periode ┆ occ ┆ ohc ┆ olc  ┆ … ┆ total_pnl ┆ std_pnl  ┆ max_realized_dd ┆ max_single_loss │\n",
       "│ ---          ┆ --- ┆ --- ┆ ---  ┆   ┆ ---       ┆ ---      ┆ ---             ┆ ---             │\n",
       "│ i64          ┆ f64 ┆ f64 ┆ i64  ┆   ┆ f64       ┆ f64      ┆ f64             ┆ f64             │\n",
       "╞══════════════╪═════╪═════╪══════╪═══╪═══════════╪══════════╪═════════════════╪═════════════════╡\n",
       "│ 1            ┆ 0.2 ┆ 0.8 ┆ -100 ┆ … ┆ 10.539455 ┆ 1.629185 ┆ -9.149531       ┆ -2.938516       │\n",
       "└──────────────┴─────┴─────┴──────┴───┴───────────┴──────────┴─────────────────┴─────────────────┘"
      ]
     },
     "execution_count": 16,
     "metadata": {},
     "output_type": "execute_result"
    }
   ],
   "source": [
    "# Filter profitable rows\n",
    "filter_1 = df_results.filter(pl.col(\"total_pnl\") > 0)\n",
    "\n",
    "filter_2 = filter_1.filter(pl.col(\"std_pnl\") < 3)\n",
    "\n",
    "filter_3 = filter_2.filter(pl.col(\"win_rate\") > 50)\n",
    "\n",
    "# Get the row with the lowest standard deviation\n",
    "filter_3_lowest_std = filter_3.sort(\"total_long\", descending=True).head(1)\n",
    "\n",
    "# Display the result\n",
    "filter_3_lowest_std"
   ]
  },
  {
   "cell_type": "code",
   "execution_count": 1,
   "metadata": {},
   "outputs": [
    {
     "ename": "NameError",
     "evalue": "name 'df_results' is not defined",
     "output_type": "error",
     "traceback": [
      "\u001b[0;31m---------------------------------------------------------------------------\u001b[0m",
      "\u001b[0;31mNameError\u001b[0m                                 Traceback (most recent call last)",
      "Cell \u001b[0;32mIn[1], line 1\u001b[0m\n\u001b[0;32m----> 1\u001b[0m filter_a \u001b[38;5;241m=\u001b[39m \u001b[43mdf_results\u001b[49m\u001b[38;5;241m.\u001b[39mfilter(pl\u001b[38;5;241m.\u001b[39mcol(\u001b[38;5;124m\"\u001b[39m\u001b[38;5;124mmax_realized_dd\u001b[39m\u001b[38;5;124m\"\u001b[39m) \u001b[38;5;241m>\u001b[39m\u001b[38;5;241m=\u001b[39m \u001b[38;5;241m-\u001b[39m\u001b[38;5;241m10\u001b[39m)\n\u001b[1;32m      2\u001b[0m filter_a_max_pnl \u001b[38;5;241m=\u001b[39m filter_a\u001b[38;5;241m.\u001b[39msort(\u001b[38;5;124m\"\u001b[39m\u001b[38;5;124mtotal_long\u001b[39m\u001b[38;5;124m\"\u001b[39m, descending\u001b[38;5;241m=\u001b[39m\u001b[38;5;28;01mTrue\u001b[39;00m)\u001b[38;5;241m.\u001b[39mhead(\u001b[38;5;241m1\u001b[39m)\n\u001b[1;32m      3\u001b[0m filter_a_max_pnl\n",
      "\u001b[0;31mNameError\u001b[0m: name 'df_results' is not defined"
     ]
    }
   ],
   "source": [
    "filter_a = df_results.filter(pl.col(\"max_realized_dd\") >= -10)\n",
    "filter_a_max_pnl = filter_a.sort(\"total_long\", descending=True).head(1)\n",
    "filter_a_max_pnl"
   ]
  },
  {
   "cell_type": "code",
   "execution_count": 16,
   "metadata": {},
   "outputs": [
    {
     "data": {
      "text/html": [
       "<div><style>\n",
       ".dataframe > thead > tr,\n",
       ".dataframe > tbody > tr {\n",
       "  text-align: right;\n",
       "  white-space: pre-wrap;\n",
       "}\n",
       "</style>\n",
       "<small>shape: (1, 12)</small><table border=\"1\" class=\"dataframe\"><thead><tr><th>hold_periode</th><th>occ</th><th>ohc</th><th>olc</th><th>rolling_zscore_btc</th><th>change_threshold</th><th>total_long</th><th>total_wins</th><th>win_rate</th><th>total_pnl</th><th>std_pnl</th><th>max_dd</th></tr><tr><td>i64</td><td>f64</td><td>f64</td><td>i64</td><td>f64</td><td>i64</td><td>i64</td><td>i64</td><td>f64</td><td>f64</td><td>f64</td><td>f64</td></tr></thead><tbody><tr><td>4</td><td>0.5</td><td>0.0</td><td>-2</td><td>-0.5</td><td>100</td><td>985</td><td>489</td><td>49.64467</td><td>18.168047</td><td>3.739148</td><td>-24.602614</td></tr></tbody></table></div>"
      ],
      "text/plain": [
       "shape: (1, 12)\n",
       "┌──────────────┬─────┬─────┬─────┬───┬──────────┬───────────┬──────────┬────────────┐\n",
       "│ hold_periode ┆ occ ┆ ohc ┆ olc ┆ … ┆ win_rate ┆ total_pnl ┆ std_pnl  ┆ max_dd     │\n",
       "│ ---          ┆ --- ┆ --- ┆ --- ┆   ┆ ---      ┆ ---       ┆ ---      ┆ ---        │\n",
       "│ i64          ┆ f64 ┆ f64 ┆ i64 ┆   ┆ f64      ┆ f64       ┆ f64      ┆ f64        │\n",
       "╞══════════════╪═════╪═════╪═════╪═══╪══════════╪═══════════╪══════════╪════════════╡\n",
       "│ 4            ┆ 0.5 ┆ 0.0 ┆ -2  ┆ … ┆ 49.64467 ┆ 18.168047 ┆ 3.739148 ┆ -24.602614 │\n",
       "└──────────────┴─────┴─────┴─────┴───┴──────────┴───────────┴──────────┴────────────┘"
      ]
     },
     "execution_count": 16,
     "metadata": {},
     "output_type": "execute_result"
    }
   ],
   "source": [
    "filter_b = df_results.filter(pl.col(\"max_dd\") >= -25)\n",
    "filter_b_max_trade = filter_b.sort(\"total_long\", descending=True).head(1)\n",
    "filter_b_max_trade"
   ]
  },
  {
   "cell_type": "code",
   "execution_count": 19,
   "metadata": {},
   "outputs": [
    {
     "data": {
      "text/html": [
       "<div><style>\n",
       ".dataframe > thead > tr,\n",
       ".dataframe > tbody > tr {\n",
       "  text-align: right;\n",
       "  white-space: pre-wrap;\n",
       "}\n",
       "</style>\n",
       "<small>shape: (1, 12)</small><table border=\"1\" class=\"dataframe\"><thead><tr><th>hold_periode</th><th>occ</th><th>ohc</th><th>olc</th><th>rolling_zscore_btc</th><th>change_threshold</th><th>total_long</th><th>total_wins</th><th>win_rate</th><th>total_pnl</th><th>std_pnl</th><th>max_dd</th></tr><tr><td>i64</td><td>f64</td><td>f64</td><td>i64</td><td>f64</td><td>i64</td><td>i64</td><td>i64</td><td>f64</td><td>f64</td><td>f64</td><td>f64</td></tr></thead><tbody><tr><td>7</td><td>0.5</td><td>0.0</td><td>-2</td><td>-0.5</td><td>100</td><td>849</td><td>428</td><td>50.41225</td><td>38.77227</td><td>4.431517</td><td>-23.443366</td></tr></tbody></table></div>"
      ],
      "text/plain": [
       "shape: (1, 12)\n",
       "┌──────────────┬─────┬─────┬─────┬───┬──────────┬───────────┬──────────┬────────────┐\n",
       "│ hold_periode ┆ occ ┆ ohc ┆ olc ┆ … ┆ win_rate ┆ total_pnl ┆ std_pnl  ┆ max_dd     │\n",
       "│ ---          ┆ --- ┆ --- ┆ --- ┆   ┆ ---      ┆ ---       ┆ ---      ┆ ---        │\n",
       "│ i64          ┆ f64 ┆ f64 ┆ i64 ┆   ┆ f64      ┆ f64       ┆ f64      ┆ f64        │\n",
       "╞══════════════╪═════╪═════╪═════╪═══╪══════════╪═══════════╪══════════╪════════════╡\n",
       "│ 7            ┆ 0.5 ┆ 0.0 ┆ -2  ┆ … ┆ 50.41225 ┆ 38.77227  ┆ 4.431517 ┆ -23.443366 │\n",
       "└──────────────┴─────┴─────┴─────┴───┴──────────┴───────────┴──────────┴────────────┘"
      ]
     },
     "execution_count": 19,
     "metadata": {},
     "output_type": "execute_result"
    }
   ],
   "source": [
    "filter_b = df_results.filter(pl.col(\"max_dd\") >= -25)\n",
    "filter_b_2 = filter_b.filter(pl.col(\"win_rate\") >= 50)\n",
    "filter_b_max_trade = filter_b_2.sort(\"total_long\", descending=True).head(1)\n",
    "filter_b_max_trade"
   ]
  },
  {
   "cell_type": "markdown",
   "metadata": {},
   "source": [
    "# Write Result"
   ]
  },
  {
   "cell_type": "code",
   "execution_count": null,
   "metadata": {},
   "outputs": [],
   "source": [
    "# Write to CSV\n",
    "df_results.write_csv(\"output_1.csv\")"
   ]
  },
  {
   "cell_type": "markdown",
   "metadata": {},
   "source": [
    "# Evaluate Results"
   ]
  },
  {
   "cell_type": "code",
   "execution_count": 13,
   "metadata": {},
   "outputs": [
    {
     "data": {
      "text/html": [
       "<div><style>\n",
       ".dataframe > thead > tr,\n",
       ".dataframe > tbody > tr {\n",
       "  text-align: right;\n",
       "  white-space: pre-wrap;\n",
       "}\n",
       "</style>\n",
       "<small>shape: (1_600, 10)</small><table border=\"1\" class=\"dataframe\"><thead><tr><th>hold_periode</th><th>occ</th><th>ohc</th><th>olc</th><th>change_threshold</th><th>total_long</th><th>total_wins</th><th>win_rate</th><th>total_pnl</th><th>std_pnl</th></tr><tr><td>i64</td><td>f64</td><td>f64</td><td>i64</td><td>i64</td><td>i64</td><td>i64</td><td>f64</td><td>f64</td><td>f64</td></tr></thead><tbody><tr><td>1</td><td>0.0</td><td>0.0</td><td>-100</td><td>100</td><td>2021399</td><td>84201</td><td>4.165481</td><td>-199164.914136</td><td>273.565412</td></tr><tr><td>2</td><td>0.0</td><td>0.0</td><td>-100</td><td>100</td><td>1134367</td><td>103494</td><td>9.123502</td><td>-110946.357863</td><td>132.416281</td></tr><tr><td>3</td><td>0.0</td><td>0.0</td><td>-100</td><td>100</td><td>917059</td><td>105496</td><td>11.503731</td><td>-91126.567215</td><td>120.808866</td></tr><tr><td>4</td><td>0.0</td><td>0.0</td><td>-100</td><td>100</td><td>851038</td><td>114080</td><td>13.404807</td><td>-84740.578697</td><td>125.934454</td></tr><tr><td>5</td><td>0.0</td><td>0.0</td><td>-100</td><td>100</td><td>828392</td><td>119920</td><td>14.476238</td><td>-83033.057479</td><td>134.628294</td></tr><tr><td>&hellip;</td><td>&hellip;</td><td>&hellip;</td><td>&hellip;</td><td>&hellip;</td><td>&hellip;</td><td>&hellip;</td><td>&hellip;</td><td>&hellip;</td><td>&hellip;</td></tr><tr><td>4</td><td>0.9</td><td>1.9</td><td>-100</td><td>100</td><td>62</td><td>36</td><td>58.064516</td><td>32.799009</td><td>5.17373</td></tr><tr><td>5</td><td>0.9</td><td>1.9</td><td>-100</td><td>100</td><td>61</td><td>33</td><td>54.098361</td><td>39.780353</td><td>5.425424</td></tr><tr><td>6</td><td>0.9</td><td>1.9</td><td>-100</td><td>100</td><td>61</td><td>36</td><td>59.016393</td><td>42.956206</td><td>5.457513</td></tr><tr><td>7</td><td>0.9</td><td>1.9</td><td>-100</td><td>100</td><td>59</td><td>38</td><td>64.40678</td><td>44.89461</td><td>5.654095</td></tr><tr><td>8</td><td>0.9</td><td>1.9</td><td>-100</td><td>100</td><td>59</td><td>34</td><td>57.627119</td><td>43.902715</td><td>5.837692</td></tr></tbody></table></div>"
      ],
      "text/plain": [
       "shape: (1_600, 10)\n",
       "┌──────────────┬─────┬─────┬──────┬───┬────────────┬───────────┬────────────────┬────────────┐\n",
       "│ hold_periode ┆ occ ┆ ohc ┆ olc  ┆ … ┆ total_wins ┆ win_rate  ┆ total_pnl      ┆ std_pnl    │\n",
       "│ ---          ┆ --- ┆ --- ┆ ---  ┆   ┆ ---        ┆ ---       ┆ ---            ┆ ---        │\n",
       "│ i64          ┆ f64 ┆ f64 ┆ i64  ┆   ┆ i64        ┆ f64       ┆ f64            ┆ f64        │\n",
       "╞══════════════╪═════╪═════╪══════╪═══╪════════════╪═══════════╪════════════════╪════════════╡\n",
       "│ 1            ┆ 0.0 ┆ 0.0 ┆ -100 ┆ … ┆ 84201      ┆ 4.165481  ┆ -199164.914136 ┆ 273.565412 │\n",
       "│ 2            ┆ 0.0 ┆ 0.0 ┆ -100 ┆ … ┆ 103494     ┆ 9.123502  ┆ -110946.357863 ┆ 132.416281 │\n",
       "│ 3            ┆ 0.0 ┆ 0.0 ┆ -100 ┆ … ┆ 105496     ┆ 11.503731 ┆ -91126.567215  ┆ 120.808866 │\n",
       "│ 4            ┆ 0.0 ┆ 0.0 ┆ -100 ┆ … ┆ 114080     ┆ 13.404807 ┆ -84740.578697  ┆ 125.934454 │\n",
       "│ 5            ┆ 0.0 ┆ 0.0 ┆ -100 ┆ … ┆ 119920     ┆ 14.476238 ┆ -83033.057479  ┆ 134.628294 │\n",
       "│ …            ┆ …   ┆ …   ┆ …    ┆ … ┆ …          ┆ …         ┆ …              ┆ …          │\n",
       "│ 4            ┆ 0.9 ┆ 1.9 ┆ -100 ┆ … ┆ 36         ┆ 58.064516 ┆ 32.799009      ┆ 5.17373    │\n",
       "│ 5            ┆ 0.9 ┆ 1.9 ┆ -100 ┆ … ┆ 33         ┆ 54.098361 ┆ 39.780353      ┆ 5.425424   │\n",
       "│ 6            ┆ 0.9 ┆ 1.9 ┆ -100 ┆ … ┆ 36         ┆ 59.016393 ┆ 42.956206      ┆ 5.457513   │\n",
       "│ 7            ┆ 0.9 ┆ 1.9 ┆ -100 ┆ … ┆ 38         ┆ 64.40678  ┆ 44.89461       ┆ 5.654095   │\n",
       "│ 8            ┆ 0.9 ┆ 1.9 ┆ -100 ┆ … ┆ 34         ┆ 57.627119 ┆ 43.902715      ┆ 5.837692   │\n",
       "└──────────────┴─────┴─────┴──────┴───┴────────────┴───────────┴────────────────┴────────────┘"
      ]
     },
     "execution_count": 13,
     "metadata": {},
     "output_type": "execute_result"
    }
   ],
   "source": [
    "df_r = pl.read_csv(\"/home/ubuntu/Rheza/local-share/06_trades_and_orderbooks/df_results_new.csv\")\n",
    "df_r"
   ]
  },
  {
   "cell_type": "code",
   "execution_count": 14,
   "metadata": {},
   "outputs": [
    {
     "ename": "OutOfBoundsError",
     "evalue": "index 0 is out of bounds for sequence of length 0",
     "output_type": "error",
     "traceback": [
      "\u001b[0;31m---------------------------------------------------------------------------\u001b[0m",
      "\u001b[0;31mOutOfBoundsError\u001b[0m                          Traceback (most recent call last)",
      "\u001b[0;32m/tmp/ipykernel_2519640/3876885240.py\u001b[0m in \u001b[0;36m?\u001b[0;34m()\u001b[0m\n\u001b[1;32m      3\u001b[0m \u001b[0mdf_r_fil_1\u001b[0m \u001b[0;34m=\u001b[0m \u001b[0mdf_r_fil_1\u001b[0m\u001b[0;34m.\u001b[0m\u001b[0mfilter\u001b[0m\u001b[0;34m(\u001b[0m\u001b[0mpl\u001b[0m\u001b[0;34m.\u001b[0m\u001b[0mcol\u001b[0m\u001b[0;34m(\u001b[0m\u001b[0;34m\"hold_periode\"\u001b[0m\u001b[0;34m)\u001b[0m \u001b[0;34m==\u001b[0m \u001b[0;36m4\u001b[0m\u001b[0;34m)\u001b[0m\u001b[0;34m\u001b[0m\u001b[0;34m\u001b[0m\u001b[0m\n\u001b[1;32m      4\u001b[0m \u001b[0mdf_r_fil_1\u001b[0m \u001b[0;34m=\u001b[0m \u001b[0mdf_r_fil_1\u001b[0m\u001b[0;34m.\u001b[0m\u001b[0mfilter\u001b[0m\u001b[0;34m(\u001b[0m\u001b[0mpl\u001b[0m\u001b[0;34m.\u001b[0m\u001b[0mcol\u001b[0m\u001b[0;34m(\u001b[0m\u001b[0;34m\"ohc\"\u001b[0m\u001b[0;34m)\u001b[0m \u001b[0;34m==\u001b[0m \u001b[0;36m0.4\u001b[0m\u001b[0;34m)\u001b[0m\u001b[0;34m\u001b[0m\u001b[0;34m\u001b[0m\u001b[0m\n\u001b[1;32m      5\u001b[0m \u001b[0;34m\u001b[0m\u001b[0m\n\u001b[1;32m      6\u001b[0m \u001b[0;31m# Get the row with the maximum opportunities\u001b[0m\u001b[0;34m\u001b[0m\u001b[0;34m\u001b[0m\u001b[0m\n\u001b[0;32m----> 7\u001b[0;31m \u001b[0mmax_return\u001b[0m \u001b[0;34m=\u001b[0m \u001b[0mdf_r_fil_1\u001b[0m\u001b[0;34m.\u001b[0m\u001b[0msort\u001b[0m\u001b[0;34m(\u001b[0m\u001b[0;34m\"total_pnl\"\u001b[0m\u001b[0;34m,\u001b[0m \u001b[0mdescending\u001b[0m\u001b[0;34m=\u001b[0m\u001b[0;32mTrue\u001b[0m\u001b[0;34m)\u001b[0m\u001b[0;34m.\u001b[0m\u001b[0mrow\u001b[0m\u001b[0;34m(\u001b[0m\u001b[0;36m0\u001b[0m\u001b[0;34m)\u001b[0m\u001b[0;34m\u001b[0m\u001b[0;34m\u001b[0m\u001b[0m\n\u001b[0m\u001b[1;32m      8\u001b[0m \u001b[0mdf_r_fil_1\u001b[0m \u001b[0;34m=\u001b[0m \u001b[0mpl\u001b[0m\u001b[0;34m.\u001b[0m\u001b[0mDataFrame\u001b[0m\u001b[0;34m(\u001b[0m\u001b[0;34m[\u001b[0m\u001b[0mmax_return\u001b[0m\u001b[0;34m]\u001b[0m\u001b[0;34m,\u001b[0m \u001b[0mschema\u001b[0m\u001b[0;34m=\u001b[0m\u001b[0mdf_r_fil_1\u001b[0m\u001b[0;34m.\u001b[0m\u001b[0mschema\u001b[0m\u001b[0;34m,\u001b[0m \u001b[0morient\u001b[0m\u001b[0;34m=\u001b[0m\u001b[0;34m\"row\"\u001b[0m\u001b[0;34m)\u001b[0m\u001b[0;34m\u001b[0m\u001b[0;34m\u001b[0m\u001b[0m\n\u001b[1;32m      9\u001b[0m \u001b[0mdf_r_fil_1\u001b[0m\u001b[0;34m\u001b[0m\u001b[0;34m\u001b[0m\u001b[0m\n",
      "\u001b[0;32m~/Rheza/.venv/lib/python3.12/site-packages/polars/dataframe/frame.py\u001b[0m in \u001b[0;36m?\u001b[0;34m(self, index, by_predicate, named)\u001b[0m\n\u001b[1;32m  10629\u001b[0m             \u001b[0mmsg\u001b[0m \u001b[0;34m=\u001b[0m \u001b[0;34m\"expressions should be passed to the `by_predicate` parameter\"\u001b[0m\u001b[0;34m\u001b[0m\u001b[0;34m\u001b[0m\u001b[0m\n\u001b[1;32m  10630\u001b[0m             \u001b[0;32mraise\u001b[0m \u001b[0mTypeError\u001b[0m\u001b[0;34m(\u001b[0m\u001b[0mmsg\u001b[0m\u001b[0;34m)\u001b[0m\u001b[0;34m\u001b[0m\u001b[0;34m\u001b[0m\u001b[0m\n\u001b[1;32m  10631\u001b[0m \u001b[0;34m\u001b[0m\u001b[0m\n\u001b[1;32m  10632\u001b[0m         \u001b[0;32mif\u001b[0m \u001b[0mindex\u001b[0m \u001b[0;32mis\u001b[0m \u001b[0;32mnot\u001b[0m \u001b[0;32mNone\u001b[0m\u001b[0;34m:\u001b[0m\u001b[0;34m\u001b[0m\u001b[0;34m\u001b[0m\u001b[0m\n\u001b[0;32m> 10633\u001b[0;31m             \u001b[0mrow\u001b[0m \u001b[0;34m=\u001b[0m \u001b[0mself\u001b[0m\u001b[0;34m.\u001b[0m\u001b[0m_df\u001b[0m\u001b[0;34m.\u001b[0m\u001b[0mrow_tuple\u001b[0m\u001b[0;34m(\u001b[0m\u001b[0mindex\u001b[0m\u001b[0;34m)\u001b[0m\u001b[0;34m\u001b[0m\u001b[0;34m\u001b[0m\u001b[0m\n\u001b[0m\u001b[1;32m  10634\u001b[0m             \u001b[0;32mif\u001b[0m \u001b[0mnamed\u001b[0m\u001b[0;34m:\u001b[0m\u001b[0;34m\u001b[0m\u001b[0;34m\u001b[0m\u001b[0m\n\u001b[1;32m  10635\u001b[0m                 \u001b[0;32mreturn\u001b[0m \u001b[0mdict\u001b[0m\u001b[0;34m(\u001b[0m\u001b[0mzip\u001b[0m\u001b[0;34m(\u001b[0m\u001b[0mself\u001b[0m\u001b[0;34m.\u001b[0m\u001b[0mcolumns\u001b[0m\u001b[0;34m,\u001b[0m \u001b[0mrow\u001b[0m\u001b[0;34m)\u001b[0m\u001b[0;34m)\u001b[0m\u001b[0;34m\u001b[0m\u001b[0;34m\u001b[0m\u001b[0m\n\u001b[1;32m  10636\u001b[0m             \u001b[0;32melse\u001b[0m\u001b[0;34m:\u001b[0m\u001b[0;34m\u001b[0m\u001b[0;34m\u001b[0m\u001b[0m\n",
      "\u001b[0;31mOutOfBoundsError\u001b[0m: index 0 is out of bounds for sequence of length 0"
     ]
    }
   ],
   "source": [
    "# Filter\n",
    "df_r_fil_1 = df_r.filter(pl.col(\"total_pnl\") >= 240)\n",
    "df_r_fil_1 = df_r_fil_1.filter(pl.col(\"hold_periode\") == 4)\n",
    "df_r_fil_1 = df_r_fil_1.filter(pl.col(\"ohc\") == 0.4)\n",
    "\n",
    "# Get the row with the maximum opportunities\n",
    "max_return = df_r_fil_1.sort(\"total_pnl\", descending=True).row(0)\n",
    "df_r_fil_1 = pl.DataFrame([max_return], schema=df_r_fil_1.schema, orient=\"row\")\n",
    "df_r_fil_1"
   ]
  },
  {
   "cell_type": "code",
   "execution_count": null,
   "metadata": {},
   "outputs": [
    {
     "data": {
      "text/html": [
       "<div><style>\n",
       ".dataframe > thead > tr,\n",
       ".dataframe > tbody > tr {\n",
       "  text-align: right;\n",
       "  white-space: pre-wrap;\n",
       "}\n",
       "</style>\n",
       "<small>shape: (0, 9)</small><table border=\"1\" class=\"dataframe\"><thead><tr><th>hold_periode</th><th>occ</th><th>ohc</th><th>olc</th><th>change_threshold</th><th>total_long</th><th>total_wins</th><th>win_rate</th><th>total_pnl</th></tr><tr><td>i64</td><td>f64</td><td>f64</td><td>i64</td><td>f64</td><td>i64</td><td>i64</td><td>f64</td><td>f64</td></tr></thead><tbody></tbody></table></div>"
      ],
      "text/plain": [
       "shape: (0, 9)\n",
       "┌──────────────┬─────┬─────┬─────┬───┬────────────┬────────────┬──────────┬───────────┐\n",
       "│ hold_periode ┆ occ ┆ ohc ┆ olc ┆ … ┆ total_long ┆ total_wins ┆ win_rate ┆ total_pnl │\n",
       "│ ---          ┆ --- ┆ --- ┆ --- ┆   ┆ ---        ┆ ---        ┆ ---      ┆ ---       │\n",
       "│ i64          ┆ f64 ┆ f64 ┆ i64 ┆   ┆ i64        ┆ i64        ┆ f64      ┆ f64       │\n",
       "╞══════════════╪═════╪═════╪═════╪═══╪════════════╪════════════╪══════════╪═══════════╡\n",
       "└──────────────┴─────┴─────┴─────┴───┴────────────┴────────────┴──────────┴───────────┘"
      ]
     },
     "execution_count": 32,
     "metadata": {},
     "output_type": "execute_result"
    }
   ],
   "source": [
    "# Filter\n",
    "df_r_fil_1 = df_r.filter(pl.col(\"occ\") == 0.3)\n",
    "df_r_fil_1 = df_r_fil_1.filter(pl.col(\"ohc\") == 0.4)\n",
    "# df_r_fil_1 = df_r_fil_1.filter(pl.col(\"hold_periode\") == 4)\n",
    "\n",
    "df_r_fil_1"
   ]
  },
  {
   "cell_type": "code",
   "execution_count": null,
   "metadata": {},
   "outputs": [],
   "source": []
  }
 ],
 "metadata": {
  "kernelspec": {
   "display_name": ".venv",
   "language": "python",
   "name": "python3"
  },
  "language_info": {
   "codemirror_mode": {
    "name": "ipython",
    "version": 3
   },
   "file_extension": ".py",
   "mimetype": "text/x-python",
   "name": "python",
   "nbconvert_exporter": "python",
   "pygments_lexer": "ipython3",
   "version": "3.12.3"
  }
 },
 "nbformat": 4,
 "nbformat_minor": 2
}
