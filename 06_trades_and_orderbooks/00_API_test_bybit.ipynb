{
 "cells": [
  {
   "cell_type": "markdown",
   "metadata": {},
   "source": [
    "# Bybit Class API"
   ]
  },
  {
   "cell_type": "code",
   "execution_count": 5,
   "metadata": {},
   "outputs": [],
   "source": [
    "from pybit.unified_trading import HTTP\n",
    "\n",
    "session = HTTP(\n",
    "    testnet=False,\n",
    "    api_key=\"yA7NGrSFHzCZTYgeEH\",\n",
    "    api_secret=\"zhY4YcRxvAECA3tvHksx7DlSIYhH1EZBfhgX\",\n",
    ")"
   ]
  },
  {
   "cell_type": "markdown",
   "metadata": {},
   "source": [
    "# Test"
   ]
  },
  {
   "cell_type": "code",
   "execution_count": 27,
   "metadata": {},
   "outputs": [
    {
     "name": "stdout",
     "output_type": "stream",
     "text": [
      "{'retCode': 0, 'retMsg': 'OK', 'result': {'orderId': '4b1b90cf-a30c-42ee-91fa-f518f9278a0e', 'orderLinkId': ''}, 'retExtInfo': {}, 'time': 1742898352334}\n"
     ]
    }
   ],
   "source": [
    "long_market = session.place_order(\n",
    "    category=\"linear\",\n",
    "    symbol=\"DOGEUSDT\",\n",
    "    side=\"Sell\",\n",
    "    orderType=\"Market\",\n",
    "    qty=40,  # Adjust based on your position size\n",
    "    timeInForce=\"GoodTillCancel\"\n",
    ")\n",
    "\n",
    "print(long_market)"
   ]
  },
  {
   "cell_type": "code",
   "execution_count": 19,
   "metadata": {},
   "outputs": [
    {
     "name": "stdout",
     "output_type": "stream",
     "text": [
      "{'retCode': 0, 'retMsg': 'OK', 'result': {'orderId': 'c1c92a68-cbcd-4a2e-a5d3-5ad7665472b3', 'orderLinkId': ''}, 'retExtInfo': {}, 'time': 1742892457432}\n"
     ]
    }
   ],
   "source": [
    "sl_market = session.place_order(\n",
    "    category=\"linear\",\n",
    "    symbol=\"DOGEUSDT\",\n",
    "    side=\"Sell\",            # To close a long position\n",
    "    orderType=\"Market\",     # Market execution\n",
    "    qty=40,              # Match your long position size\n",
    "    triggerPrice=0.17,     # Stop trigger price (modify as needed)\n",
    "    triggerBy=\"LastPrice\",  # Can be \"MarkPrice\" or \"IndexPrice\"\n",
    "    triggerDirection=2,\n",
    "    reduceOnly=True         # Ensures it only reduces an existing position\n",
    ")\n",
    "\n",
    "print(sl_market)"
   ]
  },
  {
   "cell_type": "code",
   "execution_count": 10,
   "metadata": {},
   "outputs": [
    {
     "name": "stdout",
     "output_type": "stream",
     "text": [
      "{'retCode': 0, 'retMsg': 'OK', 'result': {'orderId': '4aab98e7-2852-4113-8905-0b8896358518', 'orderLinkId': ''}, 'retExtInfo': {}, 'time': 1742892224713}\n"
     ]
    }
   ],
   "source": [
    "sl_limit_post = session.place_order(\n",
    "    category=\"linear\",\n",
    "    symbol=\"DOGEUSDT\",\n",
    "    side=\"Sell\",\n",
    "    orderType=\"Limit\",\n",
    "    qty=40,\n",
    "    price=0.18,  # Limit price\n",
    "    stopPx=0.17,  # Stop trigger price\n",
    "    triggerBy=\"LastPrice\",  # Can also be \"MarkPrice\"\n",
    "    timeInForce=\"PostOnly\"\n",
    ")\n",
    "\n",
    "print(sl_limit_post)\n"
   ]
  },
  {
   "cell_type": "code",
   "execution_count": 24,
   "metadata": {},
   "outputs": [
    {
     "data": {
      "text/plain": [
       "{'retCode': 0,\n",
       " 'retMsg': 'OK',\n",
       " 'result': {'category': 'linear',\n",
       "  'list': [{'symbol': 'DOGEUSDT',\n",
       "    'lastPrice': '0.18502',\n",
       "    'indexPrice': '0.18515',\n",
       "    'markPrice': '0.18503',\n",
       "    'prevPrice24h': '0.17610',\n",
       "    'price24hPcnt': '0.050653',\n",
       "    'highPrice24h': '0.18896',\n",
       "    'lowPrice24h': '0.17539',\n",
       "    'prevPrice1h': '0.18426',\n",
       "    'openInterest': '1459825288',\n",
       "    'openInterestValue': '270111473.04',\n",
       "    'turnover24h': '440553594.4456',\n",
       "    'volume24h': '2408162395.0000',\n",
       "    'fundingRate': '-0.00000484',\n",
       "    'nextFundingTime': '1742918400000',\n",
       "    'predictedDeliveryPrice': '',\n",
       "    'basisRate': '',\n",
       "    'deliveryFeeRate': '',\n",
       "    'deliveryTime': '0',\n",
       "    'ask1Size': '24496',\n",
       "    'bid1Price': '0.18503',\n",
       "    'ask1Price': '0.18504',\n",
       "    'bid1Size': '1510',\n",
       "    'basis': '',\n",
       "    'preOpenPrice': '',\n",
       "    'preQty': '',\n",
       "    'curPreListingPhase': ''}]},\n",
       " 'retExtInfo': {},\n",
       " 'time': 1742898178870}"
      ]
     },
     "execution_count": 24,
     "metadata": {},
     "output_type": "execute_result"
    }
   ],
   "source": [
    "def get_ticker(session,symbol) :\n",
    "    get_tickers = session.get_tickers(category=\"linear\", symbol=symbol)\n",
    "    return get_tickers\n",
    "\n",
    "get_ticker(session,\"DOGEUSDT\")"
   ]
  },
  {
   "cell_type": "code",
   "execution_count": 25,
   "metadata": {},
   "outputs": [
    {
     "name": "stdout",
     "output_type": "stream",
     "text": [
      "Mark Price: 0.18502\n"
     ]
    }
   ],
   "source": [
    "def get_mark_price(session, symbol):\n",
    "    \"\"\"Get the mark price for a symbol on Bybit.\"\"\"\n",
    "    response = session.get_tickers(category=\"linear\", symbol=symbol)\n",
    "    \n",
    "    # Extract mark price from the response\n",
    "    if response[\"retCode\"] == 0 and \"result\" in response:\n",
    "        mark_price = response[\"result\"][\"list\"][0][\"markPrice\"]\n",
    "        return float(mark_price)  # Convert to float for easier use\n",
    "    else:\n",
    "        return None  # Return None if the request failed\n",
    "\n",
    "# Example usage:\n",
    "mark_price = get_mark_price(session, \"DOGEUSDT\")\n",
    "print(\"Mark Price:\", mark_price)"
   ]
  },
  {
   "cell_type": "code",
   "execution_count": 26,
   "metadata": {},
   "outputs": [
    {
     "data": {
      "text/plain": [
       "float"
      ]
     },
     "execution_count": 26,
     "metadata": {},
     "output_type": "execute_result"
    }
   ],
   "source": [
    "type(mark_price)"
   ]
  },
  {
   "cell_type": "code",
   "execution_count": 28,
   "metadata": {},
   "outputs": [
    {
     "name": "stdout",
     "output_type": "stream",
     "text": [
      "Position Info: {'quantity': 40.0, 'entry_price': 0.18523}\n"
     ]
    }
   ],
   "source": [
    "def get_position_risk(session, symbol):\n",
    "    \"\"\"Get position risk information (quantity & entry price) for a symbol on Bybit.\"\"\"\n",
    "    response = session.get_positions(category=\"linear\", symbol=symbol)\n",
    "\n",
    "    # Extract data\n",
    "    if response[\"retCode\"] == 0 and \"result\" in response:\n",
    "        position_data = response[\"result\"][\"list\"][0]  # Assuming single position per symbol\n",
    "        \n",
    "        position_qty = float(position_data[\"size\"])  # Quantity\n",
    "        entry_price = float(position_data[\"avgPrice\"])  # Entry price\n",
    "        \n",
    "        return {\"quantity\": position_qty, \"entry_price\": entry_price}\n",
    "    else:\n",
    "        return None  # Return None if request fails\n",
    "\n",
    "# Example usage:\n",
    "position_info = get_position_risk(session, \"DOGEUSDT\")\n",
    "print(\"Position Info:\", position_info)"
   ]
  },
  {
   "cell_type": "code",
   "execution_count": null,
   "metadata": {},
   "outputs": [],
   "source": []
  }
 ],
 "metadata": {
  "kernelspec": {
   "display_name": ".venv",
   "language": "python",
   "name": "python3"
  },
  "language_info": {
   "codemirror_mode": {
    "name": "ipython",
    "version": 3
   },
   "file_extension": ".py",
   "mimetype": "text/x-python",
   "name": "python",
   "nbconvert_exporter": "python",
   "pygments_lexer": "ipython3",
   "version": "3.12.3"
  }
 },
 "nbformat": 4,
 "nbformat_minor": 2
}
