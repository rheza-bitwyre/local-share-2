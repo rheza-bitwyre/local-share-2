{
 "cells": [
  {
   "cell_type": "markdown",
   "metadata": {},
   "source": [
    "# Load Full Data"
   ]
  },
  {
   "cell_type": "code",
   "execution_count": 1,
   "metadata": {},
   "outputs": [
    {
     "data": {
      "text/html": [
       "<div><style>\n",
       ".dataframe > thead > tr,\n",
       ".dataframe > tbody > tr {\n",
       "  text-align: right;\n",
       "  white-space: pre-wrap;\n",
       "}\n",
       "</style>\n",
       "<small>shape: (4_210_560, 10)</small><table border=\"1\" class=\"dataframe\"><thead><tr><th>year</th><th>month</th><th>day</th><th>hour</th><th>minute</th><th>interval</th><th>open</th><th>high</th><th>low</th><th>close</th></tr><tr><td>f64</td><td>f64</td><td>f64</td><td>f64</td><td>f64</td><td>f64</td><td>f64</td><td>f64</td><td>f64</td><td>f64</td></tr></thead><tbody><tr><td>2023.0</td><td>1.0</td><td>1.0</td><td>0.0</td><td>0.0</td><td>0.0</td><td>0.3389</td><td>0.3389</td><td>0.3388</td><td>0.3388</td></tr><tr><td>2023.0</td><td>1.0</td><td>1.0</td><td>0.0</td><td>0.0</td><td>1.0</td><td>0.3388</td><td>0.339</td><td>0.3388</td><td>0.3389</td></tr><tr><td>2023.0</td><td>1.0</td><td>1.0</td><td>0.0</td><td>0.0</td><td>2.0</td><td>0.3389</td><td>0.339</td><td>0.3389</td><td>0.339</td></tr><tr><td>2023.0</td><td>1.0</td><td>1.0</td><td>0.0</td><td>0.0</td><td>3.0</td><td>0.339</td><td>0.3391</td><td>0.3389</td><td>0.3391</td></tr><tr><td>2023.0</td><td>1.0</td><td>1.0</td><td>0.0</td><td>1.0</td><td>0.0</td><td>0.3391</td><td>0.3391</td><td>0.339</td><td>0.3391</td></tr><tr><td>&hellip;</td><td>&hellip;</td><td>&hellip;</td><td>&hellip;</td><td>&hellip;</td><td>&hellip;</td><td>&hellip;</td><td>&hellip;</td><td>&hellip;</td><td>&hellip;</td></tr><tr><td>2024.0</td><td>12.0</td><td>31.0</td><td>23.0</td><td>58.0</td><td>3.0</td><td>2.0843</td><td>2.0843</td><td>2.0834</td><td>2.0838</td></tr><tr><td>2024.0</td><td>12.0</td><td>31.0</td><td>23.0</td><td>59.0</td><td>0.0</td><td>2.0837</td><td>2.0841</td><td>2.0828</td><td>2.0836</td></tr><tr><td>2024.0</td><td>12.0</td><td>31.0</td><td>23.0</td><td>59.0</td><td>1.0</td><td>2.0837</td><td>2.0839</td><td>2.0833</td><td>2.0837</td></tr><tr><td>2024.0</td><td>12.0</td><td>31.0</td><td>23.0</td><td>59.0</td><td>2.0</td><td>2.0837</td><td>2.0837</td><td>2.0832</td><td>2.0834</td></tr><tr><td>2024.0</td><td>12.0</td><td>31.0</td><td>23.0</td><td>59.0</td><td>3.0</td><td>2.0834</td><td>2.0836</td><td>2.0832</td><td>2.0836</td></tr></tbody></table></div>"
      ],
      "text/plain": [
       "shape: (4_210_560, 10)\n",
       "┌────────┬───────┬──────┬──────┬───┬────────┬────────┬────────┬────────┐\n",
       "│ year   ┆ month ┆ day  ┆ hour ┆ … ┆ open   ┆ high   ┆ low    ┆ close  │\n",
       "│ ---    ┆ ---   ┆ ---  ┆ ---  ┆   ┆ ---    ┆ ---    ┆ ---    ┆ ---    │\n",
       "│ f64    ┆ f64   ┆ f64  ┆ f64  ┆   ┆ f64    ┆ f64    ┆ f64    ┆ f64    │\n",
       "╞════════╪═══════╪══════╪══════╪═══╪════════╪════════╪════════╪════════╡\n",
       "│ 2023.0 ┆ 1.0   ┆ 1.0  ┆ 0.0  ┆ … ┆ 0.3389 ┆ 0.3389 ┆ 0.3388 ┆ 0.3388 │\n",
       "│ 2023.0 ┆ 1.0   ┆ 1.0  ┆ 0.0  ┆ … ┆ 0.3388 ┆ 0.339  ┆ 0.3388 ┆ 0.3389 │\n",
       "│ 2023.0 ┆ 1.0   ┆ 1.0  ┆ 0.0  ┆ … ┆ 0.3389 ┆ 0.339  ┆ 0.3389 ┆ 0.339  │\n",
       "│ 2023.0 ┆ 1.0   ┆ 1.0  ┆ 0.0  ┆ … ┆ 0.339  ┆ 0.3391 ┆ 0.3389 ┆ 0.3391 │\n",
       "│ 2023.0 ┆ 1.0   ┆ 1.0  ┆ 0.0  ┆ … ┆ 0.3391 ┆ 0.3391 ┆ 0.339  ┆ 0.3391 │\n",
       "│ …      ┆ …     ┆ …    ┆ …    ┆ … ┆ …      ┆ …      ┆ …      ┆ …      │\n",
       "│ 2024.0 ┆ 12.0  ┆ 31.0 ┆ 23.0 ┆ … ┆ 2.0843 ┆ 2.0843 ┆ 2.0834 ┆ 2.0838 │\n",
       "│ 2024.0 ┆ 12.0  ┆ 31.0 ┆ 23.0 ┆ … ┆ 2.0837 ┆ 2.0841 ┆ 2.0828 ┆ 2.0836 │\n",
       "│ 2024.0 ┆ 12.0  ┆ 31.0 ┆ 23.0 ┆ … ┆ 2.0837 ┆ 2.0839 ┆ 2.0833 ┆ 2.0837 │\n",
       "│ 2024.0 ┆ 12.0  ┆ 31.0 ┆ 23.0 ┆ … ┆ 2.0837 ┆ 2.0837 ┆ 2.0832 ┆ 2.0834 │\n",
       "│ 2024.0 ┆ 12.0  ┆ 31.0 ┆ 23.0 ┆ … ┆ 2.0834 ┆ 2.0836 ┆ 2.0832 ┆ 2.0836 │\n",
       "└────────┴───────┴──────┴──────┴───┴────────┴────────┴────────┴────────┘"
      ]
     },
     "execution_count": 1,
     "metadata": {},
     "output_type": "execute_result"
    }
   ],
   "source": [
    "import polars as pl\n",
    "from pathlib import Path\n",
    "\n",
    "def read_aggregated_files(base_path, symbol, interval, years):\n",
    "    \"\"\"\n",
    "    Reads and concatenates aggregated trade data files for a given symbol, interval, and multiple years.\n",
    "\n",
    "    Parameters:\n",
    "    - base_path: The base directory where the data is stored.\n",
    "    - symbol: The trading symbol (e.g., 'BTCUSDT').\n",
    "    - interval: The aggregation interval (e.g., '15s', '20s', '25s', '30s').\n",
    "    - years: A list of years to read data for (e.g., [2021, 2022, 2023, 2024]).\n",
    "\n",
    "    Returns:\n",
    "    - A concatenated Polars DataFrame containing all the data with consistent Float64 column types.\n",
    "    \"\"\"\n",
    "    dfs = []\n",
    "    data_dir = Path(base_path) / f\"{symbol}_perps\" / f\"agg_{interval}\"\n",
    "\n",
    "    for year in years:\n",
    "        files = [\n",
    "            data_dir / f\"{symbol}-aggTrades-{year}-{month:02d}_aggregated_{interval}.parquet\"\n",
    "            for month in range(1, 13)\n",
    "        ]\n",
    "        \n",
    "        dfs.extend(\n",
    "            pl.read_parquet(file).with_columns(\n",
    "                [pl.col(col).cast(pl.Float64) for col in pl.read_parquet(file).columns]\n",
    "            )\n",
    "            for file in files if file.exists()\n",
    "        )\n",
    "\n",
    "    return pl.concat(dfs) if dfs else pl.DataFrame()\n",
    "\n",
    "# Example usage\n",
    "base_path = \"/home/ubuntu/Rheza/data/binance_aggtrades\"\n",
    "symbol = \"XRPUSDT\"\n",
    "interval = \"15s\"  \n",
    "years = [2023,2024]\n",
    "\n",
    "dfs = read_aggregated_files(base_path, symbol, interval, years)\n",
    "dfs"
   ]
  },
  {
   "cell_type": "markdown",
   "metadata": {},
   "source": [
    "# Features Engineering"
   ]
  },
  {
   "cell_type": "code",
   "execution_count": 2,
   "metadata": {},
   "outputs": [
    {
     "data": {
      "text/html": [
       "<div><style>\n",
       ".dataframe > thead > tr,\n",
       ".dataframe > tbody > tr {\n",
       "  text-align: right;\n",
       "  white-space: pre-wrap;\n",
       "}\n",
       "</style>\n",
       "<small>shape: (4_210_552, 26)</small><table border=\"1\" class=\"dataframe\"><thead><tr><th>year</th><th>month</th><th>day</th><th>hour</th><th>minute</th><th>interval</th><th>open</th><th>high</th><th>low</th><th>close</th><th>occ</th><th>ohc</th><th>olc</th><th>occ_2</th><th>ohc_2</th><th>olc_2</th><th>next_occ</th><th>next_open</th><th>next_close</th><th>next_close_2</th><th>next_close_3</th><th>next_close_4</th><th>next_close_5</th><th>next_close_6</th><th>next_close_7</th><th>next_close_8</th></tr><tr><td>f64</td><td>f64</td><td>f64</td><td>f64</td><td>f64</td><td>f64</td><td>f64</td><td>f64</td><td>f64</td><td>f64</td><td>f64</td><td>f64</td><td>f64</td><td>f64</td><td>f64</td><td>f64</td><td>f64</td><td>f64</td><td>f64</td><td>f64</td><td>f64</td><td>f64</td><td>f64</td><td>f64</td><td>f64</td><td>f64</td></tr></thead><tbody><tr><td>2023.0</td><td>1.0</td><td>1.0</td><td>0.0</td><td>0.0</td><td>0.0</td><td>0.3389</td><td>0.3389</td><td>0.3388</td><td>0.3388</td><td>-0.029507</td><td>0.0</td><td>-0.029507</td><td>0.0</td><td>0.029507</td><td>-0.029507</td><td>0.029516</td><td>0.3388</td><td>0.3389</td><td>0.339</td><td>0.3391</td><td>0.3391</td><td>0.3391</td><td>0.339</td><td>0.3391</td><td>0.339</td></tr><tr><td>2023.0</td><td>1.0</td><td>1.0</td><td>0.0</td><td>0.0</td><td>1.0</td><td>0.3388</td><td>0.339</td><td>0.3388</td><td>0.3389</td><td>0.029516</td><td>0.059032</td><td>0.0</td><td>0.059032</td><td>0.059032</td><td>0.029516</td><td>0.029507</td><td>0.3389</td><td>0.339</td><td>0.3391</td><td>0.3391</td><td>0.3391</td><td>0.339</td><td>0.3391</td><td>0.339</td><td>0.3391</td></tr><tr><td>2023.0</td><td>1.0</td><td>1.0</td><td>0.0</td><td>0.0</td><td>2.0</td><td>0.3389</td><td>0.339</td><td>0.3389</td><td>0.339</td><td>0.029507</td><td>0.029507</td><td>0.0</td><td>0.059014</td><td>0.059014</td><td>0.0</td><td>0.029499</td><td>0.339</td><td>0.3391</td><td>0.3391</td><td>0.3391</td><td>0.339</td><td>0.3391</td><td>0.339</td><td>0.3391</td><td>0.3386</td></tr><tr><td>2023.0</td><td>1.0</td><td>1.0</td><td>0.0</td><td>0.0</td><td>3.0</td><td>0.339</td><td>0.3391</td><td>0.3389</td><td>0.3391</td><td>0.029499</td><td>0.029499</td><td>-0.029499</td><td>0.029499</td><td>0.029499</td><td>0.0</td><td>0.0</td><td>0.3391</td><td>0.3391</td><td>0.3391</td><td>0.339</td><td>0.3391</td><td>0.339</td><td>0.3391</td><td>0.3386</td><td>0.3387</td></tr><tr><td>2023.0</td><td>1.0</td><td>1.0</td><td>0.0</td><td>1.0</td><td>0.0</td><td>0.3391</td><td>0.3391</td><td>0.339</td><td>0.3391</td><td>0.0</td><td>0.0</td><td>-0.02949</td><td>0.0</td><td>0.0</td><td>-0.02949</td><td>0.029499</td><td>0.339</td><td>0.3391</td><td>0.339</td><td>0.3391</td><td>0.339</td><td>0.3391</td><td>0.3386</td><td>0.3387</td><td>0.3387</td></tr><tr><td>&hellip;</td><td>&hellip;</td><td>&hellip;</td><td>&hellip;</td><td>&hellip;</td><td>&hellip;</td><td>&hellip;</td><td>&hellip;</td><td>&hellip;</td><td>&hellip;</td><td>&hellip;</td><td>&hellip;</td><td>&hellip;</td><td>&hellip;</td><td>&hellip;</td><td>&hellip;</td><td>&hellip;</td><td>&hellip;</td><td>&hellip;</td><td>&hellip;</td><td>&hellip;</td><td>&hellip;</td><td>&hellip;</td><td>&hellip;</td><td>&hellip;</td><td>&hellip;</td></tr><tr><td>2024.0</td><td>12.0</td><td>31.0</td><td>23.0</td><td>56.0</td><td>3.0</td><td>2.0838</td><td>2.0845</td><td>2.0838</td><td>2.0843</td><td>0.023995</td><td>0.033592</td><td>0.0</td><td>0.0</td><td>0.04319</td><td>0.0</td><td>-0.028785</td><td>2.0844</td><td>2.0838</td><td>2.0842</td><td>2.084</td><td>2.0835</td><td>2.0843</td><td>2.0847</td><td>2.0842</td><td>2.0838</td></tr><tr><td>2024.0</td><td>12.0</td><td>31.0</td><td>23.0</td><td>57.0</td><td>0.0</td><td>2.0844</td><td>2.0847</td><td>2.0838</td><td>2.0838</td><td>-0.028785</td><td>0.014393</td><td>-0.028785</td><td>-0.009595</td><td>0.009595</td><td>-0.023988</td><td>0.014396</td><td>2.0839</td><td>2.0842</td><td>2.084</td><td>2.0835</td><td>2.0843</td><td>2.0847</td><td>2.0842</td><td>2.0838</td><td>2.0836</td></tr><tr><td>2024.0</td><td>12.0</td><td>31.0</td><td>23.0</td><td>57.0</td><td>1.0</td><td>2.0839</td><td>2.0846</td><td>2.0839</td><td>2.0842</td><td>0.014396</td><td>0.033591</td><td>0.0</td><td>0.004799</td><td>0.019195</td><td>-0.004799</td><td>-0.009596</td><td>2.0842</td><td>2.084</td><td>2.0835</td><td>2.0843</td><td>2.0847</td><td>2.0842</td><td>2.0838</td><td>2.0836</td><td>2.0837</td></tr><tr><td>2024.0</td><td>12.0</td><td>31.0</td><td>23.0</td><td>57.0</td><td>2.0</td><td>2.0842</td><td>2.0843</td><td>2.0838</td><td>2.084</td><td>-0.009596</td><td>0.004798</td><td>-0.019192</td><td>-0.033586</td><td>0.0</td><td>-0.033586</td><td>-0.023992</td><td>2.084</td><td>2.0835</td><td>2.0843</td><td>2.0847</td><td>2.0842</td><td>2.0838</td><td>2.0836</td><td>2.0837</td><td>2.0834</td></tr><tr><td>2024.0</td><td>12.0</td><td>31.0</td><td>23.0</td><td>57.0</td><td>3.0</td><td>2.084</td><td>2.0842</td><td>2.0835</td><td>2.0835</td><td>-0.023992</td><td>0.009597</td><td>-0.023992</td><td>0.014395</td><td>0.019194</td><td>-0.028791</td><td>0.038397</td><td>2.0835</td><td>2.0843</td><td>2.0847</td><td>2.0842</td><td>2.0838</td><td>2.0836</td><td>2.0837</td><td>2.0834</td><td>2.0836</td></tr></tbody></table></div>"
      ],
      "text/plain": [
       "shape: (4_210_552, 26)\n",
       "┌────────┬───────┬──────┬──────┬───┬──────────────┬──────────────┬──────────────┬──────────────┐\n",
       "│ year   ┆ month ┆ day  ┆ hour ┆ … ┆ next_close_5 ┆ next_close_6 ┆ next_close_7 ┆ next_close_8 │\n",
       "│ ---    ┆ ---   ┆ ---  ┆ ---  ┆   ┆ ---          ┆ ---          ┆ ---          ┆ ---          │\n",
       "│ f64    ┆ f64   ┆ f64  ┆ f64  ┆   ┆ f64          ┆ f64          ┆ f64          ┆ f64          │\n",
       "╞════════╪═══════╪══════╪══════╪═══╪══════════════╪══════════════╪══════════════╪══════════════╡\n",
       "│ 2023.0 ┆ 1.0   ┆ 1.0  ┆ 0.0  ┆ … ┆ 0.3391       ┆ 0.339        ┆ 0.3391       ┆ 0.339        │\n",
       "│ 2023.0 ┆ 1.0   ┆ 1.0  ┆ 0.0  ┆ … ┆ 0.339        ┆ 0.3391       ┆ 0.339        ┆ 0.3391       │\n",
       "│ 2023.0 ┆ 1.0   ┆ 1.0  ┆ 0.0  ┆ … ┆ 0.3391       ┆ 0.339        ┆ 0.3391       ┆ 0.3386       │\n",
       "│ 2023.0 ┆ 1.0   ┆ 1.0  ┆ 0.0  ┆ … ┆ 0.339        ┆ 0.3391       ┆ 0.3386       ┆ 0.3387       │\n",
       "│ 2023.0 ┆ 1.0   ┆ 1.0  ┆ 0.0  ┆ … ┆ 0.3391       ┆ 0.3386       ┆ 0.3387       ┆ 0.3387       │\n",
       "│ …      ┆ …     ┆ …    ┆ …    ┆ … ┆ …            ┆ …            ┆ …            ┆ …            │\n",
       "│ 2024.0 ┆ 12.0  ┆ 31.0 ┆ 23.0 ┆ … ┆ 2.0843       ┆ 2.0847       ┆ 2.0842       ┆ 2.0838       │\n",
       "│ 2024.0 ┆ 12.0  ┆ 31.0 ┆ 23.0 ┆ … ┆ 2.0847       ┆ 2.0842       ┆ 2.0838       ┆ 2.0836       │\n",
       "│ 2024.0 ┆ 12.0  ┆ 31.0 ┆ 23.0 ┆ … ┆ 2.0842       ┆ 2.0838       ┆ 2.0836       ┆ 2.0837       │\n",
       "│ 2024.0 ┆ 12.0  ┆ 31.0 ┆ 23.0 ┆ … ┆ 2.0838       ┆ 2.0836       ┆ 2.0837       ┆ 2.0834       │\n",
       "│ 2024.0 ┆ 12.0  ┆ 31.0 ┆ 23.0 ┆ … ┆ 2.0836       ┆ 2.0837       ┆ 2.0834       ┆ 2.0836       │\n",
       "└────────┴───────┴──────┴──────┴───┴──────────────┴──────────────┴──────────────┴──────────────┘"
      ]
     },
     "execution_count": 2,
     "metadata": {},
     "output_type": "execute_result"
    }
   ],
   "source": [
    "import polars as pl\n",
    "\n",
    "# Compute percentage changes relative to 'open'\n",
    "dfs_featured = dfs.with_columns([\n",
    "    ((pl.col(\"close\") - pl.col(\"open\")) / pl.col(\"open\") * 100).cast(pl.Float64).alias(\"occ\"),\n",
    "    ((pl.col(\"high\") - pl.col(\"open\")) / pl.col(\"open\") * 100).cast(pl.Float64).alias(\"ohc\"),\n",
    "    ((pl.col(\"low\") - pl.col(\"open\")) / pl.col(\"open\") * 100).cast(pl.Float64).alias(\"olc\"),\n",
    "    ((pl.col(\"close\").shift(-1) - pl.col(\"open\")) / pl.col(\"open\") * 100).cast(pl.Float64).alias(\"occ_2\"),\n",
    "    ((pl.col(\"high\").shift(-1) - pl.col(\"open\")) / pl.col(\"open\") * 100).cast(pl.Float64).alias(\"ohc_2\"),\n",
    "    ((pl.col(\"low\").shift(-1) - pl.col(\"open\")) / pl.col(\"open\") * 100).cast(pl.Float64).alias(\"olc_2\")\n",
    "])\n",
    "\n",
    "# Define shift values (now positive)\n",
    "shifts = [2, 3, 4, 5, 6, 7, 8]\n",
    "\n",
    "# Compute shifted values and derived features\n",
    "dfs_featured = dfs_featured.with_columns([\n",
    "    pl.col(\"occ\").shift(-1).cast(pl.Float64).alias(\"next_occ\"),\n",
    "    pl.col(\"open\").shift(-1).cast(pl.Float64).alias(\"next_open\"),\n",
    "    pl.col(\"close\").shift(-1).cast(pl.Float64).alias(\"next_close\"),\n",
    "] + [\n",
    "    pl.col(\"close\").shift(-s).cast(pl.Float64).alias(f\"next_close_{s}\") for s in shifts\n",
    "]\n",
    ")\n",
    "\n",
    "# Remove nulls and return cleaned dataframe\n",
    "dfs_featured = dfs_featured.drop_nulls()\n",
    "dfs_featured"
   ]
  },
  {
   "cell_type": "markdown",
   "metadata": {},
   "source": [
    "# Date Filter"
   ]
  },
  {
   "cell_type": "code",
   "execution_count": 6,
   "metadata": {},
   "outputs": [
    {
     "data": {
      "text/html": [
       "<div><style>\n",
       ".dataframe > thead > tr,\n",
       ".dataframe > tbody > tr {\n",
       "  text-align: right;\n",
       "  white-space: pre-wrap;\n",
       "}\n",
       "</style>\n",
       "<small>shape: (5_086_072, 26)</small><table border=\"1\" class=\"dataframe\"><thead><tr><th>year</th><th>month</th><th>day</th><th>hour</th><th>minute</th><th>interval</th><th>open</th><th>high</th><th>low</th><th>close</th><th>occ</th><th>ohc</th><th>olc</th><th>occ_2</th><th>ohc_2</th><th>olc_2</th><th>next_occ</th><th>next_open</th><th>next_close</th><th>next_close_2</th><th>next_close_3</th><th>next_close_4</th><th>next_close_5</th><th>next_close_6</th><th>next_close_7</th><th>next_close_8</th></tr><tr><td>f64</td><td>f64</td><td>f64</td><td>f64</td><td>f64</td><td>f64</td><td>f64</td><td>f64</td><td>f64</td><td>f64</td><td>f64</td><td>f64</td><td>f64</td><td>f64</td><td>f64</td><td>f64</td><td>f64</td><td>f64</td><td>f64</td><td>f64</td><td>f64</td><td>f64</td><td>f64</td><td>f64</td><td>f64</td><td>f64</td></tr></thead><tbody><tr><td>2022.0</td><td>6.0</td><td>1.0</td><td>0.0</td><td>0.0</td><td>0.0</td><td>0.4212</td><td>0.4214</td><td>0.4212</td><td>0.4213</td><td>0.023742</td><td>0.047483</td><td>0.0</td><td>0.071225</td><td>0.094967</td><td>0.023742</td><td>0.047472</td><td>0.4213</td><td>0.4215</td><td>0.4212</td><td>0.4214</td><td>0.4212</td><td>0.4215</td><td>0.4214</td><td>0.4213</td><td>0.4219</td></tr><tr><td>2022.0</td><td>6.0</td><td>1.0</td><td>0.0</td><td>0.0</td><td>1.0</td><td>0.4213</td><td>0.4216</td><td>0.4213</td><td>0.4215</td><td>0.047472</td><td>0.071208</td><td>0.0</td><td>-0.023736</td><td>0.047472</td><td>-0.071208</td><td>-0.047461</td><td>0.4214</td><td>0.4212</td><td>0.4214</td><td>0.4212</td><td>0.4215</td><td>0.4214</td><td>0.4213</td><td>0.4219</td><td>0.4216</td></tr><tr><td>2022.0</td><td>6.0</td><td>1.0</td><td>0.0</td><td>0.0</td><td>2.0</td><td>0.4214</td><td>0.4215</td><td>0.421</td><td>0.4212</td><td>-0.047461</td><td>0.02373</td><td>-0.094922</td><td>0.0</td><td>0.0</td><td>-0.071191</td><td>0.071242</td><td>0.4211</td><td>0.4214</td><td>0.4212</td><td>0.4215</td><td>0.4214</td><td>0.4213</td><td>0.4219</td><td>0.4216</td><td>0.4219</td></tr><tr><td>2022.0</td><td>6.0</td><td>1.0</td><td>0.0</td><td>0.0</td><td>3.0</td><td>0.4211</td><td>0.4214</td><td>0.4211</td><td>0.4214</td><td>0.071242</td><td>0.071242</td><td>0.0</td><td>0.023747</td><td>0.142484</td><td>0.023747</td><td>-0.047461</td><td>0.4214</td><td>0.4212</td><td>0.4215</td><td>0.4214</td><td>0.4213</td><td>0.4219</td><td>0.4216</td><td>0.4219</td><td>0.4225</td></tr><tr><td>2022.0</td><td>6.0</td><td>1.0</td><td>0.0</td><td>1.0</td><td>0.0</td><td>0.4214</td><td>0.4217</td><td>0.4212</td><td>0.4212</td><td>-0.047461</td><td>0.071191</td><td>-0.047461</td><td>0.02373</td><td>0.02373</td><td>-0.118652</td><td>0.071225</td><td>0.4212</td><td>0.4215</td><td>0.4214</td><td>0.4213</td><td>0.4219</td><td>0.4216</td><td>0.4219</td><td>0.4225</td><td>0.4225</td></tr><tr><td>&hellip;</td><td>&hellip;</td><td>&hellip;</td><td>&hellip;</td><td>&hellip;</td><td>&hellip;</td><td>&hellip;</td><td>&hellip;</td><td>&hellip;</td><td>&hellip;</td><td>&hellip;</td><td>&hellip;</td><td>&hellip;</td><td>&hellip;</td><td>&hellip;</td><td>&hellip;</td><td>&hellip;</td><td>&hellip;</td><td>&hellip;</td><td>&hellip;</td><td>&hellip;</td><td>&hellip;</td><td>&hellip;</td><td>&hellip;</td><td>&hellip;</td><td>&hellip;</td></tr><tr><td>2024.0</td><td>10.0</td><td>31.0</td><td>23.0</td><td>58.0</td><td>3.0</td><td>0.5094</td><td>0.5095</td><td>0.5093</td><td>0.5095</td><td>0.019631</td><td>0.019631</td><td>-0.019631</td><td>0.019631</td><td>0.019631</td><td>0.0</td><td>0.019631</td><td>0.5094</td><td>0.5095</td><td>0.5095</td><td>0.5095</td><td>0.5095</td><td>0.5096</td><td>0.5095</td><td>0.5095</td><td>0.5096</td></tr><tr><td>2024.0</td><td>10.0</td><td>31.0</td><td>23.0</td><td>59.0</td><td>0.0</td><td>0.5094</td><td>0.5095</td><td>0.5094</td><td>0.5095</td><td>0.019631</td><td>0.019631</td><td>0.0</td><td>0.019631</td><td>0.019631</td><td>0.0</td><td>0.019631</td><td>0.5094</td><td>0.5095</td><td>0.5095</td><td>0.5095</td><td>0.5096</td><td>0.5095</td><td>0.5095</td><td>0.5096</td><td>0.5097</td></tr><tr><td>2024.0</td><td>10.0</td><td>31.0</td><td>23.0</td><td>59.0</td><td>1.0</td><td>0.5094</td><td>0.5095</td><td>0.5094</td><td>0.5095</td><td>0.019631</td><td>0.019631</td><td>0.0</td><td>0.019631</td><td>0.019631</td><td>0.0</td><td>0.0</td><td>0.5095</td><td>0.5095</td><td>0.5095</td><td>0.5096</td><td>0.5095</td><td>0.5095</td><td>0.5096</td><td>0.5097</td><td>0.5097</td></tr><tr><td>2024.0</td><td>10.0</td><td>31.0</td><td>23.0</td><td>59.0</td><td>2.0</td><td>0.5095</td><td>0.5095</td><td>0.5094</td><td>0.5095</td><td>0.0</td><td>0.0</td><td>-0.019627</td><td>0.0</td><td>0.0</td><td>-0.019627</td><td>0.019631</td><td>0.5094</td><td>0.5095</td><td>0.5096</td><td>0.5095</td><td>0.5095</td><td>0.5096</td><td>0.5097</td><td>0.5097</td><td>0.5097</td></tr><tr><td>2024.0</td><td>10.0</td><td>31.0</td><td>23.0</td><td>59.0</td><td>3.0</td><td>0.5094</td><td>0.5095</td><td>0.5094</td><td>0.5095</td><td>0.019631</td><td>0.019631</td><td>0.0</td><td>0.039262</td><td>0.039262</td><td>0.019631</td><td>0.019627</td><td>0.5095</td><td>0.5096</td><td>0.5095</td><td>0.5095</td><td>0.5096</td><td>0.5097</td><td>0.5097</td><td>0.5097</td><td>0.5099</td></tr></tbody></table></div>"
      ],
      "text/plain": [
       "shape: (5_086_072, 26)\n",
       "┌────────┬───────┬──────┬──────┬───┬──────────────┬──────────────┬──────────────┬──────────────┐\n",
       "│ year   ┆ month ┆ day  ┆ hour ┆ … ┆ next_close_5 ┆ next_close_6 ┆ next_close_7 ┆ next_close_8 │\n",
       "│ ---    ┆ ---   ┆ ---  ┆ ---  ┆   ┆ ---          ┆ ---          ┆ ---          ┆ ---          │\n",
       "│ f64    ┆ f64   ┆ f64  ┆ f64  ┆   ┆ f64          ┆ f64          ┆ f64          ┆ f64          │\n",
       "╞════════╪═══════╪══════╪══════╪═══╪══════════════╪══════════════╪══════════════╪══════════════╡\n",
       "│ 2022.0 ┆ 6.0   ┆ 1.0  ┆ 0.0  ┆ … ┆ 0.4215       ┆ 0.4214       ┆ 0.4213       ┆ 0.4219       │\n",
       "│ 2022.0 ┆ 6.0   ┆ 1.0  ┆ 0.0  ┆ … ┆ 0.4214       ┆ 0.4213       ┆ 0.4219       ┆ 0.4216       │\n",
       "│ 2022.0 ┆ 6.0   ┆ 1.0  ┆ 0.0  ┆ … ┆ 0.4213       ┆ 0.4219       ┆ 0.4216       ┆ 0.4219       │\n",
       "│ 2022.0 ┆ 6.0   ┆ 1.0  ┆ 0.0  ┆ … ┆ 0.4219       ┆ 0.4216       ┆ 0.4219       ┆ 0.4225       │\n",
       "│ 2022.0 ┆ 6.0   ┆ 1.0  ┆ 0.0  ┆ … ┆ 0.4216       ┆ 0.4219       ┆ 0.4225       ┆ 0.4225       │\n",
       "│ …      ┆ …     ┆ …    ┆ …    ┆ … ┆ …            ┆ …            ┆ …            ┆ …            │\n",
       "│ 2024.0 ┆ 10.0  ┆ 31.0 ┆ 23.0 ┆ … ┆ 0.5096       ┆ 0.5095       ┆ 0.5095       ┆ 0.5096       │\n",
       "│ 2024.0 ┆ 10.0  ┆ 31.0 ┆ 23.0 ┆ … ┆ 0.5095       ┆ 0.5095       ┆ 0.5096       ┆ 0.5097       │\n",
       "│ 2024.0 ┆ 10.0  ┆ 31.0 ┆ 23.0 ┆ … ┆ 0.5095       ┆ 0.5096       ┆ 0.5097       ┆ 0.5097       │\n",
       "│ 2024.0 ┆ 10.0  ┆ 31.0 ┆ 23.0 ┆ … ┆ 0.5096       ┆ 0.5097       ┆ 0.5097       ┆ 0.5097       │\n",
       "│ 2024.0 ┆ 10.0  ┆ 31.0 ┆ 23.0 ┆ … ┆ 0.5097       ┆ 0.5097       ┆ 0.5097       ┆ 0.5099       │\n",
       "└────────┴───────┴──────┴──────┴───┴──────────────┴──────────────┴──────────────┴──────────────┘"
      ]
     },
     "execution_count": 6,
     "metadata": {},
     "output_type": "execute_result"
    }
   ],
   "source": [
    "dfs_featured = dfs_featured.filter(\n",
    "    ((dfs_featured[\"year\"] > 2022) | ((dfs_featured[\"year\"] == 2022) & (dfs_featured[\"month\"] >= 6))) &\n",
    "    ((dfs_featured[\"year\"] < 2024) | ((dfs_featured[\"year\"] == 2024) & (dfs_featured[\"month\"] <= 10)))\n",
    ")\n",
    "\n",
    "dfs_featured"
   ]
  },
  {
   "cell_type": "markdown",
   "metadata": {},
   "source": [
    "# Looping 1"
   ]
  },
  {
   "cell_type": "code",
   "execution_count": null,
   "metadata": {},
   "outputs": [
    {
     "name": "stdout",
     "output_type": "stream",
     "text": [
      "Looping 1 Done!\n"
     ]
    }
   ],
   "source": [
    "import polars as pl\n",
    "import itertools\n",
    "import numpy as np\n",
    "\n",
    "# Define possible threshold values for each parameter\n",
    "# occ_thresholds = [0.4]\n",
    "occ_thresholds = np.arange(0, 1, 0.1)\n",
    "# ohc_thresholds = [0.0]\n",
    "ohc_thresholds = np.arange(0, 2, 0.1)\n",
    "olc_thresholds = [-100]\n",
    "\n",
    "change_thresholds = [100]\n",
    "\n",
    "# hold_periodes = [1, 2, 3, 4, 6, 8, 10, 12, 16, 20, 24, 30, 36]\n",
    "hold_periodes = [1, 2, 3, 4, 5, 6, 7, 8]\n",
    "\n",
    "# Store results\n",
    "results = []\n",
    "\n",
    "# Loop through all combinations of thresholds\n",
    "for (occ_threshold, ohc_threshold, olc_threshold, change_threshold, hold_periode) in itertools.product(\n",
    "    occ_thresholds, ohc_thresholds, olc_thresholds, change_thresholds, hold_periodes):\n",
    "\n",
    "    # Apply filtering logic\n",
    "    df_test = dfs_featured.with_columns(\n",
    "        pl.when(\n",
    "                (pl.col(\"occ\").cast(float) >= occ_threshold) &\n",
    "                (pl.col(\"ohc\").cast(float) >= ohc_threshold) &\n",
    "                (pl.col(\"olc\").cast(float) >= olc_threshold)    \n",
    "        )\n",
    "        .then(pl.lit(\"Long\"))\n",
    "        .otherwise(None)\n",
    "        .alias(\"action\")\n",
    "    )\n",
    "\n",
    "    # Define the target columns dynamically\n",
    "    target_close = f\"next_close_{hold_periode}\" if hold_periode > 1 else \"next_close\"\n",
    "\n",
    "    ##\n",
    "    # Drop any NaN values **only in df_test_cleaned**\n",
    "    df_test_cleaned = df_test.drop_nulls()\n",
    "\n",
    "    # Convert year, month, day, hour, and minute to a datetime column\n",
    "    df_test_cleaned = df_test_cleaned.with_columns(\n",
    "        (pl.col(\"year\").cast(pl.Int32).cast(pl.Utf8) + \"-\" + \n",
    "        pl.col(\"month\").cast(pl.Int32).cast(pl.Utf8).str.zfill(2) + \"-\" + \n",
    "        pl.col(\"day\").cast(pl.Int32).cast(pl.Utf8).str.zfill(2) + \" \" + \n",
    "        pl.col(\"hour\").cast(pl.Int32).cast(pl.Utf8).str.zfill(2) + \":\" + \n",
    "        pl.col(\"minute\").cast(pl.Int32).cast(pl.Utf8).str.zfill(2))\n",
    "        .str.strptime(pl.Datetime, \"%Y-%m-%d %H:%M\", strict=False)\n",
    "        .alias(\"datetime\")\n",
    "    )\n",
    "\n",
    "    # Add interval (each interval is 15 seconds in milliseconds)\n",
    "    df_test_cleaned = df_test_cleaned.with_columns(\n",
    "        (pl.col(\"datetime\") + (pl.col(\"interval\") * 15_000).cast(pl.Duration(\"ms\"))).alias(\"datetime\")\n",
    "    )\n",
    "\n",
    "    # Add interval (each interval is 15 seconds in milliseconds)\n",
    "    df_test_cleaned = df_test_cleaned.with_columns(\n",
    "        (pl.col(\"datetime\") + (pl.col(\"interval\") * 15_000 * hold_periode).cast(pl.Duration(\"ms\"))).alias(\"estimated_closetime\")\n",
    "    )\n",
    "\n",
    "    # Select relevant columns\n",
    "    df_test_cleaned = df_test_cleaned.select([\"action\", \"datetime\", \"year\", \"month\", \"day\", \"hour\", \"minute\",\n",
    "                                            \"occ\", \"ohc\", \"olc\", \"next_open\", \"estimated_closetime\", target_close])\n",
    "\n",
    "    # Rename the last column to 'target_price'\n",
    "    df_test_cleaned = df_test_cleaned.rename({df_test_cleaned.columns[-1]: \"target_price\"})\n",
    "\n",
    "    # Ensure DataFrame is sorted\n",
    "    df_test_cleaned = df_test_cleaned.sort(\"datetime\")\n",
    "\n",
    "    # Convert to list of dictionaries for iterative processing\n",
    "    df_list = df_test_cleaned.to_dicts()\n",
    "    merged_list = []\n",
    "\n",
    "    i = 0\n",
    "    while i < len(df_list):\n",
    "        current_row = df_list[i]\n",
    "        \n",
    "        # Check if the next row exists\n",
    "        while i + 1 < len(df_list) and df_list[i + 1][\"datetime\"] < current_row[\"estimated_closetime\"]:\n",
    "            next_row = df_list[i + 1]\n",
    "            \n",
    "            # Merge logic: Keep all values from the current row except estimated_closetime and target_price\n",
    "            current_row[\"estimated_closetime\"] = next_row[\"estimated_closetime\"]\n",
    "            current_row[\"target_price\"] = next_row[\"target_price\"]\n",
    "            \n",
    "            # Move to the next row (merging step)\n",
    "            i += 1\n",
    "\n",
    "        # Append the merged row\n",
    "        merged_list.append(current_row)\n",
    "        i += 1  # Move to the next unmerged row\n",
    "\n",
    "    # Convert back to Polars DataFrame\n",
    "    df_merged = pl.DataFrame(merged_list)\n",
    "\n",
    "    df_sum = df_merged.with_columns(\n",
    "    pl.when(pl.col(\"action\") == \"Long\")\n",
    "    .then(\n",
    "        pl.when(((pl.col(\"target_price\") - pl.col(\"next_open\")) / pl.col(\"next_open\") * 100) >= change_threshold)\n",
    "        .then(pl.lit(change_threshold - 0.04))\n",
    "        .otherwise(((pl.col(\"target_price\") - pl.col(\"next_open\")) / pl.col(\"next_open\") * 100) - 0.1))\n",
    "    .alias(\"pnl\")\n",
    "    )\n",
    "\n",
    "    df_monthly = df_sum.select([\"datetime\", \"year\", \"month\", \"day\", \"hour\", \"minute\", \"action\", \"pnl\"])\n",
    "    df_monthly = df_monthly.with_columns(\n",
    "            pl.when(\n",
    "                (pl.col(\"pnl\") >= 0)\n",
    "            )\n",
    "            .then(1)\n",
    "            .otherwise(0)\n",
    "            .alias(\"win\")\n",
    "        )\n",
    "\n",
    "    # Group by year and month, then aggregate\n",
    "    df_monthly = df_monthly.group_by(['year', 'month']).agg([\n",
    "        pl.col('action').count().alias('action_count'),\n",
    "        pl.col('pnl').sum().alias('cum_pnl'),\n",
    "        pl.col('win').sum().alias('sum_win'),\n",
    "    ])\n",
    "\n",
    "    # Calculate metrics\n",
    "    total_pnl = df_sum[\"pnl\"].sum()\n",
    "    std_pnl = df_monthly[\"cum_pnl\"].std()\n",
    "    total_long = len(df_sum)\n",
    "    total_wins = df_sum.filter((pl.col(\"pnl\") >= 0)).height\n",
    "    win_rate = (total_wins / total_long) * 100 if total_long > 0 else 0\n",
    "\n",
    "    # Store results in a list\n",
    "    results.append({\n",
    "        \"hold_periode\": hold_periode,\n",
    "        \"occ\": occ_threshold,\n",
    "        \"ohc\": ohc_threshold,\n",
    "        \"olc\": olc_threshold,\n",
    "        \"change_threshold\": change_threshold,\n",
    "        \"total_long\": total_long,\n",
    "        \"total_wins\": total_wins,\n",
    "        \"win_rate\": win_rate,\n",
    "        \"total_pnl\": total_pnl,\n",
    "        \"std_pnl\": std_pnl\n",
    "    })\n",
    "\n",
    "# Convert results to a DataFrame\n",
    "df_results = pl.DataFrame(results)\n",
    "\n",
    "print(\"Looping 1 Done!\")"
   ]
  },
  {
   "cell_type": "code",
   "execution_count": 4,
   "metadata": {},
   "outputs": [
    {
     "data": {
      "text/html": [
       "<div><style>\n",
       ".dataframe > thead > tr,\n",
       ".dataframe > tbody > tr {\n",
       "  text-align: right;\n",
       "  white-space: pre-wrap;\n",
       "}\n",
       "</style>\n",
       "<small>shape: (1, 10)</small><table border=\"1\" class=\"dataframe\"><thead><tr><th>hold_periode</th><th>occ</th><th>ohc</th><th>olc</th><th>change_threshold</th><th>total_long</th><th>total_wins</th><th>win_rate</th><th>total_pnl</th><th>std_pnl</th></tr><tr><td>i64</td><td>f64</td><td>f64</td><td>i64</td><td>i64</td><td>i64</td><td>i64</td><td>f64</td><td>f64</td><td>f64</td></tr></thead><tbody><tr><td>8</td><td>0.5</td><td>0.0</td><td>-100</td><td>100</td><td>1474</td><td>668</td><td>45.31886</td><td>145.056399</td><td>14.32059</td></tr></tbody></table></div>"
      ],
      "text/plain": [
       "shape: (1, 10)\n",
       "┌──────────────┬─────┬─────┬──────┬───┬────────────┬──────────┬────────────┬──────────┐\n",
       "│ hold_periode ┆ occ ┆ ohc ┆ olc  ┆ … ┆ total_wins ┆ win_rate ┆ total_pnl  ┆ std_pnl  │\n",
       "│ ---          ┆ --- ┆ --- ┆ ---  ┆   ┆ ---        ┆ ---      ┆ ---        ┆ ---      │\n",
       "│ i64          ┆ f64 ┆ f64 ┆ i64  ┆   ┆ i64        ┆ f64      ┆ f64        ┆ f64      │\n",
       "╞══════════════╪═════╪═════╪══════╪═══╪════════════╪══════════╪════════════╪══════════╡\n",
       "│ 8            ┆ 0.5 ┆ 0.0 ┆ -100 ┆ … ┆ 668        ┆ 45.31886 ┆ 145.056399 ┆ 14.32059 │\n",
       "└──────────────┴─────┴─────┴──────┴───┴────────────┴──────────┴────────────┴──────────┘"
      ]
     },
     "execution_count": 4,
     "metadata": {},
     "output_type": "execute_result"
    }
   ],
   "source": [
    "# Extract max return approximation row\n",
    "max_return_params = df_results.sort(\"total_pnl\", descending=True).row(0)\n",
    "max_return_df = pl.DataFrame([max_return_params], schema=df_results.schema, orient=\"row\")\n",
    "max_return_df"
   ]
  },
  {
   "cell_type": "code",
   "execution_count": 8,
   "metadata": {},
   "outputs": [
    {
     "data": {
      "text/html": [
       "<div><style>\n",
       ".dataframe > thead > tr,\n",
       ".dataframe > tbody > tr {\n",
       "  text-align: right;\n",
       "  white-space: pre-wrap;\n",
       "}\n",
       "</style>\n",
       "<small>shape: (1, 10)</small><table border=\"1\" class=\"dataframe\"><thead><tr><th>hold_periode</th><th>occ</th><th>ohc</th><th>olc</th><th>change_threshold</th><th>total_long</th><th>total_wins</th><th>win_rate</th><th>total_pnl</th><th>std_pnl</th></tr><tr><td>i64</td><td>f64</td><td>f64</td><td>i64</td><td>i64</td><td>i64</td><td>i64</td><td>f64</td><td>f64</td><td>f64</td></tr></thead><tbody><tr><td>8</td><td>0.0</td><td>0.8</td><td>-100</td><td>100</td><td>749</td><td>375</td><td>50.066756</td><td>121.381151</td><td>11.07863</td></tr></tbody></table></div>"
      ],
      "text/plain": [
       "shape: (1, 10)\n",
       "┌──────────────┬─────┬─────┬──────┬───┬────────────┬───────────┬────────────┬──────────┐\n",
       "│ hold_periode ┆ occ ┆ ohc ┆ olc  ┆ … ┆ total_wins ┆ win_rate  ┆ total_pnl  ┆ std_pnl  │\n",
       "│ ---          ┆ --- ┆ --- ┆ ---  ┆   ┆ ---        ┆ ---       ┆ ---        ┆ ---      │\n",
       "│ i64          ┆ f64 ┆ f64 ┆ i64  ┆   ┆ i64        ┆ f64       ┆ f64        ┆ f64      │\n",
       "╞══════════════╪═════╪═════╪══════╪═══╪════════════╪═══════════╪════════════╪══════════╡\n",
       "│ 8            ┆ 0.0 ┆ 0.8 ┆ -100 ┆ … ┆ 375        ┆ 50.066756 ┆ 121.381151 ┆ 11.07863 │\n",
       "└──────────────┴─────┴─────┴──────┴───┴────────────┴───────────┴────────────┴──────────┘"
      ]
     },
     "execution_count": 8,
     "metadata": {},
     "output_type": "execute_result"
    }
   ],
   "source": [
    "# Filter profitable rows\n",
    "profitable_df = df_results.filter(pl.col(\"win_rate\") >= 50)\n",
    "# Get the row with the maximum opportunities\n",
    "max_opportunities_profitable_params = profitable_df.sort(\"total_long\", descending=True).row(0)\n",
    "# Convert to DataFrame with explicit row orientation\n",
    "max_opportunities_profitable_df = pl.DataFrame([max_opportunities_profitable_params], schema=df_results.schema, orient=\"row\")\n",
    "max_opportunities_profitable_df"
   ]
  },
  {
   "cell_type": "code",
   "execution_count": 6,
   "metadata": {},
   "outputs": [
    {
     "data": {
      "text/html": [
       "<div><style>\n",
       ".dataframe > thead > tr,\n",
       ".dataframe > tbody > tr {\n",
       "  text-align: right;\n",
       "  white-space: pre-wrap;\n",
       "}\n",
       "</style>\n",
       "<small>shape: (1, 10)</small><table border=\"1\" class=\"dataframe\"><thead><tr><th>hold_periode</th><th>occ</th><th>ohc</th><th>olc</th><th>change_threshold</th><th>total_long</th><th>total_wins</th><th>win_rate</th><th>total_pnl</th><th>std_pnl</th></tr><tr><td>i64</td><td>f64</td><td>f64</td><td>i64</td><td>i64</td><td>i64</td><td>i64</td><td>f64</td><td>f64</td><td>f64</td></tr></thead><tbody><tr><td>6</td><td>0.3</td><td>0.4</td><td>-100</td><td>100</td><td>3978</td><td>1638</td><td>41.176471</td><td>2.110936</td><td>17.548934</td></tr></tbody></table></div>"
      ],
      "text/plain": [
       "shape: (1, 10)\n",
       "┌──────────────┬─────┬─────┬──────┬───┬────────────┬───────────┬───────────┬───────────┐\n",
       "│ hold_periode ┆ occ ┆ ohc ┆ olc  ┆ … ┆ total_wins ┆ win_rate  ┆ total_pnl ┆ std_pnl   │\n",
       "│ ---          ┆ --- ┆ --- ┆ ---  ┆   ┆ ---        ┆ ---       ┆ ---       ┆ ---       │\n",
       "│ i64          ┆ f64 ┆ f64 ┆ i64  ┆   ┆ i64        ┆ f64       ┆ f64       ┆ f64       │\n",
       "╞══════════════╪═════╪═════╪══════╪═══╪════════════╪═══════════╪═══════════╪═══════════╡\n",
       "│ 6            ┆ 0.3 ┆ 0.4 ┆ -100 ┆ … ┆ 1638       ┆ 41.176471 ┆ 2.110936  ┆ 17.548934 │\n",
       "└──────────────┴─────┴─────┴──────┴───┴────────────┴───────────┴───────────┴───────────┘"
      ]
     },
     "execution_count": 6,
     "metadata": {},
     "output_type": "execute_result"
    }
   ],
   "source": [
    "# Filter rows where return_approximation is >= 0\n",
    "positive_return_df = df_results.filter(pl.col(\"total_pnl\") >=0)\n",
    "max_opportunities_positive_return_params = positive_return_df.sort(\"total_long\", descending=True).row(0)\n",
    "max_opportunities_positive_return_df = pl.DataFrame([max_opportunities_positive_return_params], schema=df_results.schema, orient=\"row\")\n",
    "max_opportunities_positive_return_df"
   ]
  },
  {
   "cell_type": "code",
   "execution_count": 18,
   "metadata": {},
   "outputs": [
    {
     "data": {
      "text/html": [
       "<div><style>\n",
       ".dataframe > thead > tr,\n",
       ".dataframe > tbody > tr {\n",
       "  text-align: right;\n",
       "  white-space: pre-wrap;\n",
       "}\n",
       "</style>\n",
       "<small>shape: (1, 10)</small><table border=\"1\" class=\"dataframe\"><thead><tr><th>hold_periode</th><th>occ</th><th>ohc</th><th>olc</th><th>change_threshold</th><th>total_long</th><th>total_wins</th><th>win_rate</th><th>total_pnl</th><th>std_pnl</th></tr><tr><td>i64</td><td>f64</td><td>f64</td><td>i64</td><td>i64</td><td>i64</td><td>i64</td><td>f64</td><td>f64</td><td>f64</td></tr></thead><tbody><tr><td>3</td><td>0.4</td><td>1.6</td><td>-100</td><td>100</td><td>425</td><td>235</td><td>55.294118</td><td>86.552233</td><td>4.28882</td></tr></tbody></table></div>"
      ],
      "text/plain": [
       "shape: (1, 10)\n",
       "┌──────────────┬─────┬─────┬──────┬───┬────────────┬───────────┬───────────┬─────────┐\n",
       "│ hold_periode ┆ occ ┆ ohc ┆ olc  ┆ … ┆ total_wins ┆ win_rate  ┆ total_pnl ┆ std_pnl │\n",
       "│ ---          ┆ --- ┆ --- ┆ ---  ┆   ┆ ---        ┆ ---       ┆ ---       ┆ ---     │\n",
       "│ i64          ┆ f64 ┆ f64 ┆ i64  ┆   ┆ i64        ┆ f64       ┆ f64       ┆ f64     │\n",
       "╞══════════════╪═════╪═════╪══════╪═══╪════════════╪═══════════╪═══════════╪═════════╡\n",
       "│ 3            ┆ 0.4 ┆ 1.6 ┆ -100 ┆ … ┆ 235        ┆ 55.294118 ┆ 86.552233 ┆ 4.28882 │\n",
       "└──────────────┴─────┴─────┴──────┴───┴────────────┴───────────┴───────────┴─────────┘"
      ]
     },
     "execution_count": 18,
     "metadata": {},
     "output_type": "execute_result"
    }
   ],
   "source": [
    "# Filter profitable rows\n",
    "filter_1 = df_results.filter(pl.col(\"total_pnl\") > 85)\n",
    "\n",
    "# Get the row with the lowest standard deviation\n",
    "filter_1_lowest_std = filter_1.sort(\"std_pnl\", descending=True).tail(1)\n",
    "\n",
    "# Display the result\n",
    "filter_1_lowest_std"
   ]
  },
  {
   "cell_type": "code",
   "execution_count": 12,
   "metadata": {},
   "outputs": [],
   "source": [
    "df_results.write_csv(\"df_results_new.csv\")"
   ]
  },
  {
   "cell_type": "markdown",
   "metadata": {},
   "source": [
    "# Evaluate Results"
   ]
  },
  {
   "cell_type": "code",
   "execution_count": 13,
   "metadata": {},
   "outputs": [
    {
     "data": {
      "text/html": [
       "<div><style>\n",
       ".dataframe > thead > tr,\n",
       ".dataframe > tbody > tr {\n",
       "  text-align: right;\n",
       "  white-space: pre-wrap;\n",
       "}\n",
       "</style>\n",
       "<small>shape: (1_600, 10)</small><table border=\"1\" class=\"dataframe\"><thead><tr><th>hold_periode</th><th>occ</th><th>ohc</th><th>olc</th><th>change_threshold</th><th>total_long</th><th>total_wins</th><th>win_rate</th><th>total_pnl</th><th>std_pnl</th></tr><tr><td>i64</td><td>f64</td><td>f64</td><td>i64</td><td>i64</td><td>i64</td><td>i64</td><td>f64</td><td>f64</td><td>f64</td></tr></thead><tbody><tr><td>1</td><td>0.0</td><td>0.0</td><td>-100</td><td>100</td><td>2021399</td><td>84201</td><td>4.165481</td><td>-199164.914136</td><td>273.565412</td></tr><tr><td>2</td><td>0.0</td><td>0.0</td><td>-100</td><td>100</td><td>1134367</td><td>103494</td><td>9.123502</td><td>-110946.357863</td><td>132.416281</td></tr><tr><td>3</td><td>0.0</td><td>0.0</td><td>-100</td><td>100</td><td>917059</td><td>105496</td><td>11.503731</td><td>-91126.567215</td><td>120.808866</td></tr><tr><td>4</td><td>0.0</td><td>0.0</td><td>-100</td><td>100</td><td>851038</td><td>114080</td><td>13.404807</td><td>-84740.578697</td><td>125.934454</td></tr><tr><td>5</td><td>0.0</td><td>0.0</td><td>-100</td><td>100</td><td>828392</td><td>119920</td><td>14.476238</td><td>-83033.057479</td><td>134.628294</td></tr><tr><td>&hellip;</td><td>&hellip;</td><td>&hellip;</td><td>&hellip;</td><td>&hellip;</td><td>&hellip;</td><td>&hellip;</td><td>&hellip;</td><td>&hellip;</td><td>&hellip;</td></tr><tr><td>4</td><td>0.9</td><td>1.9</td><td>-100</td><td>100</td><td>62</td><td>36</td><td>58.064516</td><td>32.799009</td><td>5.17373</td></tr><tr><td>5</td><td>0.9</td><td>1.9</td><td>-100</td><td>100</td><td>61</td><td>33</td><td>54.098361</td><td>39.780353</td><td>5.425424</td></tr><tr><td>6</td><td>0.9</td><td>1.9</td><td>-100</td><td>100</td><td>61</td><td>36</td><td>59.016393</td><td>42.956206</td><td>5.457513</td></tr><tr><td>7</td><td>0.9</td><td>1.9</td><td>-100</td><td>100</td><td>59</td><td>38</td><td>64.40678</td><td>44.89461</td><td>5.654095</td></tr><tr><td>8</td><td>0.9</td><td>1.9</td><td>-100</td><td>100</td><td>59</td><td>34</td><td>57.627119</td><td>43.902715</td><td>5.837692</td></tr></tbody></table></div>"
      ],
      "text/plain": [
       "shape: (1_600, 10)\n",
       "┌──────────────┬─────┬─────┬──────┬───┬────────────┬───────────┬────────────────┬────────────┐\n",
       "│ hold_periode ┆ occ ┆ ohc ┆ olc  ┆ … ┆ total_wins ┆ win_rate  ┆ total_pnl      ┆ std_pnl    │\n",
       "│ ---          ┆ --- ┆ --- ┆ ---  ┆   ┆ ---        ┆ ---       ┆ ---            ┆ ---        │\n",
       "│ i64          ┆ f64 ┆ f64 ┆ i64  ┆   ┆ i64        ┆ f64       ┆ f64            ┆ f64        │\n",
       "╞══════════════╪═════╪═════╪══════╪═══╪════════════╪═══════════╪════════════════╪════════════╡\n",
       "│ 1            ┆ 0.0 ┆ 0.0 ┆ -100 ┆ … ┆ 84201      ┆ 4.165481  ┆ -199164.914136 ┆ 273.565412 │\n",
       "│ 2            ┆ 0.0 ┆ 0.0 ┆ -100 ┆ … ┆ 103494     ┆ 9.123502  ┆ -110946.357863 ┆ 132.416281 │\n",
       "│ 3            ┆ 0.0 ┆ 0.0 ┆ -100 ┆ … ┆ 105496     ┆ 11.503731 ┆ -91126.567215  ┆ 120.808866 │\n",
       "│ 4            ┆ 0.0 ┆ 0.0 ┆ -100 ┆ … ┆ 114080     ┆ 13.404807 ┆ -84740.578697  ┆ 125.934454 │\n",
       "│ 5            ┆ 0.0 ┆ 0.0 ┆ -100 ┆ … ┆ 119920     ┆ 14.476238 ┆ -83033.057479  ┆ 134.628294 │\n",
       "│ …            ┆ …   ┆ …   ┆ …    ┆ … ┆ …          ┆ …         ┆ …              ┆ …          │\n",
       "│ 4            ┆ 0.9 ┆ 1.9 ┆ -100 ┆ … ┆ 36         ┆ 58.064516 ┆ 32.799009      ┆ 5.17373    │\n",
       "│ 5            ┆ 0.9 ┆ 1.9 ┆ -100 ┆ … ┆ 33         ┆ 54.098361 ┆ 39.780353      ┆ 5.425424   │\n",
       "│ 6            ┆ 0.9 ┆ 1.9 ┆ -100 ┆ … ┆ 36         ┆ 59.016393 ┆ 42.956206      ┆ 5.457513   │\n",
       "│ 7            ┆ 0.9 ┆ 1.9 ┆ -100 ┆ … ┆ 38         ┆ 64.40678  ┆ 44.89461       ┆ 5.654095   │\n",
       "│ 8            ┆ 0.9 ┆ 1.9 ┆ -100 ┆ … ┆ 34         ┆ 57.627119 ┆ 43.902715      ┆ 5.837692   │\n",
       "└──────────────┴─────┴─────┴──────┴───┴────────────┴───────────┴────────────────┴────────────┘"
      ]
     },
     "execution_count": 13,
     "metadata": {},
     "output_type": "execute_result"
    }
   ],
   "source": [
    "df_r = pl.read_csv(\"/home/ubuntu/Rheza/local-share/06_trades_and_orderbooks/df_results_new.csv\")\n",
    "df_r"
   ]
  },
  {
   "cell_type": "code",
   "execution_count": 14,
   "metadata": {},
   "outputs": [
    {
     "ename": "OutOfBoundsError",
     "evalue": "index 0 is out of bounds for sequence of length 0",
     "output_type": "error",
     "traceback": [
      "\u001b[0;31m---------------------------------------------------------------------------\u001b[0m",
      "\u001b[0;31mOutOfBoundsError\u001b[0m                          Traceback (most recent call last)",
      "\u001b[0;32m/tmp/ipykernel_2519640/3876885240.py\u001b[0m in \u001b[0;36m?\u001b[0;34m()\u001b[0m\n\u001b[1;32m      3\u001b[0m \u001b[0mdf_r_fil_1\u001b[0m \u001b[0;34m=\u001b[0m \u001b[0mdf_r_fil_1\u001b[0m\u001b[0;34m.\u001b[0m\u001b[0mfilter\u001b[0m\u001b[0;34m(\u001b[0m\u001b[0mpl\u001b[0m\u001b[0;34m.\u001b[0m\u001b[0mcol\u001b[0m\u001b[0;34m(\u001b[0m\u001b[0;34m\"hold_periode\"\u001b[0m\u001b[0;34m)\u001b[0m \u001b[0;34m==\u001b[0m \u001b[0;36m4\u001b[0m\u001b[0;34m)\u001b[0m\u001b[0;34m\u001b[0m\u001b[0;34m\u001b[0m\u001b[0m\n\u001b[1;32m      4\u001b[0m \u001b[0mdf_r_fil_1\u001b[0m \u001b[0;34m=\u001b[0m \u001b[0mdf_r_fil_1\u001b[0m\u001b[0;34m.\u001b[0m\u001b[0mfilter\u001b[0m\u001b[0;34m(\u001b[0m\u001b[0mpl\u001b[0m\u001b[0;34m.\u001b[0m\u001b[0mcol\u001b[0m\u001b[0;34m(\u001b[0m\u001b[0;34m\"ohc\"\u001b[0m\u001b[0;34m)\u001b[0m \u001b[0;34m==\u001b[0m \u001b[0;36m0.4\u001b[0m\u001b[0;34m)\u001b[0m\u001b[0;34m\u001b[0m\u001b[0;34m\u001b[0m\u001b[0m\n\u001b[1;32m      5\u001b[0m \u001b[0;34m\u001b[0m\u001b[0m\n\u001b[1;32m      6\u001b[0m \u001b[0;31m# Get the row with the maximum opportunities\u001b[0m\u001b[0;34m\u001b[0m\u001b[0;34m\u001b[0m\u001b[0m\n\u001b[0;32m----> 7\u001b[0;31m \u001b[0mmax_return\u001b[0m \u001b[0;34m=\u001b[0m \u001b[0mdf_r_fil_1\u001b[0m\u001b[0;34m.\u001b[0m\u001b[0msort\u001b[0m\u001b[0;34m(\u001b[0m\u001b[0;34m\"total_pnl\"\u001b[0m\u001b[0;34m,\u001b[0m \u001b[0mdescending\u001b[0m\u001b[0;34m=\u001b[0m\u001b[0;32mTrue\u001b[0m\u001b[0;34m)\u001b[0m\u001b[0;34m.\u001b[0m\u001b[0mrow\u001b[0m\u001b[0;34m(\u001b[0m\u001b[0;36m0\u001b[0m\u001b[0;34m)\u001b[0m\u001b[0;34m\u001b[0m\u001b[0;34m\u001b[0m\u001b[0m\n\u001b[0m\u001b[1;32m      8\u001b[0m \u001b[0mdf_r_fil_1\u001b[0m \u001b[0;34m=\u001b[0m \u001b[0mpl\u001b[0m\u001b[0;34m.\u001b[0m\u001b[0mDataFrame\u001b[0m\u001b[0;34m(\u001b[0m\u001b[0;34m[\u001b[0m\u001b[0mmax_return\u001b[0m\u001b[0;34m]\u001b[0m\u001b[0;34m,\u001b[0m \u001b[0mschema\u001b[0m\u001b[0;34m=\u001b[0m\u001b[0mdf_r_fil_1\u001b[0m\u001b[0;34m.\u001b[0m\u001b[0mschema\u001b[0m\u001b[0;34m,\u001b[0m \u001b[0morient\u001b[0m\u001b[0;34m=\u001b[0m\u001b[0;34m\"row\"\u001b[0m\u001b[0;34m)\u001b[0m\u001b[0;34m\u001b[0m\u001b[0;34m\u001b[0m\u001b[0m\n\u001b[1;32m      9\u001b[0m \u001b[0mdf_r_fil_1\u001b[0m\u001b[0;34m\u001b[0m\u001b[0;34m\u001b[0m\u001b[0m\n",
      "\u001b[0;32m~/Rheza/.venv/lib/python3.12/site-packages/polars/dataframe/frame.py\u001b[0m in \u001b[0;36m?\u001b[0;34m(self, index, by_predicate, named)\u001b[0m\n\u001b[1;32m  10629\u001b[0m             \u001b[0mmsg\u001b[0m \u001b[0;34m=\u001b[0m \u001b[0;34m\"expressions should be passed to the `by_predicate` parameter\"\u001b[0m\u001b[0;34m\u001b[0m\u001b[0;34m\u001b[0m\u001b[0m\n\u001b[1;32m  10630\u001b[0m             \u001b[0;32mraise\u001b[0m \u001b[0mTypeError\u001b[0m\u001b[0;34m(\u001b[0m\u001b[0mmsg\u001b[0m\u001b[0;34m)\u001b[0m\u001b[0;34m\u001b[0m\u001b[0;34m\u001b[0m\u001b[0m\n\u001b[1;32m  10631\u001b[0m \u001b[0;34m\u001b[0m\u001b[0m\n\u001b[1;32m  10632\u001b[0m         \u001b[0;32mif\u001b[0m \u001b[0mindex\u001b[0m \u001b[0;32mis\u001b[0m \u001b[0;32mnot\u001b[0m \u001b[0;32mNone\u001b[0m\u001b[0;34m:\u001b[0m\u001b[0;34m\u001b[0m\u001b[0;34m\u001b[0m\u001b[0m\n\u001b[0;32m> 10633\u001b[0;31m             \u001b[0mrow\u001b[0m \u001b[0;34m=\u001b[0m \u001b[0mself\u001b[0m\u001b[0;34m.\u001b[0m\u001b[0m_df\u001b[0m\u001b[0;34m.\u001b[0m\u001b[0mrow_tuple\u001b[0m\u001b[0;34m(\u001b[0m\u001b[0mindex\u001b[0m\u001b[0;34m)\u001b[0m\u001b[0;34m\u001b[0m\u001b[0;34m\u001b[0m\u001b[0m\n\u001b[0m\u001b[1;32m  10634\u001b[0m             \u001b[0;32mif\u001b[0m \u001b[0mnamed\u001b[0m\u001b[0;34m:\u001b[0m\u001b[0;34m\u001b[0m\u001b[0;34m\u001b[0m\u001b[0m\n\u001b[1;32m  10635\u001b[0m                 \u001b[0;32mreturn\u001b[0m \u001b[0mdict\u001b[0m\u001b[0;34m(\u001b[0m\u001b[0mzip\u001b[0m\u001b[0;34m(\u001b[0m\u001b[0mself\u001b[0m\u001b[0;34m.\u001b[0m\u001b[0mcolumns\u001b[0m\u001b[0;34m,\u001b[0m \u001b[0mrow\u001b[0m\u001b[0;34m)\u001b[0m\u001b[0;34m)\u001b[0m\u001b[0;34m\u001b[0m\u001b[0;34m\u001b[0m\u001b[0m\n\u001b[1;32m  10636\u001b[0m             \u001b[0;32melse\u001b[0m\u001b[0;34m:\u001b[0m\u001b[0;34m\u001b[0m\u001b[0;34m\u001b[0m\u001b[0m\n",
      "\u001b[0;31mOutOfBoundsError\u001b[0m: index 0 is out of bounds for sequence of length 0"
     ]
    }
   ],
   "source": [
    "# Filter\n",
    "df_r_fil_1 = df_r.filter(pl.col(\"total_pnl\") >= 240)\n",
    "df_r_fil_1 = df_r_fil_1.filter(pl.col(\"hold_periode\") == 4)\n",
    "df_r_fil_1 = df_r_fil_1.filter(pl.col(\"ohc\") == 0.4)\n",
    "\n",
    "# Get the row with the maximum opportunities\n",
    "max_return = df_r_fil_1.sort(\"total_pnl\", descending=True).row(0)\n",
    "df_r_fil_1 = pl.DataFrame([max_return], schema=df_r_fil_1.schema, orient=\"row\")\n",
    "df_r_fil_1"
   ]
  },
  {
   "cell_type": "code",
   "execution_count": null,
   "metadata": {},
   "outputs": [
    {
     "data": {
      "text/html": [
       "<div><style>\n",
       ".dataframe > thead > tr,\n",
       ".dataframe > tbody > tr {\n",
       "  text-align: right;\n",
       "  white-space: pre-wrap;\n",
       "}\n",
       "</style>\n",
       "<small>shape: (0, 9)</small><table border=\"1\" class=\"dataframe\"><thead><tr><th>hold_periode</th><th>occ</th><th>ohc</th><th>olc</th><th>change_threshold</th><th>total_long</th><th>total_wins</th><th>win_rate</th><th>total_pnl</th></tr><tr><td>i64</td><td>f64</td><td>f64</td><td>i64</td><td>f64</td><td>i64</td><td>i64</td><td>f64</td><td>f64</td></tr></thead><tbody></tbody></table></div>"
      ],
      "text/plain": [
       "shape: (0, 9)\n",
       "┌──────────────┬─────┬─────┬─────┬───┬────────────┬────────────┬──────────┬───────────┐\n",
       "│ hold_periode ┆ occ ┆ ohc ┆ olc ┆ … ┆ total_long ┆ total_wins ┆ win_rate ┆ total_pnl │\n",
       "│ ---          ┆ --- ┆ --- ┆ --- ┆   ┆ ---        ┆ ---        ┆ ---      ┆ ---       │\n",
       "│ i64          ┆ f64 ┆ f64 ┆ i64 ┆   ┆ i64        ┆ i64        ┆ f64      ┆ f64       │\n",
       "╞══════════════╪═════╪═════╪═════╪═══╪════════════╪════════════╪══════════╪═══════════╡\n",
       "└──────────────┴─────┴─────┴─────┴───┴────────────┴────────────┴──────────┴───────────┘"
      ]
     },
     "execution_count": 32,
     "metadata": {},
     "output_type": "execute_result"
    }
   ],
   "source": [
    "# Filter\n",
    "df_r_fil_1 = df_r.filter(pl.col(\"occ\") == 0.3)\n",
    "df_r_fil_1 = df_r_fil_1.filter(pl.col(\"ohc\") == 0.4)\n",
    "# df_r_fil_1 = df_r_fil_1.filter(pl.col(\"hold_periode\") == 4)\n",
    "\n",
    "df_r_fil_1"
   ]
  },
  {
   "cell_type": "code",
   "execution_count": null,
   "metadata": {},
   "outputs": [],
   "source": []
  }
 ],
 "metadata": {
  "kernelspec": {
   "display_name": ".venv",
   "language": "python",
   "name": "python3"
  },
  "language_info": {
   "codemirror_mode": {
    "name": "ipython",
    "version": 3
   },
   "file_extension": ".py",
   "mimetype": "text/x-python",
   "name": "python",
   "nbconvert_exporter": "python",
   "pygments_lexer": "ipython3",
   "version": "3.12.3"
  }
 },
 "nbformat": 4,
 "nbformat_minor": 2
}
