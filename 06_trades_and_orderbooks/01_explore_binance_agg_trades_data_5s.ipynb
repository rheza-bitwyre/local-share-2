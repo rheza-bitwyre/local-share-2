{
 "cells": [
  {
   "cell_type": "markdown",
   "metadata": {},
   "source": [
    "# 5s Binance Agg Trades Data"
   ]
  },
  {
   "cell_type": "code",
   "execution_count": 10,
   "metadata": {},
   "outputs": [],
   "source": [
    "# List of Parquet file paths\n",
    "file_paths_btc = [\n",
    "    \"/home/ubuntu/trades_data/binance/perps_btcusdt/aggtrades_data_5_sec/BTC_USDT_AGGTRADES_PERPS_2024-01_5_sec.parquet\",\n",
    "    \"/home/ubuntu/trades_data/binance/perps_btcusdt/aggtrades_data_5_sec/BTC_USDT_AGGTRADES_PERPS_2024-02_5_sec.parquet\",\n",
    "    \"/home/ubuntu/trades_data/binance/perps_btcusdt/aggtrades_data_5_sec/BTC_USDT_AGGTRADES_PERPS_2024-03_5_sec.parquet\",\n",
    "    \"/home/ubuntu/trades_data/binance/perps_btcusdt/aggtrades_data_5_sec/BTC_USDT_AGGTRADES_PERPS_2024-04_5_sec.parquet\",\n",
    "    \"/home/ubuntu/trades_data/binance/perps_btcusdt/aggtrades_data_5_sec/BTC_USDT_AGGTRADES_PERPS_2024-05_5_sec.parquet\",\n",
    "    \"/home/ubuntu/trades_data/binance/perps_btcusdt/aggtrades_data_5_sec/BTC_USDT_AGGTRADES_PERPS_2024-06_5_sec.parquet\",\n",
    "    \"/home/ubuntu/trades_data/binance/perps_btcusdt/aggtrades_data_5_sec/BTC_USDT_AGGTRADES_PERPS_2024-07_5_sec.parquet\",\n",
    "    \"/home/ubuntu/trades_data/binance/perps_btcusdt/aggtrades_data_5_sec/BTC_USDT_AGGTRADES_PERPS_2024-08_5_sec.parquet\",\n",
    "    \"/home/ubuntu/trades_data/binance/perps_btcusdt/aggtrades_data_5_sec/BTC_USDT_AGGTRADES_PERPS_2024-09_5_sec.parquet\",\n",
    "    \"/home/ubuntu/trades_data/binance/perps_btcusdt/aggtrades_data_5_sec/BTC_USDT_AGGTRADES_PERPS_2024-10_5_sec.parquet\",\n",
    "    \"/home/ubuntu/trades_data/binance/perps_btcusdt/aggtrades_data_5_sec/BTC_USDT_AGGTRADES_PERPS_2024-11_5_sec.parquet\",\n",
    "    \"/home/ubuntu/trades_data/binance/perps_btcusdt/aggtrades_data_5_sec/BTC_USDT_AGGTRADES_PERPS_2024-12_5_sec.parquet\"\n",
    "]"
   ]
  },
  {
   "cell_type": "code",
   "execution_count": 6,
   "metadata": {},
   "outputs": [],
   "source": [
    "# List of Parquet file paths\n",
    "file_paths_eth = [\n",
    "    \"/home/ubuntu/trades_data/binance/perps_ethusdt/aggtrades_data_5_sec/ETH_USDT_AGGTRADES_PERPS_2024-01_5_sec.parquet\",\n",
    "    \"/home/ubuntu/trades_data/binance/perps_ethusdt/aggtrades_data_5_sec/ETH_USDT_AGGTRADES_PERPS_2024-02_5_sec.parquet\",\n",
    "    \"/home/ubuntu/trades_data/binance/perps_ethusdt/aggtrades_data_5_sec/ETH_USDT_AGGTRADES_PERPS_2024-03_5_sec.parquet\",\n",
    "    \"/home/ubuntu/trades_data/binance/perps_ethusdt/aggtrades_data_5_sec/ETH_USDT_AGGTRADES_PERPS_2024-04_5_sec.parquet\",\n",
    "    \"/home/ubuntu/trades_data/binance/perps_ethusdt/aggtrades_data_5_sec/ETH_USDT_AGGTRADES_PERPS_2024-05_5_sec.parquet\",\n",
    "    \"/home/ubuntu/trades_data/binance/perps_ethusdt/aggtrades_data_5_sec/ETH_USDT_AGGTRADES_PERPS_2024-06_5_sec.parquet\",\n",
    "    \"/home/ubuntu/trades_data/binance/perps_ethusdt/aggtrades_data_5_sec/ETH_USDT_AGGTRADES_PERPS_2024-07_5_sec.parquet\",\n",
    "    \"/home/ubuntu/trades_data/binance/perps_ethusdt/aggtrades_data_5_sec/ETH_USDT_AGGTRADES_PERPS_2024-08_5_sec.parquet\",\n",
    "    \"/home/ubuntu/trades_data/binance/perps_ethusdt/aggtrades_data_5_sec/ETH_USDT_AGGTRADES_PERPS_2024-09_5_sec.parquet\",\n",
    "    \"/home/ubuntu/trades_data/binance/perps_ethusdt/aggtrades_data_5_sec/ETH_USDT_AGGTRADES_PERPS_2024-10_5_sec.parquet\",\n",
    "    \"/home/ubuntu/trades_data/binance/perps_ethusdt/aggtrades_data_5_sec/ETH_USDT_AGGTRADES_PERPS_2024-11_5_sec.parquet\",\n",
    "    \"/home/ubuntu/trades_data/binance/perps_ethusdt/aggtrades_data_5_sec/ETH_USDT_AGGTRADES_PERPS_2024-12_5_sec.parquet\"\n",
    "]"
   ]
  },
  {
   "cell_type": "markdown",
   "metadata": {},
   "source": [
    "# Checking for suitable time intervals"
   ]
  },
  {
   "cell_type": "code",
   "execution_count": 5,
   "metadata": {},
   "outputs": [],
   "source": [
    "import polars as pl\n",
    "\n",
    "def analyze_aggregated_data(file_paths, thresholds=[0.04, 0.07, 0.1], interval=\"1min\"):\n",
    "    \"\"\"\n",
    "    Reads a list of Parquet files, combines them, aggregates data based on a custom interval,\n",
    "    and calculates the percentage of rows exceeding specified thresholds.\n",
    "\n",
    "    Parameters:\n",
    "        file_paths (list): List of paths to Parquet files.\n",
    "        thresholds (list): List of thresholds for max_abs_change (default: [0.04, 0.07, 0.1]).\n",
    "        interval (str): Aggregation interval (e.g., \"10s\", \"15s\", \"1min\", \"2min\", etc.).\n",
    "\n",
    "    Returns:\n",
    "        pl.DataFrame: A table with columns: interval, threshold1, threshold2, threshold3.\n",
    "    \"\"\"\n",
    "    # Read and combine data from all files\n",
    "    dfs = [pl.read_parquet(path) for path in file_paths]\n",
    "    combined_df = pl.concat(dfs)\n",
    "\n",
    "    # Convert the `timestamp_5_second` column to datetime if it's a string\n",
    "    if combined_df.schema[\"timestamp_5_second\"] == pl.Utf8:\n",
    "        combined_df = combined_df.with_columns(\n",
    "            pl.col(\"timestamp_5_second\").str.strptime(pl.Datetime, \"%Y-%m-%d %H:%M:%S\").alias(\"timestamp_5_second\")\n",
    "        )\n",
    "\n",
    "    # Convert interval to a timedelta for aggregation\n",
    "    if interval.endswith(\"s\"):\n",
    "        interval_seconds = int(interval[:-1])\n",
    "    elif interval.endswith(\"min\"):\n",
    "        interval_seconds = int(interval[:-3]) * 60\n",
    "    else:\n",
    "        raise ValueError(\"Interval must be in seconds (e.g., '10s') or minutes (e.g., '1min').\")\n",
    "\n",
    "    # Aggregate data based on the custom interval\n",
    "    combined_df = combined_df.with_columns(\n",
    "        (pl.col(\"timestamp_5_second\").dt.truncate(f\"{interval_seconds}s\")).alias(\"interval_timestamp\")\n",
    "    )\n",
    "    aggregated_df = combined_df.group_by(\"interval_timestamp\").agg([\n",
    "        pl.first(\"openprice\").alias(\"open\"),\n",
    "        pl.max(\"highprice\").alias(\"high\"),\n",
    "        pl.min(\"lowprice\").alias(\"low\"),\n",
    "        pl.last(\"closeprice\").alias(\"close\")\n",
    "    ]).sort(\"interval_timestamp\")\n",
    "\n",
    "    # Calculate max_abs_change and threshold percentages\n",
    "    aggregated_df = aggregated_df.with_columns([\n",
    "        ((pl.col(\"high\") - pl.col(\"open\")) / pl.col(\"open\") * 100)\n",
    "        .fill_nan(0)\n",
    "        .alias(\"perc_high_open\"),\n",
    "        \n",
    "        ((pl.col(\"open\") - pl.col(\"low\")) / pl.col(\"open\") * 100)\n",
    "        .fill_nan(0)\n",
    "        .alias(\"perc_open_low\")\n",
    "    ])\n",
    "\n",
    "    aggregated_df = aggregated_df.with_columns([\n",
    "        pl.max_horizontal([\"perc_high_open\", \"perc_open_low\"]).alias(\"max_abs_change\")\n",
    "    ])\n",
    "\n",
    "    # Calculate percentage of rows exceeding thresholds\n",
    "    total_rows = aggregated_df.height\n",
    "    threshold_results = {\n",
    "        f\"threshold_{threshold}_percent\": (aggregated_df.filter(pl.col(\"max_abs_change\") >= threshold).height / total_rows) * 100\n",
    "        for threshold in thresholds\n",
    "    }\n",
    "\n",
    "    # Create the output table\n",
    "    output_df = pl.DataFrame({\n",
    "        \"interval\": [interval],\n",
    "        **{f\"threshold{i+1}\": [threshold_results[f\"threshold_{threshold}_percent\"]] for i, threshold in enumerate(thresholds)}\n",
    "    })\n",
    "\n",
    "    return output_df"
   ]
  },
  {
   "cell_type": "code",
   "execution_count": 6,
   "metadata": {},
   "outputs": [
    {
     "name": "stdout",
     "output_type": "stream",
     "text": [
      "shape: (7, 4)\n",
      "┌──────────┬────────────┬────────────┬────────────┐\n",
      "│ interval ┆ threshold1 ┆ threshold2 ┆ threshold3 │\n",
      "│ ---      ┆ ---        ┆ ---        ┆ ---        │\n",
      "│ str      ┆ f64        ┆ f64        ┆ f64        │\n",
      "╞══════════╪════════════╪════════════╪════════════╡\n",
      "│ 5s       ┆ 7.916568   ┆ 2.036122   ┆ 0.752214   │\n",
      "│ 10s      ┆ 17.076436  ┆ 5.402026   ┆ 2.149868   │\n",
      "│ 15s      ┆ 24.992802  ┆ 9.077894   ┆ 3.868462   │\n",
      "│ 30s      ┆ 42.542194  ┆ 19.339595  ┆ 9.516816   │\n",
      "│ 45s      ┆ 53.917242  ┆ 27.756756  ┆ 14.876171  │\n",
      "│ 1min     ┆ 63.085053  ┆ 35.61444   ┆ 20.309473  │\n",
      "│ 2min     ┆ 80.435954  ┆ 55.28359   ┆ 36.700517  │\n",
      "└──────────┴────────────┴────────────┴────────────┘\n"
     ]
    }
   ],
   "source": [
    "# Analyze data for different intervals\n",
    "intervals = [\"5s\", \"10s\", \"15s\", \"30s\", \"45s\", \"1min\", \"2min\"]\n",
    "results = pl.concat([analyze_aggregated_data(file_paths_btc, interval=interval) for interval in intervals])\n",
    "\n",
    "print(results)"
   ]
  },
  {
   "cell_type": "code",
   "execution_count": 7,
   "metadata": {},
   "outputs": [
    {
     "name": "stdout",
     "output_type": "stream",
     "text": [
      "shape: (7, 4)\n",
      "┌──────────┬────────────┬────────────┬────────────┐\n",
      "│ interval ┆ threshold1 ┆ threshold2 ┆ threshold3 │\n",
      "│ ---      ┆ ---        ┆ ---        ┆ ---        │\n",
      "│ str      ┆ f64        ┆ f64        ┆ f64        │\n",
      "╞══════════╪════════════╪════════════╪════════════╡\n",
      "│ 5s       ┆ 11.736998  ┆ 3.186505   ┆ 1.19288    │\n",
      "│ 10s      ┆ 24.049459  ┆ 8.250283   ┆ 3.381216   │\n",
      "│ 15s      ┆ 33.818399  ┆ 13.437943  ┆ 5.986581   │\n",
      "│ 30s      ┆ 53.678858  ┆ 27.029363  ┆ 14.120583  │\n",
      "│ 45s      ┆ 65.439924  ┆ 37.29296   ┆ 21.358444  │\n",
      "│ 1min     ┆ 74.051895  ┆ 46.428538  ┆ 28.334519  │\n",
      "│ 2min     ┆ 88.767959  ┆ 67.082204  ┆ 47.471102  │\n",
      "└──────────┴────────────┴────────────┴────────────┘\n"
     ]
    }
   ],
   "source": [
    "# Analyze data for different intervals\n",
    "intervals = [\"5s\", \"10s\", \"15s\", \"30s\", \"45s\", \"1min\", \"2min\"]\n",
    "results = pl.concat([analyze_aggregated_data(file_paths_eth, interval=interval) for interval in intervals])\n",
    "\n",
    "print(results)"
   ]
  },
  {
   "cell_type": "markdown",
   "metadata": {},
   "source": [
    "# Analyze Raw Binance Perps Trades Data"
   ]
  },
  {
   "cell_type": "code",
   "execution_count": 17,
   "metadata": {},
   "outputs": [],
   "source": [
    "import polars as pl\n",
    "\n",
    "def analyze_raw_trades_data(file_paths, thresholds=[0.04, 0.07, 0.1], interval=\"1min\"):\n",
    "    \"\"\"\n",
    "    Reads a list of Parquet files, combines them, aggregates data to 1-second intervals,\n",
    "    then further aggregates to a custom interval, and calculates the percentage of rows\n",
    "    exceeding specified thresholds.\n",
    "\n",
    "    Parameters:\n",
    "        file_paths (list): List of paths to Parquet files.\n",
    "        thresholds (list): List of thresholds for max_abs_change (default: [0.04, 0.07, 0.1]).\n",
    "        interval (str): Custom aggregation interval (e.g., \"10s\", \"15s\", \"1min\", \"2min\", etc.).\n",
    "\n",
    "    Returns:\n",
    "        pl.DataFrame: A table with columns: interval, threshold1, threshold2, threshold3.\n",
    "    \"\"\"\n",
    "    # Read and combine data from all files\n",
    "    dfs = [pl.read_parquet(path) for path in file_paths]\n",
    "    combined_df = pl.concat(dfs)\n",
    "\n",
    "    # Convert `transact_time` (Unix timestamp in milliseconds) to datetime\n",
    "    combined_df = combined_df.with_columns(\n",
    "        (pl.col(\"transact_time\").cast(pl.Int64) / 1000).cast(pl.Datetime).alias(\"timestamp\")\n",
    "    )\n",
    "\n",
    "    # Aggregate to 1-second intervals\n",
    "    combined_df = combined_df.with_columns(\n",
    "        pl.col(\"timestamp\").dt.truncate(\"1s\").alias(\"timestamp_1s\")\n",
    "    )\n",
    "    aggregated_1s_df = combined_df.group_by(\"timestamp_1s\").agg([\n",
    "        pl.first(\"price\").alias(\"open\"),\n",
    "        pl.max(\"price\").alias(\"high\"),\n",
    "        pl.min(\"price\").alias(\"low\"),\n",
    "        pl.last(\"price\").alias(\"close\")\n",
    "    ]).sort(\"timestamp_1s\")\n",
    "\n",
    "    # Convert custom interval to seconds\n",
    "    if interval.endswith(\"s\"):\n",
    "        interval_seconds = int(interval[:-1])\n",
    "    elif interval.endswith(\"min\"):\n",
    "        interval_seconds = int(interval[:-3]) * 60\n",
    "    else:\n",
    "        raise ValueError(\"Interval must be in seconds (e.g., '10s') or minutes (e.g., '1min').\")\n",
    "\n",
    "    # Further aggregate to the custom interval\n",
    "    aggregated_df = aggregated_1s_df.with_columns(\n",
    "        pl.col(\"timestamp_1s\").dt.truncate(f\"{interval_seconds}s\").alias(\"interval_timestamp\")\n",
    "    ).group_by(\"interval_timestamp\").agg([\n",
    "        pl.first(\"open\").alias(\"open\"),\n",
    "        pl.max(\"high\").alias(\"high\"),\n",
    "        pl.min(\"low\").alias(\"low\"),\n",
    "        pl.last(\"close\").alias(\"close\")\n",
    "    ]).sort(\"interval_timestamp\")\n",
    "\n",
    "    # Calculate max_abs_change and threshold percentages\n",
    "    aggregated_df = aggregated_df.with_columns([\n",
    "        ((pl.col(\"high\") - pl.col(\"open\")) / pl.col(\"open\") * 100)\n",
    "        .fill_nan(0)\n",
    "        .alias(\"perc_high_open\"),\n",
    "        \n",
    "        ((pl.col(\"open\") - pl.col(\"low\")) / pl.col(\"open\") * 100)\n",
    "        .fill_nan(0)\n",
    "        .alias(\"perc_open_low\")\n",
    "    ])\n",
    "\n",
    "    aggregated_df = aggregated_df.with_columns([\n",
    "        pl.max_horizontal([\"perc_high_open\", \"perc_open_low\"]).alias(\"max_abs_change\")\n",
    "    ])\n",
    "\n",
    "    # Calculate percentage of rows exceeding thresholds\n",
    "    total_rows = aggregated_df.height\n",
    "    threshold_results = {\n",
    "        f\"threshold_{threshold}_percent\": (aggregated_df.filter(pl.col(\"max_abs_change\") >= threshold).height / total_rows) * 100\n",
    "        for threshold in thresholds\n",
    "    }\n",
    "\n",
    "    # Create the output table\n",
    "    output_df = pl.DataFrame({\n",
    "        \"interval\": [interval],\n",
    "        **{f\"threshold{i+1}\": [threshold_results[f\"threshold_{threshold}_percent\"]] for i, threshold in enumerate(thresholds)}\n",
    "    })\n",
    "\n",
    "    return output_df"
   ]
  },
  {
   "cell_type": "code",
   "execution_count": 2,
   "metadata": {},
   "outputs": [],
   "source": [
    "# Example usage\n",
    "file_paths_bnb = [\n",
    "    \"/home/ubuntu/trades_data/binance/perps_bnbusdt/BNBUSDT-aggTrades-2024-01.parquet\",\n",
    "    \"/home/ubuntu/trades_data/binance/perps_bnbusdt/BNBUSDT-aggTrades-2024-02.parquet\",\n",
    "    \"/home/ubuntu/trades_data/binance/perps_bnbusdt/BNBUSDT-aggTrades-2024-03.parquet\",\n",
    "    \"/home/ubuntu/trades_data/binance/perps_bnbusdt/BNBUSDT-aggTrades-2024-04.parquet\",\n",
    "    \"/home/ubuntu/trades_data/binance/perps_bnbusdt/BNBUSDT-aggTrades-2024-05.parquet\",\n",
    "    \"/home/ubuntu/trades_data/binance/perps_bnbusdt/BNBUSDT-aggTrades-2024-06.parquet\",\n",
    "    \"/home/ubuntu/trades_data/binance/perps_bnbusdt/BNBUSDT-aggTrades-2024-07.parquet\",\n",
    "    \"/home/ubuntu/trades_data/binance/perps_bnbusdt/BNBUSDT-aggTrades-2024-08.parquet\",\n",
    "    \"/home/ubuntu/trades_data/binance/perps_bnbusdt/BNBUSDT-aggTrades-2024-09.parquet\",\n",
    "    \"/home/ubuntu/trades_data/binance/perps_bnbusdt/BNBUSDT-aggTrades-2024-10.parquet\",\n",
    "    \"/home/ubuntu/trades_data/binance/perps_bnbusdt/BNBUSDT-aggTrades-2024-11.parquet\",\n",
    "    \"/home/ubuntu/trades_data/binance/perps_bnbusdt/BNBUSDT-aggTrades-2024-12.parquet\"\n",
    "]"
   ]
  },
  {
   "cell_type": "code",
   "execution_count": 19,
   "metadata": {},
   "outputs": [
    {
     "name": "stdout",
     "output_type": "stream",
     "text": [
      "shape: (7, 4)\n",
      "┌──────────┬────────────┬────────────┬────────────┐\n",
      "│ interval ┆ threshold1 ┆ threshold2 ┆ threshold3 │\n",
      "│ ---      ┆ ---        ┆ ---        ┆ ---        │\n",
      "│ str      ┆ f64        ┆ f64        ┆ f64        │\n",
      "╞══════════╪════════════╪════════════╪════════════╡\n",
      "│ 5s       ┆ 100.0      ┆ 100.0      ┆ 100.0      │\n",
      "│ 10s      ┆ 100.0      ┆ 100.0      ┆ 100.0      │\n",
      "│ 15s      ┆ 100.0      ┆ 100.0      ┆ 100.0      │\n",
      "│ 30s      ┆ 100.0      ┆ 100.0      ┆ 100.0      │\n",
      "│ 45s      ┆ 100.0      ┆ 100.0      ┆ 100.0      │\n",
      "│ 1min     ┆ 100.0      ┆ 100.0      ┆ 100.0      │\n",
      "│ 2min     ┆ 100.0      ┆ 100.0      ┆ 100.0      │\n",
      "└──────────┴────────────┴────────────┴────────────┘\n"
     ]
    }
   ],
   "source": [
    "# Analyze data for different intervals\n",
    "intervals = [\"5s\", \"10s\", \"15s\", \"30s\", \"45s\", \"1min\", \"2min\"]\n",
    "results = pl.concat([analyze_raw_trades_data(file_paths_bnb, interval=interval) for interval in intervals])\n",
    "\n",
    "print(results)"
   ]
  },
  {
   "cell_type": "code",
   "execution_count": 4,
   "metadata": {},
   "outputs": [
    {
     "data": {
      "text/html": [
       "<div><style>\n",
       ".dataframe > thead > tr,\n",
       ".dataframe > tbody > tr {\n",
       "  text-align: right;\n",
       "  white-space: pre-wrap;\n",
       "}\n",
       "</style>\n",
       "<small>shape: (7_140_024, 7)</small><table border=\"1\" class=\"dataframe\"><thead><tr><th>agg_trade_id</th><th>price</th><th>quantity</th><th>first_trade_id</th><th>last_trade_id</th><th>transact_time</th><th>is_buyer_maker</th></tr><tr><td>i64</td><td>f64</td><td>f64</td><td>i64</td><td>i64</td><td>i64</td><td>bool</td></tr></thead><tbody><tr><td>519941485</td><td>311.33</td><td>0.13</td><td>1125538125</td><td>1125538128</td><td>1704067203147</td><td>false</td></tr><tr><td>519941486</td><td>311.34</td><td>0.02</td><td>1125538129</td><td>1125538129</td><td>1704067203163</td><td>false</td></tr><tr><td>519941487</td><td>311.36</td><td>1.4</td><td>1125538130</td><td>1125538133</td><td>1704067203163</td><td>false</td></tr><tr><td>519941488</td><td>311.35</td><td>2.92</td><td>1125538134</td><td>1125538138</td><td>1704067203177</td><td>true</td></tr><tr><td>519941489</td><td>311.33</td><td>125.25</td><td>1125538139</td><td>1125538145</td><td>1704067203191</td><td>true</td></tr><tr><td>&hellip;</td><td>&hellip;</td><td>&hellip;</td><td>&hellip;</td><td>&hellip;</td><td>&hellip;</td><td>&hellip;</td></tr><tr><td>527081504</td><td>300.53</td><td>0.66</td><td>1150828313</td><td>1150828314</td><td>1706745598403</td><td>false</td></tr><tr><td>527081505</td><td>300.53</td><td>0.19</td><td>1150828315</td><td>1150828315</td><td>1706745598770</td><td>false</td></tr><tr><td>527081506</td><td>300.52</td><td>0.66</td><td>1150828316</td><td>1150828317</td><td>1706745599216</td><td>true</td></tr><tr><td>527081507</td><td>300.52</td><td>0.03</td><td>1150828318</td><td>1150828318</td><td>1706745599569</td><td>true</td></tr><tr><td>527081508</td><td>300.53</td><td>0.27</td><td>1150828319</td><td>1150828319</td><td>1706745599681</td><td>false</td></tr></tbody></table></div>"
      ],
      "text/plain": [
       "shape: (7_140_024, 7)\n",
       "┌──────────────┬────────┬──────────┬───────────────┬───────────────┬───────────────┬───────────────┐\n",
       "│ agg_trade_id ┆ price  ┆ quantity ┆ first_trade_i ┆ last_trade_id ┆ transact_time ┆ is_buyer_make │\n",
       "│ ---          ┆ ---    ┆ ---      ┆ d             ┆ ---           ┆ ---           ┆ r             │\n",
       "│ i64          ┆ f64    ┆ f64      ┆ ---           ┆ i64           ┆ i64           ┆ ---           │\n",
       "│              ┆        ┆          ┆ i64           ┆               ┆               ┆ bool          │\n",
       "╞══════════════╪════════╪══════════╪═══════════════╪═══════════════╪═══════════════╪═══════════════╡\n",
       "│ 519941485    ┆ 311.33 ┆ 0.13     ┆ 1125538125    ┆ 1125538128    ┆ 1704067203147 ┆ false         │\n",
       "│ 519941486    ┆ 311.34 ┆ 0.02     ┆ 1125538129    ┆ 1125538129    ┆ 1704067203163 ┆ false         │\n",
       "│ 519941487    ┆ 311.36 ┆ 1.4      ┆ 1125538130    ┆ 1125538133    ┆ 1704067203163 ┆ false         │\n",
       "│ 519941488    ┆ 311.35 ┆ 2.92     ┆ 1125538134    ┆ 1125538138    ┆ 1704067203177 ┆ true          │\n",
       "│ 519941489    ┆ 311.33 ┆ 125.25   ┆ 1125538139    ┆ 1125538145    ┆ 1704067203191 ┆ true          │\n",
       "│ …            ┆ …      ┆ …        ┆ …             ┆ …             ┆ …             ┆ …             │\n",
       "│ 527081504    ┆ 300.53 ┆ 0.66     ┆ 1150828313    ┆ 1150828314    ┆ 1706745598403 ┆ false         │\n",
       "│ 527081505    ┆ 300.53 ┆ 0.19     ┆ 1150828315    ┆ 1150828315    ┆ 1706745598770 ┆ false         │\n",
       "│ 527081506    ┆ 300.52 ┆ 0.66     ┆ 1150828316    ┆ 1150828317    ┆ 1706745599216 ┆ true          │\n",
       "│ 527081507    ┆ 300.52 ┆ 0.03     ┆ 1150828318    ┆ 1150828318    ┆ 1706745599569 ┆ true          │\n",
       "│ 527081508    ┆ 300.53 ┆ 0.27     ┆ 1150828319    ┆ 1150828319    ┆ 1706745599681 ┆ false         │\n",
       "└──────────────┴────────┴──────────┴───────────────┴───────────────┴───────────────┴───────────────┘"
      ]
     },
     "execution_count": 4,
     "metadata": {},
     "output_type": "execute_result"
    }
   ],
   "source": [
    "import polars as pl\n",
    "\n",
    "# Reading a Parquet file into a DataFrame\n",
    "df = pl.read_parquet(\"/home/ubuntu/trades_data/binance/perps_bnbusdt/BNBUSDT-aggTrades-2024-01.parquet\")\n",
    "\n",
    "# Display the first few rows of the DataFrame\n",
    "df"
   ]
  },
  {
   "cell_type": "markdown",
   "metadata": {},
   "source": [
    "# Explore"
   ]
  },
  {
   "cell_type": "code",
   "execution_count": 11,
   "metadata": {},
   "outputs": [
    {
     "data": {
      "text/html": [
       "<div><style>\n",
       ".dataframe > thead > tr,\n",
       ".dataframe > tbody > tr {\n",
       "  text-align: right;\n",
       "  white-space: pre-wrap;\n",
       "}\n",
       "</style>\n",
       "<small>shape: (6_324_129, 21)</small><table border=\"1\" class=\"dataframe\"><thead><tr><th>timestamp_5_second</th><th>date</th><th>year_month</th><th>hourminute</th><th>openprice</th><th>highprice</th><th>lowprice</th><th>closeprice</th><th>std_price</th><th>sum_quotevolume</th><th>sum_trades</th><th>avg_quotevolume_per_trade</th><th>buyer_maker_price_wa</th><th>buyer_taker_price_wa</th><th>wa_price</th><th>buyer_maker_price_std</th><th>buyer_maker_quotevolume</th><th>buyer_maker_trades</th><th>buyer_taker_price_std</th><th>buyer_taker_quotevolume</th><th>buyer_taker_trades</th></tr><tr><td>str</td><td>str</td><td>str</td><td>str</td><td>f64</td><td>f64</td><td>f64</td><td>f64</td><td>f64</td><td>f64</td><td>i64</td><td>f64</td><td>f64</td><td>f64</td><td>f64</td><td>f64</td><td>f64</td><td>i64</td><td>f64</td><td>f64</td><td>i64</td></tr></thead><tbody><tr><td>&quot;2024-01-0100:00:00&quot;</td><td>&quot;2024-01-01&quot;</td><td>&quot;2024-01&quot;</td><td>&quot;00:00&quot;</td><td>42313.9</td><td>42318.0</td><td>42310.2</td><td>42310.3</td><td>2.254781</td><td>1.2716e6</td><td>282</td><td>3587.300454</td><td>42315.138722</td><td>42315.634979</td><td>42315.227369</td><td>2.440821</td><td>1.0445e6</td><td>183</td><td>1.814441</td><td>227150.3282</td><td>99</td></tr><tr><td>&quot;2024-01-0100:00:05&quot;</td><td>&quot;2024-01-01&quot;</td><td>&quot;2024-01&quot;</td><td>&quot;00:00&quot;</td><td>42310.3</td><td>42310.3</td><td>42295.0</td><td>42295.1</td><td>4.822875</td><td>1.1338e6</td><td>384</td><td>2697.455074</td><td>42301.339466</td><td>42300.372395</td><td>42301.186553</td><td>4.773049</td><td>954487.4124</td><td>319</td><td>4.383526</td><td>179268.9762</td><td>65</td></tr><tr><td>&quot;2024-01-0100:00:10&quot;</td><td>&quot;2024-01-01&quot;</td><td>&quot;2024-01&quot;</td><td>&quot;00:00&quot;</td><td>42295.1</td><td>42301.4</td><td>42289.6</td><td>42301.4</td><td>3.469909</td><td>1.3695e6</td><td>372</td><td>3642.823764</td><td>42293.112692</td><td>42295.891517</td><td>42294.077856</td><td>2.339299</td><td>893822.6413</td><td>172</td><td>3.753603</td><td>475659.5922</td><td>200</td></tr><tr><td>&quot;2024-01-0100:00:15&quot;</td><td>&quot;2024-01-01&quot;</td><td>&quot;2024-01&quot;</td><td>&quot;00:00&quot;</td><td>42301.3</td><td>42301.7</td><td>42299.0</td><td>42301.7</td><td>1.144168</td><td>772983.1227</td><td>194</td><td>1935.034346</td><td>42300.685356</td><td>42299.390008</td><td>42299.612734</td><td>1.19477</td><td>132908.7533</td><td>64</td><td>1.124031</td><td>640074.3694</td><td>130</td></tr><tr><td>&quot;2024-01-0100:00:20&quot;</td><td>&quot;2024-01-01&quot;</td><td>&quot;2024-01&quot;</td><td>&quot;00:00&quot;</td><td>42301.7</td><td>42301.7</td><td>42299.4</td><td>42299.4</td><td>0.903844</td><td>96910.6403</td><td>68</td><td>2077.63125</td><td>42301.03938</td><td>42299.676972</td><td>42300.585055</td><td>1.03648</td><td>64593.6871</td><td>37</td><td>0.709805</td><td>32316.9532</td><td>31</td></tr><tr><td>&hellip;</td><td>&hellip;</td><td>&hellip;</td><td>&hellip;</td><td>&hellip;</td><td>&hellip;</td><td>&hellip;</td><td>&hellip;</td><td>&hellip;</td><td>&hellip;</td><td>&hellip;</td><td>&hellip;</td><td>&hellip;</td><td>&hellip;</td><td>&hellip;</td><td>&hellip;</td><td>&hellip;</td><td>&hellip;</td><td>&hellip;</td><td>&hellip;</td><td>&hellip;</td></tr><tr><td>&quot;2024-12-3123:59:35&quot;</td><td>&quot;2024-12-31&quot;</td><td>&quot;2024-12&quot;</td><td>&quot;23:59&quot;</td><td>93549.7</td><td>93549.7</td><td>93549.6</td><td>93549.6</td><td>0.049559</td><td>61742.7476</td><td>32</td><td>1290.820804</td><td>93549.6</td><td>93549.7</td><td>93549.617576</td><td>0.0</td><td>50890.9824</td><td>23</td><td>0.0</td><td>10851.7652</td><td>9</td></tr><tr><td>&quot;2024-12-3123:59:40&quot;</td><td>&quot;2024-12-31&quot;</td><td>&quot;2024-12&quot;</td><td>&quot;23:59&quot;</td><td>93549.6</td><td>93549.7</td><td>93549.6</td><td>93549.6</td><td>0.048936</td><td>96636.823</td><td>27</td><td>1804.728914</td><td>93549.6</td><td>93549.7</td><td>93549.683446</td><td>0.0</td><td>15996.9816</td><td>15</td><td>0.0</td><td>80639.8414</td><td>12</td></tr><tr><td>&quot;2024-12-3123:59:45&quot;</td><td>&quot;2024-12-31&quot;</td><td>&quot;2024-12&quot;</td><td>&quot;23:59&quot;</td><td>93549.7</td><td>93549.7</td><td>93549.6</td><td>93549.6</td><td>0.049761</td><td>219280.2873</td><td>73</td><td>1523.67108</td><td>93549.6</td><td>93549.7</td><td>93549.610623</td><td>0.0</td><td>195986.412</td><td>60</td><td>0.0</td><td>23293.8753</td><td>13</td></tr><tr><td>&quot;2024-12-3123:59:50&quot;</td><td>&quot;2024-12-31&quot;</td><td>&quot;2024-12&quot;</td><td>&quot;23:59&quot;</td><td>93549.6</td><td>93549.6</td><td>93549.3</td><td>93549.3</td><td>0.098077</td><td>54632.9018</td><td>68</td><td>876.160095</td><td>93549.520424</td><td>93549.43285</td><td>93549.489384</td><td>0.103256</td><td>35268.1692</td><td>60</td><td>0.08165</td><td>19364.7326</td><td>8</td></tr><tr><td>&quot;2024-12-3123:59:55&quot;</td><td>&quot;2024-12-31&quot;</td><td>&quot;2024-12&quot;</td><td>&quot;23:59&quot;</td><td>93549.4</td><td>93549.4</td><td>93548.9</td><td>93548.9</td><td>0.174388</td><td>65765.1686</td><td>47</td><td>1750.151703</td><td>93549.12193</td><td>93549.352632</td><td>93549.315221</td><td>0.161325</td><td>10664.5999</td><td>29</td><td>0.132288</td><td>55100.5687</td><td>18</td></tr></tbody></table></div>"
      ],
      "text/plain": [
       "shape: (6_324_129, 21)\n",
       "┌───────────┬───────────┬───────────┬───────────┬───┬───────────┬───────────┬───────────┬──────────┐\n",
       "│ timestamp ┆ date      ┆ year_mont ┆ hourminut ┆ … ┆ buyer_mak ┆ buyer_tak ┆ buyer_tak ┆ buyer_ta │\n",
       "│ _5_second ┆ ---       ┆ h         ┆ e         ┆   ┆ er_trades ┆ er_price_ ┆ er_quotev ┆ ker_trad │\n",
       "│ ---       ┆ str       ┆ ---       ┆ ---       ┆   ┆ ---       ┆ std       ┆ olume     ┆ es       │\n",
       "│ str       ┆           ┆ str       ┆ str       ┆   ┆ i64       ┆ ---       ┆ ---       ┆ ---      │\n",
       "│           ┆           ┆           ┆           ┆   ┆           ┆ f64       ┆ f64       ┆ i64      │\n",
       "╞═══════════╪═══════════╪═══════════╪═══════════╪═══╪═══════════╪═══════════╪═══════════╪══════════╡\n",
       "│ 2024-01-0 ┆ 2024-01-0 ┆ 2024-01   ┆ 00:00     ┆ … ┆ 183       ┆ 1.814441  ┆ 227150.32 ┆ 99       │\n",
       "│ 100:00:00 ┆ 1         ┆           ┆           ┆   ┆           ┆           ┆ 82        ┆          │\n",
       "│ 2024-01-0 ┆ 2024-01-0 ┆ 2024-01   ┆ 00:00     ┆ … ┆ 319       ┆ 4.383526  ┆ 179268.97 ┆ 65       │\n",
       "│ 100:00:05 ┆ 1         ┆           ┆           ┆   ┆           ┆           ┆ 62        ┆          │\n",
       "│ 2024-01-0 ┆ 2024-01-0 ┆ 2024-01   ┆ 00:00     ┆ … ┆ 172       ┆ 3.753603  ┆ 475659.59 ┆ 200      │\n",
       "│ 100:00:10 ┆ 1         ┆           ┆           ┆   ┆           ┆           ┆ 22        ┆          │\n",
       "│ 2024-01-0 ┆ 2024-01-0 ┆ 2024-01   ┆ 00:00     ┆ … ┆ 64        ┆ 1.124031  ┆ 640074.36 ┆ 130      │\n",
       "│ 100:00:15 ┆ 1         ┆           ┆           ┆   ┆           ┆           ┆ 94        ┆          │\n",
       "│ 2024-01-0 ┆ 2024-01-0 ┆ 2024-01   ┆ 00:00     ┆ … ┆ 37        ┆ 0.709805  ┆ 32316.953 ┆ 31       │\n",
       "│ 100:00:20 ┆ 1         ┆           ┆           ┆   ┆           ┆           ┆ 2         ┆          │\n",
       "│ …         ┆ …         ┆ …         ┆ …         ┆ … ┆ …         ┆ …         ┆ …         ┆ …        │\n",
       "│ 2024-12-3 ┆ 2024-12-3 ┆ 2024-12   ┆ 23:59     ┆ … ┆ 23        ┆ 0.0       ┆ 10851.765 ┆ 9        │\n",
       "│ 123:59:35 ┆ 1         ┆           ┆           ┆   ┆           ┆           ┆ 2         ┆          │\n",
       "│ 2024-12-3 ┆ 2024-12-3 ┆ 2024-12   ┆ 23:59     ┆ … ┆ 15        ┆ 0.0       ┆ 80639.841 ┆ 12       │\n",
       "│ 123:59:40 ┆ 1         ┆           ┆           ┆   ┆           ┆           ┆ 4         ┆          │\n",
       "│ 2024-12-3 ┆ 2024-12-3 ┆ 2024-12   ┆ 23:59     ┆ … ┆ 60        ┆ 0.0       ┆ 23293.875 ┆ 13       │\n",
       "│ 123:59:45 ┆ 1         ┆           ┆           ┆   ┆           ┆           ┆ 3         ┆          │\n",
       "│ 2024-12-3 ┆ 2024-12-3 ┆ 2024-12   ┆ 23:59     ┆ … ┆ 60        ┆ 0.08165   ┆ 19364.732 ┆ 8        │\n",
       "│ 123:59:50 ┆ 1         ┆           ┆           ┆   ┆           ┆           ┆ 6         ┆          │\n",
       "│ 2024-12-3 ┆ 2024-12-3 ┆ 2024-12   ┆ 23:59     ┆ … ┆ 29        ┆ 0.132288  ┆ 55100.568 ┆ 18       │\n",
       "│ 123:59:55 ┆ 1         ┆           ┆           ┆   ┆           ┆           ┆ 7         ┆          │\n",
       "└───────────┴───────────┴───────────┴───────────┴───┴───────────┴───────────┴───────────┴──────────┘"
      ]
     },
     "execution_count": 11,
     "metadata": {},
     "output_type": "execute_result"
    }
   ],
   "source": [
    "# Read and combine data for btc\n",
    "dfs_BTC_files = [pl.read_parquet(path) for path in file_paths_btc]\n",
    "dfs_BTC = pl.concat(dfs_BTC_files)\n",
    "dfs_BTC"
   ]
  },
  {
   "cell_type": "code",
   "execution_count": 8,
   "metadata": {},
   "outputs": [
    {
     "data": {
      "text/html": [
       "<div><style>\n",
       ".dataframe > thead > tr,\n",
       ".dataframe > tbody > tr {\n",
       "  text-align: right;\n",
       "  white-space: pre-wrap;\n",
       "}\n",
       "</style>\n",
       "<small>shape: (6_323_857, 21)</small><table border=\"1\" class=\"dataframe\"><thead><tr><th>timestamp_5_second</th><th>date</th><th>year_month</th><th>hourminute</th><th>openprice</th><th>highprice</th><th>lowprice</th><th>closeprice</th><th>std_price</th><th>sum_quotevolume</th><th>sum_trades</th><th>avg_quotevolume_per_trade</th><th>buyer_maker_price_wa</th><th>buyer_taker_price_wa</th><th>wa_price</th><th>buyer_maker_price_std</th><th>buyer_maker_quotevolume</th><th>buyer_maker_trades</th><th>buyer_taker_price_std</th><th>buyer_taker_quotevolume</th><th>buyer_taker_trades</th></tr><tr><td>str</td><td>str</td><td>str</td><td>str</td><td>f64</td><td>f64</td><td>f64</td><td>f64</td><td>f64</td><td>f64</td><td>i64</td><td>f64</td><td>f64</td><td>f64</td><td>f64</td><td>f64</td><td>f64</td><td>i64</td><td>f64</td><td>f64</td><td>i64</td></tr></thead><tbody><tr><td>&quot;2024-01-0100:00:00&quot;</td><td>&quot;2024-01-01&quot;</td><td>&quot;2024-01&quot;</td><td>&quot;00:00&quot;</td><td>2283.84</td><td>2284.16</td><td>2283.77</td><td>2284.15</td><td>0.14558</td><td>415581.27552</td><td>147</td><td>2253.306862</td><td>2283.834082</td><td>2283.822561</td><td>2283.827704</td><td>0.158639</td><td>185534.11298</td><td>55</td><td>0.139688</td><td>230047.16254</td><td>92</td></tr><tr><td>&quot;2024-01-0100:00:05&quot;</td><td>&quot;2024-01-01&quot;</td><td>&quot;2024-01&quot;</td><td>&quot;00:00&quot;</td><td>2284.15</td><td>2284.15</td><td>2283.29</td><td>2283.32</td><td>0.270035</td><td>624944.23524</td><td>316</td><td>1760.548754</td><td>2283.523824</td><td>2283.395361</td><td>2283.518632</td><td>0.269842</td><td>599685.31592</td><td>283</td><td>0.215192</td><td>25258.91932</td><td>33</td></tr><tr><td>&quot;2024-01-0100:00:10&quot;</td><td>&quot;2024-01-01&quot;</td><td>&quot;2024-01&quot;</td><td>&quot;00:00&quot;</td><td>2283.31</td><td>2283.39</td><td>2282.97</td><td>2283.39</td><td>0.123572</td><td>665066.77796</td><td>254</td><td>1798.921204</td><td>2283.243631</td><td>2283.264709</td><td>2283.248063</td><td>0.119339</td><td>525221.38127</td><td>143</td><td>0.127461</td><td>139845.39669</td><td>111</td></tr><tr><td>&quot;2024-01-0100:00:15&quot;</td><td>&quot;2024-01-01&quot;</td><td>&quot;2024-01&quot;</td><td>&quot;00:00&quot;</td><td>2283.38</td><td>2283.39</td><td>2283.38</td><td>2283.38</td><td>0.004423</td><td>39906.67431</td><td>38</td><td>1086.138539</td><td>2283.38</td><td>2283.39</td><td>2283.382406</td><td>0.0</td><td>30305.01936</td><td>29</td><td>0.0</td><td>9601.65495</td><td>9</td></tr><tr><td>&quot;2024-01-0100:00:20&quot;</td><td>&quot;2024-01-01&quot;</td><td>&quot;2024-01&quot;</td><td>&quot;00:00&quot;</td><td>2283.38</td><td>2283.38</td><td>2283.18</td><td>2283.19</td><td>0.083084</td><td>110730.08417</td><td>39</td><td>1474.432198</td><td>2283.339996</td><td>2283.19</td><td>2283.329917</td><td>0.094516</td><td>103289.16796</td><td>31</td><td>0.0</td><td>7440.91621</td><td>8</td></tr><tr><td>&hellip;</td><td>&hellip;</td><td>&hellip;</td><td>&hellip;</td><td>&hellip;</td><td>&hellip;</td><td>&hellip;</td><td>&hellip;</td><td>&hellip;</td><td>&hellip;</td><td>&hellip;</td><td>&hellip;</td><td>&hellip;</td><td>&hellip;</td><td>&hellip;</td><td>&hellip;</td><td>&hellip;</td><td>&hellip;</td><td>&hellip;</td><td>&hellip;</td><td>&hellip;</td></tr><tr><td>&quot;2024-12-3123:59:35&quot;</td><td>&quot;2024-12-31&quot;</td><td>&quot;2024-12&quot;</td><td>&quot;23:59&quot;</td><td>3336.58</td><td>3336.58</td><td>3336.57</td><td>3336.57</td><td>0.00441</td><td>10026.42206</td><td>11</td><td>1108.609522</td><td>3336.57</td><td>3336.58</td><td>3336.57972</td><td>0.0</td><td>280.27188</td><td>9</td><td>0.0</td><td>9746.15018</td><td>2</td></tr><tr><td>&quot;2024-12-3123:59:40&quot;</td><td>&quot;2024-12-31&quot;</td><td>&quot;2024-12&quot;</td><td>&quot;23:59&quot;</td><td>3336.58</td><td>3336.58</td><td>3336.57</td><td>3336.58</td><td>0.004924</td><td>8898.63689</td><td>20</td><td>696.370267</td><td>3336.57</td><td>3336.58</td><td>3336.571762</td><td>0.0</td><td>7330.44429</td><td>15</td><td>0.0</td><td>1568.1926</td><td>5</td></tr><tr><td>&quot;2024-12-3123:59:45&quot;</td><td>&quot;2024-12-31&quot;</td><td>&quot;2024-12&quot;</td><td>&quot;23:59&quot;</td><td>3336.57</td><td>3336.58</td><td>3336.57</td><td>3336.57</td><td>0.00414</td><td>12168.50063</td><td>19</td><td>753.436568</td><td>3336.57</td><td>3336.58</td><td>3336.578182</td><td>0.0</td><td>2212.14591</td><td>16</td><td>0.0</td><td>9956.35472</td><td>3</td></tr><tr><td>&quot;2024-12-3123:59:50&quot;</td><td>&quot;2024-12-31&quot;</td><td>&quot;2024-12&quot;</td><td>&quot;23:59&quot;</td><td>3336.57</td><td>3336.58</td><td>3336.57</td><td>3336.57</td><td>0.003519</td><td>19632.38037</td><td>46</td><td>463.500232</td><td>3336.57</td><td>3336.58</td><td>3336.570423</td><td>0.0</td><td>18801.57195</td><td>44</td><td>0.0</td><td>830.80842</td><td>2</td></tr><tr><td>&quot;2024-12-3123:59:55&quot;</td><td>&quot;2024-12-31&quot;</td><td>&quot;2024-12&quot;</td><td>&quot;23:59&quot;</td><td>3336.57</td><td>3336.58</td><td>3336.27</td><td>3336.57</td><td>0.109018</td><td>158426.33693</td><td>148</td><td>861.530205</td><td>3336.40962</td><td>3336.422523</td><td>3336.415154</td><td>0.111277</td><td>90470.08312</td><td>85</td><td>0.106813</td><td>67956.25381</td><td>63</td></tr></tbody></table></div>"
      ],
      "text/plain": [
       "shape: (6_323_857, 21)\n",
       "┌───────────┬───────────┬───────────┬───────────┬───┬───────────┬───────────┬───────────┬──────────┐\n",
       "│ timestamp ┆ date      ┆ year_mont ┆ hourminut ┆ … ┆ buyer_mak ┆ buyer_tak ┆ buyer_tak ┆ buyer_ta │\n",
       "│ _5_second ┆ ---       ┆ h         ┆ e         ┆   ┆ er_trades ┆ er_price_ ┆ er_quotev ┆ ker_trad │\n",
       "│ ---       ┆ str       ┆ ---       ┆ ---       ┆   ┆ ---       ┆ std       ┆ olume     ┆ es       │\n",
       "│ str       ┆           ┆ str       ┆ str       ┆   ┆ i64       ┆ ---       ┆ ---       ┆ ---      │\n",
       "│           ┆           ┆           ┆           ┆   ┆           ┆ f64       ┆ f64       ┆ i64      │\n",
       "╞═══════════╪═══════════╪═══════════╪═══════════╪═══╪═══════════╪═══════════╪═══════════╪══════════╡\n",
       "│ 2024-01-0 ┆ 2024-01-0 ┆ 2024-01   ┆ 00:00     ┆ … ┆ 55        ┆ 0.139688  ┆ 230047.16 ┆ 92       │\n",
       "│ 100:00:00 ┆ 1         ┆           ┆           ┆   ┆           ┆           ┆ 254       ┆          │\n",
       "│ 2024-01-0 ┆ 2024-01-0 ┆ 2024-01   ┆ 00:00     ┆ … ┆ 283       ┆ 0.215192  ┆ 25258.919 ┆ 33       │\n",
       "│ 100:00:05 ┆ 1         ┆           ┆           ┆   ┆           ┆           ┆ 32        ┆          │\n",
       "│ 2024-01-0 ┆ 2024-01-0 ┆ 2024-01   ┆ 00:00     ┆ … ┆ 143       ┆ 0.127461  ┆ 139845.39 ┆ 111      │\n",
       "│ 100:00:10 ┆ 1         ┆           ┆           ┆   ┆           ┆           ┆ 669       ┆          │\n",
       "│ 2024-01-0 ┆ 2024-01-0 ┆ 2024-01   ┆ 00:00     ┆ … ┆ 29        ┆ 0.0       ┆ 9601.6549 ┆ 9        │\n",
       "│ 100:00:15 ┆ 1         ┆           ┆           ┆   ┆           ┆           ┆ 5         ┆          │\n",
       "│ 2024-01-0 ┆ 2024-01-0 ┆ 2024-01   ┆ 00:00     ┆ … ┆ 31        ┆ 0.0       ┆ 7440.9162 ┆ 8        │\n",
       "│ 100:00:20 ┆ 1         ┆           ┆           ┆   ┆           ┆           ┆ 1         ┆          │\n",
       "│ …         ┆ …         ┆ …         ┆ …         ┆ … ┆ …         ┆ …         ┆ …         ┆ …        │\n",
       "│ 2024-12-3 ┆ 2024-12-3 ┆ 2024-12   ┆ 23:59     ┆ … ┆ 9         ┆ 0.0       ┆ 9746.1501 ┆ 2        │\n",
       "│ 123:59:35 ┆ 1         ┆           ┆           ┆   ┆           ┆           ┆ 8         ┆          │\n",
       "│ 2024-12-3 ┆ 2024-12-3 ┆ 2024-12   ┆ 23:59     ┆ … ┆ 15        ┆ 0.0       ┆ 1568.1926 ┆ 5        │\n",
       "│ 123:59:40 ┆ 1         ┆           ┆           ┆   ┆           ┆           ┆           ┆          │\n",
       "│ 2024-12-3 ┆ 2024-12-3 ┆ 2024-12   ┆ 23:59     ┆ … ┆ 16        ┆ 0.0       ┆ 9956.3547 ┆ 3        │\n",
       "│ 123:59:45 ┆ 1         ┆           ┆           ┆   ┆           ┆           ┆ 2         ┆          │\n",
       "│ 2024-12-3 ┆ 2024-12-3 ┆ 2024-12   ┆ 23:59     ┆ … ┆ 44        ┆ 0.0       ┆ 830.80842 ┆ 2        │\n",
       "│ 123:59:50 ┆ 1         ┆           ┆           ┆   ┆           ┆           ┆           ┆          │\n",
       "│ 2024-12-3 ┆ 2024-12-3 ┆ 2024-12   ┆ 23:59     ┆ … ┆ 85        ┆ 0.106813  ┆ 67956.253 ┆ 63       │\n",
       "│ 123:59:55 ┆ 1         ┆           ┆           ┆   ┆           ┆           ┆ 81        ┆          │\n",
       "└───────────┴───────────┴───────────┴───────────┴───┴───────────┴───────────┴───────────┴──────────┘"
      ]
     },
     "execution_count": 8,
     "metadata": {},
     "output_type": "execute_result"
    }
   ],
   "source": [
    "# Read and combine data for eth\n",
    "dfs_ETH_files = [pl.read_parquet(path) for path in file_paths_eth]\n",
    "dfs_ETH = pl.concat(dfs_ETH_files)\n",
    "dfs_ETH"
   ]
  },
  {
   "cell_type": "code",
   "execution_count": 12,
   "metadata": {},
   "outputs": [
    {
     "data": {
      "text/html": [
       "<div><style>\n",
       ".dataframe > thead > tr,\n",
       ".dataframe > tbody > tr {\n",
       "  text-align: right;\n",
       "  white-space: pre-wrap;\n",
       "}\n",
       "</style>\n",
       "<small>shape: (17_279, 21)</small><table border=\"1\" class=\"dataframe\"><thead><tr><th>timestamp_5_second</th><th>date</th><th>year_month</th><th>hourminute</th><th>openprice</th><th>highprice</th><th>lowprice</th><th>closeprice</th><th>std_price</th><th>sum_quotevolume</th><th>sum_trades</th><th>avg_quotevolume_per_trade</th><th>buyer_maker_price_wa</th><th>buyer_taker_price_wa</th><th>wa_price</th><th>buyer_maker_price_std</th><th>buyer_maker_quotevolume</th><th>buyer_maker_trades</th><th>buyer_taker_price_std</th><th>buyer_taker_quotevolume</th><th>buyer_taker_trades</th></tr><tr><td>str</td><td>str</td><td>str</td><td>str</td><td>f64</td><td>f64</td><td>f64</td><td>f64</td><td>f64</td><td>f64</td><td>i64</td><td>f64</td><td>f64</td><td>f64</td><td>f64</td><td>f64</td><td>f64</td><td>i64</td><td>f64</td><td>f64</td><td>i64</td></tr></thead><tbody><tr><td>&quot;2024-01-0100:00:00&quot;</td><td>&quot;2024-01-01&quot;</td><td>&quot;2024-01&quot;</td><td>&quot;00:00&quot;</td><td>42313.9</td><td>42318.0</td><td>42310.2</td><td>42310.3</td><td>2.254781</td><td>1.2716e6</td><td>282</td><td>3587.300454</td><td>42315.138722</td><td>42315.634979</td><td>42315.227369</td><td>2.440821</td><td>1.0445e6</td><td>183</td><td>1.814441</td><td>227150.3282</td><td>99</td></tr><tr><td>&quot;2024-01-0100:00:05&quot;</td><td>&quot;2024-01-01&quot;</td><td>&quot;2024-01&quot;</td><td>&quot;00:00&quot;</td><td>42310.3</td><td>42310.3</td><td>42295.0</td><td>42295.1</td><td>4.822875</td><td>1.1338e6</td><td>384</td><td>2697.455074</td><td>42301.339466</td><td>42300.372395</td><td>42301.186553</td><td>4.773049</td><td>954487.4124</td><td>319</td><td>4.383526</td><td>179268.9762</td><td>65</td></tr><tr><td>&quot;2024-01-0100:00:10&quot;</td><td>&quot;2024-01-01&quot;</td><td>&quot;2024-01&quot;</td><td>&quot;00:00&quot;</td><td>42295.1</td><td>42301.4</td><td>42289.6</td><td>42301.4</td><td>3.469909</td><td>1.3695e6</td><td>372</td><td>3642.823764</td><td>42293.112692</td><td>42295.891517</td><td>42294.077856</td><td>2.339299</td><td>893822.6413</td><td>172</td><td>3.753603</td><td>475659.5922</td><td>200</td></tr><tr><td>&quot;2024-01-0100:00:15&quot;</td><td>&quot;2024-01-01&quot;</td><td>&quot;2024-01&quot;</td><td>&quot;00:00&quot;</td><td>42301.3</td><td>42301.7</td><td>42299.0</td><td>42301.7</td><td>1.144168</td><td>772983.1227</td><td>194</td><td>1935.034346</td><td>42300.685356</td><td>42299.390008</td><td>42299.612734</td><td>1.19477</td><td>132908.7533</td><td>64</td><td>1.124031</td><td>640074.3694</td><td>130</td></tr><tr><td>&quot;2024-01-0100:00:20&quot;</td><td>&quot;2024-01-01&quot;</td><td>&quot;2024-01&quot;</td><td>&quot;00:00&quot;</td><td>42301.7</td><td>42301.7</td><td>42299.4</td><td>42299.4</td><td>0.903844</td><td>96910.6403</td><td>68</td><td>2077.63125</td><td>42301.03938</td><td>42299.676972</td><td>42300.585055</td><td>1.03648</td><td>64593.6871</td><td>37</td><td>0.709805</td><td>32316.9532</td><td>31</td></tr><tr><td>&hellip;</td><td>&hellip;</td><td>&hellip;</td><td>&hellip;</td><td>&hellip;</td><td>&hellip;</td><td>&hellip;</td><td>&hellip;</td><td>&hellip;</td><td>&hellip;</td><td>&hellip;</td><td>&hellip;</td><td>&hellip;</td><td>&hellip;</td><td>&hellip;</td><td>&hellip;</td><td>&hellip;</td><td>&hellip;</td><td>&hellip;</td><td>&hellip;</td><td>&hellip;</td></tr><tr><td>&quot;2024-01-0123:59:35&quot;</td><td>&quot;2024-01-01&quot;</td><td>&quot;2024-01&quot;</td><td>&quot;23:59&quot;</td><td>44225.2</td><td>44227.6</td><td>44225.1</td><td>44227.6</td><td>1.06146</td><td>561622.6269</td><td>124</td><td>3826.648662</td><td>44225.27516</td><td>44226.055484</td><td>44225.736451</td><td>0.998683</td><td>229617.6286</td><td>45</td><td>1.090065</td><td>332004.9983</td><td>79</td></tr><tr><td>&quot;2024-01-0123:59:40&quot;</td><td>&quot;2024-01-01&quot;</td><td>&quot;2024-01&quot;</td><td>&quot;23:59&quot;</td><td>44227.6</td><td>44227.8</td><td>44227.6</td><td>44227.7</td><td>0.058329</td><td>206454.7817</td><td>220</td><td>2413.326352</td><td>44227.659572</td><td>44227.696266</td><td>44227.673886</td><td>0.02357</td><td>125916.1468</td><td>190</td><td>0.062158</td><td>80538.6349</td><td>30</td></tr><tr><td>&quot;2024-01-0123:59:45&quot;</td><td>&quot;2024-01-01&quot;</td><td>&quot;2024-01&quot;</td><td>&quot;23:59&quot;</td><td>44227.8</td><td>44236.2</td><td>44227.7</td><td>44236.1</td><td>2.729415</td><td>877289.2064</td><td>226</td><td>3169.207286</td><td>44232.866264</td><td>44231.119807</td><td>44231.582631</td><td>3.170394</td><td>232487.9437</td><td>40</td><td>2.64094</td><td>644801.2627</td><td>186</td></tr><tr><td>&quot;2024-01-0123:59:50&quot;</td><td>&quot;2024-01-01&quot;</td><td>&quot;2024-01&quot;</td><td>&quot;23:59&quot;</td><td>44236.2</td><td>44236.3</td><td>44231.4</td><td>44231.5</td><td>1.667258</td><td>490805.6224</td><td>111</td><td>5625.060209</td><td>44232.87986</td><td>44231.97037</td><td>44232.662491</td><td>1.717445</td><td>373502.4371</td><td>78</td><td>1.462109</td><td>117303.1853</td><td>33</td></tr><tr><td>&quot;2024-01-0123:59:55&quot;</td><td>&quot;2024-01-01&quot;</td><td>&quot;2024-01&quot;</td><td>&quot;23:59&quot;</td><td>44231.5</td><td>44232.5</td><td>44230.2</td><td>44230.2</td><td>0.723574</td><td>568777.2569</td><td>147</td><td>3643.570503</td><td>44232.024309</td><td>44231.710453</td><td>44231.842058</td><td>0.794847</td><td>238499.075</td><td>82</td><td>0.636094</td><td>330278.1819</td><td>65</td></tr></tbody></table></div>"
      ],
      "text/plain": [
       "shape: (17_279, 21)\n",
       "┌───────────┬───────────┬───────────┬───────────┬───┬───────────┬───────────┬───────────┬──────────┐\n",
       "│ timestamp ┆ date      ┆ year_mont ┆ hourminut ┆ … ┆ buyer_mak ┆ buyer_tak ┆ buyer_tak ┆ buyer_ta │\n",
       "│ _5_second ┆ ---       ┆ h         ┆ e         ┆   ┆ er_trades ┆ er_price_ ┆ er_quotev ┆ ker_trad │\n",
       "│ ---       ┆ str       ┆ ---       ┆ ---       ┆   ┆ ---       ┆ std       ┆ olume     ┆ es       │\n",
       "│ str       ┆           ┆ str       ┆ str       ┆   ┆ i64       ┆ ---       ┆ ---       ┆ ---      │\n",
       "│           ┆           ┆           ┆           ┆   ┆           ┆ f64       ┆ f64       ┆ i64      │\n",
       "╞═══════════╪═══════════╪═══════════╪═══════════╪═══╪═══════════╪═══════════╪═══════════╪══════════╡\n",
       "│ 2024-01-0 ┆ 2024-01-0 ┆ 2024-01   ┆ 00:00     ┆ … ┆ 183       ┆ 1.814441  ┆ 227150.32 ┆ 99       │\n",
       "│ 100:00:00 ┆ 1         ┆           ┆           ┆   ┆           ┆           ┆ 82        ┆          │\n",
       "│ 2024-01-0 ┆ 2024-01-0 ┆ 2024-01   ┆ 00:00     ┆ … ┆ 319       ┆ 4.383526  ┆ 179268.97 ┆ 65       │\n",
       "│ 100:00:05 ┆ 1         ┆           ┆           ┆   ┆           ┆           ┆ 62        ┆          │\n",
       "│ 2024-01-0 ┆ 2024-01-0 ┆ 2024-01   ┆ 00:00     ┆ … ┆ 172       ┆ 3.753603  ┆ 475659.59 ┆ 200      │\n",
       "│ 100:00:10 ┆ 1         ┆           ┆           ┆   ┆           ┆           ┆ 22        ┆          │\n",
       "│ 2024-01-0 ┆ 2024-01-0 ┆ 2024-01   ┆ 00:00     ┆ … ┆ 64        ┆ 1.124031  ┆ 640074.36 ┆ 130      │\n",
       "│ 100:00:15 ┆ 1         ┆           ┆           ┆   ┆           ┆           ┆ 94        ┆          │\n",
       "│ 2024-01-0 ┆ 2024-01-0 ┆ 2024-01   ┆ 00:00     ┆ … ┆ 37        ┆ 0.709805  ┆ 32316.953 ┆ 31       │\n",
       "│ 100:00:20 ┆ 1         ┆           ┆           ┆   ┆           ┆           ┆ 2         ┆          │\n",
       "│ …         ┆ …         ┆ …         ┆ …         ┆ … ┆ …         ┆ …         ┆ …         ┆ …        │\n",
       "│ 2024-01-0 ┆ 2024-01-0 ┆ 2024-01   ┆ 23:59     ┆ … ┆ 45        ┆ 1.090065  ┆ 332004.99 ┆ 79       │\n",
       "│ 123:59:35 ┆ 1         ┆           ┆           ┆   ┆           ┆           ┆ 83        ┆          │\n",
       "│ 2024-01-0 ┆ 2024-01-0 ┆ 2024-01   ┆ 23:59     ┆ … ┆ 190       ┆ 0.062158  ┆ 80538.634 ┆ 30       │\n",
       "│ 123:59:40 ┆ 1         ┆           ┆           ┆   ┆           ┆           ┆ 9         ┆          │\n",
       "│ 2024-01-0 ┆ 2024-01-0 ┆ 2024-01   ┆ 23:59     ┆ … ┆ 40        ┆ 2.64094   ┆ 644801.26 ┆ 186      │\n",
       "│ 123:59:45 ┆ 1         ┆           ┆           ┆   ┆           ┆           ┆ 27        ┆          │\n",
       "│ 2024-01-0 ┆ 2024-01-0 ┆ 2024-01   ┆ 23:59     ┆ … ┆ 78        ┆ 1.462109  ┆ 117303.18 ┆ 33       │\n",
       "│ 123:59:50 ┆ 1         ┆           ┆           ┆   ┆           ┆           ┆ 53        ┆          │\n",
       "│ 2024-01-0 ┆ 2024-01-0 ┆ 2024-01   ┆ 23:59     ┆ … ┆ 82        ┆ 0.636094  ┆ 330278.18 ┆ 65       │\n",
       "│ 123:59:55 ┆ 1         ┆           ┆           ┆   ┆           ┆           ┆ 19        ┆          │\n",
       "└───────────┴───────────┴───────────┴───────────┴───┴───────────┴───────────┴───────────┴──────────┘"
      ]
     },
     "execution_count": 12,
     "metadata": {},
     "output_type": "execute_result"
    }
   ],
   "source": [
    "dfs_BTC_2024_01_01 = dfs_BTC.filter(pl.col(\"date\") == \"2024-01-01\")\n",
    "dfs_BTC_2024_01_01"
   ]
  },
  {
   "cell_type": "code",
   "execution_count": 13,
   "metadata": {},
   "outputs": [
    {
     "data": {
      "text/html": [
       "<div><style>\n",
       ".dataframe > thead > tr,\n",
       ".dataframe > tbody > tr {\n",
       "  text-align: right;\n",
       "  white-space: pre-wrap;\n",
       "}\n",
       "</style>\n",
       "<small>shape: (17_268, 21)</small><table border=\"1\" class=\"dataframe\"><thead><tr><th>timestamp_5_second</th><th>date</th><th>year_month</th><th>hourminute</th><th>openprice</th><th>highprice</th><th>lowprice</th><th>closeprice</th><th>std_price</th><th>sum_quotevolume</th><th>sum_trades</th><th>avg_quotevolume_per_trade</th><th>buyer_maker_price_wa</th><th>buyer_taker_price_wa</th><th>wa_price</th><th>buyer_maker_price_std</th><th>buyer_maker_quotevolume</th><th>buyer_maker_trades</th><th>buyer_taker_price_std</th><th>buyer_taker_quotevolume</th><th>buyer_taker_trades</th></tr><tr><td>str</td><td>str</td><td>str</td><td>str</td><td>f64</td><td>f64</td><td>f64</td><td>f64</td><td>f64</td><td>f64</td><td>i64</td><td>f64</td><td>f64</td><td>f64</td><td>f64</td><td>f64</td><td>f64</td><td>i64</td><td>f64</td><td>f64</td><td>i64</td></tr></thead><tbody><tr><td>&quot;2024-01-0100:00:00&quot;</td><td>&quot;2024-01-01&quot;</td><td>&quot;2024-01&quot;</td><td>&quot;00:00&quot;</td><td>2283.84</td><td>2284.16</td><td>2283.77</td><td>2284.15</td><td>0.14558</td><td>415581.27552</td><td>147</td><td>2253.306862</td><td>2283.834082</td><td>2283.822561</td><td>2283.827704</td><td>0.158639</td><td>185534.11298</td><td>55</td><td>0.139688</td><td>230047.16254</td><td>92</td></tr><tr><td>&quot;2024-01-0100:00:05&quot;</td><td>&quot;2024-01-01&quot;</td><td>&quot;2024-01&quot;</td><td>&quot;00:00&quot;</td><td>2284.15</td><td>2284.15</td><td>2283.29</td><td>2283.32</td><td>0.270035</td><td>624944.23524</td><td>316</td><td>1760.548754</td><td>2283.523824</td><td>2283.395361</td><td>2283.518632</td><td>0.269842</td><td>599685.31592</td><td>283</td><td>0.215192</td><td>25258.91932</td><td>33</td></tr><tr><td>&quot;2024-01-0100:00:10&quot;</td><td>&quot;2024-01-01&quot;</td><td>&quot;2024-01&quot;</td><td>&quot;00:00&quot;</td><td>2283.31</td><td>2283.39</td><td>2282.97</td><td>2283.39</td><td>0.123572</td><td>665066.77796</td><td>254</td><td>1798.921204</td><td>2283.243631</td><td>2283.264709</td><td>2283.248063</td><td>0.119339</td><td>525221.38127</td><td>143</td><td>0.127461</td><td>139845.39669</td><td>111</td></tr><tr><td>&quot;2024-01-0100:00:15&quot;</td><td>&quot;2024-01-01&quot;</td><td>&quot;2024-01&quot;</td><td>&quot;00:00&quot;</td><td>2283.38</td><td>2283.39</td><td>2283.38</td><td>2283.38</td><td>0.004423</td><td>39906.67431</td><td>38</td><td>1086.138539</td><td>2283.38</td><td>2283.39</td><td>2283.382406</td><td>0.0</td><td>30305.01936</td><td>29</td><td>0.0</td><td>9601.65495</td><td>9</td></tr><tr><td>&quot;2024-01-0100:00:20&quot;</td><td>&quot;2024-01-01&quot;</td><td>&quot;2024-01&quot;</td><td>&quot;00:00&quot;</td><td>2283.38</td><td>2283.38</td><td>2283.18</td><td>2283.19</td><td>0.083084</td><td>110730.08417</td><td>39</td><td>1474.432198</td><td>2283.339996</td><td>2283.19</td><td>2283.329917</td><td>0.094516</td><td>103289.16796</td><td>31</td><td>0.0</td><td>7440.91621</td><td>8</td></tr><tr><td>&hellip;</td><td>&hellip;</td><td>&hellip;</td><td>&hellip;</td><td>&hellip;</td><td>&hellip;</td><td>&hellip;</td><td>&hellip;</td><td>&hellip;</td><td>&hellip;</td><td>&hellip;</td><td>&hellip;</td><td>&hellip;</td><td>&hellip;</td><td>&hellip;</td><td>&hellip;</td><td>&hellip;</td><td>&hellip;</td><td>&hellip;</td><td>&hellip;</td><td>&hellip;</td></tr><tr><td>&quot;2024-01-0123:59:35&quot;</td><td>&quot;2024-01-01&quot;</td><td>&quot;2024-01&quot;</td><td>&quot;23:59&quot;</td><td>2354.63</td><td>2354.63</td><td>2354.62</td><td>2354.63</td><td>0.005</td><td>86909.28057</td><td>25</td><td>2732.823916</td><td>2354.62</td><td>2354.63</td><td>2354.626946</td><td>0.0</td><td>26543.63126</td><td>8</td><td>0.0</td><td>60365.64931</td><td>17</td></tr><tr><td>&quot;2024-01-0123:59:40&quot;</td><td>&quot;2024-01-01&quot;</td><td>&quot;2024-01&quot;</td><td>&quot;23:59&quot;</td><td>2354.63</td><td>2354.63</td><td>2354.62</td><td>2354.62</td><td>0.005071</td><td>73056.93075</td><td>32</td><td>1701.756945</td><td>2354.62</td><td>2354.63</td><td>2354.624384</td><td>0.0</td><td>41031.60812</td><td>16</td><td>0.0</td><td>32025.32263</td><td>16</td></tr><tr><td>&quot;2024-01-0123:59:45&quot;</td><td>&quot;2024-01-01&quot;</td><td>&quot;2024-01&quot;</td><td>&quot;23:59&quot;</td><td>2354.63</td><td>2354.63</td><td>2354.62</td><td>2354.63</td><td>0.005113</td><td>145751.49599</td><td>75</td><td>2326.054375</td><td>2354.62</td><td>2354.63</td><td>2354.628368</td><td>0.0</td><td>23784.01662</td><td>8</td><td>0.0</td><td>121967.47937</td><td>67</td></tr><tr><td>&quot;2024-01-0123:59:50&quot;</td><td>&quot;2024-01-01&quot;</td><td>&quot;2024-01&quot;</td><td>&quot;23:59&quot;</td><td>2354.63</td><td>2354.63</td><td>2354.62</td><td>2354.63</td><td>0.005</td><td>85878.05642</td><td>46</td><td>1173.839522</td><td>2354.62</td><td>2354.63</td><td>2354.629755</td><td>0.0</td><td>2105.03028</td><td>6</td><td>0.0</td><td>83773.02614</td><td>40</td></tr><tr><td>&quot;2024-01-0123:59:55&quot;</td><td>&quot;2024-01-01&quot;</td><td>&quot;2024-01&quot;</td><td>&quot;23:59&quot;</td><td>2354.63</td><td>2354.63</td><td>2354.62</td><td>2354.62</td><td>0.005026</td><td>141896.90253</td><td>198</td><td>2656.957762</td><td>2354.62</td><td>2354.63</td><td>2354.627259</td><td>0.0</td><td>38888.90392</td><td>9</td><td>0.0</td><td>103007.99861</td><td>189</td></tr></tbody></table></div>"
      ],
      "text/plain": [
       "shape: (17_268, 21)\n",
       "┌───────────┬───────────┬───────────┬───────────┬───┬───────────┬───────────┬───────────┬──────────┐\n",
       "│ timestamp ┆ date      ┆ year_mont ┆ hourminut ┆ … ┆ buyer_mak ┆ buyer_tak ┆ buyer_tak ┆ buyer_ta │\n",
       "│ _5_second ┆ ---       ┆ h         ┆ e         ┆   ┆ er_trades ┆ er_price_ ┆ er_quotev ┆ ker_trad │\n",
       "│ ---       ┆ str       ┆ ---       ┆ ---       ┆   ┆ ---       ┆ std       ┆ olume     ┆ es       │\n",
       "│ str       ┆           ┆ str       ┆ str       ┆   ┆ i64       ┆ ---       ┆ ---       ┆ ---      │\n",
       "│           ┆           ┆           ┆           ┆   ┆           ┆ f64       ┆ f64       ┆ i64      │\n",
       "╞═══════════╪═══════════╪═══════════╪═══════════╪═══╪═══════════╪═══════════╪═══════════╪══════════╡\n",
       "│ 2024-01-0 ┆ 2024-01-0 ┆ 2024-01   ┆ 00:00     ┆ … ┆ 55        ┆ 0.139688  ┆ 230047.16 ┆ 92       │\n",
       "│ 100:00:00 ┆ 1         ┆           ┆           ┆   ┆           ┆           ┆ 254       ┆          │\n",
       "│ 2024-01-0 ┆ 2024-01-0 ┆ 2024-01   ┆ 00:00     ┆ … ┆ 283       ┆ 0.215192  ┆ 25258.919 ┆ 33       │\n",
       "│ 100:00:05 ┆ 1         ┆           ┆           ┆   ┆           ┆           ┆ 32        ┆          │\n",
       "│ 2024-01-0 ┆ 2024-01-0 ┆ 2024-01   ┆ 00:00     ┆ … ┆ 143       ┆ 0.127461  ┆ 139845.39 ┆ 111      │\n",
       "│ 100:00:10 ┆ 1         ┆           ┆           ┆   ┆           ┆           ┆ 669       ┆          │\n",
       "│ 2024-01-0 ┆ 2024-01-0 ┆ 2024-01   ┆ 00:00     ┆ … ┆ 29        ┆ 0.0       ┆ 9601.6549 ┆ 9        │\n",
       "│ 100:00:15 ┆ 1         ┆           ┆           ┆   ┆           ┆           ┆ 5         ┆          │\n",
       "│ 2024-01-0 ┆ 2024-01-0 ┆ 2024-01   ┆ 00:00     ┆ … ┆ 31        ┆ 0.0       ┆ 7440.9162 ┆ 8        │\n",
       "│ 100:00:20 ┆ 1         ┆           ┆           ┆   ┆           ┆           ┆ 1         ┆          │\n",
       "│ …         ┆ …         ┆ …         ┆ …         ┆ … ┆ …         ┆ …         ┆ …         ┆ …        │\n",
       "│ 2024-01-0 ┆ 2024-01-0 ┆ 2024-01   ┆ 23:59     ┆ … ┆ 8         ┆ 0.0       ┆ 60365.649 ┆ 17       │\n",
       "│ 123:59:35 ┆ 1         ┆           ┆           ┆   ┆           ┆           ┆ 31        ┆          │\n",
       "│ 2024-01-0 ┆ 2024-01-0 ┆ 2024-01   ┆ 23:59     ┆ … ┆ 16        ┆ 0.0       ┆ 32025.322 ┆ 16       │\n",
       "│ 123:59:40 ┆ 1         ┆           ┆           ┆   ┆           ┆           ┆ 63        ┆          │\n",
       "│ 2024-01-0 ┆ 2024-01-0 ┆ 2024-01   ┆ 23:59     ┆ … ┆ 8         ┆ 0.0       ┆ 121967.47 ┆ 67       │\n",
       "│ 123:59:45 ┆ 1         ┆           ┆           ┆   ┆           ┆           ┆ 937       ┆          │\n",
       "│ 2024-01-0 ┆ 2024-01-0 ┆ 2024-01   ┆ 23:59     ┆ … ┆ 6         ┆ 0.0       ┆ 83773.026 ┆ 40       │\n",
       "│ 123:59:50 ┆ 1         ┆           ┆           ┆   ┆           ┆           ┆ 14        ┆          │\n",
       "│ 2024-01-0 ┆ 2024-01-0 ┆ 2024-01   ┆ 23:59     ┆ … ┆ 9         ┆ 0.0       ┆ 103007.99 ┆ 189      │\n",
       "│ 123:59:55 ┆ 1         ┆           ┆           ┆   ┆           ┆           ┆ 861       ┆          │\n",
       "└───────────┴───────────┴───────────┴───────────┴───┴───────────┴───────────┴───────────┴──────────┘"
      ]
     },
     "execution_count": 13,
     "metadata": {},
     "output_type": "execute_result"
    }
   ],
   "source": [
    "dfs_ETH_2024_01_01 = dfs_ETH.filter(pl.col(\"date\") == \"2024-01-01\")\n",
    "dfs_ETH_2024_01_01"
   ]
  },
  {
   "cell_type": "code",
   "execution_count": 14,
   "metadata": {},
   "outputs": [
    {
     "data": {
      "text/plain": [
       "({'2024-01-0108:52:50'},\n",
       " {'2024-01-0101:53:50',\n",
       "  '2024-01-0102:16:25',\n",
       "  '2024-01-0102:26:45',\n",
       "  '2024-01-0105:23:50',\n",
       "  '2024-01-0106:13:20',\n",
       "  '2024-01-0106:15:40',\n",
       "  '2024-01-0106:22:20',\n",
       "  '2024-01-0106:45:35',\n",
       "  '2024-01-0106:46:10',\n",
       "  '2024-01-0108:18:30',\n",
       "  '2024-01-0108:47:55',\n",
       "  '2024-01-0111:05:30'})"
      ]
     },
     "execution_count": 14,
     "metadata": {},
     "output_type": "execute_result"
    }
   ],
   "source": [
    "from datetime import datetime, timedelta\n",
    "\n",
    "# Generate all possible timestamps for 2024-01-01 with 5-second intervals\n",
    "start_time = datetime(2024, 1, 1, 0, 0, 0)\n",
    "end_time = datetime(2024, 1, 1, 23, 59, 55)\n",
    "delta = timedelta(seconds=5)\n",
    "\n",
    "# Create a list of all possible timestamps\n",
    "timestamps = []\n",
    "current_time = start_time\n",
    "while current_time <= end_time:\n",
    "    timestamps.append(current_time.strftime('%Y-%m-%d%H:%M:%S'))\n",
    "    current_time += delta\n",
    "\n",
    "# Convert 'timestamp_5_second' columns in both datasets to a list for comparison\n",
    "btc_timestamps = dfs_BTC_2024_01_01[\"timestamp_5_second\"].to_list()\n",
    "eth_timestamps = dfs_ETH_2024_01_01[\"timestamp_5_second\"].to_list()\n",
    "\n",
    "# Find missing timestamps\n",
    "missing_btc = set(timestamps) - set(btc_timestamps)\n",
    "missing_eth = set(timestamps) - set(eth_timestamps)\n",
    "\n",
    "missing_btc, missing_eth"
   ]
  },
  {
   "cell_type": "code",
   "execution_count": 16,
   "metadata": {},
   "outputs": [
    {
     "data": {
      "text/plain": [
       "17280"
      ]
     },
     "execution_count": 16,
     "metadata": {},
     "output_type": "execute_result"
    }
   ],
   "source": [
    "len(timestamps)"
   ]
  },
  {
   "cell_type": "code",
   "execution_count": null,
   "metadata": {},
   "outputs": [],
   "source": []
  }
 ],
 "metadata": {
  "kernelspec": {
   "display_name": ".venv",
   "language": "python",
   "name": "python3"
  },
  "language_info": {
   "codemirror_mode": {
    "name": "ipython",
    "version": 3
   },
   "file_extension": ".py",
   "mimetype": "text/x-python",
   "name": "python",
   "nbconvert_exporter": "python",
   "pygments_lexer": "ipython3",
   "version": "3.12.3"
  }
 },
 "nbformat": 4,
 "nbformat_minor": 2
}
