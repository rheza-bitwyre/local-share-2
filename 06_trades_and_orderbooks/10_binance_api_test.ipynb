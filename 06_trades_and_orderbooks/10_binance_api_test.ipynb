{
 "cells": [
  {
   "cell_type": "code",
   "execution_count": 4,
   "metadata": {},
   "outputs": [],
   "source": [
    "import asyncio\n",
    "import websockets\n",
    "import json\n",
    "import datetime\n",
    "import requests\n",
    "import hashlib\n",
    "import urllib.parse\n",
    "import hmac\n",
    "import time\n",
    "import logging\n",
    "import os\n",
    "from collections import deque\n",
    "import numpy as np\n",
    "\n",
    "class BinanceAPI:\n",
    "    def __init__(self, api_key: str, api_secret: str, testnet: bool = False):\n",
    "        self.api_key = api_key\n",
    "        self.api_secret = api_secret\n",
    "        self.base_url = \"https://testnet.binancefuture.com\" if testnet else \"https://fapi.binance.com\"\n",
    "\n",
    "    def _generate_signature(self, params: dict) -> str:\n",
    "        \"\"\"Generate HMAC SHA256 signature for request.\"\"\"\n",
    "        query = urllib.parse.urlencode(params)\n",
    "        return hmac.new(self.api_secret.encode(), query.encode(), hashlib.sha256).hexdigest()\n",
    "\n",
    "    def _send_request(self, method: str, endpoint: str, params=None, signed=False) -> dict:\n",
    "        \"\"\"Send request to Binance API.\"\"\"\n",
    "        url = f\"{self.base_url}{endpoint}\"\n",
    "        headers = {\"X-MBX-APIKEY\": self.api_key}\n",
    "        if params is None:\n",
    "            params = {}\n",
    "        if signed:\n",
    "            params[\"timestamp\"] = int(time.time() * 1000)\n",
    "            params[\"signature\"] = self._generate_signature(params)\n",
    "        try:\n",
    "            if method == \"GET\":\n",
    "                response = requests.get(url, headers=headers, params=params)\n",
    "            elif method == \"POST\":\n",
    "                response = requests.post(url, headers=headers, json=params)\n",
    "            elif method == \"DELETE\":\n",
    "                response = requests.delete(url, headers=headers, params=params)\n",
    "            else:\n",
    "                raise ValueError(f\"Invalid method: {method}\")\n",
    "            response.raise_for_status()\n",
    "            return response.json()\n",
    "        except requests.exceptions.RequestException as e:\n",
    "            logging.error(f\"API request failed: {e}\")\n",
    "            return None\n",
    "\n",
    "    def get_mark_price(self, symbol: str) -> dict:\n",
    "        \"\"\"Get mark price for a symbol.\"\"\"\n",
    "        return self._send_request(\"GET\", \"/fapi/v1/premiumIndex\", {\"symbol\": symbol})\n",
    "\n",
    "    def get_position_risk(self, symbol: str = None) -> dict:\n",
    "        \"\"\"Get position risk information.\"\"\"\n",
    "        params = {\"symbol\": symbol} if symbol else {}\n",
    "        return self._send_request(\"GET\", \"/fapi/v3/positionRisk\", params, signed=True)\n",
    "\n",
    "    def create_order(self, symbol: str, side: str, order_type: str, quantity: float, \n",
    "                    price: float = None, time_in_force: str = None, reduce_only: bool = False) -> dict:\n",
    "        \"\"\"Create a new order on Binance Futures.\"\"\"\n",
    "        params = {\n",
    "            \"symbol\": symbol,\n",
    "            \"side\": side,\n",
    "            \"type\": order_type,\n",
    "            \"quantity\": quantity,\n",
    "            \"reduceOnly\": reduce_only,\n",
    "        }\n",
    "        if order_type == \"LIMIT\":\n",
    "            if price is None or time_in_force is None:\n",
    "                raise ValueError(\"Price and timeInForce are required for LIMIT orders.\")\n",
    "            params[\"price\"] = price\n",
    "            params[\"timeInForce\"] = time_in_force\n",
    "        return self._send_request(\"POST\", \"/fapi/v1/order\", params, signed=True)"
   ]
  },
  {
   "cell_type": "code",
   "execution_count": 5,
   "metadata": {},
   "outputs": [],
   "source": [
    "# Initialize Binance API\n",
    "binance_api = BinanceAPI(api_key=\"TGZ6PvNeQc3c3ctlzm0UOdkgr1fi5oEMMPXDK9Dns51VXGKYGIirlOJ8de5TYNRC\", \n",
    "                         api_secret=\"Ng4YmUDDzq7W9l5F08qcY3Qq2OXms4xE7A9nlslDIxP2agjVWqmZbOOxCRTZEHOl\")"
   ]
  },
  {
   "cell_type": "code",
   "execution_count": 6,
   "metadata": {},
   "outputs": [
    {
     "name": "stderr",
     "output_type": "stream",
     "text": [
      "ERROR:root:API request failed: 400 Client Error: Bad Request for url: https://fapi.binance.com/fapi/v1/order\n"
     ]
    },
    {
     "name": "stdout",
     "output_type": "stream",
     "text": [
      "None\n"
     ]
    }
   ],
   "source": [
    "response = binance_api.create_order(\n",
    "                    symbol=\"DOGEUSDT\",\n",
    "                    side=\"BUY\",\n",
    "                    order_type=\"MARKET\",\n",
    "                    quantity=40)  # Fixed quantity for \n",
    "print(response)"
   ]
  },
  {
   "cell_type": "code",
   "execution_count": null,
   "metadata": {},
   "outputs": [],
   "source": []
  }
 ],
 "metadata": {
  "kernelspec": {
   "display_name": "Python (my-venv)",
   "language": "python",
   "name": "my-venv"
  },
  "language_info": {
   "codemirror_mode": {
    "name": "ipython",
    "version": 3
   },
   "file_extension": ".py",
   "mimetype": "text/x-python",
   "name": "python",
   "nbconvert_exporter": "python",
   "pygments_lexer": "ipython3",
   "version": "3.12.3"
  }
 },
 "nbformat": 4,
 "nbformat_minor": 2
}
