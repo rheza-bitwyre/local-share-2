{
 "cells": [
  {
   "cell_type": "markdown",
   "metadata": {},
   "source": [
    "# File Path"
   ]
  },
  {
   "cell_type": "code",
   "execution_count": 2,
   "metadata": {},
   "outputs": [],
   "source": [
    "# Example usage\n",
    "file_paths_bnb = [\n",
    "    \"/home/ubuntu/trades_data/binance/perps_bnbusdt/BNBUSDT-aggTrades-2024-01.parquet\",\n",
    "    \"/home/ubuntu/trades_data/binance/perps_bnbusdt/BNBUSDT-aggTrades-2024-02.parquet\",\n",
    "    \"/home/ubuntu/trades_data/binance/perps_bnbusdt/BNBUSDT-aggTrades-2024-03.parquet\",\n",
    "    \"/home/ubuntu/trades_data/binance/perps_bnbusdt/BNBUSDT-aggTrades-2024-04.parquet\",\n",
    "    \"/home/ubuntu/trades_data/binance/perps_bnbusdt/BNBUSDT-aggTrades-2024-05.parquet\",\n",
    "    \"/home/ubuntu/trades_data/binance/perps_bnbusdt/BNBUSDT-aggTrades-2024-06.parquet\",\n",
    "    \"/home/ubuntu/trades_data/binance/perps_bnbusdt/BNBUSDT-aggTrades-2024-07.parquet\",\n",
    "    \"/home/ubuntu/trades_data/binance/perps_bnbusdt/BNBUSDT-aggTrades-2024-08.parquet\",\n",
    "    \"/home/ubuntu/trades_data/binance/perps_bnbusdt/BNBUSDT-aggTrades-2024-09.parquet\",\n",
    "    \"/home/ubuntu/trades_data/binance/perps_bnbusdt/BNBUSDT-aggTrades-2024-10.parquet\",\n",
    "    \"/home/ubuntu/trades_data/binance/perps_bnbusdt/BNBUSDT-aggTrades-2024-11.parquet\",\n",
    "    \"/home/ubuntu/trades_data/binance/perps_bnbusdt/BNBUSDT-aggTrades-2024-12.parquet\"\n",
    "]"
   ]
  },
  {
   "cell_type": "code",
   "execution_count": 1,
   "metadata": {},
   "outputs": [
    {
     "data": {
      "text/html": [
       "<div><style>\n",
       ".dataframe > thead > tr,\n",
       ".dataframe > tbody > tr {\n",
       "  text-align: right;\n",
       "  white-space: pre-wrap;\n",
       "}\n",
       "</style>\n",
       "<small>shape: (7_140_024, 4)</small><table border=\"1\" class=\"dataframe\"><thead><tr><th>price</th><th>quantity</th><th>transact_time</th><th>is_buyer_maker</th></tr><tr><td>f64</td><td>f64</td><td>i64</td><td>bool</td></tr></thead><tbody><tr><td>311.33</td><td>0.13</td><td>1704067203147</td><td>false</td></tr><tr><td>311.34</td><td>0.02</td><td>1704067203163</td><td>false</td></tr><tr><td>311.36</td><td>1.4</td><td>1704067203163</td><td>false</td></tr><tr><td>311.35</td><td>2.92</td><td>1704067203177</td><td>true</td></tr><tr><td>311.33</td><td>125.25</td><td>1704067203191</td><td>true</td></tr><tr><td>&hellip;</td><td>&hellip;</td><td>&hellip;</td><td>&hellip;</td></tr><tr><td>300.53</td><td>0.66</td><td>1706745598403</td><td>false</td></tr><tr><td>300.53</td><td>0.19</td><td>1706745598770</td><td>false</td></tr><tr><td>300.52</td><td>0.66</td><td>1706745599216</td><td>true</td></tr><tr><td>300.52</td><td>0.03</td><td>1706745599569</td><td>true</td></tr><tr><td>300.53</td><td>0.27</td><td>1706745599681</td><td>false</td></tr></tbody></table></div>"
      ],
      "text/plain": [
       "shape: (7_140_024, 4)\n",
       "┌────────┬──────────┬───────────────┬────────────────┐\n",
       "│ price  ┆ quantity ┆ transact_time ┆ is_buyer_maker │\n",
       "│ ---    ┆ ---      ┆ ---           ┆ ---            │\n",
       "│ f64    ┆ f64      ┆ i64           ┆ bool           │\n",
       "╞════════╪══════════╪═══════════════╪════════════════╡\n",
       "│ 311.33 ┆ 0.13     ┆ 1704067203147 ┆ false          │\n",
       "│ 311.34 ┆ 0.02     ┆ 1704067203163 ┆ false          │\n",
       "│ 311.36 ┆ 1.4      ┆ 1704067203163 ┆ false          │\n",
       "│ 311.35 ┆ 2.92     ┆ 1704067203177 ┆ true           │\n",
       "│ 311.33 ┆ 125.25   ┆ 1704067203191 ┆ true           │\n",
       "│ …      ┆ …        ┆ …             ┆ …              │\n",
       "│ 300.53 ┆ 0.66     ┆ 1706745598403 ┆ false          │\n",
       "│ 300.53 ┆ 0.19     ┆ 1706745598770 ┆ false          │\n",
       "│ 300.52 ┆ 0.66     ┆ 1706745599216 ┆ true           │\n",
       "│ 300.52 ┆ 0.03     ┆ 1706745599569 ┆ true           │\n",
       "│ 300.53 ┆ 0.27     ┆ 1706745599681 ┆ false          │\n",
       "└────────┴──────────┴───────────────┴────────────────┘"
      ]
     },
     "execution_count": 1,
     "metadata": {},
     "output_type": "execute_result"
    }
   ],
   "source": [
    "import polars as pl\n",
    "\n",
    "# Reading a Parquet file into a DataFrame\n",
    "df = pl.read_parquet(\"/home/ubuntu/trades_data/binance/perps_bnbusdt/BNBUSDT-aggTrades-2024-01.parquet\")\n",
    "\n",
    "df = df.drop(['agg_trade_id', 'first_trade_id', 'last_trade_id'])\n",
    "# Display the first few rows of the DataFrame\n",
    "df"
   ]
  },
  {
   "cell_type": "code",
   "execution_count": null,
   "metadata": {},
   "outputs": [],
   "source": []
  }
 ],
 "metadata": {
  "kernelspec": {
   "display_name": ".venv",
   "language": "python",
   "name": "python3"
  },
  "language_info": {
   "codemirror_mode": {
    "name": "ipython",
    "version": 3
   },
   "file_extension": ".py",
   "mimetype": "text/x-python",
   "name": "python",
   "nbconvert_exporter": "python",
   "pygments_lexer": "ipython3",
   "version": "3.12.3"
  }
 },
 "nbformat": 4,
 "nbformat_minor": 2
}
