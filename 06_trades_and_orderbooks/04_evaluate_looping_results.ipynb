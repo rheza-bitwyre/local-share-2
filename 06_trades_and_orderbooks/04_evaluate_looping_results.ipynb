{
 "cells": [
  {
   "cell_type": "markdown",
   "metadata": {},
   "source": [
    "# Load Looping Results"
   ]
  },
  {
   "cell_type": "code",
   "execution_count": 16,
   "metadata": {},
   "outputs": [
    {
     "data": {
      "text/html": [
       "<div><style>\n",
       ".dataframe > thead > tr,\n",
       ".dataframe > tbody > tr {\n",
       "  text-align: right;\n",
       "  white-space: pre-wrap;\n",
       "}\n",
       "</style>\n",
       "<small>shape: (218, 10)</small><table border=\"1\" class=\"dataframe\"><thead><tr><th>change_threshold</th><th>buy_size_sum</th><th>buy_volume_ratio</th><th>size_sum</th><th>direction</th><th>open_weighted_price_change</th><th>open_buy_weighted_price_change</th><th>opportunities</th><th>profitability</th><th>return_approximation</th></tr><tr><td>f64</td><td>i64</td><td>f64</td><td>i64</td><td>i64</td><td>f64</td><td>f64</td><td>i64</td><td>f64</td><td>f64</td></tr></thead><tbody><tr><td>0.07</td><td>0</td><td>0.0</td><td>0</td><td>0</td><td>0.0</td><td>0.0</td><td>927463</td><td>4.735822</td><td>-62926.475035</td></tr><tr><td>0.07</td><td>0</td><td>0.0</td><td>0</td><td>0</td><td>0.0</td><td>0.5</td><td>54</td><td>74.074074</td><td>-0.785287</td></tr><tr><td>0.07</td><td>0</td><td>0.0</td><td>0</td><td>0</td><td>0.0</td><td>1.0</td><td>3</td><td>100.0</td><td>0.09</td></tr><tr><td>0.07</td><td>0</td><td>0.0</td><td>0</td><td>0</td><td>0.5</td><td>0.0</td><td>52</td><td>75.0</td><td>-0.592727</td></tr><tr><td>0.07</td><td>0</td><td>0.0</td><td>0</td><td>0</td><td>0.5</td><td>0.5</td><td>50</td><td>76.0</td><td>-0.51595</td></tr><tr><td>&hellip;</td><td>&hellip;</td><td>&hellip;</td><td>&hellip;</td><td>&hellip;</td><td>&hellip;</td><td>&hellip;</td><td>&hellip;</td><td>&hellip;</td><td>&hellip;</td></tr><tr><td>0.07</td><td>3000</td><td>0.5</td><td>3000</td><td>1</td><td>0.5</td><td>0.5</td><td>2</td><td>100.0</td><td>0.06</td></tr><tr><td>0.07</td><td>3000</td><td>0.5</td><td>3000</td><td>1</td><td>0.5</td><td>1.0</td><td>1</td><td>100.0</td><td>0.03</td></tr><tr><td>0.07</td><td>3000</td><td>0.5</td><td>3000</td><td>1</td><td>1.0</td><td>0.0</td><td>1</td><td>100.0</td><td>0.03</td></tr><tr><td>0.07</td><td>3000</td><td>0.5</td><td>3000</td><td>1</td><td>1.0</td><td>0.5</td><td>1</td><td>100.0</td><td>0.03</td></tr><tr><td>0.07</td><td>3000</td><td>0.5</td><td>3000</td><td>1</td><td>1.0</td><td>1.0</td><td>1</td><td>100.0</td><td>0.03</td></tr></tbody></table></div>"
      ],
      "text/plain": [
       "shape: (218, 10)\n",
       "┌───────────┬───────────┬───────────┬──────────┬───┬───────────┬───────────┬───────────┬───────────┐\n",
       "│ change_th ┆ buy_size_ ┆ buy_volum ┆ size_sum ┆ … ┆ open_buy_ ┆ opportuni ┆ profitabi ┆ return_ap │\n",
       "│ reshold   ┆ sum       ┆ e_ratio   ┆ ---      ┆   ┆ weighted_ ┆ ties      ┆ lity      ┆ proximati │\n",
       "│ ---       ┆ ---       ┆ ---       ┆ i64      ┆   ┆ price_cha ┆ ---       ┆ ---       ┆ on        │\n",
       "│ f64       ┆ i64       ┆ f64       ┆          ┆   ┆ nge       ┆ i64       ┆ f64       ┆ ---       │\n",
       "│           ┆           ┆           ┆          ┆   ┆ ---       ┆           ┆           ┆ f64       │\n",
       "│           ┆           ┆           ┆          ┆   ┆ f64       ┆           ┆           ┆           │\n",
       "╞═══════════╪═══════════╪═══════════╪══════════╪═══╪═══════════╪═══════════╪═══════════╪═══════════╡\n",
       "│ 0.07      ┆ 0         ┆ 0.0       ┆ 0        ┆ … ┆ 0.0       ┆ 927463    ┆ 4.735822  ┆ -62926.47 │\n",
       "│           ┆           ┆           ┆          ┆   ┆           ┆           ┆           ┆ 5035      │\n",
       "│ 0.07      ┆ 0         ┆ 0.0       ┆ 0        ┆ … ┆ 0.5       ┆ 54        ┆ 74.074074 ┆ -0.785287 │\n",
       "│ 0.07      ┆ 0         ┆ 0.0       ┆ 0        ┆ … ┆ 1.0       ┆ 3         ┆ 100.0     ┆ 0.09      │\n",
       "│ 0.07      ┆ 0         ┆ 0.0       ┆ 0        ┆ … ┆ 0.0       ┆ 52        ┆ 75.0      ┆ -0.592727 │\n",
       "│ 0.07      ┆ 0         ┆ 0.0       ┆ 0        ┆ … ┆ 0.5       ┆ 50        ┆ 76.0      ┆ -0.51595  │\n",
       "│ …         ┆ …         ┆ …         ┆ …        ┆ … ┆ …         ┆ …         ┆ …         ┆ …         │\n",
       "│ 0.07      ┆ 3000      ┆ 0.5       ┆ 3000     ┆ … ┆ 0.5       ┆ 2         ┆ 100.0     ┆ 0.06      │\n",
       "│ 0.07      ┆ 3000      ┆ 0.5       ┆ 3000     ┆ … ┆ 1.0       ┆ 1         ┆ 100.0     ┆ 0.03      │\n",
       "│ 0.07      ┆ 3000      ┆ 0.5       ┆ 3000     ┆ … ┆ 0.0       ┆ 1         ┆ 100.0     ┆ 0.03      │\n",
       "│ 0.07      ┆ 3000      ┆ 0.5       ┆ 3000     ┆ … ┆ 0.5       ┆ 1         ┆ 100.0     ┆ 0.03      │\n",
       "│ 0.07      ┆ 3000      ┆ 0.5       ┆ 3000     ┆ … ┆ 1.0       ┆ 1         ┆ 100.0     ┆ 0.03      │\n",
       "└───────────┴───────────┴───────────┴──────────┴───┴───────────┴───────────┴───────────┴───────────┘"
      ]
     },
     "execution_count": 16,
     "metadata": {},
     "output_type": "execute_result"
    }
   ],
   "source": [
    "import polars as pl\n",
    "\n",
    "file = \"/home/ubuntu/Rheza/running_optimization/agg_trades_15s_20250211095330_results.parquet\"\n",
    "results_df = pl.read_parquet(file)\n",
    "\n",
    "results_df"
   ]
  },
  {
   "cell_type": "code",
   "execution_count": 17,
   "metadata": {},
   "outputs": [
    {
     "data": {
      "text/html": [
       "<div><style>\n",
       ".dataframe > thead > tr,\n",
       ".dataframe > tbody > tr {\n",
       "  text-align: right;\n",
       "  white-space: pre-wrap;\n",
       "}\n",
       "</style>\n",
       "<small>shape: (1, 10)</small><table border=\"1\" class=\"dataframe\"><thead><tr><th>change_threshold</th><th>buy_size_sum</th><th>buy_volume_ratio</th><th>size_sum</th><th>direction</th><th>open_weighted_price_change</th><th>open_buy_weighted_price_change</th><th>opportunities</th><th>profitability</th><th>return_approximation</th></tr><tr><td>f64</td><td>i64</td><td>f64</td><td>i64</td><td>i64</td><td>f64</td><td>f64</td><td>i64</td><td>f64</td><td>f64</td></tr></thead><tbody><tr><td>0.07</td><td>1500</td><td>0.0</td><td>0</td><td>0</td><td>0.5</td><td>0.0</td><td>18</td><td>83.333333</td><td>0.134141</td></tr></tbody></table></div>"
      ],
      "text/plain": [
       "shape: (1, 10)\n",
       "┌───────────┬───────────┬───────────┬──────────┬───┬───────────┬───────────┬───────────┬───────────┐\n",
       "│ change_th ┆ buy_size_ ┆ buy_volum ┆ size_sum ┆ … ┆ open_buy_ ┆ opportuni ┆ profitabi ┆ return_ap │\n",
       "│ reshold   ┆ sum       ┆ e_ratio   ┆ ---      ┆   ┆ weighted_ ┆ ties      ┆ lity      ┆ proximati │\n",
       "│ ---       ┆ ---       ┆ ---       ┆ i64      ┆   ┆ price_cha ┆ ---       ┆ ---       ┆ on        │\n",
       "│ f64       ┆ i64       ┆ f64       ┆          ┆   ┆ nge       ┆ i64       ┆ f64       ┆ ---       │\n",
       "│           ┆           ┆           ┆          ┆   ┆ ---       ┆           ┆           ┆ f64       │\n",
       "│           ┆           ┆           ┆          ┆   ┆ f64       ┆           ┆           ┆           │\n",
       "╞═══════════╪═══════════╪═══════════╪══════════╪═══╪═══════════╪═══════════╪═══════════╪═══════════╡\n",
       "│ 0.07      ┆ 1500      ┆ 0.0       ┆ 0        ┆ … ┆ 0.0       ┆ 18        ┆ 83.333333 ┆ 0.134141  │\n",
       "└───────────┴───────────┴───────────┴──────────┴───┴───────────┴───────────┴───────────┴───────────┘"
      ]
     },
     "execution_count": 17,
     "metadata": {},
     "output_type": "execute_result"
    }
   ],
   "source": [
    "# Extract max return approximation row\n",
    "max_return_params = results_df.sort(\"return_approximation\", descending=True).row(0)\n",
    "max_return_df = pl.DataFrame([max_return_params], schema=results_df.schema, orient=\"row\")\n",
    "max_return_df"
   ]
  },
  {
   "cell_type": "code",
   "execution_count": 18,
   "metadata": {},
   "outputs": [
    {
     "data": {
      "text/html": [
       "<div><style>\n",
       ".dataframe > thead > tr,\n",
       ".dataframe > tbody > tr {\n",
       "  text-align: right;\n",
       "  white-space: pre-wrap;\n",
       "}\n",
       "</style>\n",
       "<small>shape: (1, 10)</small><table border=\"1\" class=\"dataframe\"><thead><tr><th>change_threshold</th><th>buy_size_sum</th><th>buy_volume_ratio</th><th>size_sum</th><th>direction</th><th>open_weighted_price_change</th><th>open_buy_weighted_price_change</th><th>opportunities</th><th>profitability</th><th>return_approximation</th></tr><tr><td>f64</td><td>i64</td><td>f64</td><td>i64</td><td>i64</td><td>f64</td><td>f64</td><td>i64</td><td>f64</td><td>f64</td></tr></thead><tbody><tr><td>0.07</td><td>1500</td><td>0.0</td><td>0</td><td>0</td><td>0.0</td><td>0.0</td><td>57</td><td>70.175439</td><td>-0.84339</td></tr></tbody></table></div>"
      ],
      "text/plain": [
       "shape: (1, 10)\n",
       "┌───────────┬───────────┬───────────┬──────────┬───┬───────────┬───────────┬───────────┬───────────┐\n",
       "│ change_th ┆ buy_size_ ┆ buy_volum ┆ size_sum ┆ … ┆ open_buy_ ┆ opportuni ┆ profitabi ┆ return_ap │\n",
       "│ reshold   ┆ sum       ┆ e_ratio   ┆ ---      ┆   ┆ weighted_ ┆ ties      ┆ lity      ┆ proximati │\n",
       "│ ---       ┆ ---       ┆ ---       ┆ i64      ┆   ┆ price_cha ┆ ---       ┆ ---       ┆ on        │\n",
       "│ f64       ┆ i64       ┆ f64       ┆          ┆   ┆ nge       ┆ i64       ┆ f64       ┆ ---       │\n",
       "│           ┆           ┆           ┆          ┆   ┆ ---       ┆           ┆           ┆ f64       │\n",
       "│           ┆           ┆           ┆          ┆   ┆ f64       ┆           ┆           ┆           │\n",
       "╞═══════════╪═══════════╪═══════════╪══════════╪═══╪═══════════╪═══════════╪═══════════╪═══════════╡\n",
       "│ 0.07      ┆ 1500      ┆ 0.0       ┆ 0        ┆ … ┆ 0.0       ┆ 57        ┆ 70.175439 ┆ -0.84339  │\n",
       "└───────────┴───────────┴───────────┴──────────┴───┴───────────┴───────────┴───────────┴───────────┘"
      ]
     },
     "execution_count": 18,
     "metadata": {},
     "output_type": "execute_result"
    }
   ],
   "source": [
    "# Filter profitable rows\n",
    "profitable_df = results_df.filter(pl.col(\"profitability\") >= 58)\n",
    "# Get the row with the maximum opportunities\n",
    "max_opportunities_profitable_params = profitable_df.sort(\"opportunities\", descending=True).row(0)\n",
    "# Convert to DataFrame with explicit row orientation\n",
    "max_opportunities_profitable_df = pl.DataFrame([max_opportunities_profitable_params], schema=results_df.schema, orient=\"row\")\n",
    "max_opportunities_profitable_df"
   ]
  },
  {
   "cell_type": "code",
   "execution_count": 19,
   "metadata": {},
   "outputs": [
    {
     "data": {
      "text/html": [
       "<div><style>\n",
       ".dataframe > thead > tr,\n",
       ".dataframe > tbody > tr {\n",
       "  text-align: right;\n",
       "  white-space: pre-wrap;\n",
       "}\n",
       "</style>\n",
       "<small>shape: (1, 10)</small><table border=\"1\" class=\"dataframe\"><thead><tr><th>change_threshold</th><th>buy_size_sum</th><th>buy_volume_ratio</th><th>size_sum</th><th>direction</th><th>open_weighted_price_change</th><th>open_buy_weighted_price_change</th><th>opportunities</th><th>profitability</th><th>return_approximation</th></tr><tr><td>f64</td><td>i64</td><td>f64</td><td>i64</td><td>i64</td><td>f64</td><td>f64</td><td>i64</td><td>f64</td><td>f64</td></tr></thead><tbody><tr><td>0.07</td><td>1500</td><td>0.0</td><td>0</td><td>0</td><td>0.0</td><td>0.0</td><td>57</td><td>70.175439</td><td>-0.84339</td></tr></tbody></table></div>"
      ],
      "text/plain": [
       "shape: (1, 10)\n",
       "┌───────────┬───────────┬───────────┬──────────┬───┬───────────┬───────────┬───────────┬───────────┐\n",
       "│ change_th ┆ buy_size_ ┆ buy_volum ┆ size_sum ┆ … ┆ open_buy_ ┆ opportuni ┆ profitabi ┆ return_ap │\n",
       "│ reshold   ┆ sum       ┆ e_ratio   ┆ ---      ┆   ┆ weighted_ ┆ ties      ┆ lity      ┆ proximati │\n",
       "│ ---       ┆ ---       ┆ ---       ┆ i64      ┆   ┆ price_cha ┆ ---       ┆ ---       ┆ on        │\n",
       "│ f64       ┆ i64       ┆ f64       ┆          ┆   ┆ nge       ┆ i64       ┆ f64       ┆ ---       │\n",
       "│           ┆           ┆           ┆          ┆   ┆ ---       ┆           ┆           ┆ f64       │\n",
       "│           ┆           ┆           ┆          ┆   ┆ f64       ┆           ┆           ┆           │\n",
       "╞═══════════╪═══════════╪═══════════╪══════════╪═══╪═══════════╪═══════════╪═══════════╪═══════════╡\n",
       "│ 0.07      ┆ 1500      ┆ 0.0       ┆ 0        ┆ … ┆ 0.0       ┆ 57        ┆ 70.175439 ┆ -0.84339  │\n",
       "└───────────┴───────────┴───────────┴──────────┴───┴───────────┴───────────┴───────────┴───────────┘"
      ]
     },
     "execution_count": 19,
     "metadata": {},
     "output_type": "execute_result"
    }
   ],
   "source": [
    "# Filter rows where return_approximation is >= 0\n",
    "positive_return_df = results_df.filter(pl.col(\"return_approximation\") >= -2)\n",
    "# Get the row with the maximum opportunities\n",
    "max_opportunities_positive_return_params = positive_return_df.sort(\"opportunities\", descending=True).row(0)\n",
    "# Convert to DataFrame with explicit row orientation\n",
    "max_opportunities_positive_return_df = pl.DataFrame([max_opportunities_positive_return_params], schema=results_df.schema, orient=\"row\")\n",
    "max_opportunities_positive_return_df"
   ]
  },
  {
   "cell_type": "code",
   "execution_count": null,
   "metadata": {},
   "outputs": [],
   "source": [
    "dfs = pl.read_parquet(\"/home/ubuntu/Rheza/running_optimization/agg_trades_15s_20250211095330_results.parquet\")\n",
    "dfs"
   ]
  }
 ],
 "metadata": {
  "kernelspec": {
   "display_name": ".venv",
   "language": "python",
   "name": "python3"
  },
  "language_info": {
   "codemirror_mode": {
    "name": "ipython",
    "version": 3
   },
   "file_extension": ".py",
   "mimetype": "text/x-python",
   "name": "python",
   "nbconvert_exporter": "python",
   "pygments_lexer": "ipython3",
   "version": "3.12.3"
  }
 },
 "nbformat": 4,
 "nbformat_minor": 2
}
