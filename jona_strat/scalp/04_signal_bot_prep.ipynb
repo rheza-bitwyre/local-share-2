{
 "cells": [
  {
   "cell_type": "markdown",
   "metadata": {},
   "source": [
    "# Fetch Binance Data"
   ]
  },
  {
   "cell_type": "code",
   "execution_count": 3,
   "metadata": {},
   "outputs": [
    {
     "name": "stdout",
     "output_type": "stream",
     "text": [
      "{'ok': True, 'result': [{'update_id': 743887413, 'message': {'message_id': 2, 'from': {'id': 7586914842, 'is_bot': False, 'first_name': 'Rheza', 'username': 'rhezarab', 'language_code': 'en'}, 'chat': {'id': 7586914842, 'first_name': 'Rheza', 'username': 'rhezarab', 'type': 'private'}, 'date': 1741321592, 'text': 'test'}}, {'update_id': 743887414, 'my_chat_member': {'chat': {'id': -4665308596, 'title': 'FT Bots', 'type': 'group', 'all_members_are_administrators': True}, 'from': {'id': 7586914842, 'is_bot': False, 'first_name': 'Rheza', 'username': 'rhezarab', 'language_code': 'en'}, 'date': 1741330731, 'old_chat_member': {'user': {'id': 8150510214, 'is_bot': True, 'first_name': 'ft01bot', 'username': 'efte_01_bot'}, 'status': 'left'}, 'new_chat_member': {'user': {'id': 8150510214, 'is_bot': True, 'first_name': 'ft01bot', 'username': 'efte_01_bot'}, 'status': 'member'}}}, {'update_id': 743887415, 'message': {'message_id': 3, 'from': {'id': 7586914842, 'is_bot': False, 'first_name': 'Rheza', 'username': 'rhezarab', 'language_code': 'en'}, 'chat': {'id': -4665308596, 'title': 'FT Bots', 'type': 'group', 'all_members_are_administrators': True}, 'date': 1741330731, 'group_chat_created': True}}, {'update_id': 743887416, 'my_chat_member': {'chat': {'id': -4665308596, 'title': 'FT Bots', 'type': 'group', 'all_members_are_administrators': True}, 'from': {'id': 7586914842, 'is_bot': False, 'first_name': 'Rheza', 'username': 'rhezarab', 'language_code': 'en'}, 'date': 1741330786, 'old_chat_member': {'user': {'id': 8150510214, 'is_bot': True, 'first_name': 'ft01bot', 'username': 'efte_01_bot'}, 'status': 'member'}, 'new_chat_member': {'user': {'id': 8150510214, 'is_bot': True, 'first_name': 'ft01bot', 'username': 'efte_01_bot'}, 'status': 'administrator', 'can_be_edited': False, 'can_manage_chat': True, 'can_change_info': True, 'can_delete_messages': True, 'can_invite_users': True, 'can_restrict_members': True, 'can_pin_messages': True, 'can_promote_members': False, 'can_manage_video_chats': True, 'can_post_stories': False, 'can_edit_stories': False, 'can_delete_stories': False, 'is_anonymous': False, 'can_manage_voice_chats': True}}}, {'update_id': 743887417, 'message': {'message_id': 4, 'from': {'id': 7586914842, 'is_bot': False, 'first_name': 'Rheza', 'username': 'rhezarab', 'language_code': 'en'}, 'chat': {'id': -4665308596, 'title': 'FT Bots', 'type': 'group', 'all_members_are_administrators': True}, 'date': 1741330792, 'text': 'test'}}]}\n"
     ]
    }
   ],
   "source": [
    "import requests\n",
    "\n",
    "TOKEN = \"8150510214:AAHpr2CpTsArAJfz2Ro6URSedm_A5WsiMQo\"\n",
    "url = f\"https://api.telegram.org/bot{TOKEN}/getUpdates\"\n",
    "\n",
    "response = requests.get(url).json()\n",
    "print(response)"
   ]
  },
  {
   "cell_type": "code",
   "execution_count": 4,
   "metadata": {},
   "outputs": [
    {
     "name": "stdout",
     "output_type": "stream",
     "text": [
      "{'ok': True, 'result': {'message_id': 5, 'from': {'id': 8150510214, 'is_bot': True, 'first_name': 'ft01bot', 'username': 'efte_01_bot'}, 'chat': {'id': -4665308596, 'title': 'FT Bots', 'type': 'group', 'all_members_are_administrators': True}, 'date': 1741333086, 'text': 'Hello, FT Bots group!'}}\n"
     ]
    }
   ],
   "source": [
    "import requests\n",
    "\n",
    "TOKEN = \"8150510214:AAHpr2CpTsArAJfz2Ro6URSedm_A5WsiMQo\"\n",
    "CHAT_ID = \"-4665308596\"\n",
    "MESSAGE = \"Hello, FT Bots group!\"\n",
    "\n",
    "url = f\"https://api.telegram.org/bot{TOKEN}/sendMessage\"\n",
    "data = {\"chat_id\": CHAT_ID, \"text\": MESSAGE}\n",
    "\n",
    "response = requests.post(url, data=data)\n",
    "print(response.json())"
   ]
  },
  {
   "cell_type": "code",
   "execution_count": null,
   "metadata": {},
   "outputs": [],
   "source": []
  }
 ],
 "metadata": {
  "kernelspec": {
   "display_name": ".venv",
   "language": "python",
   "name": "python3"
  },
  "language_info": {
   "codemirror_mode": {
    "name": "ipython",
    "version": 3
   },
   "file_extension": ".py",
   "mimetype": "text/x-python",
   "name": "python",
   "nbconvert_exporter": "python",
   "pygments_lexer": "ipython3",
   "version": "3.12.3"
  }
 },
 "nbformat": 4,
 "nbformat_minor": 2
}
