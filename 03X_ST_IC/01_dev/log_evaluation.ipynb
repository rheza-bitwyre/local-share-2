{
 "cells": [
  {
   "cell_type": "markdown",
   "metadata": {},
   "source": [
    "# Read Log"
   ]
  },
  {
   "cell_type": "code",
   "execution_count": 4,
   "metadata": {},
   "outputs": [
    {
     "data": {
      "text/html": [
       "<div>\n",
       "<style scoped>\n",
       "    .dataframe tbody tr th:only-of-type {\n",
       "        vertical-align: middle;\n",
       "    }\n",
       "\n",
       "    .dataframe tbody tr th {\n",
       "        vertical-align: top;\n",
       "    }\n",
       "\n",
       "    .dataframe thead th {\n",
       "        text-align: right;\n",
       "    }\n",
       "</style>\n",
       "<table border=\"1\" class=\"dataframe\">\n",
       "  <thead>\n",
       "    <tr style=\"text-align: right;\">\n",
       "      <th></th>\n",
       "      <th>signal_time</th>\n",
       "      <th>action</th>\n",
       "    </tr>\n",
       "  </thead>\n",
       "  <tbody>\n",
       "    <tr>\n",
       "      <th>0</th>\n",
       "      <td>2025-01-10 11:30:00</td>\n",
       "      <td>Open Long</td>\n",
       "    </tr>\n",
       "    <tr>\n",
       "      <th>1</th>\n",
       "      <td>2025-01-10 12:00:00</td>\n",
       "      <td>No action taken</td>\n",
       "    </tr>\n",
       "    <tr>\n",
       "      <th>2</th>\n",
       "      <td>2025-01-10 12:30:00</td>\n",
       "      <td>No action taken</td>\n",
       "    </tr>\n",
       "    <tr>\n",
       "      <th>3</th>\n",
       "      <td>2025-01-10 13:00:00</td>\n",
       "      <td>No action taken</td>\n",
       "    </tr>\n",
       "    <tr>\n",
       "      <th>4</th>\n",
       "      <td>2025-01-10 13:30:00</td>\n",
       "      <td>No action taken</td>\n",
       "    </tr>\n",
       "    <tr>\n",
       "      <th>...</th>\n",
       "      <td>...</td>\n",
       "      <td>...</td>\n",
       "    </tr>\n",
       "    <tr>\n",
       "      <th>123</th>\n",
       "      <td>2025-01-13 01:00:00</td>\n",
       "      <td>No action taken</td>\n",
       "    </tr>\n",
       "    <tr>\n",
       "      <th>124</th>\n",
       "      <td>2025-01-13 01:30:00</td>\n",
       "      <td>No action taken</td>\n",
       "    </tr>\n",
       "    <tr>\n",
       "      <th>125</th>\n",
       "      <td>2025-01-13 02:00:00</td>\n",
       "      <td>No action taken</td>\n",
       "    </tr>\n",
       "    <tr>\n",
       "      <th>126</th>\n",
       "      <td>2025-01-13 02:30:00</td>\n",
       "      <td>No action taken</td>\n",
       "    </tr>\n",
       "    <tr>\n",
       "      <th>127</th>\n",
       "      <td>2025-01-13 03:00:00</td>\n",
       "      <td>No action taken</td>\n",
       "    </tr>\n",
       "  </tbody>\n",
       "</table>\n",
       "<p>128 rows × 2 columns</p>\n",
       "</div>"
      ],
      "text/plain": [
       "             signal_time           action\n",
       "0    2025-01-10 11:30:00        Open Long\n",
       "1    2025-01-10 12:00:00  No action taken\n",
       "2    2025-01-10 12:30:00  No action taken\n",
       "3    2025-01-10 13:00:00  No action taken\n",
       "4    2025-01-10 13:30:00  No action taken\n",
       "..                   ...              ...\n",
       "123  2025-01-13 01:00:00  No action taken\n",
       "124  2025-01-13 01:30:00  No action taken\n",
       "125  2025-01-13 02:00:00  No action taken\n",
       "126  2025-01-13 02:30:00  No action taken\n",
       "127  2025-01-13 03:00:00  No action taken\n",
       "\n",
       "[128 rows x 2 columns]"
      ]
     },
     "execution_count": 4,
     "metadata": {},
     "output_type": "execute_result"
    }
   ],
   "source": [
    "import pandas as pd\n",
    "\n",
    "# Replace with your actual file path\n",
    "filename = '/home/ubuntu/Rheza/local-share/03X_ST_IC/02_prod/logs/binance_signal_live_test_20250110120100.log'\n",
    "\n",
    "# Initialize an empty list to store extracted data\n",
    "data = []\n",
    "\n",
    "# Open and read the file\n",
    "with open(filename, 'r') as file:\n",
    "    for line in file:\n",
    "        if ' at:' in line:  # Filter lines containing ' at:'\n",
    "            # Split the line and extract relevant parts\n",
    "            parts = line.strip().split(' at: ')\n",
    "            signal_time = parts[1].split(' - ')[0]  # Extract timestamp\n",
    "            action = parts[1].split(' - ')[1]       # Extract action\n",
    "            data.append([signal_time, action])\n",
    "\n",
    "# Create a DataFrame from the extracted data\n",
    "df = pd.DataFrame(data, columns=['signal_time', 'action'])\n",
    "\n",
    "# Display the DataFrame\n",
    "df"
   ]
  },
  {
   "cell_type": "code",
   "execution_count": 5,
   "metadata": {},
   "outputs": [
    {
     "name": "stdout",
     "output_type": "stream",
     "text": [
      "DataFrame successfully exported\n"
     ]
    }
   ],
   "source": [
    "# Export the DataFrame to a CSV file\n",
    "df.to_csv('evaluation_log.csv', index=False)\n",
    "\n",
    "print(\"DataFrame successfully exported\")"
   ]
  },
  {
   "cell_type": "code",
   "execution_count": null,
   "metadata": {},
   "outputs": [],
   "source": []
  }
 ],
 "metadata": {
  "kernelspec": {
   "display_name": ".venv",
   "language": "python",
   "name": "python3"
  },
  "language_info": {
   "codemirror_mode": {
    "name": "ipython",
    "version": 3
   },
   "file_extension": ".py",
   "mimetype": "text/x-python",
   "name": "python",
   "nbconvert_exporter": "python",
   "pygments_lexer": "ipython3",
   "version": "3.12.3"
  }
 },
 "nbformat": 4,
 "nbformat_minor": 2
}
